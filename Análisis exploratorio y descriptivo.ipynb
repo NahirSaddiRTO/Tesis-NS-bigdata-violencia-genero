{
 "cells": [
  {
   "cell_type": "markdown",
   "id": "a38d39cf",
   "metadata": {},
   "source": [
    "### Aplicación de un Proceso de Big data para categorizar factores de riesgo sobre Violencia  contra las Mujeres"
   ]
  },
  {
   "cell_type": "code",
   "execution_count": 1,
   "id": "13fef3e5",
   "metadata": {},
   "outputs": [],
   "source": [
    "import pandas as pd\n",
    "import numpy as np"
   ]
  },
  {
   "cell_type": "markdown",
   "id": "08895104",
   "metadata": {},
   "source": [
    "### Recopilar datos"
   ]
  },
  {
   "cell_type": "code",
   "execution_count": 2,
   "id": "048e56e1",
   "metadata": {},
   "outputs": [],
   "source": [
    "\n",
    "# 137 - intervenciones-domiciliarias-violencia-familiar\n",
    "data137_1 = pd.read_csv('intervenciones_domiciliarias.csv')\n",
    "# 137 - llamados-atendidos-violencia-familiar\n",
    "data137_2 = pd.read_csv('llamados_atendidos.csv')\n",
    "# 144 - AÑO 2020\n",
    "data144_20 = pd.read_csv('linea144_20.csv')\n",
    "# 144 - AÑO 2021\n",
    "data144_21 = pd.read_csv('linea144_21.csv')\n",
    "# 144 - AÑO 2022\n",
    "data144_22 = pd.read_csv('linea144_22.csv')\n",
    "# 144 - AÑO 2023\n",
    "data144_23 = pd.read_csv('linea144_23.csv')\n"
   ]
  },
  {
   "cell_type": "markdown",
   "id": "c0f48290",
   "metadata": {},
   "source": [
    "### Observamos la estructura de los archivos"
   ]
  },
  {
   "cell_type": "code",
   "execution_count": 3,
   "id": "b11bead2",
   "metadata": {},
   "outputs": [
    {
     "data": {
      "text/html": [
       "<div>\n",
       "<style scoped>\n",
       "    .dataframe tbody tr th:only-of-type {\n",
       "        vertical-align: middle;\n",
       "    }\n",
       "\n",
       "    .dataframe tbody tr th {\n",
       "        vertical-align: top;\n",
       "    }\n",
       "\n",
       "    .dataframe thead th {\n",
       "        text-align: right;\n",
       "    }\n",
       "</style>\n",
       "<table border=\"1\" class=\"dataframe\">\n",
       "  <thead>\n",
       "    <tr style=\"text-align: right;\">\n",
       "      <th></th>\n",
       "      <th>caso_id</th>\n",
       "      <th>intervencion_fecha</th>\n",
       "      <th>intervencion_hora</th>\n",
       "      <th>victima_embarazo</th>\n",
       "      <th>victima_edad</th>\n",
       "      <th>victima_genero</th>\n",
       "      <th>victima_nacionalidad</th>\n",
       "      <th>victima_discapacidad</th>\n",
       "      <th>violencia_tipo</th>\n",
       "      <th>agresor_relacion_victima</th>\n",
       "    </tr>\n",
       "  </thead>\n",
       "  <tbody>\n",
       "    <tr>\n",
       "      <th>0</th>\n",
       "      <td>361490.0</td>\n",
       "      <td>2018-01-10</td>\n",
       "      <td>23:00</td>\n",
       "      <td>NO</td>\n",
       "      <td>70</td>\n",
       "      <td>Femenino</td>\n",
       "      <td>Otra</td>\n",
       "      <td>NO</td>\n",
       "      <td>Sexual</td>\n",
       "      <td>Pareja</td>\n",
       "    </tr>\n",
       "    <tr>\n",
       "      <th>1</th>\n",
       "      <td>361470.0</td>\n",
       "      <td>2018-01-10</td>\n",
       "      <td>09:00</td>\n",
       "      <td>NO</td>\n",
       "      <td>18</td>\n",
       "      <td>Masculino</td>\n",
       "      <td>Argentina</td>\n",
       "      <td>NS/NC</td>\n",
       "      <td>Física</td>\n",
       "      <td>Padrastro</td>\n",
       "    </tr>\n",
       "    <tr>\n",
       "      <th>2</th>\n",
       "      <td>361470.0</td>\n",
       "      <td>2018-01-10</td>\n",
       "      <td>09:00</td>\n",
       "      <td>NO</td>\n",
       "      <td>15</td>\n",
       "      <td>Masculino</td>\n",
       "      <td>Argentina</td>\n",
       "      <td>NS/NC</td>\n",
       "      <td>Psicológica</td>\n",
       "      <td>Padrastro</td>\n",
       "    </tr>\n",
       "    <tr>\n",
       "      <th>3</th>\n",
       "      <td>361490.0</td>\n",
       "      <td>2018-01-10</td>\n",
       "      <td>23:00</td>\n",
       "      <td>NO</td>\n",
       "      <td>15</td>\n",
       "      <td>Masculino</td>\n",
       "      <td>Argentina</td>\n",
       "      <td>NS/NC</td>\n",
       "      <td>Psicológica</td>\n",
       "      <td>Abuelo/a</td>\n",
       "    </tr>\n",
       "    <tr>\n",
       "      <th>4</th>\n",
       "      <td>121995.0</td>\n",
       "      <td>2018-01-11</td>\n",
       "      <td>10:30</td>\n",
       "      <td>NS/NC</td>\n",
       "      <td>14</td>\n",
       "      <td>Masculino</td>\n",
       "      <td>Argentina</td>\n",
       "      <td>NS/NC</td>\n",
       "      <td>Física</td>\n",
       "      <td>Padrastro</td>\n",
       "    </tr>\n",
       "  </tbody>\n",
       "</table>\n",
       "</div>"
      ],
      "text/plain": [
       "    caso_id intervencion_fecha intervencion_hora victima_embarazo  \\\n",
       "0  361490.0         2018-01-10             23:00               NO   \n",
       "1  361470.0         2018-01-10             09:00               NO   \n",
       "2  361470.0         2018-01-10             09:00               NO   \n",
       "3  361490.0         2018-01-10             23:00               NO   \n",
       "4  121995.0         2018-01-11             10:30            NS/NC   \n",
       "\n",
       "  victima_edad victima_genero victima_nacionalidad victima_discapacidad  \\\n",
       "0           70       Femenino                 Otra                   NO   \n",
       "1           18      Masculino            Argentina                NS/NC   \n",
       "2           15      Masculino            Argentina                NS/NC   \n",
       "3           15      Masculino            Argentina                NS/NC   \n",
       "4           14      Masculino            Argentina                NS/NC   \n",
       "\n",
       "  violencia_tipo agresor_relacion_victima  \n",
       "0         Sexual                   Pareja  \n",
       "1         Física                Padrastro  \n",
       "2    Psicológica                Padrastro  \n",
       "3    Psicológica                 Abuelo/a  \n",
       "4         Física                Padrastro  "
      ]
     },
     "execution_count": 3,
     "metadata": {},
     "output_type": "execute_result"
    }
   ],
   "source": [
    "#Vemos encabezados \n",
    "data137_1.head()\n"
   ]
  },
  {
   "cell_type": "code",
   "execution_count": 4,
   "id": "7b30e121",
   "metadata": {},
   "outputs": [
    {
     "data": {
      "text/plain": [
       "(3405, 10)"
      ]
     },
     "execution_count": 4,
     "metadata": {},
     "output_type": "execute_result"
    }
   ],
   "source": [
    "#Vemos cantidad de columnas y registros\n",
    "data137_1.shape"
   ]
  },
  {
   "cell_type": "code",
   "execution_count": 5,
   "id": "d274abae",
   "metadata": {},
   "outputs": [
    {
     "data": {
      "text/html": [
       "<div>\n",
       "<style scoped>\n",
       "    .dataframe tbody tr th:only-of-type {\n",
       "        vertical-align: middle;\n",
       "    }\n",
       "\n",
       "    .dataframe tbody tr th {\n",
       "        vertical-align: top;\n",
       "    }\n",
       "\n",
       "    .dataframe thead th {\n",
       "        text-align: right;\n",
       "    }\n",
       "</style>\n",
       "<table border=\"1\" class=\"dataframe\">\n",
       "  <thead>\n",
       "    <tr style=\"text-align: right;\">\n",
       "      <th></th>\n",
       "      <th>caso_id</th>\n",
       "      <th>llamante_descripcion</th>\n",
       "      <th>llamante_genero</th>\n",
       "      <th>llamante_vinculo_ninios_presentes</th>\n",
       "      <th>violencia_tipo</th>\n",
       "      <th>victima_edad</th>\n",
       "      <th>victima_rango_etario</th>\n",
       "      <th>victima_genero</th>\n",
       "      <th>victima_cantidad</th>\n",
       "      <th>agresor_cantidad</th>\n",
       "      <th>agresor_genero</th>\n",
       "      <th>agresor_relacion_victima</th>\n",
       "      <th>llamado_derivacion</th>\n",
       "      <th>llamado_fecha</th>\n",
       "      <th>llamado_hora</th>\n",
       "      <th>llamado_provincia</th>\n",
       "      <th>llamado_provincia_id</th>\n",
       "    </tr>\n",
       "  </thead>\n",
       "  <tbody>\n",
       "    <tr>\n",
       "      <th>0</th>\n",
       "      <td>344589.0</td>\n",
       "      <td>Comisaría</td>\n",
       "      <td>Femenino</td>\n",
       "      <td>No hay niñas/os</td>\n",
       "      <td>Física y psicológica</td>\n",
       "      <td>23</td>\n",
       "      <td>18 a 29 años</td>\n",
       "      <td>Femenino</td>\n",
       "      <td>1</td>\n",
       "      <td>3</td>\n",
       "      <td>Femenino</td>\n",
       "      <td>Madre</td>\n",
       "      <td>La víctima no aceptó la intervención del Equip...</td>\n",
       "      <td>2017-01-02</td>\n",
       "      <td>11:33</td>\n",
       "      <td>NaN</td>\n",
       "      <td>NaN</td>\n",
       "    </tr>\n",
       "    <tr>\n",
       "      <th>1</th>\n",
       "      <td>344590.0</td>\n",
       "      <td>Otro/a particular</td>\n",
       "      <td>Femenino</td>\n",
       "      <td>Otra/o no familiar</td>\n",
       "      <td>Física y psicológica</td>\n",
       "      <td>18</td>\n",
       "      <td>18 a 29 años</td>\n",
       "      <td>NS/NC</td>\n",
       "      <td>2</td>\n",
       "      <td>1</td>\n",
       "      <td>Masculino</td>\n",
       "      <td>Pareja</td>\n",
       "      <td>Está interviniendo o se deriva a otra institución</td>\n",
       "      <td>2017-01-02</td>\n",
       "      <td>11:38</td>\n",
       "      <td>NaN</td>\n",
       "      <td>NaN</td>\n",
       "    </tr>\n",
       "    <tr>\n",
       "      <th>2</th>\n",
       "      <td>344591.0</td>\n",
       "      <td>Otro/a particular</td>\n",
       "      <td>Femenino</td>\n",
       "      <td>Otra/o no familiar</td>\n",
       "      <td>Psicológica</td>\n",
       "      <td>Sin dato</td>\n",
       "      <td>Sin dato</td>\n",
       "      <td>Femenino</td>\n",
       "      <td>1</td>\n",
       "      <td>1</td>\n",
       "      <td>Masculino</td>\n",
       "      <td>Pareja</td>\n",
       "      <td>Llamante solicitó información y/o orientación</td>\n",
       "      <td>2017-01-02</td>\n",
       "      <td>11:41</td>\n",
       "      <td>NaN</td>\n",
       "      <td>NaN</td>\n",
       "    </tr>\n",
       "    <tr>\n",
       "      <th>3</th>\n",
       "      <td>344590.0</td>\n",
       "      <td>Otro/a particular</td>\n",
       "      <td>Femenino</td>\n",
       "      <td>Otra/o no familiar</td>\n",
       "      <td>Física y psicológica</td>\n",
       "      <td>18</td>\n",
       "      <td>18 a 29 años</td>\n",
       "      <td>Femenino</td>\n",
       "      <td>2</td>\n",
       "      <td>1</td>\n",
       "      <td>Masculino</td>\n",
       "      <td>Pareja</td>\n",
       "      <td>Está interviniendo o se deriva a otra institución</td>\n",
       "      <td>2017-01-02</td>\n",
       "      <td>11:45</td>\n",
       "      <td>NaN</td>\n",
       "      <td>NaN</td>\n",
       "    </tr>\n",
       "    <tr>\n",
       "      <th>4</th>\n",
       "      <td>344592.0</td>\n",
       "      <td>Víctima</td>\n",
       "      <td>Femenino</td>\n",
       "      <td>Otra/o familiar</td>\n",
       "      <td>Física y psicológica</td>\n",
       "      <td>Sin dato</td>\n",
       "      <td>Sin dato</td>\n",
       "      <td>Femenino</td>\n",
       "      <td>1</td>\n",
       "      <td>1</td>\n",
       "      <td>Femenino</td>\n",
       "      <td>Hermano/a</td>\n",
       "      <td>Llamante solicitó información y/o orientación</td>\n",
       "      <td>2017-01-02</td>\n",
       "      <td>12:11</td>\n",
       "      <td>NaN</td>\n",
       "      <td>NaN</td>\n",
       "    </tr>\n",
       "  </tbody>\n",
       "</table>\n",
       "</div>"
      ],
      "text/plain": [
       "    caso_id llamante_descripcion llamante_genero  \\\n",
       "0  344589.0            Comisaría        Femenino   \n",
       "1  344590.0    Otro/a particular        Femenino   \n",
       "2  344591.0    Otro/a particular        Femenino   \n",
       "3  344590.0    Otro/a particular        Femenino   \n",
       "4  344592.0              Víctima        Femenino   \n",
       "\n",
       "  llamante_vinculo_ninios_presentes        violencia_tipo victima_edad  \\\n",
       "0                   No hay niñas/os  Física y psicológica           23   \n",
       "1                Otra/o no familiar  Física y psicológica           18   \n",
       "2                Otra/o no familiar           Psicológica     Sin dato   \n",
       "3                Otra/o no familiar  Física y psicológica           18   \n",
       "4                   Otra/o familiar  Física y psicológica     Sin dato   \n",
       "\n",
       "  victima_rango_etario victima_genero  victima_cantidad  agresor_cantidad  \\\n",
       "0         18 a 29 años       Femenino                 1                 3   \n",
       "1         18 a 29 años          NS/NC                 2                 1   \n",
       "2             Sin dato       Femenino                 1                 1   \n",
       "3         18 a 29 años       Femenino                 2                 1   \n",
       "4             Sin dato       Femenino                 1                 1   \n",
       "\n",
       "  agresor_genero agresor_relacion_victima  \\\n",
       "0       Femenino                    Madre   \n",
       "1      Masculino                   Pareja   \n",
       "2      Masculino                   Pareja   \n",
       "3      Masculino                   Pareja   \n",
       "4       Femenino                Hermano/a   \n",
       "\n",
       "                                  llamado_derivacion llamado_fecha  \\\n",
       "0  La víctima no aceptó la intervención del Equip...    2017-01-02   \n",
       "1  Está interviniendo o se deriva a otra institución    2017-01-02   \n",
       "2      Llamante solicitó información y/o orientación    2017-01-02   \n",
       "3  Está interviniendo o se deriva a otra institución    2017-01-02   \n",
       "4      Llamante solicitó información y/o orientación    2017-01-02   \n",
       "\n",
       "  llamado_hora llamado_provincia  llamado_provincia_id  \n",
       "0        11:33               NaN                   NaN  \n",
       "1        11:38               NaN                   NaN  \n",
       "2        11:41               NaN                   NaN  \n",
       "3        11:45               NaN                   NaN  \n",
       "4        12:11               NaN                   NaN  "
      ]
     },
     "execution_count": 5,
     "metadata": {},
     "output_type": "execute_result"
    }
   ],
   "source": [
    "data137_2.head()"
   ]
  },
  {
   "cell_type": "code",
   "execution_count": 6,
   "id": "14cac3b9",
   "metadata": {},
   "outputs": [
    {
     "data": {
      "text/plain": [
       "(59534, 17)"
      ]
     },
     "execution_count": 6,
     "metadata": {},
     "output_type": "execute_result"
    }
   ],
   "source": [
    "data137_2.shape"
   ]
  },
  {
   "cell_type": "code",
   "execution_count": 7,
   "id": "04aeaf45",
   "metadata": {},
   "outputs": [
    {
     "data": {
      "text/html": [
       "<div>\n",
       "<style scoped>\n",
       "    .dataframe tbody tr th:only-of-type {\n",
       "        vertical-align: middle;\n",
       "    }\n",
       "\n",
       "    .dataframe tbody tr th {\n",
       "        vertical-align: top;\n",
       "    }\n",
       "\n",
       "    .dataframe thead th {\n",
       "        text-align: right;\n",
       "    }\n",
       "</style>\n",
       "<table border=\"1\" class=\"dataframe\">\n",
       "  <thead>\n",
       "    <tr style=\"text-align: right;\">\n",
       "      <th></th>\n",
       "      <th>fecha</th>\n",
       "      <th>prov_residencia_persona_en_situacion_violencia</th>\n",
       "      <th>genero_persona_en_situacion_de_violencia</th>\n",
       "      <th>edad_persona_en_situacion_de_violencia</th>\n",
       "      <th>pais_nacimiento_persona_en_situacion_de_violencia</th>\n",
       "      <th>tipo_de_violencia_fisica</th>\n",
       "      <th>tipo_de_violencia_psicologica</th>\n",
       "      <th>tipo_de_violencia_sexual</th>\n",
       "      <th>tipo_de_violencia_economica_y_patrimonial</th>\n",
       "      <th>tipo_de_violencia_simbolica</th>\n",
       "      <th>tipo_de_violencia_domestica</th>\n",
       "      <th>modalidad_de_violencia_institucional</th>\n",
       "      <th>modalidad_de_violencia_laboral</th>\n",
       "      <th>modalidad_violencia_contra_libertad_reproductiva</th>\n",
       "      <th>modalidad_de_violencia_obstetrica</th>\n",
       "      <th>modalidad_de_violencia_mediatica</th>\n",
       "      <th>modalidad_de_violencia_otras</th>\n",
       "      <th>vinculo_con_la_persona_agresora</th>\n",
       "      <th>genero_de_la_persona_agresora</th>\n",
       "    </tr>\n",
       "  </thead>\n",
       "  <tbody>\n",
       "    <tr>\n",
       "      <th>0</th>\n",
       "      <td>2020-01-01</td>\n",
       "      <td>Tucumán</td>\n",
       "      <td>Mujer</td>\n",
       "      <td>NaN</td>\n",
       "      <td>NaN</td>\n",
       "      <td>Si</td>\n",
       "      <td>Si</td>\n",
       "      <td>No</td>\n",
       "      <td>No</td>\n",
       "      <td>No</td>\n",
       "      <td>Si</td>\n",
       "      <td>No</td>\n",
       "      <td>No</td>\n",
       "      <td>No</td>\n",
       "      <td>No</td>\n",
       "      <td>No</td>\n",
       "      <td>No</td>\n",
       "      <td>Pareja</td>\n",
       "      <td>Varon</td>\n",
       "    </tr>\n",
       "    <tr>\n",
       "      <th>1</th>\n",
       "      <td>2020-01-01</td>\n",
       "      <td>Buenos Aires</td>\n",
       "      <td>Mujer</td>\n",
       "      <td>39.0</td>\n",
       "      <td>NaN</td>\n",
       "      <td>Si</td>\n",
       "      <td>Si</td>\n",
       "      <td>No</td>\n",
       "      <td>No</td>\n",
       "      <td>No</td>\n",
       "      <td>Si</td>\n",
       "      <td>No</td>\n",
       "      <td>No</td>\n",
       "      <td>No</td>\n",
       "      <td>No</td>\n",
       "      <td>No</td>\n",
       "      <td>No</td>\n",
       "      <td>Ex pareja</td>\n",
       "      <td>Varon</td>\n",
       "    </tr>\n",
       "    <tr>\n",
       "      <th>2</th>\n",
       "      <td>2020-01-01</td>\n",
       "      <td>Buenos Aires</td>\n",
       "      <td>Mujer</td>\n",
       "      <td>22.0</td>\n",
       "      <td>Argentina</td>\n",
       "      <td>Si</td>\n",
       "      <td>Si</td>\n",
       "      <td>No</td>\n",
       "      <td>No</td>\n",
       "      <td>No</td>\n",
       "      <td>Si</td>\n",
       "      <td>No</td>\n",
       "      <td>No</td>\n",
       "      <td>No</td>\n",
       "      <td>No</td>\n",
       "      <td>No</td>\n",
       "      <td>No</td>\n",
       "      <td>Ex pareja</td>\n",
       "      <td>Varon</td>\n",
       "    </tr>\n",
       "    <tr>\n",
       "      <th>3</th>\n",
       "      <td>2020-01-01</td>\n",
       "      <td>Buenos Aires</td>\n",
       "      <td>Mujer</td>\n",
       "      <td>53.0</td>\n",
       "      <td>NaN</td>\n",
       "      <td>No</td>\n",
       "      <td>Si</td>\n",
       "      <td>No</td>\n",
       "      <td>No</td>\n",
       "      <td>No</td>\n",
       "      <td>Si</td>\n",
       "      <td>No</td>\n",
       "      <td>No</td>\n",
       "      <td>No</td>\n",
       "      <td>No</td>\n",
       "      <td>No</td>\n",
       "      <td>No</td>\n",
       "      <td>Pareja</td>\n",
       "      <td>Varon</td>\n",
       "    </tr>\n",
       "    <tr>\n",
       "      <th>4</th>\n",
       "      <td>2020-01-01</td>\n",
       "      <td>Buenos Aires</td>\n",
       "      <td>Mujer</td>\n",
       "      <td>38.0</td>\n",
       "      <td>Argentina</td>\n",
       "      <td>Si</td>\n",
       "      <td>Si</td>\n",
       "      <td>No</td>\n",
       "      <td>No</td>\n",
       "      <td>No</td>\n",
       "      <td>Si</td>\n",
       "      <td>No</td>\n",
       "      <td>No</td>\n",
       "      <td>No</td>\n",
       "      <td>No</td>\n",
       "      <td>No</td>\n",
       "      <td>No</td>\n",
       "      <td>Pareja</td>\n",
       "      <td>Varon</td>\n",
       "    </tr>\n",
       "  </tbody>\n",
       "</table>\n",
       "</div>"
      ],
      "text/plain": [
       "        fecha prov_residencia_persona_en_situacion_violencia  \\\n",
       "0  2020-01-01                                        Tucumán   \n",
       "1  2020-01-01                                   Buenos Aires   \n",
       "2  2020-01-01                                   Buenos Aires   \n",
       "3  2020-01-01                                   Buenos Aires   \n",
       "4  2020-01-01                                   Buenos Aires   \n",
       "\n",
       "  genero_persona_en_situacion_de_violencia  \\\n",
       "0                                    Mujer   \n",
       "1                                    Mujer   \n",
       "2                                    Mujer   \n",
       "3                                    Mujer   \n",
       "4                                    Mujer   \n",
       "\n",
       "   edad_persona_en_situacion_de_violencia  \\\n",
       "0                                     NaN   \n",
       "1                                    39.0   \n",
       "2                                    22.0   \n",
       "3                                    53.0   \n",
       "4                                    38.0   \n",
       "\n",
       "  pais_nacimiento_persona_en_situacion_de_violencia tipo_de_violencia_fisica  \\\n",
       "0                                               NaN                       Si   \n",
       "1                                               NaN                       Si   \n",
       "2                                         Argentina                       Si   \n",
       "3                                               NaN                       No   \n",
       "4                                         Argentina                       Si   \n",
       "\n",
       "  tipo_de_violencia_psicologica tipo_de_violencia_sexual  \\\n",
       "0                            Si                       No   \n",
       "1                            Si                       No   \n",
       "2                            Si                       No   \n",
       "3                            Si                       No   \n",
       "4                            Si                       No   \n",
       "\n",
       "  tipo_de_violencia_economica_y_patrimonial tipo_de_violencia_simbolica  \\\n",
       "0                                        No                          No   \n",
       "1                                        No                          No   \n",
       "2                                        No                          No   \n",
       "3                                        No                          No   \n",
       "4                                        No                          No   \n",
       "\n",
       "  tipo_de_violencia_domestica modalidad_de_violencia_institucional  \\\n",
       "0                          Si                                   No   \n",
       "1                          Si                                   No   \n",
       "2                          Si                                   No   \n",
       "3                          Si                                   No   \n",
       "4                          Si                                   No   \n",
       "\n",
       "  modalidad_de_violencia_laboral  \\\n",
       "0                             No   \n",
       "1                             No   \n",
       "2                             No   \n",
       "3                             No   \n",
       "4                             No   \n",
       "\n",
       "  modalidad_violencia_contra_libertad_reproductiva  \\\n",
       "0                                               No   \n",
       "1                                               No   \n",
       "2                                               No   \n",
       "3                                               No   \n",
       "4                                               No   \n",
       "\n",
       "  modalidad_de_violencia_obstetrica modalidad_de_violencia_mediatica  \\\n",
       "0                                No                               No   \n",
       "1                                No                               No   \n",
       "2                                No                               No   \n",
       "3                                No                               No   \n",
       "4                                No                               No   \n",
       "\n",
       "  modalidad_de_violencia_otras vinculo_con_la_persona_agresora  \\\n",
       "0                           No                          Pareja   \n",
       "1                           No                       Ex pareja   \n",
       "2                           No                       Ex pareja   \n",
       "3                           No                          Pareja   \n",
       "4                           No                          Pareja   \n",
       "\n",
       "  genero_de_la_persona_agresora  \n",
       "0                         Varon  \n",
       "1                         Varon  \n",
       "2                         Varon  \n",
       "3                         Varon  \n",
       "4                         Varon  "
      ]
     },
     "execution_count": 7,
     "metadata": {},
     "output_type": "execute_result"
    }
   ],
   "source": [
    "data144_20.head()"
   ]
  },
  {
   "cell_type": "code",
   "execution_count": null,
   "id": "bab19185",
   "metadata": {},
   "outputs": [],
   "source": []
  },
  {
   "cell_type": "code",
   "execution_count": 8,
   "id": "716a78ca",
   "metadata": {},
   "outputs": [
    {
     "data": {
      "text/html": [
       "<div>\n",
       "<style scoped>\n",
       "    .dataframe tbody tr th:only-of-type {\n",
       "        vertical-align: middle;\n",
       "    }\n",
       "\n",
       "    .dataframe tbody tr th {\n",
       "        vertical-align: top;\n",
       "    }\n",
       "\n",
       "    .dataframe thead th {\n",
       "        text-align: right;\n",
       "    }\n",
       "</style>\n",
       "<table border=\"1\" class=\"dataframe\">\n",
       "  <thead>\n",
       "    <tr style=\"text-align: right;\">\n",
       "      <th></th>\n",
       "      <th>fecha</th>\n",
       "      <th>prov_residencia_persona_en_situacion_violencia</th>\n",
       "      <th>genero_persona_en_situacion_de_violencia</th>\n",
       "      <th>edad_persona_en_situacion_de_violencia</th>\n",
       "      <th>pais_nacimiento_persona_en_situacion_de_violencia</th>\n",
       "      <th>tipo_de_violencia_fisica</th>\n",
       "      <th>tipo_de_violencia_psicologica</th>\n",
       "      <th>tipo_de_violencia_sexual</th>\n",
       "      <th>tipo_de_violencia_economica_y_patrimonial</th>\n",
       "      <th>tipo_de_violencia_simbolica</th>\n",
       "      <th>tipo_de_violencia_domestica</th>\n",
       "      <th>modalidad_de_violencia_institucional</th>\n",
       "      <th>modalidad_de_violencia_laboral</th>\n",
       "      <th>modalidad_violencia_contra_libertad_reproductiva</th>\n",
       "      <th>modalidad_de_violencia_obstetrica</th>\n",
       "      <th>modalidad_de_violencia_mediatica</th>\n",
       "      <th>modalidad_de_violencia_otras</th>\n",
       "      <th>vinculo_con_la_persona_agresora</th>\n",
       "      <th>genero_de_la_persona_agresora</th>\n",
       "    </tr>\n",
       "  </thead>\n",
       "  <tbody>\n",
       "    <tr>\n",
       "      <th>0</th>\n",
       "      <td>2021-01-01</td>\n",
       "      <td>Buenos Aires</td>\n",
       "      <td>Mujer</td>\n",
       "      <td>73.0</td>\n",
       "      <td>Argentina</td>\n",
       "      <td>Si</td>\n",
       "      <td>Si</td>\n",
       "      <td>No</td>\n",
       "      <td>No</td>\n",
       "      <td>No</td>\n",
       "      <td>Si</td>\n",
       "      <td>No</td>\n",
       "      <td>No</td>\n",
       "      <td>No</td>\n",
       "      <td>No</td>\n",
       "      <td>No</td>\n",
       "      <td>No</td>\n",
       "      <td>Pareja</td>\n",
       "      <td>Varon</td>\n",
       "    </tr>\n",
       "    <tr>\n",
       "      <th>1</th>\n",
       "      <td>2021-01-01</td>\n",
       "      <td>Buenos Aires</td>\n",
       "      <td>Mujer</td>\n",
       "      <td>32.0</td>\n",
       "      <td>Argentina</td>\n",
       "      <td>Si</td>\n",
       "      <td>Si</td>\n",
       "      <td>No</td>\n",
       "      <td>No</td>\n",
       "      <td>No</td>\n",
       "      <td>Si</td>\n",
       "      <td>No</td>\n",
       "      <td>No</td>\n",
       "      <td>No</td>\n",
       "      <td>No</td>\n",
       "      <td>No</td>\n",
       "      <td>No</td>\n",
       "      <td>Ex pareja</td>\n",
       "      <td>Varon</td>\n",
       "    </tr>\n",
       "    <tr>\n",
       "      <th>2</th>\n",
       "      <td>2021-01-01</td>\n",
       "      <td>Ciudad Autónoma de Buenos Aires</td>\n",
       "      <td>Mujer</td>\n",
       "      <td>33.0</td>\n",
       "      <td>NaN</td>\n",
       "      <td>No</td>\n",
       "      <td>Si</td>\n",
       "      <td>No</td>\n",
       "      <td>No</td>\n",
       "      <td>No</td>\n",
       "      <td>Si</td>\n",
       "      <td>No</td>\n",
       "      <td>No</td>\n",
       "      <td>No</td>\n",
       "      <td>No</td>\n",
       "      <td>No</td>\n",
       "      <td>No</td>\n",
       "      <td>Ex pareja</td>\n",
       "      <td>Varon</td>\n",
       "    </tr>\n",
       "    <tr>\n",
       "      <th>3</th>\n",
       "      <td>2021-01-01</td>\n",
       "      <td>Ciudad Autónoma de Buenos Aires</td>\n",
       "      <td>Mujer</td>\n",
       "      <td>45.0</td>\n",
       "      <td>Argentina</td>\n",
       "      <td>No</td>\n",
       "      <td>Si</td>\n",
       "      <td>No</td>\n",
       "      <td>No</td>\n",
       "      <td>No</td>\n",
       "      <td>Si</td>\n",
       "      <td>No</td>\n",
       "      <td>No</td>\n",
       "      <td>No</td>\n",
       "      <td>No</td>\n",
       "      <td>No</td>\n",
       "      <td>No</td>\n",
       "      <td>Ex pareja</td>\n",
       "      <td>Varon</td>\n",
       "    </tr>\n",
       "    <tr>\n",
       "      <th>4</th>\n",
       "      <td>2021-01-01</td>\n",
       "      <td>Ciudad Autónoma de Buenos Aires</td>\n",
       "      <td>Mujer</td>\n",
       "      <td>32.0</td>\n",
       "      <td>Argentina</td>\n",
       "      <td>Si</td>\n",
       "      <td>Si</td>\n",
       "      <td>No</td>\n",
       "      <td>No</td>\n",
       "      <td>No</td>\n",
       "      <td>Si</td>\n",
       "      <td>No</td>\n",
       "      <td>No</td>\n",
       "      <td>No</td>\n",
       "      <td>No</td>\n",
       "      <td>No</td>\n",
       "      <td>No</td>\n",
       "      <td>Ex pareja</td>\n",
       "      <td>Varon</td>\n",
       "    </tr>\n",
       "  </tbody>\n",
       "</table>\n",
       "</div>"
      ],
      "text/plain": [
       "        fecha prov_residencia_persona_en_situacion_violencia  \\\n",
       "0  2021-01-01                                   Buenos Aires   \n",
       "1  2021-01-01                                   Buenos Aires   \n",
       "2  2021-01-01                Ciudad Autónoma de Buenos Aires   \n",
       "3  2021-01-01                Ciudad Autónoma de Buenos Aires   \n",
       "4  2021-01-01                Ciudad Autónoma de Buenos Aires   \n",
       "\n",
       "  genero_persona_en_situacion_de_violencia  \\\n",
       "0                                    Mujer   \n",
       "1                                    Mujer   \n",
       "2                                    Mujer   \n",
       "3                                    Mujer   \n",
       "4                                    Mujer   \n",
       "\n",
       "   edad_persona_en_situacion_de_violencia  \\\n",
       "0                                    73.0   \n",
       "1                                    32.0   \n",
       "2                                    33.0   \n",
       "3                                    45.0   \n",
       "4                                    32.0   \n",
       "\n",
       "  pais_nacimiento_persona_en_situacion_de_violencia tipo_de_violencia_fisica  \\\n",
       "0                                         Argentina                       Si   \n",
       "1                                         Argentina                       Si   \n",
       "2                                               NaN                       No   \n",
       "3                                         Argentina                       No   \n",
       "4                                         Argentina                       Si   \n",
       "\n",
       "  tipo_de_violencia_psicologica tipo_de_violencia_sexual  \\\n",
       "0                            Si                       No   \n",
       "1                            Si                       No   \n",
       "2                            Si                       No   \n",
       "3                            Si                       No   \n",
       "4                            Si                       No   \n",
       "\n",
       "  tipo_de_violencia_economica_y_patrimonial tipo_de_violencia_simbolica  \\\n",
       "0                                        No                          No   \n",
       "1                                        No                          No   \n",
       "2                                        No                          No   \n",
       "3                                        No                          No   \n",
       "4                                        No                          No   \n",
       "\n",
       "  tipo_de_violencia_domestica modalidad_de_violencia_institucional  \\\n",
       "0                          Si                                   No   \n",
       "1                          Si                                   No   \n",
       "2                          Si                                   No   \n",
       "3                          Si                                   No   \n",
       "4                          Si                                   No   \n",
       "\n",
       "  modalidad_de_violencia_laboral  \\\n",
       "0                             No   \n",
       "1                             No   \n",
       "2                             No   \n",
       "3                             No   \n",
       "4                             No   \n",
       "\n",
       "  modalidad_violencia_contra_libertad_reproductiva  \\\n",
       "0                                               No   \n",
       "1                                               No   \n",
       "2                                               No   \n",
       "3                                               No   \n",
       "4                                               No   \n",
       "\n",
       "  modalidad_de_violencia_obstetrica modalidad_de_violencia_mediatica  \\\n",
       "0                                No                               No   \n",
       "1                                No                               No   \n",
       "2                                No                               No   \n",
       "3                                No                               No   \n",
       "4                                No                               No   \n",
       "\n",
       "  modalidad_de_violencia_otras vinculo_con_la_persona_agresora  \\\n",
       "0                           No                          Pareja   \n",
       "1                           No                       Ex pareja   \n",
       "2                           No                       Ex pareja   \n",
       "3                           No                       Ex pareja   \n",
       "4                           No                       Ex pareja   \n",
       "\n",
       "  genero_de_la_persona_agresora  \n",
       "0                         Varon  \n",
       "1                         Varon  \n",
       "2                         Varon  \n",
       "3                         Varon  \n",
       "4                         Varon  "
      ]
     },
     "execution_count": 8,
     "metadata": {},
     "output_type": "execute_result"
    }
   ],
   "source": [
    "data144_21.shape"
   ]
  },
  {
   "cell_type": "markdown",
   "id": "3379e0b3",
   "metadata": {},
   "source": [
    "### Transformamos los datos de la línea 144-2020 y 144-2021 antes de concatenar\n"
   ]
  },
  {
   "cell_type": "code",
   "execution_count": 9,
   "id": "bae98a08",
   "metadata": {},
   "outputs": [],
   "source": [
    "# Cambiar los nombres de las columnas\n",
    "nuevos_nombres = {'fecha': 'Fecha'}\n",
    "data144_20 = data144_20.rename(columns=nuevos_nombres)\n",
    "data144_21 = data144_21.rename(columns=nuevos_nombres)"
   ]
  },
  {
   "cell_type": "code",
   "execution_count": 10,
   "id": "2eabe4fb",
   "metadata": {},
   "outputs": [
    {
     "data": {
      "text/html": [
       "<div>\n",
       "<style scoped>\n",
       "    .dataframe tbody tr th:only-of-type {\n",
       "        vertical-align: middle;\n",
       "    }\n",
       "\n",
       "    .dataframe tbody tr th {\n",
       "        vertical-align: top;\n",
       "    }\n",
       "\n",
       "    .dataframe thead th {\n",
       "        text-align: right;\n",
       "    }\n",
       "</style>\n",
       "<table border=\"1\" class=\"dataframe\">\n",
       "  <thead>\n",
       "    <tr style=\"text-align: right;\">\n",
       "      <th></th>\n",
       "      <th>Fecha</th>\n",
       "      <th>prov_residencia_persona_en_situacion_violencia</th>\n",
       "      <th>genero_persona_en_situacion_de_violencia</th>\n",
       "      <th>edad_persona_en_situacion_de_violencia</th>\n",
       "      <th>pais_nacimiento_persona_en_situacion_de_violencia</th>\n",
       "      <th>tipo_de_violencia_fisica</th>\n",
       "      <th>tipo_de_violencia_psicologica</th>\n",
       "      <th>tipo_de_violencia_sexual</th>\n",
       "      <th>tipo_de_violencia_economica_y_patrimonial</th>\n",
       "      <th>tipo_de_violencia_simbolica</th>\n",
       "      <th>tipo_de_violencia_domestica</th>\n",
       "      <th>modalidad_de_violencia_institucional</th>\n",
       "      <th>modalidad_de_violencia_laboral</th>\n",
       "      <th>modalidad_violencia_contra_libertad_reproductiva</th>\n",
       "      <th>modalidad_de_violencia_obstetrica</th>\n",
       "      <th>modalidad_de_violencia_mediatica</th>\n",
       "      <th>modalidad_de_violencia_otras</th>\n",
       "      <th>vinculo_con_la_persona_agresora</th>\n",
       "      <th>genero_de_la_persona_agresora</th>\n",
       "      <th>Unnamed: 19</th>\n",
       "    </tr>\n",
       "  </thead>\n",
       "  <tbody>\n",
       "    <tr>\n",
       "      <th>0</th>\n",
       "      <td>2022-01-01</td>\n",
       "      <td>Buenos Aires</td>\n",
       "      <td>Mujer</td>\n",
       "      <td>31.0</td>\n",
       "      <td>Argentina</td>\n",
       "      <td>Si</td>\n",
       "      <td>Si</td>\n",
       "      <td>No</td>\n",
       "      <td>No</td>\n",
       "      <td>No</td>\n",
       "      <td>Si</td>\n",
       "      <td>No</td>\n",
       "      <td>No</td>\n",
       "      <td>No</td>\n",
       "      <td>No</td>\n",
       "      <td>No</td>\n",
       "      <td>No</td>\n",
       "      <td>Pareja</td>\n",
       "      <td>Varon</td>\n",
       "      <td>NaN</td>\n",
       "    </tr>\n",
       "    <tr>\n",
       "      <th>1</th>\n",
       "      <td>2022-01-01</td>\n",
       "      <td>Buenos Aires</td>\n",
       "      <td>Mujer</td>\n",
       "      <td>31.0</td>\n",
       "      <td>Argentina</td>\n",
       "      <td>Si</td>\n",
       "      <td>Si</td>\n",
       "      <td>No</td>\n",
       "      <td>No</td>\n",
       "      <td>No</td>\n",
       "      <td>Si</td>\n",
       "      <td>No</td>\n",
       "      <td>No</td>\n",
       "      <td>No</td>\n",
       "      <td>No</td>\n",
       "      <td>No</td>\n",
       "      <td>No</td>\n",
       "      <td>Otro familiar</td>\n",
       "      <td>Varon</td>\n",
       "      <td>NaN</td>\n",
       "    </tr>\n",
       "    <tr>\n",
       "      <th>2</th>\n",
       "      <td>2022-01-01</td>\n",
       "      <td>Ciudad Autónoma de Buenos Aires</td>\n",
       "      <td>Mujer</td>\n",
       "      <td>29.0</td>\n",
       "      <td>Boliviana</td>\n",
       "      <td>Si</td>\n",
       "      <td>Si</td>\n",
       "      <td>No</td>\n",
       "      <td>Si</td>\n",
       "      <td>No</td>\n",
       "      <td>Si</td>\n",
       "      <td>No</td>\n",
       "      <td>No</td>\n",
       "      <td>No</td>\n",
       "      <td>No</td>\n",
       "      <td>No</td>\n",
       "      <td>No</td>\n",
       "      <td>Ex pareja</td>\n",
       "      <td>Varon</td>\n",
       "      <td>NaN</td>\n",
       "    </tr>\n",
       "    <tr>\n",
       "      <th>3</th>\n",
       "      <td>2022-01-01</td>\n",
       "      <td>Buenos Aires</td>\n",
       "      <td>Mujer</td>\n",
       "      <td>NaN</td>\n",
       "      <td>NaN</td>\n",
       "      <td>Si</td>\n",
       "      <td>Si</td>\n",
       "      <td>No</td>\n",
       "      <td>No</td>\n",
       "      <td>No</td>\n",
       "      <td>Si</td>\n",
       "      <td>No</td>\n",
       "      <td>No</td>\n",
       "      <td>No</td>\n",
       "      <td>No</td>\n",
       "      <td>No</td>\n",
       "      <td>No</td>\n",
       "      <td>Pareja</td>\n",
       "      <td>Varon</td>\n",
       "      <td>NaN</td>\n",
       "    </tr>\n",
       "    <tr>\n",
       "      <th>4</th>\n",
       "      <td>2022-01-01</td>\n",
       "      <td>Buenos Aires</td>\n",
       "      <td>Mujer</td>\n",
       "      <td>NaN</td>\n",
       "      <td>NaN</td>\n",
       "      <td>Si</td>\n",
       "      <td>Si</td>\n",
       "      <td>No</td>\n",
       "      <td>No</td>\n",
       "      <td>No</td>\n",
       "      <td>Si</td>\n",
       "      <td>No</td>\n",
       "      <td>No</td>\n",
       "      <td>No</td>\n",
       "      <td>No</td>\n",
       "      <td>No</td>\n",
       "      <td>No</td>\n",
       "      <td>Pareja</td>\n",
       "      <td>Varon</td>\n",
       "      <td>NaN</td>\n",
       "    </tr>\n",
       "  </tbody>\n",
       "</table>\n",
       "</div>"
      ],
      "text/plain": [
       "        Fecha prov_residencia_persona_en_situacion_violencia  \\\n",
       "0  2022-01-01                                   Buenos Aires   \n",
       "1  2022-01-01                                   Buenos Aires   \n",
       "2  2022-01-01                Ciudad Autónoma de Buenos Aires   \n",
       "3  2022-01-01                                   Buenos Aires   \n",
       "4  2022-01-01                                   Buenos Aires   \n",
       "\n",
       "  genero_persona_en_situacion_de_violencia  \\\n",
       "0                                    Mujer   \n",
       "1                                    Mujer   \n",
       "2                                    Mujer   \n",
       "3                                    Mujer   \n",
       "4                                    Mujer   \n",
       "\n",
       "   edad_persona_en_situacion_de_violencia  \\\n",
       "0                                    31.0   \n",
       "1                                    31.0   \n",
       "2                                    29.0   \n",
       "3                                     NaN   \n",
       "4                                     NaN   \n",
       "\n",
       "  pais_nacimiento_persona_en_situacion_de_violencia tipo_de_violencia_fisica  \\\n",
       "0                                         Argentina                       Si   \n",
       "1                                         Argentina                       Si   \n",
       "2                                         Boliviana                       Si   \n",
       "3                                               NaN                       Si   \n",
       "4                                               NaN                       Si   \n",
       "\n",
       "  tipo_de_violencia_psicologica tipo_de_violencia_sexual  \\\n",
       "0                            Si                       No   \n",
       "1                            Si                       No   \n",
       "2                            Si                       No   \n",
       "3                            Si                       No   \n",
       "4                            Si                       No   \n",
       "\n",
       "  tipo_de_violencia_economica_y_patrimonial tipo_de_violencia_simbolica  \\\n",
       "0                                        No                          No   \n",
       "1                                        No                          No   \n",
       "2                                        Si                          No   \n",
       "3                                        No                          No   \n",
       "4                                        No                          No   \n",
       "\n",
       "  tipo_de_violencia_domestica modalidad_de_violencia_institucional  \\\n",
       "0                          Si                                   No   \n",
       "1                          Si                                   No   \n",
       "2                          Si                                   No   \n",
       "3                          Si                                   No   \n",
       "4                          Si                                   No   \n",
       "\n",
       "  modalidad_de_violencia_laboral  \\\n",
       "0                             No   \n",
       "1                             No   \n",
       "2                             No   \n",
       "3                             No   \n",
       "4                             No   \n",
       "\n",
       "  modalidad_violencia_contra_libertad_reproductiva  \\\n",
       "0                                               No   \n",
       "1                                               No   \n",
       "2                                               No   \n",
       "3                                               No   \n",
       "4                                               No   \n",
       "\n",
       "  modalidad_de_violencia_obstetrica modalidad_de_violencia_mediatica  \\\n",
       "0                                No                               No   \n",
       "1                                No                               No   \n",
       "2                                No                               No   \n",
       "3                                No                               No   \n",
       "4                                No                               No   \n",
       "\n",
       "  modalidad_de_violencia_otras vinculo_con_la_persona_agresora  \\\n",
       "0                           No                          Pareja   \n",
       "1                           No                   Otro familiar   \n",
       "2                           No                       Ex pareja   \n",
       "3                           No                          Pareja   \n",
       "4                           No                          Pareja   \n",
       "\n",
       "  genero_de_la_persona_agresora  Unnamed: 19  \n",
       "0                         Varon          NaN  \n",
       "1                         Varon          NaN  \n",
       "2                         Varon          NaN  \n",
       "3                         Varon          NaN  \n",
       "4                         Varon          NaN  "
      ]
     },
     "execution_count": 10,
     "metadata": {},
     "output_type": "execute_result"
    }
   ],
   "source": [
    "data144_22.head()"
   ]
  },
  {
   "cell_type": "code",
   "execution_count": 11,
   "id": "dbccd117",
   "metadata": {},
   "outputs": [
    {
     "data": {
      "text/html": [
       "<div>\n",
       "<style scoped>\n",
       "    .dataframe tbody tr th:only-of-type {\n",
       "        vertical-align: middle;\n",
       "    }\n",
       "\n",
       "    .dataframe tbody tr th {\n",
       "        vertical-align: top;\n",
       "    }\n",
       "\n",
       "    .dataframe thead th {\n",
       "        text-align: right;\n",
       "    }\n",
       "</style>\n",
       "<table border=\"1\" class=\"dataframe\">\n",
       "  <thead>\n",
       "    <tr style=\"text-align: right;\">\n",
       "      <th></th>\n",
       "      <th>Fecha</th>\n",
       "      <th>prov_residencia_persona_en_situacion_violencia</th>\n",
       "      <th>genero_persona_en_situacion_de_violencia</th>\n",
       "      <th>edad_persona_en_situacion_de_violencia</th>\n",
       "      <th>pais_nacimiento_persona_en_situacion_de_violencia</th>\n",
       "      <th>tipo_de_violencia_fisica</th>\n",
       "      <th>tipo_de_violencia_psicologica</th>\n",
       "      <th>tipo_de_violencia_sexual</th>\n",
       "      <th>tipo_de_violencia_economica_y_patrimonial</th>\n",
       "      <th>tipo_de_violencia_simbolica</th>\n",
       "      <th>tipo_de_violencia_domestica</th>\n",
       "      <th>modalidad_de_violencia_institucional</th>\n",
       "      <th>modalidad_de_violencia_laboral</th>\n",
       "      <th>modalidad_violencia_contra_libertad_reproductiva</th>\n",
       "      <th>modalidad_de_violencia_obstetrica</th>\n",
       "      <th>modalidad_de_violencia_mediatica</th>\n",
       "      <th>modalidad_de_violencia_otras</th>\n",
       "      <th>vinculo_con_la_persona_agresora</th>\n",
       "      <th>genero_de_la_persona_agresora</th>\n",
       "    </tr>\n",
       "  </thead>\n",
       "  <tbody>\n",
       "    <tr>\n",
       "      <th>0</th>\n",
       "      <td>2023-01-01</td>\n",
       "      <td>Buenos Aires</td>\n",
       "      <td>Mujer</td>\n",
       "      <td>NaN</td>\n",
       "      <td>NaN</td>\n",
       "      <td>Si</td>\n",
       "      <td>Si</td>\n",
       "      <td>No</td>\n",
       "      <td>No</td>\n",
       "      <td>No</td>\n",
       "      <td>Si</td>\n",
       "      <td>No</td>\n",
       "      <td>No</td>\n",
       "      <td>No</td>\n",
       "      <td>No</td>\n",
       "      <td>No</td>\n",
       "      <td>No</td>\n",
       "      <td>Pareja</td>\n",
       "      <td>Varon</td>\n",
       "    </tr>\n",
       "    <tr>\n",
       "      <th>1</th>\n",
       "      <td>2023-01-01</td>\n",
       "      <td>Buenos Aires</td>\n",
       "      <td>Mujer</td>\n",
       "      <td>19.0</td>\n",
       "      <td>Argentina</td>\n",
       "      <td>Si</td>\n",
       "      <td>Si</td>\n",
       "      <td>Si</td>\n",
       "      <td>No</td>\n",
       "      <td>No</td>\n",
       "      <td>No</td>\n",
       "      <td>No</td>\n",
       "      <td>No</td>\n",
       "      <td>No</td>\n",
       "      <td>No</td>\n",
       "      <td>No</td>\n",
       "      <td>No</td>\n",
       "      <td>Otro</td>\n",
       "      <td>Varon</td>\n",
       "    </tr>\n",
       "    <tr>\n",
       "      <th>2</th>\n",
       "      <td>2023-01-01</td>\n",
       "      <td>Buenos Aires</td>\n",
       "      <td>Mujer</td>\n",
       "      <td>46.0</td>\n",
       "      <td>Argentina</td>\n",
       "      <td>Si</td>\n",
       "      <td>Si</td>\n",
       "      <td>No</td>\n",
       "      <td>No</td>\n",
       "      <td>Si</td>\n",
       "      <td>Si</td>\n",
       "      <td>No</td>\n",
       "      <td>No</td>\n",
       "      <td>No</td>\n",
       "      <td>No</td>\n",
       "      <td>No</td>\n",
       "      <td>No</td>\n",
       "      <td>Pareja</td>\n",
       "      <td>Varon</td>\n",
       "    </tr>\n",
       "    <tr>\n",
       "      <th>3</th>\n",
       "      <td>2023-01-01</td>\n",
       "      <td>Entre Ríos</td>\n",
       "      <td>Mujer</td>\n",
       "      <td>28.0</td>\n",
       "      <td>NaN</td>\n",
       "      <td>No</td>\n",
       "      <td>Si</td>\n",
       "      <td>No</td>\n",
       "      <td>No</td>\n",
       "      <td>Si</td>\n",
       "      <td>Si</td>\n",
       "      <td>No</td>\n",
       "      <td>No</td>\n",
       "      <td>No</td>\n",
       "      <td>No</td>\n",
       "      <td>No</td>\n",
       "      <td>No</td>\n",
       "      <td>Pareja</td>\n",
       "      <td>Varon</td>\n",
       "    </tr>\n",
       "    <tr>\n",
       "      <th>4</th>\n",
       "      <td>2023-01-01</td>\n",
       "      <td>Mendoza</td>\n",
       "      <td>Mujer</td>\n",
       "      <td>34.0</td>\n",
       "      <td>Argentina</td>\n",
       "      <td>No</td>\n",
       "      <td>Si</td>\n",
       "      <td>No</td>\n",
       "      <td>No</td>\n",
       "      <td>No</td>\n",
       "      <td>Si</td>\n",
       "      <td>No</td>\n",
       "      <td>No</td>\n",
       "      <td>No</td>\n",
       "      <td>No</td>\n",
       "      <td>No</td>\n",
       "      <td>No</td>\n",
       "      <td>Ex pareja</td>\n",
       "      <td>Varon</td>\n",
       "    </tr>\n",
       "  </tbody>\n",
       "</table>\n",
       "</div>"
      ],
      "text/plain": [
       "        Fecha prov_residencia_persona_en_situacion_violencia  \\\n",
       "0  2023-01-01                                   Buenos Aires   \n",
       "1  2023-01-01                                   Buenos Aires   \n",
       "2  2023-01-01                                   Buenos Aires   \n",
       "3  2023-01-01                                     Entre Ríos   \n",
       "4  2023-01-01                                        Mendoza   \n",
       "\n",
       "  genero_persona_en_situacion_de_violencia  \\\n",
       "0                                    Mujer   \n",
       "1                                    Mujer   \n",
       "2                                    Mujer   \n",
       "3                                    Mujer   \n",
       "4                                    Mujer   \n",
       "\n",
       "   edad_persona_en_situacion_de_violencia  \\\n",
       "0                                     NaN   \n",
       "1                                    19.0   \n",
       "2                                    46.0   \n",
       "3                                    28.0   \n",
       "4                                    34.0   \n",
       "\n",
       "  pais_nacimiento_persona_en_situacion_de_violencia tipo_de_violencia_fisica  \\\n",
       "0                                               NaN                       Si   \n",
       "1                                         Argentina                       Si   \n",
       "2                                         Argentina                       Si   \n",
       "3                                               NaN                       No   \n",
       "4                                         Argentina                       No   \n",
       "\n",
       "  tipo_de_violencia_psicologica tipo_de_violencia_sexual  \\\n",
       "0                            Si                       No   \n",
       "1                            Si                       Si   \n",
       "2                            Si                       No   \n",
       "3                            Si                       No   \n",
       "4                            Si                       No   \n",
       "\n",
       "  tipo_de_violencia_economica_y_patrimonial tipo_de_violencia_simbolica  \\\n",
       "0                                        No                          No   \n",
       "1                                        No                          No   \n",
       "2                                        No                          Si   \n",
       "3                                        No                          Si   \n",
       "4                                        No                          No   \n",
       "\n",
       "  tipo_de_violencia_domestica modalidad_de_violencia_institucional  \\\n",
       "0                          Si                                   No   \n",
       "1                          No                                   No   \n",
       "2                          Si                                   No   \n",
       "3                          Si                                   No   \n",
       "4                          Si                                   No   \n",
       "\n",
       "  modalidad_de_violencia_laboral  \\\n",
       "0                             No   \n",
       "1                             No   \n",
       "2                             No   \n",
       "3                             No   \n",
       "4                             No   \n",
       "\n",
       "  modalidad_violencia_contra_libertad_reproductiva  \\\n",
       "0                                               No   \n",
       "1                                               No   \n",
       "2                                               No   \n",
       "3                                               No   \n",
       "4                                               No   \n",
       "\n",
       "  modalidad_de_violencia_obstetrica modalidad_de_violencia_mediatica  \\\n",
       "0                                No                               No   \n",
       "1                                No                               No   \n",
       "2                                No                               No   \n",
       "3                                No                               No   \n",
       "4                                No                               No   \n",
       "\n",
       "  modalidad_de_violencia_otras vinculo_con_la_persona_agresora  \\\n",
       "0                           No                          Pareja   \n",
       "1                           No                            Otro   \n",
       "2                           No                          Pareja   \n",
       "3                           No                          Pareja   \n",
       "4                           No                       Ex pareja   \n",
       "\n",
       "  genero_de_la_persona_agresora  \n",
       "0                         Varon  \n",
       "1                         Varon  \n",
       "2                         Varon  \n",
       "3                         Varon  \n",
       "4                         Varon  "
      ]
     },
     "execution_count": 11,
     "metadata": {},
     "output_type": "execute_result"
    }
   ],
   "source": [
    "data144_23.head()"
   ]
  },
  {
   "cell_type": "markdown",
   "id": "b5b35bd6",
   "metadata": {},
   "source": [
    "### Concatenar los datos de la línea 144 en un único DataFrame y lo almacenamos en un nuevo archivo"
   ]
  },
  {
   "cell_type": "code",
   "execution_count": 12,
   "id": "c36186cb",
   "metadata": {},
   "outputs": [
    {
     "data": {
      "text/html": [
       "<div>\n",
       "<style scoped>\n",
       "    .dataframe tbody tr th:only-of-type {\n",
       "        vertical-align: middle;\n",
       "    }\n",
       "\n",
       "    .dataframe tbody tr th {\n",
       "        vertical-align: top;\n",
       "    }\n",
       "\n",
       "    .dataframe thead th {\n",
       "        text-align: right;\n",
       "    }\n",
       "</style>\n",
       "<table border=\"1\" class=\"dataframe\">\n",
       "  <thead>\n",
       "    <tr style=\"text-align: right;\">\n",
       "      <th></th>\n",
       "      <th>Fecha</th>\n",
       "      <th>prov_residencia_persona_en_situacion_violencia</th>\n",
       "      <th>genero_persona_en_situacion_de_violencia</th>\n",
       "      <th>edad_persona_en_situacion_de_violencia</th>\n",
       "      <th>pais_nacimiento_persona_en_situacion_de_violencia</th>\n",
       "      <th>tipo_de_violencia_fisica</th>\n",
       "      <th>tipo_de_violencia_psicologica</th>\n",
       "      <th>tipo_de_violencia_sexual</th>\n",
       "      <th>tipo_de_violencia_economica_y_patrimonial</th>\n",
       "      <th>tipo_de_violencia_simbolica</th>\n",
       "      <th>tipo_de_violencia_domestica</th>\n",
       "      <th>modalidad_de_violencia_institucional</th>\n",
       "      <th>modalidad_de_violencia_laboral</th>\n",
       "      <th>modalidad_violencia_contra_libertad_reproductiva</th>\n",
       "      <th>modalidad_de_violencia_obstetrica</th>\n",
       "      <th>modalidad_de_violencia_mediatica</th>\n",
       "      <th>modalidad_de_violencia_otras</th>\n",
       "      <th>vinculo_con_la_persona_agresora</th>\n",
       "      <th>genero_de_la_persona_agresora</th>\n",
       "      <th>Unnamed: 19</th>\n",
       "    </tr>\n",
       "  </thead>\n",
       "  <tbody>\n",
       "    <tr>\n",
       "      <th>0</th>\n",
       "      <td>2020-01-01</td>\n",
       "      <td>Tucumán</td>\n",
       "      <td>Mujer</td>\n",
       "      <td>NaN</td>\n",
       "      <td>NaN</td>\n",
       "      <td>Si</td>\n",
       "      <td>Si</td>\n",
       "      <td>No</td>\n",
       "      <td>No</td>\n",
       "      <td>No</td>\n",
       "      <td>Si</td>\n",
       "      <td>No</td>\n",
       "      <td>No</td>\n",
       "      <td>No</td>\n",
       "      <td>No</td>\n",
       "      <td>No</td>\n",
       "      <td>No</td>\n",
       "      <td>Pareja</td>\n",
       "      <td>Varon</td>\n",
       "      <td>NaN</td>\n",
       "    </tr>\n",
       "    <tr>\n",
       "      <th>1</th>\n",
       "      <td>2020-01-01</td>\n",
       "      <td>Buenos Aires</td>\n",
       "      <td>Mujer</td>\n",
       "      <td>39.0</td>\n",
       "      <td>NaN</td>\n",
       "      <td>Si</td>\n",
       "      <td>Si</td>\n",
       "      <td>No</td>\n",
       "      <td>No</td>\n",
       "      <td>No</td>\n",
       "      <td>Si</td>\n",
       "      <td>No</td>\n",
       "      <td>No</td>\n",
       "      <td>No</td>\n",
       "      <td>No</td>\n",
       "      <td>No</td>\n",
       "      <td>No</td>\n",
       "      <td>Ex pareja</td>\n",
       "      <td>Varon</td>\n",
       "      <td>NaN</td>\n",
       "    </tr>\n",
       "    <tr>\n",
       "      <th>2</th>\n",
       "      <td>2020-01-01</td>\n",
       "      <td>Buenos Aires</td>\n",
       "      <td>Mujer</td>\n",
       "      <td>22.0</td>\n",
       "      <td>Argentina</td>\n",
       "      <td>Si</td>\n",
       "      <td>Si</td>\n",
       "      <td>No</td>\n",
       "      <td>No</td>\n",
       "      <td>No</td>\n",
       "      <td>Si</td>\n",
       "      <td>No</td>\n",
       "      <td>No</td>\n",
       "      <td>No</td>\n",
       "      <td>No</td>\n",
       "      <td>No</td>\n",
       "      <td>No</td>\n",
       "      <td>Ex pareja</td>\n",
       "      <td>Varon</td>\n",
       "      <td>NaN</td>\n",
       "    </tr>\n",
       "    <tr>\n",
       "      <th>3</th>\n",
       "      <td>2020-01-01</td>\n",
       "      <td>Buenos Aires</td>\n",
       "      <td>Mujer</td>\n",
       "      <td>53.0</td>\n",
       "      <td>NaN</td>\n",
       "      <td>No</td>\n",
       "      <td>Si</td>\n",
       "      <td>No</td>\n",
       "      <td>No</td>\n",
       "      <td>No</td>\n",
       "      <td>Si</td>\n",
       "      <td>No</td>\n",
       "      <td>No</td>\n",
       "      <td>No</td>\n",
       "      <td>No</td>\n",
       "      <td>No</td>\n",
       "      <td>No</td>\n",
       "      <td>Pareja</td>\n",
       "      <td>Varon</td>\n",
       "      <td>NaN</td>\n",
       "    </tr>\n",
       "    <tr>\n",
       "      <th>4</th>\n",
       "      <td>2020-01-01</td>\n",
       "      <td>Buenos Aires</td>\n",
       "      <td>Mujer</td>\n",
       "      <td>38.0</td>\n",
       "      <td>Argentina</td>\n",
       "      <td>Si</td>\n",
       "      <td>Si</td>\n",
       "      <td>No</td>\n",
       "      <td>No</td>\n",
       "      <td>No</td>\n",
       "      <td>Si</td>\n",
       "      <td>No</td>\n",
       "      <td>No</td>\n",
       "      <td>No</td>\n",
       "      <td>No</td>\n",
       "      <td>No</td>\n",
       "      <td>No</td>\n",
       "      <td>Pareja</td>\n",
       "      <td>Varon</td>\n",
       "      <td>NaN</td>\n",
       "    </tr>\n",
       "  </tbody>\n",
       "</table>\n",
       "</div>"
      ],
      "text/plain": [
       "        Fecha prov_residencia_persona_en_situacion_violencia  \\\n",
       "0  2020-01-01                                        Tucumán   \n",
       "1  2020-01-01                                   Buenos Aires   \n",
       "2  2020-01-01                                   Buenos Aires   \n",
       "3  2020-01-01                                   Buenos Aires   \n",
       "4  2020-01-01                                   Buenos Aires   \n",
       "\n",
       "  genero_persona_en_situacion_de_violencia  \\\n",
       "0                                    Mujer   \n",
       "1                                    Mujer   \n",
       "2                                    Mujer   \n",
       "3                                    Mujer   \n",
       "4                                    Mujer   \n",
       "\n",
       "   edad_persona_en_situacion_de_violencia  \\\n",
       "0                                     NaN   \n",
       "1                                    39.0   \n",
       "2                                    22.0   \n",
       "3                                    53.0   \n",
       "4                                    38.0   \n",
       "\n",
       "  pais_nacimiento_persona_en_situacion_de_violencia tipo_de_violencia_fisica  \\\n",
       "0                                               NaN                       Si   \n",
       "1                                               NaN                       Si   \n",
       "2                                         Argentina                       Si   \n",
       "3                                               NaN                       No   \n",
       "4                                         Argentina                       Si   \n",
       "\n",
       "  tipo_de_violencia_psicologica tipo_de_violencia_sexual  \\\n",
       "0                            Si                       No   \n",
       "1                            Si                       No   \n",
       "2                            Si                       No   \n",
       "3                            Si                       No   \n",
       "4                            Si                       No   \n",
       "\n",
       "  tipo_de_violencia_economica_y_patrimonial tipo_de_violencia_simbolica  \\\n",
       "0                                        No                          No   \n",
       "1                                        No                          No   \n",
       "2                                        No                          No   \n",
       "3                                        No                          No   \n",
       "4                                        No                          No   \n",
       "\n",
       "  tipo_de_violencia_domestica modalidad_de_violencia_institucional  \\\n",
       "0                          Si                                   No   \n",
       "1                          Si                                   No   \n",
       "2                          Si                                   No   \n",
       "3                          Si                                   No   \n",
       "4                          Si                                   No   \n",
       "\n",
       "  modalidad_de_violencia_laboral  \\\n",
       "0                             No   \n",
       "1                             No   \n",
       "2                             No   \n",
       "3                             No   \n",
       "4                             No   \n",
       "\n",
       "  modalidad_violencia_contra_libertad_reproductiva  \\\n",
       "0                                               No   \n",
       "1                                               No   \n",
       "2                                               No   \n",
       "3                                               No   \n",
       "4                                               No   \n",
       "\n",
       "  modalidad_de_violencia_obstetrica modalidad_de_violencia_mediatica  \\\n",
       "0                                No                               No   \n",
       "1                                No                               No   \n",
       "2                                No                               No   \n",
       "3                                No                               No   \n",
       "4                                No                               No   \n",
       "\n",
       "  modalidad_de_violencia_otras vinculo_con_la_persona_agresora  \\\n",
       "0                           No                          Pareja   \n",
       "1                           No                       Ex pareja   \n",
       "2                           No                       Ex pareja   \n",
       "3                           No                          Pareja   \n",
       "4                           No                          Pareja   \n",
       "\n",
       "  genero_de_la_persona_agresora  Unnamed: 19  \n",
       "0                         Varon          NaN  \n",
       "1                         Varon          NaN  \n",
       "2                         Varon          NaN  \n",
       "3                         Varon          NaN  \n",
       "4                         Varon          NaN  "
      ]
     },
     "execution_count": 12,
     "metadata": {},
     "output_type": "execute_result"
    }
   ],
   "source": [
    "linea144 = pd.concat([data144_20, data144_21,data144_22,data144_23])\n",
    "\n",
    "# Almacenar el DataFrame en un archivo CSV en el sistema de archivos local\n",
    "linea144.to_csv(\"linea144.csv\", index=False)\n",
    "linea144.head()"
   ]
  },
  {
   "cell_type": "code",
   "execution_count": 13,
   "id": "d4f25709",
   "metadata": {},
   "outputs": [
    {
     "data": {
      "text/plain": [
       "(89541, 20)"
      ]
     },
     "execution_count": 13,
     "metadata": {},
     "output_type": "execute_result"
    }
   ],
   "source": [
    "linea144.shape"
   ]
  },
  {
   "cell_type": "code",
   "execution_count": 14,
   "id": "9dd53a57",
   "metadata": {},
   "outputs": [
    {
     "name": "stdout",
     "output_type": "stream",
     "text": [
      "<class 'pandas.core.frame.DataFrame'>\n",
      "Index: 89541 entries, 0 to 9975\n",
      "Data columns (total 20 columns):\n",
      " #   Column                                             Non-Null Count  Dtype  \n",
      "---  ------                                             --------------  -----  \n",
      " 0   Fecha                                              89541 non-null  object \n",
      " 1   prov_residencia_persona_en_situacion_violencia     88366 non-null  object \n",
      " 2   genero_persona_en_situacion_de_violencia           87626 non-null  object \n",
      " 3   edad_persona_en_situacion_de_violencia             72253 non-null  float64\n",
      " 4   pais_nacimiento_persona_en_situacion_de_violencia  59250 non-null  object \n",
      " 5   tipo_de_violencia_fisica                           89530 non-null  object \n",
      " 6   tipo_de_violencia_psicologica                      89530 non-null  object \n",
      " 7   tipo_de_violencia_sexual                           89530 non-null  object \n",
      " 8   tipo_de_violencia_economica_y_patrimonial          89530 non-null  object \n",
      " 9   tipo_de_violencia_simbolica                        89530 non-null  object \n",
      " 10  tipo_de_violencia_domestica                        89530 non-null  object \n",
      " 11  modalidad_de_violencia_institucional               89530 non-null  object \n",
      " 12  modalidad_de_violencia_laboral                     89530 non-null  object \n",
      " 13  modalidad_violencia_contra_libertad_reproductiva   89530 non-null  object \n",
      " 14  modalidad_de_violencia_obstetrica                  89530 non-null  object \n",
      " 15  modalidad_de_violencia_mediatica                   89530 non-null  object \n",
      " 16  modalidad_de_violencia_otras                       89530 non-null  object \n",
      " 17  vinculo_con_la_persona_agresora                    86136 non-null  object \n",
      " 18  genero_de_la_persona_agresora                      80318 non-null  object \n",
      " 19  Unnamed: 19                                        0 non-null      float64\n",
      "dtypes: float64(2), object(18)\n",
      "memory usage: 14.3+ MB\n"
     ]
    }
   ],
   "source": [
    "linea144.info()"
   ]
  },
  {
   "cell_type": "markdown",
   "id": "6bfcb6dc",
   "metadata": {},
   "source": [
    "## Trabajamos sobre la linea 137 -  intervenciones-domiciliarias-violencia-familiar"
   ]
  },
  {
   "cell_type": "markdown",
   "id": "300441d7",
   "metadata": {},
   "source": [
    "### Analizamos los valores de cada columna para empezar la normalización de los datos"
   ]
  },
  {
   "cell_type": "code",
   "execution_count": 15,
   "id": "c9937312",
   "metadata": {},
   "outputs": [
    {
     "name": "stdout",
     "output_type": "stream",
     "text": [
      "<class 'pandas.core.frame.DataFrame'>\n",
      "RangeIndex: 3405 entries, 0 to 3404\n",
      "Data columns (total 10 columns):\n",
      " #   Column                    Non-Null Count  Dtype  \n",
      "---  ------                    --------------  -----  \n",
      " 0   caso_id                   3404 non-null   float64\n",
      " 1   intervencion_fecha        3404 non-null   object \n",
      " 2   intervencion_hora         3404 non-null   object \n",
      " 3   victima_embarazo          3404 non-null   object \n",
      " 4   victima_edad              3404 non-null   object \n",
      " 5   victima_genero            3404 non-null   object \n",
      " 6   victima_nacionalidad      3404 non-null   object \n",
      " 7   victima_discapacidad      3404 non-null   object \n",
      " 8   violencia_tipo            3404 non-null   object \n",
      " 9   agresor_relacion_victima  3404 non-null   object \n",
      "dtypes: float64(1), object(9)\n",
      "memory usage: 266.1+ KB\n"
     ]
    }
   ],
   "source": [
    "data137_1.info()"
   ]
  },
  {
   "cell_type": "code",
   "execution_count": 16,
   "id": "88704966",
   "metadata": {},
   "outputs": [
    {
     "data": {
      "text/plain": [
       "array(['NO', 'NS/NC', 'SI', 'No', nan], dtype=object)"
      ]
     },
     "execution_count": 16,
     "metadata": {},
     "output_type": "execute_result"
    }
   ],
   "source": [
    "data137_1['victima_embarazo'].unique()"
   ]
  },
  {
   "cell_type": "code",
   "execution_count": 17,
   "id": "9fb87735",
   "metadata": {},
   "outputs": [
    {
     "data": {
      "text/plain": [
       "array(['NO', 'NS/NC', 'SI'], dtype=object)"
      ]
     },
     "execution_count": 17,
     "metadata": {},
     "output_type": "execute_result"
    }
   ],
   "source": [
    "#Vemos que tenemos No y NO. Tambien datos nan(Not a Number) por NS/NC y luego controlamos\n",
    "data137_1['victima_embarazo'] = data137_1['victima_embarazo'].replace('No', 'NO')\n",
    "data137_1['victima_embarazo'] = data137_1['victima_embarazo'].fillna('NS/NC')\n",
    "data137_1['victima_embarazo'].unique()"
   ]
  },
  {
   "cell_type": "code",
   "execution_count": 18,
   "id": "336ae34d",
   "metadata": {},
   "outputs": [
    {
     "data": {
      "text/plain": [
       "array(['Femenino', 'Masculino', 'NS/NC', 'Transgénero', 'Trans', 'Ns/Nc',\n",
       "       nan], dtype=object)"
      ]
     },
     "execution_count": 18,
     "metadata": {},
     "output_type": "execute_result"
    }
   ],
   "source": [
    "data137_1['victima_genero'].unique()"
   ]
  },
  {
   "cell_type": "code",
   "execution_count": 19,
   "id": "d70520d3",
   "metadata": {},
   "outputs": [
    {
     "data": {
      "text/plain": [
       "array(['Femenino', 'Masculino', 'NS/NC', 'Transgénero'], dtype=object)"
      ]
     },
     "execution_count": 19,
     "metadata": {},
     "output_type": "execute_result"
    }
   ],
   "source": [
    "data137_1['victima_genero'] = data137_1['victima_genero'].replace('Trans', 'Transgénero')\n",
    "data137_1['victima_genero'] = data137_1['victima_genero'].replace('Ns/Nc', 'NS/NC')\n",
    "data137_1['victima_genero'] = data137_1['victima_genero'].fillna('NS/NC')\n",
    "data137_1['victima_genero'].unique()"
   ]
  },
  {
   "cell_type": "code",
   "execution_count": 20,
   "id": "1498740c",
   "metadata": {},
   "outputs": [
    {
     "data": {
      "text/plain": [
       "array(['Otra', 'Argentina', 'Boliviana', 'Brasileña', 'NS/NC',\n",
       "       'Paraguaya', 'Peruana', 'Uruguaya', 'Chilena', '1.- Argentina',\n",
       "       '2.- Paraguaya', '3.- Boliviana', '7.- Otra', '6.- Brasileña',\n",
       "       '4.- Uruguaya', '99.- NS/NC', nan], dtype=object)"
      ]
     },
     "execution_count": 20,
     "metadata": {},
     "output_type": "execute_result"
    }
   ],
   "source": [
    "data137_1['victima_nacionalidad'].unique()"
   ]
  },
  {
   "cell_type": "code",
   "execution_count": 21,
   "id": "c3909a02",
   "metadata": {},
   "outputs": [
    {
     "data": {
      "text/plain": [
       "array(['Otra', 'Argentina', 'Boliviana', 'Brasileña', 'NS/NC',\n",
       "       'Paraguaya', 'Peruana', 'Uruguaya', 'Chilena'], dtype=object)"
      ]
     },
     "execution_count": 21,
     "metadata": {},
     "output_type": "execute_result"
    }
   ],
   "source": [
    "data137_1['victima_nacionalidad'] = data137_1['victima_nacionalidad'].replace('1.- Argentina', 'Argentina')\n",
    "data137_1['victima_nacionalidad'] = data137_1['victima_nacionalidad'].replace('2.- Paraguaya', 'Paraguaya')\n",
    "data137_1['victima_nacionalidad'] = data137_1['victima_nacionalidad'].replace('3.- Boliviana', 'Boliviana')\n",
    "data137_1['victima_nacionalidad'] = data137_1['victima_nacionalidad'].replace('4.- Uruguaya', 'Uruguaya')\n",
    "data137_1['victima_nacionalidad'] = data137_1['victima_nacionalidad'].replace('6.- Brasileña', 'Brasileña')\n",
    "data137_1['victima_nacionalidad'] = data137_1['victima_nacionalidad'].replace('7.- Otra', 'Otra')\n",
    "data137_1['victima_nacionalidad'] = data137_1['victima_nacionalidad'].replace('99.- NS/NC', 'NS/NC')\n",
    "data137_1['victima_nacionalidad'] = data137_1['victima_nacionalidad'].fillna('NS/NC')\n",
    "data137_1['victima_nacionalidad'].unique()"
   ]
  },
  {
   "cell_type": "code",
   "execution_count": 22,
   "id": "ad5a504a",
   "metadata": {},
   "outputs": [
    {
     "data": {
      "text/plain": [
       "array(['NO', 'NS/NC', 'SI', nan], dtype=object)"
      ]
     },
     "execution_count": 22,
     "metadata": {},
     "output_type": "execute_result"
    }
   ],
   "source": [
    "data137_1['victima_discapacidad'].unique()"
   ]
  },
  {
   "cell_type": "code",
   "execution_count": 23,
   "id": "0dd0ed31",
   "metadata": {},
   "outputs": [
    {
     "data": {
      "text/plain": [
       "array(['NO', 'NS/NC', 'SI'], dtype=object)"
      ]
     },
     "execution_count": 23,
     "metadata": {},
     "output_type": "execute_result"
    }
   ],
   "source": [
    "data137_1['victima_discapacidad'] = data137_1['victima_discapacidad'].fillna('NS/NC')\n",
    "data137_1['victima_discapacidad'].unique()"
   ]
  },
  {
   "cell_type": "code",
   "execution_count": 24,
   "id": "8f3a546e",
   "metadata": {},
   "outputs": [
    {
     "data": {
      "text/plain": [
       "array(['Sexual', 'Física', 'Psicológica', 'Económica y física',\n",
       "       'Física, sexual y psicológica',\n",
       "       'Física, sexual, económica y psicológica', 'Física y psicológica',\n",
       "       'Física, económica y psicológica', 'Otras', 'Sexual y económica',\n",
       "       'Física, sexual, psicológica y económica', 'Económica',\n",
       "       'física, sexual, económica y psicológica', 'Física y Sexual',\n",
       "       'No es un caso de violencia Familiar',\n",
       "       'no es un caso de violencia Familiar',\n",
       "       'Explotación Comercial Sexual', 'Física y sexual', 'Otra',\n",
       "       'Sexual, económica y psicológica', nan,\n",
       "       'Económica, física y psicológica'], dtype=object)"
      ]
     },
     "execution_count": 24,
     "metadata": {},
     "output_type": "execute_result"
    }
   ],
   "source": [
    "data137_1['violencia_tipo'].unique()            "
   ]
  },
  {
   "cell_type": "code",
   "execution_count": 25,
   "id": "51c6f2fb",
   "metadata": {},
   "outputs": [
    {
     "data": {
      "text/plain": [
       "array(['Sexual', 'Física', 'Psicológica', 'Económica y física',\n",
       "       'Física, sexual y psicológica',\n",
       "       'Física, sexual, económica y psicológica', 'Física y psicológica',\n",
       "       'Física, económica y psicológica', 'Otra', 'Sexual y económica',\n",
       "       'Económica', 'Física y Sexual',\n",
       "       'No es un caso de violencia Familiar',\n",
       "       'Explotación Comercial Sexual', 'Sexual, económica y psicológica',\n",
       "       'NS/NC'], dtype=object)"
      ]
     },
     "execution_count": 25,
     "metadata": {},
     "output_type": "execute_result"
    }
   ],
   "source": [
    "data137_1['violencia_tipo'] = data137_1['violencia_tipo'].replace('Física, sexual, psicológica y económica', \n",
    "                                                                  'Física, sexual, económica y psicológica')\n",
    "data137_1['violencia_tipo'] = data137_1['violencia_tipo'].replace('física, sexual, económica y psicológica', \n",
    "                                                                  'Física, sexual, económica y psicológica')\n",
    "data137_1['violencia_tipo'] = data137_1['violencia_tipo'].replace('no es un caso de violencia Familiar', \n",
    "                                                                  'No es un caso de violencia Familiar')\n",
    "data137_1['violencia_tipo'] = data137_1['violencia_tipo'].replace('Física y sexual', 'Física y Sexual')\n",
    "data137_1['violencia_tipo'] = data137_1['violencia_tipo'].replace('6.- Brasileña', 'Brasileña')\n",
    "data137_1['violencia_tipo'] = data137_1['violencia_tipo'].replace('Otras', 'Otra')\n",
    "data137_1['violencia_tipo'] = data137_1['violencia_tipo'].replace('Económica, física y psicológica', \n",
    "                                                                  'Física, económica y psicológica')\n",
    "data137_1['violencia_tipo'] = data137_1['violencia_tipo'].fillna('NS/NC')\n",
    "data137_1['violencia_tipo'].unique()"
   ]
  },
  {
   "cell_type": "code",
   "execution_count": 26,
   "id": "4b448c01",
   "metadata": {},
   "outputs": [
    {
     "data": {
      "text/plain": [
       "array(['Pareja', 'Padrastro', 'Abuelo/a', 'Padre', 'Ex pareja',\n",
       "       'Otro conviviente', 'Otro no conviviente', 'Otro/a no conviviente',\n",
       "       'Madre', 'Hija/o', 'Hermano/a', 'NS/NC', 'Hijo/a',\n",
       "       'Otra/o conviviente', 'Hermana/o', 'Ex espos@/pareja',\n",
       "       'Espos@/compañer@ actual', 'Hij@', 'Pareja de la madre/padre',\n",
       "       'Herman@', 'Abuel@', 'Otro/a conviviente', nan], dtype=object)"
      ]
     },
     "execution_count": 26,
     "metadata": {},
     "output_type": "execute_result"
    }
   ],
   "source": [
    "data137_1['agresor_relacion_victima'].unique()  "
   ]
  },
  {
   "cell_type": "code",
   "execution_count": 27,
   "id": "8aca7f40",
   "metadata": {},
   "outputs": [
    {
     "data": {
      "text/plain": [
       "array(['Pareja', 'Padrastro', 'Abuelo/a', 'Padre', 'Ex pareja',\n",
       "       'Otra/o conviviente', 'Otro/a no conviviente', 'Madre', 'Hijo/a',\n",
       "       'Hermano/a', 'NS/NC', 'Pareja de la madre/padre', 'Abuel@'],\n",
       "      dtype=object)"
      ]
     },
     "execution_count": 27,
     "metadata": {},
     "output_type": "execute_result"
    }
   ],
   "source": [
    "data137_1['agresor_relacion_victima'] = data137_1['agresor_relacion_victima'].replace('Otro no conviviente', 'Otro/a no conviviente')\n",
    "data137_1['agresor_relacion_victima'] = data137_1['agresor_relacion_victima'].replace('Otro conviviente', 'Otra/o conviviente')\n",
    "data137_1['agresor_relacion_victima'] = data137_1['agresor_relacion_victima'].replace('Otro/a conviviente', 'Otra/o conviviente')\n",
    "data137_1['agresor_relacion_victima'] = data137_1['agresor_relacion_victima'].replace('Hija/o', 'Hijo/a')\n",
    "data137_1['agresor_relacion_victima'] = data137_1['agresor_relacion_victima'].replace('Hij@', 'Hijo/a')\n",
    "data137_1['agresor_relacion_victima'] = data137_1['agresor_relacion_victima'].replace('Hermana/o', 'Hermano/a')\n",
    "data137_1['agresor_relacion_victima'] = data137_1['agresor_relacion_victima'].replace('Herman@', 'Hermano/a')\n",
    "data137_1['agresor_relacion_victima'] = data137_1['agresor_relacion_victima'].replace('Ex espos@/pareja', 'Ex pareja')\n",
    "data137_1['agresor_relacion_victima'] = data137_1['agresor_relacion_victima'].replace('Espos@/compañer@ actual', 'Pareja')\n",
    "data137_1['agresor_relacion_victima'] = data137_1['agresor_relacion_victima'].fillna('NS/NC')\n",
    "data137_1['agresor_relacion_victima'].unique()"
   ]
  },
  {
   "cell_type": "code",
   "execution_count": 28,
   "id": "b0e697f8",
   "metadata": {},
   "outputs": [
    {
     "data": {
      "text/plain": [
       "array(['70', '18', '15', '14', '24', '49', '5', '16', '35', '23', '4',\n",
       "       '2', '19', '1', '8', '3', '51', '27', '47', '39', '11', '41', '40',\n",
       "       '12', '6', '25', '37', '0', '52', '28', '21', '29', '38', '10',\n",
       "       '50', '7', '34', '13', 'Sin dato', '42', '9', '45', '30', '56',\n",
       "       '68', '20', '31', '17', '63', '46', '22', '78', '26', '44', '91',\n",
       "       '64', '60', '33', '36', '82', '57', '72', '32', '80', '76', '67',\n",
       "       '43', '81', '59', '75', '74', '85', '77', '65', '84', '86', '54',\n",
       "       '61', '87', '62', '79', '83', '53', '92', '58', '73', 'NS/NC',\n",
       "       '88', '48', '55', '66', '97', '999', '69', '89', 'Sin datos', nan],\n",
       "      dtype=object)"
      ]
     },
     "execution_count": 28,
     "metadata": {},
     "output_type": "execute_result"
    }
   ],
   "source": [
    "data137_1['victima_edad'].unique()  "
   ]
  },
  {
   "cell_type": "code",
   "execution_count": 29,
   "id": "0f8396be",
   "metadata": {},
   "outputs": [
    {
     "data": {
      "text/plain": [
       "array(['70', '18', '15', '14', '24', '49', '5', '16', '35', '23', '4',\n",
       "       '2', '19', nan, '8', '3', '51', '27', '47', '39', '11', '41', '40',\n",
       "       '12', '6', '25', '37', '52', '28', '21', '29', '38', '10', '50',\n",
       "       '7', '34', '13', '42', '9', '45', '30', '56', '68', '20', '31',\n",
       "       '17', '63', '46', '22', '78', '26', '44', '91', '64', '60', '33',\n",
       "       '36', '82', '57', '72', '32', '80', '76', '67', '43', '81', '59',\n",
       "       '75', '74', '85', '77', '65', '84', '86', '54', '61', '87', '62',\n",
       "       '79', '83', '53', '92', '58', '73', '88', '48', '55', '66', '97',\n",
       "       '69', '89'], dtype=object)"
      ]
     },
     "execution_count": 29,
     "metadata": {},
     "output_type": "execute_result"
    }
   ],
   "source": [
    "data137_1['victima_edad'] = data137_1['victima_edad'].replace('Sin datos', np.nan)\n",
    "data137_1['victima_edad'] = data137_1['victima_edad'].replace('NS/NC', np.nan)\n",
    "data137_1['victima_edad'] = data137_1['victima_edad'].replace('Sin dato', np.nan)\n",
    "data137_1['victima_edad'] = data137_1['victima_edad'].replace('0', np.nan)\n",
    "data137_1['victima_edad'] = data137_1['victima_edad'].replace('1', np.nan)\n",
    "data137_1['victima_edad'] = data137_1['victima_edad'].replace('999', np.nan)\n",
    "data137_1['victima_edad'].unique()"
   ]
  },
  {
   "cell_type": "code",
   "execution_count": 30,
   "id": "6384676b",
   "metadata": {},
   "outputs": [
    {
     "name": "stdout",
     "output_type": "stream",
     "text": [
      "caso_id                     float64\n",
      "intervencion_fecha           object\n",
      "intervencion_hora            object\n",
      "victima_embarazo             object\n",
      "victima_edad                 object\n",
      "victima_genero               object\n",
      "victima_nacionalidad         object\n",
      "victima_discapacidad         object\n",
      "violencia_tipo               object\n",
      "agresor_relacion_victima     object\n",
      "dtype: object\n"
     ]
    }
   ],
   "source": [
    "print(data137_1.dtypes)"
   ]
  },
  {
   "cell_type": "code",
   "execution_count": 31,
   "id": "4b4cce69",
   "metadata": {},
   "outputs": [],
   "source": [
    "data137_1['intervencion_fecha'] = pd.to_datetime(data137_1['intervencion_fecha'])\n",
    "data137_1['victima_embarazo']  = data137_1['victima_embarazo'].astype(str)\n",
    "data137_1['victima_genero']  = data137_1['victima_genero'].astype(str)\n",
    "data137_1['victima_nacionalidad']  = data137_1['victima_nacionalidad'].astype(str)\n",
    "data137_1['victima_discapacidad']  = data137_1['victima_discapacidad'].astype(str)\n",
    "data137_1['violencia_tipo']  = data137_1['violencia_tipo'].astype(str)\n",
    "data137_1['agresor_relacion_victima']  = data137_1['agresor_relacion_victima'].astype(str)"
   ]
  },
  {
   "cell_type": "code",
   "execution_count": 32,
   "id": "9ecac295",
   "metadata": {},
   "outputs": [
    {
     "name": "stdout",
     "output_type": "stream",
     "text": [
      "caso_id                            float64\n",
      "intervencion_fecha          datetime64[ns]\n",
      "intervencion_hora                   object\n",
      "victima_embarazo                    object\n",
      "victima_edad                        object\n",
      "victima_genero                      object\n",
      "victima_nacionalidad                object\n",
      "victima_discapacidad                object\n",
      "violencia_tipo                      object\n",
      "agresor_relacion_victima            object\n",
      "dtype: object\n"
     ]
    }
   ],
   "source": [
    "print(data137_1.dtypes)"
   ]
  },
  {
   "cell_type": "markdown",
   "id": "b82835e7",
   "metadata": {},
   "source": [
    "## Trabajamos sobre la linea 137 -  llamados-atendidos-violencia-familiar\n"
   ]
  },
  {
   "cell_type": "code",
   "execution_count": 33,
   "id": "536c4158",
   "metadata": {},
   "outputs": [
    {
     "name": "stdout",
     "output_type": "stream",
     "text": [
      "<class 'pandas.core.frame.DataFrame'>\n",
      "RangeIndex: 59534 entries, 0 to 59533\n",
      "Data columns (total 17 columns):\n",
      " #   Column                             Non-Null Count  Dtype  \n",
      "---  ------                             --------------  -----  \n",
      " 0   caso_id                            59533 non-null  float64\n",
      " 1   llamante_descripcion               59534 non-null  object \n",
      " 2   llamante_genero                    59534 non-null  object \n",
      " 3   llamante_vinculo_ninios_presentes  59534 non-null  object \n",
      " 4   violencia_tipo                     59514 non-null  object \n",
      " 5   victima_edad                       59534 non-null  object \n",
      " 6   victima_rango_etario               59534 non-null  object \n",
      " 7   victima_genero                     59534 non-null  object \n",
      " 8   victima_cantidad                   59534 non-null  int64  \n",
      " 9   agresor_cantidad                   59534 non-null  int64  \n",
      " 10  agresor_genero                     59534 non-null  object \n",
      " 11  agresor_relacion_victima           59534 non-null  object \n",
      " 12  llamado_derivacion                 59534 non-null  object \n",
      " 13  llamado_fecha                      59534 non-null  object \n",
      " 14  llamado_hora                       59534 non-null  object \n",
      " 15  llamado_provincia                  22947 non-null  object \n",
      " 16  llamado_provincia_id               0 non-null      float64\n",
      "dtypes: float64(2), int64(2), object(13)\n",
      "memory usage: 7.7+ MB\n"
     ]
    }
   ],
   "source": [
    "data137_2.info()"
   ]
  },
  {
   "cell_type": "code",
   "execution_count": 34,
   "id": "9f0bc051",
   "metadata": {},
   "outputs": [],
   "source": [
    "data137_2 = data137_2.drop(columns=['llamado_provincia_id'])"
   ]
  },
  {
   "cell_type": "code",
   "execution_count": 35,
   "id": "a8d58fd0",
   "metadata": {},
   "outputs": [],
   "source": [
    " data137_2 = data137_2.drop(columns=['victima_rango_etario'])"
   ]
  },
  {
   "cell_type": "code",
   "execution_count": 36,
   "id": "9bb1e248",
   "metadata": {},
   "outputs": [
    {
     "name": "stdout",
     "output_type": "stream",
     "text": [
      "<class 'pandas.core.frame.DataFrame'>\n",
      "RangeIndex: 59534 entries, 0 to 59533\n",
      "Data columns (total 15 columns):\n",
      " #   Column                             Non-Null Count  Dtype  \n",
      "---  ------                             --------------  -----  \n",
      " 0   caso_id                            59533 non-null  float64\n",
      " 1   llamante_descripcion               59534 non-null  object \n",
      " 2   llamante_genero                    59534 non-null  object \n",
      " 3   llamante_vinculo_ninios_presentes  59534 non-null  object \n",
      " 4   violencia_tipo                     59514 non-null  object \n",
      " 5   victima_edad                       59534 non-null  object \n",
      " 6   victima_genero                     59534 non-null  object \n",
      " 7   victima_cantidad                   59534 non-null  int64  \n",
      " 8   agresor_cantidad                   59534 non-null  int64  \n",
      " 9   agresor_genero                     59534 non-null  object \n",
      " 10  agresor_relacion_victima           59534 non-null  object \n",
      " 11  llamado_derivacion                 59534 non-null  object \n",
      " 12  llamado_fecha                      59534 non-null  object \n",
      " 13  llamado_hora                       59534 non-null  object \n",
      " 14  llamado_provincia                  22947 non-null  object \n",
      "dtypes: float64(1), int64(2), object(12)\n",
      "memory usage: 6.8+ MB\n"
     ]
    }
   ],
   "source": [
    "data137_2.info()"
   ]
  },
  {
   "cell_type": "code",
   "execution_count": 37,
   "id": "4436aba7",
   "metadata": {},
   "outputs": [
    {
     "data": {
      "text/plain": [
       "array(['Comisaría', 'Otro/a particular', 'Víctima',\n",
       "       'Otra/o sobre una situación de conflicto familiar',\n",
       "       'Profesionales de la Línea 137', 'Familiar', 'Otra institución',\n",
       "       'Vecina/o', 'Hospital', 'Agresor/a', 'Otro/a', 'NS/NC',\n",
       "       'Defensoría', 'Otra Institución'], dtype=object)"
      ]
     },
     "execution_count": 37,
     "metadata": {},
     "output_type": "execute_result"
    }
   ],
   "source": [
    "data137_2['llamante_descripcion'].unique()  "
   ]
  },
  {
   "cell_type": "code",
   "execution_count": 38,
   "id": "38216a32",
   "metadata": {},
   "outputs": [
    {
     "data": {
      "text/plain": [
       "array(['Comisaría', 'Particular', 'Víctima', 'Otro/a',\n",
       "       'Profesionales de la Línea 137', 'Familiar', 'Vecina/o',\n",
       "       'Hospital', 'Agresor/a', 'NS/NC', 'Defensoría'], dtype=object)"
      ]
     },
     "execution_count": 38,
     "metadata": {},
     "output_type": "execute_result"
    }
   ],
   "source": [
    "data137_2['llamante_descripcion'] = data137_2['llamante_descripcion'].replace('Otro/a particular', 'Particular')\n",
    "data137_2['llamante_descripcion'] = data137_2['llamante_descripcion'].replace('Otra institución', 'Otro/a')\n",
    "data137_2['llamante_descripcion'] = data137_2['llamante_descripcion'].replace('Otra Institución', 'Otro/a')\n",
    "data137_2['llamante_descripcion'] = data137_2['llamante_descripcion'].replace('Otra/o sobre una situación de conflicto familiar', 'Otro/a')\n",
    "data137_2['llamante_descripcion'].unique()"
   ]
  },
  {
   "cell_type": "code",
   "execution_count": 39,
   "id": "89b41d74",
   "metadata": {},
   "outputs": [
    {
     "data": {
      "text/plain": [
       "array(['Femenino', 'NS/NC', 'Masculino', 'Transgénero'], dtype=object)"
      ]
     },
     "execution_count": 39,
     "metadata": {},
     "output_type": "execute_result"
    }
   ],
   "source": [
    "data137_2['llamante_genero'].unique()  "
   ]
  },
  {
   "cell_type": "code",
   "execution_count": 40,
   "id": "6a54989f",
   "metadata": {},
   "outputs": [
    {
     "data": {
      "text/plain": [
       "array(['No hay niñas/os', 'Otra/o no familiar', 'Otra/o familiar',\n",
       "       'Sin datos', 'Padre', 'Madre', 'Otro/a no familiar', 'NS/NC',\n",
       "       'Otro familiar', 'Hermana/o', 'Hermano/a', 'Padrastro'],\n",
       "      dtype=object)"
      ]
     },
     "execution_count": 40,
     "metadata": {},
     "output_type": "execute_result"
    }
   ],
   "source": [
    "data137_2['llamante_vinculo_ninios_presentes'].unique()  "
   ]
  },
  {
   "cell_type": "code",
   "execution_count": 41,
   "id": "8dea4ef6",
   "metadata": {},
   "outputs": [
    {
     "data": {
      "text/plain": [
       "array(['No hay niñas/os', 'Otro/a no familiar', 'Otra/o familiar',\n",
       "       'NS/NC', 'Padre', 'Madre', 'Hermano/a', 'Padrastro'], dtype=object)"
      ]
     },
     "execution_count": 41,
     "metadata": {},
     "output_type": "execute_result"
    }
   ],
   "source": [
    "data137_2['llamante_vinculo_ninios_presentes'] = data137_2['llamante_vinculo_ninios_presentes'].replace('Otra/o no familiar', 'Otro/a no familiar')\n",
    "data137_2['llamante_vinculo_ninios_presentes'] = data137_2['llamante_vinculo_ninios_presentes'].replace('Otro familiar', 'Otro/a no familiar')\n",
    "data137_2['llamante_vinculo_ninios_presentes'] = data137_2['llamante_vinculo_ninios_presentes'].replace('Hermana/o', 'Hermano/a')\n",
    "data137_2['llamante_vinculo_ninios_presentes'] = data137_2['llamante_vinculo_ninios_presentes'].replace('Sin datos', 'NS/NC')\n",
    "data137_2['llamante_vinculo_ninios_presentes'].unique()"
   ]
  },
  {
   "cell_type": "code",
   "execution_count": 42,
   "id": "9cd19197",
   "metadata": {},
   "outputs": [
    {
     "data": {
      "text/plain": [
       "array(['Física y psicológica', 'Psicológica', 'No aplica',\n",
       "       'Económica, física y psicológica', 'Otras',\n",
       "       'Económica y psicológica', 'Sexual y psicológica',\n",
       "       'Sexual, económica y psicológica',\n",
       "       'No es un caso de Violencia Familiar',\n",
       "       'Económica, Física y psicológica', 'Física, sexual y psicológica',\n",
       "       nan, 'Física, psicológica y económica', 'No Aplica',\n",
       "       'Física, sexual, psicológica y económica', 'Trata'], dtype=object)"
      ]
     },
     "execution_count": 42,
     "metadata": {},
     "output_type": "execute_result"
    }
   ],
   "source": [
    "data137_2['violencia_tipo'].unique()  "
   ]
  },
  {
   "cell_type": "code",
   "execution_count": 43,
   "id": "89a45c3d",
   "metadata": {},
   "outputs": [
    {
     "data": {
      "text/plain": [
       "array(['Física y psicológica', 'Psicológica', 'No Aplica',\n",
       "       'Económica, Física y psicológica', 'Otras',\n",
       "       'Económica y psicológica', 'Sexual y psicológica',\n",
       "       'Sexual, económica y psicológica',\n",
       "       'No es un caso de Violencia Familiar',\n",
       "       'Física, sexual y psicológica',\n",
       "       'Física, sexual, psicológica y económica', 'Trata'], dtype=object)"
      ]
     },
     "execution_count": 43,
     "metadata": {},
     "output_type": "execute_result"
    }
   ],
   "source": [
    "data137_2['violencia_tipo'] = data137_2['violencia_tipo'].replace('No aplica', 'No Aplica')\n",
    "data137_2['violencia_tipo'] = data137_2['violencia_tipo'].replace('Económica, física y psicológica', 'Económica, Física y psicológica')\n",
    "data137_2['violencia_tipo'] = data137_2['violencia_tipo'].replace('Física, psicológica y económica', 'Económica, Física y psicológica')\n",
    "data137_2['violencia_tipo'] = data137_2['violencia_tipo'].fillna('Otras')\n",
    "data137_2['violencia_tipo'].unique()"
   ]
  },
  {
   "cell_type": "code",
   "execution_count": 44,
   "id": "ac55bada",
   "metadata": {},
   "outputs": [
    {
     "data": {
      "text/plain": [
       "array(['Femenino', 'Masculino', 'NS/NC', 'Transgénero'], dtype=object)"
      ]
     },
     "execution_count": 44,
     "metadata": {},
     "output_type": "execute_result"
    }
   ],
   "source": [
    "data137_2['agresor_genero'].unique()  "
   ]
  },
  {
   "cell_type": "code",
   "execution_count": 45,
   "id": "78c46a32",
   "metadata": {},
   "outputs": [
    {
     "data": {
      "text/plain": [
       "array(['Madre', 'Pareja', 'Hermano/a', 'NS/NC', 'Ex pareja', 'Hijo/a',\n",
       "       'Otro/a no conviviente', 'Padre', 'Otro/a conviviente',\n",
       "       'Padrastro', 'Abuelo/a', 'Hermana/o', 'Madrastra', 'padre'],\n",
       "      dtype=object)"
      ]
     },
     "execution_count": 45,
     "metadata": {},
     "output_type": "execute_result"
    }
   ],
   "source": [
    "data137_2['agresor_relacion_victima'].unique()            "
   ]
  },
  {
   "cell_type": "code",
   "execution_count": 46,
   "id": "d7bc8268",
   "metadata": {},
   "outputs": [
    {
     "data": {
      "text/plain": [
       "array(['Madre', 'Pareja', 'Hermano/a', 'NS/NC', 'Ex pareja', 'Hijo/a',\n",
       "       'Otro/a no conviviente', 'Padre', 'Otro/a conviviente',\n",
       "       'Padrastro', 'Abuelo/a', 'Hermana/o', 'Madrastra'], dtype=object)"
      ]
     },
     "execution_count": 46,
     "metadata": {},
     "output_type": "execute_result"
    }
   ],
   "source": [
    "data137_2['agresor_relacion_victima'] = data137_2['agresor_relacion_victima'].replace('padre', 'Padre')\n",
    "data137_2['agresor_relacion_victima'].unique()"
   ]
  },
  {
   "cell_type": "code",
   "execution_count": 47,
   "id": "75fcb57d",
   "metadata": {},
   "outputs": [
    {
     "data": {
      "text/plain": [
       "array(['La víctima no aceptó la intervención del Equipo Móvil',\n",
       "       'Está interviniendo o se deriva a otra institución',\n",
       "       'Llamante solicitó información y/o orientación',\n",
       "       'Se trata de un conflicto familiar',\n",
       "       'Comunicación con Equipos Móviles',\n",
       "       'Desplazamiento de un Equipo Móvil a donde se encontraba la/s víctima/s',\n",
       "       'No había móviles y/o Equipos para realizar la intervención',\n",
       "       'No se desplazó un Equipo móvil por tratarse de un caso fuera de CABA',\n",
       "       'Se planificó intervención para otro momento',\n",
       "       'Comunicación con los Equipos Móviles', 'Otras',\n",
       "       'Desplazamiento de un equipo movil a donde se encontraba la víctima'],\n",
       "      dtype=object)"
      ]
     },
     "execution_count": 47,
     "metadata": {},
     "output_type": "execute_result"
    }
   ],
   "source": [
    "data137_2['llamado_derivacion'].unique()  "
   ]
  },
  {
   "cell_type": "code",
   "execution_count": 48,
   "id": "a3e8fc62",
   "metadata": {},
   "outputs": [
    {
     "data": {
      "text/plain": [
       "array(['La víctima no aceptó la intervención del Equipo Móvil',\n",
       "       'Está interviniendo o se deriva a otra institución',\n",
       "       'Llamante solicitó información y/o orientación',\n",
       "       'Se trata de un conflicto familiar',\n",
       "       'Comunicación con los Equipos Móviles',\n",
       "       'Desplazamiento de un equipo movil a donde se encontraba la víctima',\n",
       "       'No había móviles y/o Equipos para realizar la intervención',\n",
       "       'No se desplazó un Equipo móvil por tratarse de un caso fuera de CABA',\n",
       "       'Se planificó intervención para otro momento', 'Otras'],\n",
       "      dtype=object)"
      ]
     },
     "execution_count": 48,
     "metadata": {},
     "output_type": "execute_result"
    }
   ],
   "source": [
    "data137_2['llamado_derivacion'] = data137_2['llamado_derivacion'].replace('Desplazamiento de un Equipo Móvil a donde se encontraba la/s víctima/s', 'Desplazamiento de un equipo movil a donde se encontraba la víctima')\n",
    "data137_2['llamado_derivacion'] = data137_2['llamado_derivacion'].replace('Comunicación con Equipos Móviles', 'Comunicación con los Equipos Móviles')\n",
    "data137_2['llamado_derivacion'].unique()"
   ]
  },
  {
   "cell_type": "code",
   "execution_count": 49,
   "id": "28a706de",
   "metadata": {},
   "outputs": [
    {
     "data": {
      "text/plain": [
       "array([nan, 'Metropolitana', 'NEA', 'Pampeana', 'NOA', 'Cuyo', 'PAMPEANA',\n",
       "       'Patagonia', 'Sin dato', 'NS/NC', 'Ns/Nc'], dtype=object)"
      ]
     },
     "execution_count": 49,
     "metadata": {},
     "output_type": "execute_result"
    }
   ],
   "source": [
    "data137_2['llamado_provincia'].unique()"
   ]
  },
  {
   "cell_type": "code",
   "execution_count": 50,
   "id": "d1bd644b",
   "metadata": {},
   "outputs": [
    {
     "data": {
      "text/plain": [
       "array(['NS/NC', 'Metropolitana', 'NEA', 'Pampeana', 'NOA', 'Cuyo',\n",
       "       'Patagonia'], dtype=object)"
      ]
     },
     "execution_count": 50,
     "metadata": {},
     "output_type": "execute_result"
    }
   ],
   "source": [
    "data137_2['llamado_provincia'] = data137_2['llamado_provincia'].replace('PAMPEANA', 'Pampeana')\n",
    "data137_2['llamado_provincia'] = data137_2['llamado_provincia'].replace('Ns/Nc', 'NS/NC')\n",
    "data137_2['llamado_provincia'] = data137_2['llamado_provincia'].replace('Sin dato', 'NS/NC')\n",
    "data137_2['llamado_provincia'] = data137_2['llamado_provincia'].fillna('NS/NC')\n",
    "data137_2['llamado_provincia'].unique()"
   ]
  },
  {
   "cell_type": "code",
   "execution_count": 51,
   "id": "2355a876",
   "metadata": {},
   "outputs": [
    {
     "data": {
      "text/plain": [
       "array(['23', '18', nan, '27', '35', '25', '42', '53', '38', '31', '60',\n",
       "       '28', '77', '37', '36', '24', '22', '30', '41', '40', '26', '4',\n",
       "       '50', '11', '32', '20', '33', '5', '55', '34', '7', '43', '48',\n",
       "       '63', '46', '44', '54', '81', '16', '64', '21', '56', '47', '68',\n",
       "       '58', '19', '52', '45', '39', '67', '86', '29', '62', '13', '10',\n",
       "       '49', '65', '2', '3', '76', '17', '6', '8', '9', '88', '87', '57',\n",
       "       '84', '51', '59', '69', '73', '85', '14', '74', '83', '61', '15',\n",
       "       '91', '80', '96', '75', '70', '12', '82', '66', '72', '78', '71',\n",
       "       '90', '93', '94', '79', '89', '92', '95', '97', '98', '99'],\n",
       "      dtype=object)"
      ]
     },
     "execution_count": 51,
     "metadata": {},
     "output_type": "execute_result"
    }
   ],
   "source": [
    "data137_2['victima_edad'] = data137_2['victima_edad'].replace('Sin dato', np.nan)\n",
    "data137_2['victima_edad'] = data137_2['victima_edad'].replace('0', np.nan)\n",
    "data137_2['victima_edad'] = data137_2['victima_edad'].replace('1', np.nan)\n",
    "data137_2['victima_edad'] = data137_2['victima_edad'].replace('100', np.nan)\n",
    "\n",
    "data137_2['victima_edad'] = data137_2['victima_edad'].replace('101', np.nan)\n",
    "\n",
    "data137_2['victima_edad'] = data137_2['victima_edad'].replace('103', np.nan)\n",
    "\n",
    "data137_2['victima_edad'] = data137_2['victima_edad'].replace('104', np.nan)\n",
    "data137_2['victima_edad'].unique()"
   ]
  },
  {
   "cell_type": "markdown",
   "id": "1497c333",
   "metadata": {},
   "source": [
    "## Trabajamos sobre la linea 144"
   ]
  },
  {
   "cell_type": "code",
   "execution_count": 52,
   "id": "b35f19b6",
   "metadata": {},
   "outputs": [
    {
     "name": "stdout",
     "output_type": "stream",
     "text": [
      "<class 'pandas.core.frame.DataFrame'>\n",
      "Index: 89541 entries, 0 to 9975\n",
      "Data columns (total 20 columns):\n",
      " #   Column                                             Non-Null Count  Dtype  \n",
      "---  ------                                             --------------  -----  \n",
      " 0   Fecha                                              89541 non-null  object \n",
      " 1   prov_residencia_persona_en_situacion_violencia     88366 non-null  object \n",
      " 2   genero_persona_en_situacion_de_violencia           87626 non-null  object \n",
      " 3   edad_persona_en_situacion_de_violencia             72253 non-null  float64\n",
      " 4   pais_nacimiento_persona_en_situacion_de_violencia  59250 non-null  object \n",
      " 5   tipo_de_violencia_fisica                           89530 non-null  object \n",
      " 6   tipo_de_violencia_psicologica                      89530 non-null  object \n",
      " 7   tipo_de_violencia_sexual                           89530 non-null  object \n",
      " 8   tipo_de_violencia_economica_y_patrimonial          89530 non-null  object \n",
      " 9   tipo_de_violencia_simbolica                        89530 non-null  object \n",
      " 10  tipo_de_violencia_domestica                        89530 non-null  object \n",
      " 11  modalidad_de_violencia_institucional               89530 non-null  object \n",
      " 12  modalidad_de_violencia_laboral                     89530 non-null  object \n",
      " 13  modalidad_violencia_contra_libertad_reproductiva   89530 non-null  object \n",
      " 14  modalidad_de_violencia_obstetrica                  89530 non-null  object \n",
      " 15  modalidad_de_violencia_mediatica                   89530 non-null  object \n",
      " 16  modalidad_de_violencia_otras                       89530 non-null  object \n",
      " 17  vinculo_con_la_persona_agresora                    86136 non-null  object \n",
      " 18  genero_de_la_persona_agresora                      80318 non-null  object \n",
      " 19  Unnamed: 19                                        0 non-null      float64\n",
      "dtypes: float64(2), object(18)\n",
      "memory usage: 14.3+ MB\n"
     ]
    }
   ],
   "source": [
    "linea144.info()"
   ]
  },
  {
   "cell_type": "code",
   "execution_count": 53,
   "id": "f35f68ab",
   "metadata": {},
   "outputs": [
    {
     "data": {
      "text/plain": [
       "array(['Tucumán', 'Buenos Aires', 'Santiago Del Estero', 'Santa Fe',\n",
       "       'San Juan', 'Catamarca', 'Neuquén', 'Mendoza', 'Córdoba',\n",
       "       'Río Negro', 'Ciudad Autónoma de Buenos Aires', 'Salta',\n",
       "       'Entre Ríos', 'Jujuy', 'Chaco', 'Chubut', 'San Luis', 'La Pampa',\n",
       "       'Misiones', 'Formosa',\n",
       "       'Tierra del Fuego, Antártida e Islas del Atlántico Sur', nan,\n",
       "       'Corrientes', 'Santa Cruz', 'La Rioja', 'Santiago del Estero',\n",
       "       'Cordoba', 'Sin datos', 'Tierra del Fuego', 'Sin Datos'],\n",
       "      dtype=object)"
      ]
     },
     "execution_count": 53,
     "metadata": {},
     "output_type": "execute_result"
    }
   ],
   "source": [
    "linea144['prov_residencia_persona_en_situacion_violencia'].unique()  "
   ]
  },
  {
   "cell_type": "code",
   "execution_count": 54,
   "id": "e582ce96",
   "metadata": {},
   "outputs": [
    {
     "data": {
      "text/plain": [
       "array(['Tucumán', 'Buenos Aires', 'Santiago Del Estero', 'Santa Fe',\n",
       "       'San Juan', 'Catamarca', 'Neuquén', 'Mendoza', 'Córdoba',\n",
       "       'Río Negro', 'Ciudad Autónoma de Buenos Aires', 'Salta',\n",
       "       'Entre Ríos', 'Jujuy', 'Chaco', 'Chubut', 'San Luis', 'La Pampa',\n",
       "       'Misiones', 'Formosa', 'Tierra del Fuego', 'Sin Datos',\n",
       "       'Corrientes', 'Santa Cruz', 'La Rioja'], dtype=object)"
      ]
     },
     "execution_count": 54,
     "metadata": {},
     "output_type": "execute_result"
    }
   ],
   "source": [
    "linea144['prov_residencia_persona_en_situacion_violencia'] = linea144['prov_residencia_persona_en_situacion_violencia'].replace('Tierra del Fuego, Antártida e Islas del Atlántico Sur', 'Tierra del Fuego')\n",
    "linea144['prov_residencia_persona_en_situacion_violencia'] = linea144['prov_residencia_persona_en_situacion_violencia'].replace('Sin datos', 'Sin Datos')\n",
    "linea144['prov_residencia_persona_en_situacion_violencia'] = linea144['prov_residencia_persona_en_situacion_violencia'].replace('Cordoba', 'Córdoba')\n",
    "linea144['prov_residencia_persona_en_situacion_violencia'] = linea144['prov_residencia_persona_en_situacion_violencia'].replace('Santiago del Estero', 'Santiago Del Estero')\n",
    "linea144['prov_residencia_persona_en_situacion_violencia'] = linea144['prov_residencia_persona_en_situacion_violencia'].fillna('Sin Datos')\n",
    "linea144['prov_residencia_persona_en_situacion_violencia'].unique()  "
   ]
  },
  {
   "cell_type": "code",
   "execution_count": 55,
   "id": "f523b9ef",
   "metadata": {},
   "outputs": [
    {
     "data": {
      "text/plain": [
       "array(['Mujer', nan, 'Varon', 'Mujer Trans', 'Transgenero', 'Otro',\n",
       "       'Intersexual', 'Varón Trans', 'Travesti', 'Queer', 'Varon Trans',\n",
       "       'Varon trans', 'No Binarie', 'Transgénero'], dtype=object)"
      ]
     },
     "execution_count": 55,
     "metadata": {},
     "output_type": "execute_result"
    }
   ],
   "source": [
    "linea144['genero_persona_en_situacion_de_violencia'].unique()  "
   ]
  },
  {
   "cell_type": "code",
   "execution_count": 56,
   "id": "41785012",
   "metadata": {},
   "outputs": [
    {
     "data": {
      "text/plain": [
       "array(['Femenino', 'Otro', 'Masculino', 'Transgénero', 'Travesti',\n",
       "       'Varon Trans'], dtype=object)"
      ]
     },
     "execution_count": 56,
     "metadata": {},
     "output_type": "execute_result"
    }
   ],
   "source": [
    "linea144['genero_persona_en_situacion_de_violencia'] = linea144['genero_persona_en_situacion_de_violencia'].replace('Mujer', 'Femenino')\n",
    "linea144['genero_persona_en_situacion_de_violencia'] = linea144['genero_persona_en_situacion_de_violencia'].replace('Varon', 'Masculino')\n",
    "linea144['genero_persona_en_situacion_de_violencia'] = linea144['genero_persona_en_situacion_de_violencia'].replace('Transgenero', 'Transgénero')\n",
    "linea144['genero_persona_en_situacion_de_violencia'] = linea144['genero_persona_en_situacion_de_violencia'].replace('Mujer Trans', 'Transgénero')\n",
    "linea144['genero_persona_en_situacion_de_violencia'] = linea144['genero_persona_en_situacion_de_violencia'].replace('Varón Trans', 'Transgénero')\n",
    "linea144['genero_persona_en_situacion_de_violencia'] = linea144['genero_persona_en_situacion_de_violencia'].replace('Varon trans', 'Transgénero')\n",
    "linea144['genero_persona_en_situacion_de_violencia'] = linea144['genero_persona_en_situacion_de_violencia'].replace('Intersexual', 'Otro')\n",
    "linea144['genero_persona_en_situacion_de_violencia'] = linea144['genero_persona_en_situacion_de_violencia'].replace('Queer', 'Otro')\n",
    "linea144['genero_persona_en_situacion_de_violencia'] = linea144['genero_persona_en_situacion_de_violencia'].replace('No Binarie', 'Otro')\n",
    "linea144['genero_persona_en_situacion_de_violencia'] = linea144['genero_persona_en_situacion_de_violencia'].fillna('Otro')\n",
    "linea144['genero_persona_en_situacion_de_violencia'].unique()  "
   ]
  },
  {
   "cell_type": "code",
   "execution_count": 57,
   "id": "75712288",
   "metadata": {},
   "outputs": [
    {
     "data": {
      "text/plain": [
       "array([nan, 'Argentina', 'Paraguaya', 'Boliviana', 'Venezolana',\n",
       "       'Dominicana', 'Peruana', 'Colombiana', 'Uruguaya', 'Brasileña',\n",
       "       'Chilena', 'Otra', 'Ecuatoriana', 'Estadounidense', 'Cubana',\n",
       "       'Armenia', 'Japonesa', 'Salvadoreña', 'Española', 'Mexicana',\n",
       "       'Alemana', 'Israelí', 'ARMENIA', 'Rusa', 'Belga', 'Arabe',\n",
       "       'peruana', 'Vietnamita', 'Libano', 'Francesa', 'Ucraniana',\n",
       "       'Griega', 'Australiana', 'Italiana', 'Nicaragüense', 'Panameña',\n",
       "       'Turca', 'Costarricense', 'Guatemalteca', 'Otro', 'Palestina',\n",
       "       'ARABE', 'Canadiense', 'Letona', 'Lituania'], dtype=object)"
      ]
     },
     "execution_count": 57,
     "metadata": {},
     "output_type": "execute_result"
    }
   ],
   "source": [
    "linea144['pais_nacimiento_persona_en_situacion_de_violencia'].unique()  "
   ]
  },
  {
   "cell_type": "code",
   "execution_count": 58,
   "id": "facf3d3b",
   "metadata": {},
   "outputs": [
    {
     "data": {
      "text/plain": [
       "array(['Otra', 'Argentina', 'Paraguaya', 'Boliviana', 'Venezolana',\n",
       "       'Dominicana', 'Peruana', 'Colombiana', 'Uruguaya', 'Brasileña',\n",
       "       'Chilena', 'Ecuatoriana', 'Estadounidense', 'Cubana', 'Armenia',\n",
       "       'Japonesa', 'Salvadoreña', 'Española', 'Mexicana', 'Alemana',\n",
       "       'Israelí', 'ARMENIA', 'Rusa', 'Belga', 'Arabe', 'peruana',\n",
       "       'Vietnamita', 'Libano', 'Francesa', 'Ucraniana', 'Griega',\n",
       "       'Australiana', 'Italiana', 'Nicaragüense', 'Panameña', 'Turca',\n",
       "       'Costarricense', 'Guatemalteca', 'Palestina', 'ARABE',\n",
       "       'Canadiense', 'Letona', 'Lituania'], dtype=object)"
      ]
     },
     "execution_count": 58,
     "metadata": {},
     "output_type": "execute_result"
    }
   ],
   "source": [
    "linea144['pais_nacimiento_persona_en_situacion_de_violencia'] = linea144['pais_nacimiento_persona_en_situacion_de_violencia'].replace('Otro', 'Otra')\n",
    "linea144['pais_nacimiento_persona_en_situacion_de_violencia'] = linea144['pais_nacimiento_persona_en_situacion_de_violencia'].fillna('Otra')\n",
    "linea144['pais_nacimiento_persona_en_situacion_de_violencia'].unique() "
   ]
  },
  {
   "cell_type": "code",
   "execution_count": 59,
   "id": "1c161fd5",
   "metadata": {},
   "outputs": [
    {
     "data": {
      "text/plain": [
       "array(['Si', 'No', nan], dtype=object)"
      ]
     },
     "execution_count": 59,
     "metadata": {},
     "output_type": "execute_result"
    }
   ],
   "source": [
    "linea144['tipo_de_violencia_fisica'].unique()  "
   ]
  },
  {
   "cell_type": "code",
   "execution_count": 60,
   "id": "3935788b",
   "metadata": {},
   "outputs": [
    {
     "data": {
      "text/plain": [
       "array(['Si', 'No', nan], dtype=object)"
      ]
     },
     "execution_count": 60,
     "metadata": {},
     "output_type": "execute_result"
    }
   ],
   "source": [
    "linea144['tipo_de_violencia_psicologica'].unique()  "
   ]
  },
  {
   "cell_type": "code",
   "execution_count": 61,
   "id": "254b1449",
   "metadata": {},
   "outputs": [
    {
     "data": {
      "text/plain": [
       "array(['No', 'Si', 'SI', nan], dtype=object)"
      ]
     },
     "execution_count": 61,
     "metadata": {},
     "output_type": "execute_result"
    }
   ],
   "source": [
    "linea144['tipo_de_violencia_sexual'].unique() "
   ]
  },
  {
   "cell_type": "code",
   "execution_count": 62,
   "id": "81e2d3dc",
   "metadata": {},
   "outputs": [
    {
     "data": {
      "text/plain": [
       "array(['No', 'Si', nan], dtype=object)"
      ]
     },
     "execution_count": 62,
     "metadata": {},
     "output_type": "execute_result"
    }
   ],
   "source": [
    "linea144['tipo_de_violencia_sexual'] = linea144['tipo_de_violencia_sexual'].replace('SI', 'Si')\n",
    "linea144['tipo_de_violencia_sexual'].unique() "
   ]
  },
  {
   "cell_type": "code",
   "execution_count": 63,
   "id": "27b95492",
   "metadata": {},
   "outputs": [
    {
     "data": {
      "text/plain": [
       "array(['No', 'Si', nan], dtype=object)"
      ]
     },
     "execution_count": 63,
     "metadata": {},
     "output_type": "execute_result"
    }
   ],
   "source": [
    "linea144['tipo_de_violencia_economica_y_patrimonial'].unique()           "
   ]
  },
  {
   "cell_type": "code",
   "execution_count": 64,
   "id": "6825965d",
   "metadata": {},
   "outputs": [
    {
     "data": {
      "text/plain": [
       "array(['No', 'Si', 'SI', nan], dtype=object)"
      ]
     },
     "execution_count": 64,
     "metadata": {},
     "output_type": "execute_result"
    }
   ],
   "source": [
    "linea144['tipo_de_violencia_simbolica'].unique()           "
   ]
  },
  {
   "cell_type": "code",
   "execution_count": 65,
   "id": "574950f0",
   "metadata": {},
   "outputs": [
    {
     "data": {
      "text/plain": [
       "array(['No', 'Si', nan], dtype=object)"
      ]
     },
     "execution_count": 65,
     "metadata": {},
     "output_type": "execute_result"
    }
   ],
   "source": [
    "linea144['tipo_de_violencia_simbolica'] = linea144['tipo_de_violencia_simbolica'].replace('SI', 'Si')\n",
    "linea144['tipo_de_violencia_simbolica'].unique() "
   ]
  },
  {
   "cell_type": "code",
   "execution_count": 66,
   "id": "ec50f10b",
   "metadata": {},
   "outputs": [
    {
     "data": {
      "text/plain": [
       "array(['Si', 'No', nan], dtype=object)"
      ]
     },
     "execution_count": 66,
     "metadata": {},
     "output_type": "execute_result"
    }
   ],
   "source": [
    "linea144['tipo_de_violencia_domestica'].unique()            "
   ]
  },
  {
   "cell_type": "code",
   "execution_count": 67,
   "id": "64133a2d",
   "metadata": {},
   "outputs": [
    {
     "data": {
      "text/plain": [
       "array(['No', 'Si', 'SI', nan], dtype=object)"
      ]
     },
     "execution_count": 67,
     "metadata": {},
     "output_type": "execute_result"
    }
   ],
   "source": [
    "linea144['modalidad_de_violencia_institucional'].unique()                           "
   ]
  },
  {
   "cell_type": "code",
   "execution_count": 68,
   "id": "a451e0c7",
   "metadata": {},
   "outputs": [
    {
     "data": {
      "text/plain": [
       "array(['No', 'Si', nan], dtype=object)"
      ]
     },
     "execution_count": 68,
     "metadata": {},
     "output_type": "execute_result"
    }
   ],
   "source": [
    "linea144['modalidad_de_violencia_institucional'] = linea144['modalidad_de_violencia_institucional'].replace('SI', 'Si')\n",
    "linea144['modalidad_de_violencia_institucional'].unique() "
   ]
  },
  {
   "cell_type": "code",
   "execution_count": 69,
   "id": "21a278ac",
   "metadata": {},
   "outputs": [
    {
     "data": {
      "text/plain": [
       "array(['No', 'Si', 'SI', nan], dtype=object)"
      ]
     },
     "execution_count": 69,
     "metadata": {},
     "output_type": "execute_result"
    }
   ],
   "source": [
    "linea144['modalidad_de_violencia_laboral'].unique()                      "
   ]
  },
  {
   "cell_type": "code",
   "execution_count": 70,
   "id": "b80100aa",
   "metadata": {},
   "outputs": [
    {
     "data": {
      "text/plain": [
       "array(['No', 'Si', nan], dtype=object)"
      ]
     },
     "execution_count": 70,
     "metadata": {},
     "output_type": "execute_result"
    }
   ],
   "source": [
    "linea144['modalidad_de_violencia_laboral'] = linea144['modalidad_de_violencia_laboral'].replace('SI', 'Si')\n",
    "linea144['modalidad_de_violencia_laboral'].unique() "
   ]
  },
  {
   "cell_type": "code",
   "execution_count": 71,
   "id": "1ce66ead",
   "metadata": {},
   "outputs": [
    {
     "data": {
      "text/plain": [
       "array(['No', 'Si', 'SI', nan], dtype=object)"
      ]
     },
     "execution_count": 71,
     "metadata": {},
     "output_type": "execute_result"
    }
   ],
   "source": [
    "linea144['modalidad_violencia_contra_libertad_reproductiva'].unique()                       "
   ]
  },
  {
   "cell_type": "code",
   "execution_count": 72,
   "id": "70659703",
   "metadata": {},
   "outputs": [
    {
     "data": {
      "text/plain": [
       "array(['No', 'Si', nan], dtype=object)"
      ]
     },
     "execution_count": 72,
     "metadata": {},
     "output_type": "execute_result"
    }
   ],
   "source": [
    "linea144['modalidad_violencia_contra_libertad_reproductiva'] = linea144['modalidad_violencia_contra_libertad_reproductiva'].replace('SI', 'Si')\n",
    "linea144['modalidad_violencia_contra_libertad_reproductiva'].unique() "
   ]
  },
  {
   "cell_type": "code",
   "execution_count": 73,
   "id": "c174db91",
   "metadata": {},
   "outputs": [
    {
     "data": {
      "text/plain": [
       "array(['No', 'Si', 'SI', nan], dtype=object)"
      ]
     },
     "execution_count": 73,
     "metadata": {},
     "output_type": "execute_result"
    }
   ],
   "source": [
    "linea144['modalidad_de_violencia_obstetrica'].unique()                       "
   ]
  },
  {
   "cell_type": "code",
   "execution_count": 74,
   "id": "6becd2e1",
   "metadata": {},
   "outputs": [
    {
     "data": {
      "text/plain": [
       "array(['No', 'Si', nan], dtype=object)"
      ]
     },
     "execution_count": 74,
     "metadata": {},
     "output_type": "execute_result"
    }
   ],
   "source": [
    "linea144['modalidad_de_violencia_obstetrica'] = linea144['modalidad_de_violencia_obstetrica'].replace('SI', 'Si')\n",
    "linea144['modalidad_de_violencia_obstetrica'].unique() "
   ]
  },
  {
   "cell_type": "code",
   "execution_count": 75,
   "id": "38e8047a",
   "metadata": {},
   "outputs": [
    {
     "data": {
      "text/plain": [
       "array(['No', 'Si', nan], dtype=object)"
      ]
     },
     "execution_count": 75,
     "metadata": {},
     "output_type": "execute_result"
    }
   ],
   "source": [
    "linea144['modalidad_de_violencia_mediatica'].unique()                                          "
   ]
  },
  {
   "cell_type": "code",
   "execution_count": 76,
   "id": "9f7aae76",
   "metadata": {},
   "outputs": [
    {
     "data": {
      "text/plain": [
       "array(['No', 'Si', nan], dtype=object)"
      ]
     },
     "execution_count": 76,
     "metadata": {},
     "output_type": "execute_result"
    }
   ],
   "source": [
    "linea144['modalidad_de_violencia_otras'].unique() "
   ]
  },
  {
   "cell_type": "code",
   "execution_count": 77,
   "id": "26cd8294",
   "metadata": {},
   "outputs": [
    {
     "data": {
      "text/plain": [
       "array(['Pareja', 'Ex pareja', 'Otro familiar', 'Otro', 'Padre o tutor',\n",
       "       'Superior jerarquico', nan, 'Madre o tutor', 'Superior jerárquico'],\n",
       "      dtype=object)"
      ]
     },
     "execution_count": 77,
     "metadata": {},
     "output_type": "execute_result"
    }
   ],
   "source": [
    "linea144['vinculo_con_la_persona_agresora'].unique()  "
   ]
  },
  {
   "cell_type": "code",
   "execution_count": 78,
   "id": "18abb833",
   "metadata": {},
   "outputs": [
    {
     "data": {
      "text/plain": [
       "array(['Pareja', 'Ex pareja', 'Otro', 'tutor', 'Superior jerárquico', nan],\n",
       "      dtype=object)"
      ]
     },
     "execution_count": 78,
     "metadata": {},
     "output_type": "execute_result"
    }
   ],
   "source": [
    "linea144['vinculo_con_la_persona_agresora'] = linea144['vinculo_con_la_persona_agresora'].replace('Otro familiar', 'Otro')\n",
    "linea144['vinculo_con_la_persona_agresora'] = linea144['vinculo_con_la_persona_agresora'].replace('Padre o tutor', 'tutor')\n",
    "\n",
    "linea144['vinculo_con_la_persona_agresora'] = linea144['vinculo_con_la_persona_agresora'].replace('Madre o tutor', 'tutor')\n",
    "\n",
    "linea144['vinculo_con_la_persona_agresora'] = linea144['vinculo_con_la_persona_agresora'].replace('Superior jerarquico', 'Superior jerárquico')\n",
    "linea144['vinculo_con_la_persona_agresora'].unique() "
   ]
  },
  {
   "cell_type": "code",
   "execution_count": 79,
   "id": "1e159018",
   "metadata": {},
   "outputs": [
    {
     "data": {
      "text/plain": [
       "array(['Varon', nan, 'Otro', 'Mujer', 'Varon Trans', 'Mujer Trans',\n",
       "       'OTRO', 'Transgenero', 'Travesti', 'Queer', 'Varon trans',\n",
       "       'No Binarie', 'Transgénero'], dtype=object)"
      ]
     },
     "execution_count": 79,
     "metadata": {},
     "output_type": "execute_result"
    }
   ],
   "source": [
    "linea144['genero_de_la_persona_agresora'].unique()  "
   ]
  },
  {
   "cell_type": "code",
   "execution_count": 80,
   "id": "37f25913",
   "metadata": {},
   "outputs": [
    {
     "data": {
      "text/plain": [
       "array(['Masculino', nan, 'Otro', 'Femenino', 'Transgénero', 'Travesti',\n",
       "       'Varon trans'], dtype=object)"
      ]
     },
     "execution_count": 80,
     "metadata": {},
     "output_type": "execute_result"
    }
   ],
   "source": [
    "linea144['genero_de_la_persona_agresora'] = linea144['genero_de_la_persona_agresora'].replace('Mujer', 'Femenino')\n",
    "linea144['genero_de_la_persona_agresora'] = linea144['genero_de_la_persona_agresora'].replace('Varon', 'Masculino')\n",
    "linea144['genero_de_la_persona_agresora'] = linea144['genero_de_la_persona_agresora'].replace('Transgenero', 'Transgénero')\n",
    "linea144['genero_de_la_persona_agresora'] = linea144['genero_de_la_persona_agresora'].replace('Mujer Trans', 'Transgénero')\n",
    "linea144['genero_de_la_persona_agresora'] = linea144['genero_de_la_persona_agresora'].replace('Varón Trans', 'Transgénero')\n",
    "linea144['genero_de_la_persona_agresora'] = linea144['genero_de_la_persona_agresora'].replace('Varon Trans', 'Transgénero')\n",
    "linea144['genero_de_la_persona_agresora'] = linea144['genero_de_la_persona_agresora'].replace('Queer', 'Otro')\n",
    "linea144['genero_de_la_persona_agresora'] = linea144['genero_de_la_persona_agresora'].replace('No Binarie', 'Otro')\n",
    "\n",
    "linea144['genero_de_la_persona_agresora'] = linea144['genero_de_la_persona_agresora'].replace('OTRO', 'Otro')\n",
    "linea144['genero_de_la_persona_agresora'].unique()  "
   ]
  },
  {
   "cell_type": "code",
   "execution_count": 81,
   "id": "267d7f52",
   "metadata": {},
   "outputs": [
    {
     "name": "stdout",
     "output_type": "stream",
     "text": [
      "Tipo de la columna antes de la conversión: float64\n"
     ]
    }
   ],
   "source": [
    "print(\"Tipo de la columna antes de la conversión:\", linea144['edad_persona_en_situacion_de_violencia'].dtype)"
   ]
  },
  {
   "cell_type": "code",
   "execution_count": 82,
   "id": "e2a4f450",
   "metadata": {},
   "outputs": [],
   "source": [
    "linea144.loc[linea144['edad_persona_en_situacion_de_violencia'] > 90, 'edad_persona_en_situacion_de_violencia'] = np.nan"
   ]
  },
  {
   "cell_type": "code",
   "execution_count": 83,
   "id": "7f76efac",
   "metadata": {},
   "outputs": [
    {
     "name": "stdout",
     "output_type": "stream",
     "text": [
      "Valor máximo en 'columna_object': 90.0\n"
     ]
    }
   ],
   "source": [
    "valor_maximo = linea144['edad_persona_en_situacion_de_violencia'].max()\n",
    "print(f\"Valor máximo en 'columna_object': {valor_maximo}\")"
   ]
  },
  {
   "cell_type": "code",
   "execution_count": 84,
   "id": "1b09dc53",
   "metadata": {},
   "outputs": [
    {
     "name": "stdout",
     "output_type": "stream",
     "text": [
      "El archivo transformado ha sido guardado como linea137_2_transformada.csv\n"
     ]
    }
   ],
   "source": [
    "output_file_path = 'linea144_transformada.csv'\n",
    "linea144.to_csv(output_file_path, index=False)\n",
    "output_file_path = 'linea137_1_transformada.csv'\n",
    "data137_1.to_csv(output_file_path, index=False)\n",
    "output_file_path = 'linea137_2_transformada.csv'\n",
    "data137_2.to_csv(output_file_path, index=False)\n",
    "\n",
    "print(f\"El archivo transformado ha sido guardado como {output_file_path}\")"
   ]
  }
 ],
 "metadata": {
  "kernelspec": {
   "display_name": "Python 3 (ipykernel)",
   "language": "python",
   "name": "python3"
  },
  "language_info": {
   "codemirror_mode": {
    "name": "ipython",
    "version": 3
   },
   "file_extension": ".py",
   "mimetype": "text/x-python",
   "name": "python",
   "nbconvert_exporter": "python",
   "pygments_lexer": "ipython3",
   "version": "3.11.7"
  }
 },
 "nbformat": 4,
 "nbformat_minor": 5
}
