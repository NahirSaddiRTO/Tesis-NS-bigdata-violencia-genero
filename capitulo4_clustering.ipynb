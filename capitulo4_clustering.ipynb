{
 "cells": [
  {
   "cell_type": "markdown",
   "id": "ee53ea1e",
   "metadata": {},
   "source": [
    "### LECTURA DE NUESTROS DATOS Y ESTRUCTURA"
   ]
  },
  {
   "cell_type": "code",
   "execution_count": 1,
   "id": "aa4179b0",
   "metadata": {},
   "outputs": [],
   "source": [
    "import pandas as pd\n",
    "import matplotlib.pyplot as plt\n",
    "from kmodes.kmodes import KModes\n"
   ]
  },
  {
   "cell_type": "code",
   "execution_count": 2,
   "id": "4bf45ec3",
   "metadata": {},
   "outputs": [],
   "source": [
    "linea137_ID = pd.read_csv('datos nuevo\\linea137_intervenciones_cap4.csv')\n",
    "linea137_LL = pd.read_csv('datos nuevo\\linea137_llamados_cap4.csv')\n",
    "linea144 = pd.read_csv('datos nuevo\\linea144_cap4.csv')\n"
   ]
  },
  {
   "cell_type": "code",
   "execution_count": 3,
   "id": "830704c4",
   "metadata": {},
   "outputs": [
    {
     "data": {
      "text/plain": [
       "(3427, 5)"
      ]
     },
     "execution_count": 3,
     "metadata": {},
     "output_type": "execute_result"
    }
   ],
   "source": [
    "linea137_ID.shape"
   ]
  },
  {
   "cell_type": "code",
   "execution_count": 4,
   "id": "7f468981",
   "metadata": {},
   "outputs": [
    {
     "data": {
      "text/plain": [
       "(61436, 5)"
      ]
     },
     "execution_count": 4,
     "metadata": {},
     "output_type": "execute_result"
    }
   ],
   "source": [
    "linea137_LL.shape"
   ]
  },
  {
   "cell_type": "code",
   "execution_count": 5,
   "id": "ef0718dc",
   "metadata": {},
   "outputs": [
    {
     "data": {
      "text/plain": [
       "(89541, 5)"
      ]
     },
     "execution_count": 5,
     "metadata": {},
     "output_type": "execute_result"
    }
   ],
   "source": [
    "linea144.shape"
   ]
  },
  {
   "cell_type": "code",
   "execution_count": 6,
   "id": "93ad93de",
   "metadata": {},
   "outputs": [
    {
     "name": "stdout",
     "output_type": "stream",
     "text": [
      "Columna: rango_etario\n",
      "Valores únicos: ['18-29' '0-17' '30-44' '45-59' '60+' nan]\n",
      "Cantidad de valores únicos: 5\n",
      "----------------------------------------\n",
      "Columna: victima_genero\n",
      "Valores únicos: ['FEMENINO' 'MASCULINO' 'Sin dato' 'TRANSGÉNERO']\n",
      "Cantidad de valores únicos: 4\n",
      "----------------------------------------\n",
      "Columna: agresor_genero\n",
      "Valores únicos: [nan]\n",
      "Cantidad de valores únicos: 0\n",
      "----------------------------------------\n",
      "Columna: agresor_relacion_victima\n",
      "Valores únicos: ['PAREJA/EX PAREJA' 'FAMILIAR INDIRECTO' 'FAMILIAR DIRECTO'\n",
      " 'OTRO CONVIVIENTE' 'OTRO NO CONVIVIENTE' 'SIN DATO']\n",
      "Cantidad de valores únicos: 6\n",
      "----------------------------------------\n",
      "Columna: violencia_tipo\n",
      "Valores únicos: ['FÍSICA, PSICOLÓGICA' 'PSICOLÓGICA' 'ECONÓMICA, FÍSICA, PSICOLÓGICA'\n",
      " 'ECONÓMICA, FÍSICA, PSICOLÓGICA, SEXUAL' 'SEXUAL' 'FÍSICA'\n",
      " 'ECONÓMICA, FÍSICA' 'FÍSICA, PSICOLÓGICA, SEXUAL' 'OTRA'\n",
      " 'ECONÓMICA, SEXUAL' 'ECONÓMICA' 'FÍSICA, SEXUAL'\n",
      " 'NO ES UN CASO DE VIOLENCIA FAMILIAR' 'EXPLOTACIÓN COMERCIAL SEXUAL'\n",
      " 'SIN DATO' 'ECONÓMICA, PSICOLÓGICA, SEXUAL']\n",
      "Cantidad de valores únicos: 16\n",
      "----------------------------------------\n"
     ]
    }
   ],
   "source": [
    "for col in linea137_ID.columns:\n",
    "    print(f\"Columna: {col}\")                          # Muestra el nombre de la columna\n",
    "    print(\"Valores únicos:\", linea137_ID[col].unique())  # Muestra todos los valores únicos\n",
    "    print(\"Cantidad de valores únicos:\", linea137_ID[col].nunique())  # Número de valores únicos\n",
    "    print(\"-\"*40)  # Separador visual"
   ]
  },
  {
   "cell_type": "code",
   "execution_count": 7,
   "id": "d7b2bd3b",
   "metadata": {},
   "outputs": [
    {
     "name": "stdout",
     "output_type": "stream",
     "text": [
      "Columna: rango_etario\n",
      "Valores únicos: ['18-29' '0-17' nan '30-44' '45-59' '60+']\n",
      "Cantidad de valores únicos: 5\n",
      "----------------------------------------\n",
      "Columna: victima_genero\n",
      "Valores únicos: ['FEMENINO' 'Sin Dato' 'MASCULINO' 'TRANSGÉNERO']\n",
      "Cantidad de valores únicos: 4\n",
      "----------------------------------------\n",
      "Columna: agresor_genero\n",
      "Valores únicos: ['FEMENINO' 'MASCULINO' 'Sin dato' 'TRANSGÉNERO']\n",
      "Cantidad de valores únicos: 4\n",
      "----------------------------------------\n",
      "Columna: agresor_relacion_victima\n",
      "Valores únicos: ['FAMILIAR DIRECTO' 'PAREJA/EX PAREJA' 'SIN DATO' 'OTRO NO CONVIVIENTE'\n",
      " 'OTRO CONVIVIENTE' 'FAMILIAR INDIRECTO']\n",
      "Cantidad de valores únicos: 6\n",
      "----------------------------------------\n",
      "Columna: violencia_tipo\n",
      "Valores únicos: ['FÍSICA, PSICOLÓGICA' 'PSICOLÓGICA' 'NO APLICA'\n",
      " 'ECONÓMICA, FÍSICA, PSICOLÓGICA' 'OTRAS' 'ECONÓMICA, PSICOLÓGICA'\n",
      " 'PSICOLÓGICA, SEXUAL' 'ECONÓMICA, PSICOLÓGICA, SEXUAL'\n",
      " 'NO ES UN CASO DE VIOLENCIA FAMILIAR' 'FÍSICA, PSICOLÓGICA, SEXUAL'\n",
      " 'SIN DATO' 'ECONÓMICA, FÍSICA, PSICOLÓGICA, SEXUAL' 'TRATA']\n",
      "Cantidad de valores únicos: 13\n",
      "----------------------------------------\n"
     ]
    }
   ],
   "source": [
    "for col in linea137_LL.columns:\n",
    "    print(f\"Columna: {col}\")                          # Muestra el nombre de la columna\n",
    "    print(\"Valores únicos:\", linea137_LL[col].unique())  # Muestra todos los valores únicos\n",
    "    print(\"Cantidad de valores únicos:\", linea137_LL[col].nunique())  # Número de valores únicos\n",
    "    print(\"-\"*40)  # Separador visual"
   ]
  },
  {
   "cell_type": "code",
   "execution_count": 8,
   "id": "f7cfd6a2",
   "metadata": {},
   "outputs": [
    {
     "name": "stdout",
     "output_type": "stream",
     "text": [
      "Columna: rango_etario\n",
      "Valores únicos: [nan '30-44' '18-29' '45-59' '60+' '0-17']\n",
      "Cantidad de valores únicos: 5\n",
      "----------------------------------------\n",
      "Columna: victima_genero\n",
      "Valores únicos: ['FEMENINO' 'SIN DATO' 'MASCULINO' 'TRANSGÉNERO' 'OTROS' 'TRAVESTI']\n",
      "Cantidad de valores únicos: 6\n",
      "----------------------------------------\n",
      "Columna: agresor_genero\n",
      "Valores únicos: ['MASCULINO' 'SIN DATO' 'OTROS' 'FEMENINO' 'TRANSGÉNERO' 'TRAVESTI']\n",
      "Cantidad de valores únicos: 6\n",
      "----------------------------------------\n",
      "Columna: agresor_relacion_victima\n",
      "Valores únicos: ['PAREJA/EX PAREJA' 'FAMILIAR INDIRECTO' 'OTRO NO CONVIVIENTE'\n",
      " 'FAMILIAR DIRECTO' 'SIN DATO']\n",
      "Cantidad de valores únicos: 5\n",
      "----------------------------------------\n",
      "Columna: violencia_tipo\n",
      "Valores únicos: ['FÍSICA, OTRAS, PSICOLÓGICA' 'OTRAS, PSICOLÓGICA'\n",
      " 'ECONÓMICA, FÍSICA, OTRAS, PSICOLÓGICA'\n",
      " 'ECONÓMICA, OTRAS, PSICOLÓGICA, SIMBOLICA'\n",
      " 'FÍSICA, OTRAS, PSICOLÓGICA, SIMBOLICA'\n",
      " 'ECONÓMICA, FÍSICA, OTRAS, PSICOLÓGICA, SIMBOLICA' 'FÍSICA, OTRAS'\n",
      " 'ECONÓMICA, FÍSICA, OTRAS, PSICOLÓGICA, SEXUAL, SIMBOLICA'\n",
      " 'FÍSICA, PSICOLÓGICA, SEXUAL' 'ECONÓMICA, OTRAS, PSICOLÓGICA'\n",
      " 'PSICOLÓGICA, SEXUAL' 'OTRAS, PSICOLÓGICA, SEXUAL'\n",
      " 'FÍSICA, OTRAS, PSICOLÓGICA, SEXUAL' 'OTRAS, PSICOLÓGICA, SIMBOLICA'\n",
      " 'FÍSICA, PSICOLÓGICA, SIMBOLICA'\n",
      " 'FÍSICA, OTRAS, PSICOLÓGICA, SEXUAL, SIMBOLICA'\n",
      " 'FÍSICA, PSICOLÓGICA, SEXUAL, SIMBOLICA' 'PSICOLÓGICA' 'FÍSICA'\n",
      " 'ECONÓMICA, PSICOLÓGICA' 'ECONÓMICA, FÍSICA, OTRAS, PSICOLÓGICA, SEXUAL'\n",
      " 'SEXUAL' 'OTRAS' 'FÍSICA, PSICOLÓGICA' 'PSICOLÓGICA, SIMBOLICA'\n",
      " 'ECONÓMICA, OTRAS, PSICOLÓGICA, SEXUAL, SIMBOLICA'\n",
      " 'FÍSICA, OTRAS, SIMBOLICA' 'PSICOLÓGICA, SEXUAL, SIMBOLICA'\n",
      " 'SEXUAL, SIMBOLICA' 'ECONÓMICA, FÍSICA, PSICOLÓGICA, SEXUAL, SIMBOLICA'\n",
      " 'OTRAS, PSICOLÓGICA, SEXUAL, SIMBOLICA' 'ECONÓMICA'\n",
      " 'ECONÓMICA, PSICOLÓGICA, SIMBOLICA' 'ECONÓMICA, FÍSICA, OTRAS'\n",
      " 'FÍSICA, SIMBOLICA' 'ECONÓMICA, FÍSICA, PSICOLÓGICA, SIMBOLICA'\n",
      " 'ECONÓMICA, OTRAS, PSICOLÓGICA, SEXUAL' 'OTRAS, SEXUAL, SIMBOLICA'\n",
      " 'SIMBOLICA' 'OTRAS, SIMBOLICA' 'OTRAS, SEXUAL' 'ECONÓMICA, SEXUAL'\n",
      " 'ECONÓMICA, FÍSICA' 'ECONÓMICA, FÍSICA, PSICOLÓGICA'\n",
      " 'ECONÓMICA, SIMBOLICA' 'FÍSICA, SEXUAL'\n",
      " 'ECONÓMICA, PSICOLÓGICA, SEXUAL, SIMBOLICA'\n",
      " 'ECONÓMICA, FÍSICA, PSICOLÓGICA, SEXUAL'\n",
      " 'FÍSICA, OTRAS, SEXUAL, SIMBOLICA' 'ECONÓMICA, OTRAS'\n",
      " 'ECONÓMICA, OTRAS, SIMBOLICA' 'ECONÓMICA, FÍSICA, OTRAS, SIMBOLICA'\n",
      " 'ECONÓMICA, PSICOLÓGICA, SEXUAL' 'FÍSICA, OTRAS, SEXUAL'\n",
      " 'ECONÓMICA, FÍSICA, SEXUAL' 'FÍSICA, SEXUAL, SIMBOLICA'\n",
      " 'ECONÓMICA, OTRAS, SEXUAL, SIMBOLICA' 'ECONÓMICA, FÍSICA, SIMBOLICA'\n",
      " 'ECONÓMICA, FÍSICA, OTRAS, SEXUAL' 'ECONÓMICA, OTRAS, SEXUAL'\n",
      " 'ECONÓMICA, SEXUAL, SIMBOLICA'\n",
      " 'ECONÓMICA, FÍSICA, OTRAS, SEXUAL, SIMBOLICA']\n",
      "Cantidad de valores únicos: 62\n",
      "----------------------------------------\n"
     ]
    }
   ],
   "source": [
    "for col in linea144.columns:\n",
    "    print(f\"Columna: {col}\")                          # Muestra el nombre de la columna\n",
    "    print(\"Valores únicos:\", linea144[col].unique())  # Muestra todos los valores únicos\n",
    "    print(\"Cantidad de valores únicos:\", linea144[col].nunique())  # Número de valores únicos\n",
    "    print(\"-\"*40)  # Separador visual"
   ]
  },
  {
   "cell_type": "code",
   "execution_count": 9,
   "id": "57196fcf",
   "metadata": {},
   "outputs": [],
   "source": [
    "def clasificar_multiviolencia(x):\n",
    "    if pd.isna(x):\n",
    "        return \"SIN DATO\"\n",
    "    tipos = x.split(\",\")\n",
    "    tipos = [t.strip() for t in tipos]\n",
    "    if len(tipos) > 1:\n",
    "        return \"MULTIVIOLENCIA\"\n",
    "    else:\n",
    "        return tipos[0]\n",
    "\n",
    "linea144['violencia_tipo_simple'] = linea144['violencia_tipo'].apply(clasificar_multiviolencia)\n",
    "linea137_LL['violencia_tipo_simple'] = linea137_LL['violencia_tipo'].apply(clasificar_multiviolencia)\n",
    "linea137_ID['violencia_tipo_simple'] = linea137_ID['violencia_tipo'].apply(clasificar_multiviolencia)"
   ]
  },
  {
   "cell_type": "code",
   "execution_count": 10,
   "id": "ef38eae2",
   "metadata": {},
   "outputs": [],
   "source": [
    "# 2. Seleccionar solo las columnas relevantes\n",
    "cols_relevantes = ['rango_etario', 'victima_genero', 'agresor_genero',\n",
    "                   'agresor_relacion_victima', 'violencia_tipo_simple']"
   ]
  },
  {
   "cell_type": "markdown",
   "id": "e194ba17",
   "metadata": {},
   "source": [
    "### Línea 137 – Llamados"
   ]
  },
  {
   "cell_type": "code",
   "execution_count": 11,
   "id": "571f4153",
   "metadata": {},
   "outputs": [],
   "source": [
    "\n",
    "linea137_LL = linea137_LL[cols_relevantes]\n",
    "df = linea137_LL[cols_relevantes].fillna('Sin Dato')  # reemplazamos NA\n"
   ]
  },
  {
   "cell_type": "code",
   "execution_count": null,
   "id": "231aa93b",
   "metadata": {},
   "outputs": [],
   "source": [
    "# Selección de la muestra, con 2000 funciona pero con mas tarda mucho\n",
    "#np.random.seed(42) # para reproducibilidad \n",
    "#sample_size = 2000 \n",
    "#linea137_LL_sample = linea137_LL.sample(n=sample_size, random_state=42)\n",
    "# Calcular la matriz de distancias de Gower \n",
    "#gower_dist = gower.gower_matrix(linea137_LL_sample)\n",
    "# linkage_matrix = linkage(gower_dist, method='average') \n",
    "# print(linkage_matrix) \n",
    "#Visualizar el dendrograma \n",
    "# plt.figure(figsize=(12, 6)) \n",
    "# dendrogram(linkage_matrix, truncate_mode='lastp', p=30, \n",
    "#   leaf_rotation=90, leaf_font_size=10, show_contracted=True) \n",
    "# plt.title(\"Dendrograma - Línea 137 Llamados (muestra)\") \n",
    "# plt.xlabel(\"Registros\") \n",
    "# plt.ylabel(\"Distancia\") plt.show()"
   ]
  },
  {
   "cell_type": "code",
   "execution_count": 12,
   "id": "027d984e",
   "metadata": {},
   "outputs": [
    {
     "data": {
      "image/png": "[encoded data removed]",
      "text/plain": [
       "<Figure size 800x500 with 1 Axes>"
      ]
     },
     "metadata": {},
     "output_type": "display_data"
    },
    {
     "name": "stdout",
     "output_type": "stream",
     "text": [
      "range(3, 10)\n",
      "[74774.0, 76664.0, 61833.0, 57758.0, 51704.0, 52905.0, 47515.0]\n"
     ]
    }
   ],
   "source": [
    "# Probamos diferentes valores de k\n",
    "cost = []\n",
    "K = range(3, 10)  # probamos de 2 a 7 clusters\n",
    "for k in K:\n",
    "    km = KModes(n_clusters=k, init='Huang', n_init=1, verbose=0)\n",
    "    km.fit(df)\n",
    "    cost.append(km.cost_)\n",
    "# Graficamos la curva del codo\n",
    "plt.figure(figsize=(8,5))\n",
    "plt.plot(K, cost, marker='o')\n",
    "plt.xlabel('Número de clusters (k)')\n",
    "plt.ylabel('Costo')\n",
    "plt.title('Método del codo - k-modes (Línea 137 - Llamados)')\n",
    "plt.xticks(K)\n",
    "plt.grid(True)\n",
    "plt.show()\n",
    "print (K)\n",
    "print(cost)"
   ]
  },
  {
   "cell_type": "code",
   "execution_count": 13,
   "id": "83870f08",
   "metadata": {},
   "outputs": [
    {
     "name": "stdout",
     "output_type": "stream",
     "text": [
      "Init: initializing centroids\n",
      "Init: initializing clusters\n",
      "Starting iterations...\n",
      "Run 1, iteration: 1/100, moves: 20819, cost: 62188.0\n",
      "Run 1, iteration: 2/100, moves: 619, cost: 62188.0\n",
      "Init: initializing centroids\n",
      "Init: initializing clusters\n",
      "Starting iterations...\n",
      "Run 2, iteration: 1/100, moves: 7749, cost: 65836.0\n",
      "Init: initializing centroids\n",
      "Init: initializing clusters\n",
      "Starting iterations...\n",
      "Run 3, iteration: 1/100, moves: 5123, cost: 63306.0\n",
      "Init: initializing centroids\n",
      "Init: initializing clusters\n",
      "Starting iterations...\n",
      "Run 4, iteration: 1/100, moves: 7017, cost: 59294.0\n",
      "Run 4, iteration: 2/100, moves: 6967, cost: 59294.0\n",
      "Init: initializing centroids\n",
      "Init: initializing clusters\n",
      "Starting iterations...\n",
      "Run 5, iteration: 1/100, moves: 9362, cost: 60634.0\n",
      "Run 5, iteration: 2/100, moves: 3594, cost: 60634.0\n",
      "Best run was number 4\n"
     ]
    }
   ],
   "source": [
    "# Número de clusters\n",
    "n_clusters = 5\n",
    "km = KModes(n_clusters, init='Huang', n_init=5, verbose=1)\n",
    "clusters = km.fit_predict(df)\n",
    "\n",
    "# Agregamos la columna de cluster al DataFrame\n",
    "df['cluster'] = clusters"
   ]
  },
  {
   "cell_type": "code",
   "execution_count": 14,
   "id": "1f80f44a",
   "metadata": {},
   "outputs": [
    {
     "data": {
      "text/html": [
       "<div>\n",
       "<style scoped>\n",
       "    .dataframe tbody tr th:only-of-type {\n",
       "        vertical-align: middle;\n",
       "    }\n",
       "\n",
       "    .dataframe tbody tr th {\n",
       "        vertical-align: top;\n",
       "    }\n",
       "\n",
       "    .dataframe thead th {\n",
       "        text-align: right;\n",
       "    }\n",
       "</style>\n",
       "<table border=\"1\" class=\"dataframe\">\n",
       "  <thead>\n",
       "    <tr style=\"text-align: right;\">\n",
       "      <th></th>\n",
       "      <th>Cluster</th>\n",
       "      <th>Cantidad de casos</th>\n",
       "      <th>rango_etario</th>\n",
       "      <th>victima_genero</th>\n",
       "      <th>agresor_genero</th>\n",
       "      <th>agresor_relacion_victima</th>\n",
       "      <th>violencia_tipo_simple</th>\n",
       "      <th>cluster</th>\n",
       "    </tr>\n",
       "  </thead>\n",
       "  <tbody>\n",
       "    <tr>\n",
       "      <th>0</th>\n",
       "      <td>0</td>\n",
       "      <td>17071</td>\n",
       "      <td>30-44</td>\n",
       "      <td>FEMENINO</td>\n",
       "      <td>MASCULINO</td>\n",
       "      <td>PAREJA/EX PAREJA</td>\n",
       "      <td>MULTIVIOLENCIA</td>\n",
       "      <td>0</td>\n",
       "    </tr>\n",
       "    <tr>\n",
       "      <th>1</th>\n",
       "      <td>1</td>\n",
       "      <td>16348</td>\n",
       "      <td>Sin Dato</td>\n",
       "      <td>FEMENINO</td>\n",
       "      <td>MASCULINO</td>\n",
       "      <td>FAMILIAR DIRECTO</td>\n",
       "      <td>PSICOLÓGICA</td>\n",
       "      <td>1</td>\n",
       "    </tr>\n",
       "    <tr>\n",
       "      <th>2</th>\n",
       "      <td>2</td>\n",
       "      <td>7090</td>\n",
       "      <td>0-17</td>\n",
       "      <td>FEMENINO</td>\n",
       "      <td>MASCULINO</td>\n",
       "      <td>FAMILIAR DIRECTO</td>\n",
       "      <td>MULTIVIOLENCIA</td>\n",
       "      <td>2</td>\n",
       "    </tr>\n",
       "    <tr>\n",
       "      <th>3</th>\n",
       "      <td>3</td>\n",
       "      <td>6863</td>\n",
       "      <td>18-29</td>\n",
       "      <td>FEMENINO</td>\n",
       "      <td>MASCULINO</td>\n",
       "      <td>PAREJA/EX PAREJA</td>\n",
       "      <td>MULTIVIOLENCIA</td>\n",
       "      <td>3</td>\n",
       "    </tr>\n",
       "    <tr>\n",
       "      <th>4</th>\n",
       "      <td>4</td>\n",
       "      <td>14064</td>\n",
       "      <td>Sin Dato</td>\n",
       "      <td>Sin Dato</td>\n",
       "      <td>Sin dato</td>\n",
       "      <td>SIN DATO</td>\n",
       "      <td>NO APLICA</td>\n",
       "      <td>4</td>\n",
       "    </tr>\n",
       "  </tbody>\n",
       "</table>\n",
       "</div>"
      ],
      "text/plain": [
       "   Cluster  Cantidad de casos rango_etario victima_genero agresor_genero  \\\n",
       "0        0              17071        30-44       FEMENINO      MASCULINO   \n",
       "1        1              16348     Sin Dato       FEMENINO      MASCULINO   \n",
       "2        2               7090         0-17       FEMENINO      MASCULINO   \n",
       "3        3               6863        18-29       FEMENINO      MASCULINO   \n",
       "4        4              14064     Sin Dato       Sin Dato       Sin dato   \n",
       "\n",
       "  agresor_relacion_victima violencia_tipo_simple  cluster  \n",
       "0         PAREJA/EX PAREJA        MULTIVIOLENCIA        0  \n",
       "1         FAMILIAR DIRECTO           PSICOLÓGICA        1  \n",
       "2         FAMILIAR DIRECTO        MULTIVIOLENCIA        2  \n",
       "3         PAREJA/EX PAREJA        MULTIVIOLENCIA        3  \n",
       "4                 SIN DATO             NO APLICA        4  "
      ]
     },
     "execution_count": 14,
     "metadata": {},
     "output_type": "execute_result"
    }
   ],
   "source": [
    "\n",
    "\n",
    "# Lista para guardar los datos de cada cluster\n",
    "resumen_clusters = []\n",
    "\n",
    "for c in range(n_clusters):\n",
    "    cluster_data = df[df['cluster'] == c]\n",
    "    n_casos = cluster_data.shape[0]\n",
    "    perfil_modal = cluster_data.mode().iloc[0].to_dict()  # Convertimos a diccionario\n",
    "    \n",
    "    # Agregamos cantidad de casos al diccionario\n",
    "    perfil_modal['Cantidad de casos'] = n_casos\n",
    "    perfil_modal['Cluster'] = c\n",
    "    \n",
    "    resumen_clusters.append(perfil_modal)\n",
    "\n",
    "# Creamos el DataFrame resumen\n",
    "df_resumen = pd.DataFrame(resumen_clusters)\n",
    "\n",
    "# Reordenamos columnas para que Cluster y Cantidad de casos estén al inicio\n",
    "cols = ['Cluster', 'Cantidad de casos'] + [col for col in df_resumen.columns if col not in ['Cluster','Cantidad de casos']]\n",
    "df_resumen = df_resumen[cols]\n",
    "\n",
    "# Mostramos el resultado\n",
    "df_resumen.head()"
   ]
  },
  {
   "cell_type": "code",
   "execution_count": 26,
   "id": "0d7e501b",
   "metadata": {},
   "outputs": [
    {
     "name": "stdout",
     "output_type": "stream",
     "text": [
      "   Cluster  Cantidad de casos rango_etario victima_genero agresor_genero agresor_relacion_victima violencia_tipo_simple  cluster\n",
      "0        0              17071        30-44       FEMENINO      MASCULINO         PAREJA/EX PAREJA        MULTIVIOLENCIA        0\n",
      "1        1              16348     Sin Dato       FEMENINO      MASCULINO         FAMILIAR DIRECTO           PSICOLÓGICA        1\n",
      "2        2               7090         0-17       FEMENINO      MASCULINO         FAMILIAR DIRECTO        MULTIVIOLENCIA        2\n",
      "3        3               6863        18-29       FEMENINO      MASCULINO         PAREJA/EX PAREJA        MULTIVIOLENCIA        3\n",
      "4        4              14064     Sin Dato       Sin Dato       Sin dato                 SIN DATO             NO APLICA        4\n"
     ]
    }
   ],
   "source": [
    "print(df_resumen.to_string())"
   ]
  },
  {
   "cell_type": "markdown",
   "id": "eabee4f3",
   "metadata": {},
   "source": [
    "### Línea 137 – Intervenciones dom"
   ]
  },
  {
   "cell_type": "code",
   "execution_count": 15,
   "id": "52aac201",
   "metadata": {},
   "outputs": [
    {
     "data": {
      "image/png": "[encoded data removed]",
      "text/plain": [
       "<Figure size 800x500 with 1 Axes>"
      ]
     },
     "metadata": {},
     "output_type": "display_data"
    },
    {
     "name": "stdout",
     "output_type": "stream",
     "text": [
      "range(2, 10)\n",
      "[4394.0, 3775.0, 3672.0, 2778.0, 2818.0, 2600.0, 2063.0, 1866.0]\n"
     ]
    }
   ],
   "source": [
    "\n",
    "linea137_ID = linea137_ID[cols_relevantes]\n",
    "df_137_ID = linea137_ID[cols_relevantes].fillna('Sin Dato')  # reemplazamos NA\n",
    "\n",
    "cost = []\n",
    "K_137_ID = range(2, 10) \n",
    "for k in K_137_ID:\n",
    "    km = KModes(n_clusters=k, init='Huang', n_init=1, verbose=0)\n",
    "    km.fit(df_137_ID)\n",
    "    cost.append(km.cost_)\n",
    "# Graficamos la curva del codo\n",
    "plt.figure(figsize=(8,5))\n",
    "plt.plot(K_137_ID, cost, marker='o')\n",
    "plt.xlabel('Número de clusters (k)')\n",
    "plt.ylabel('Costo')\n",
    "plt.title('Método del codo - k-modes (Línea 137 - Intervenciones domiciliarias)')\n",
    "plt.xticks(K_137_ID)\n",
    "plt.grid(True)\n",
    "plt.show()\n",
    "print (K_137_ID)\n",
    "print(cost)"
   ]
  },
  {
   "cell_type": "code",
   "execution_count": 16,
   "id": "acfa14b0",
   "metadata": {},
   "outputs": [
    {
     "name": "stdout",
     "output_type": "stream",
     "text": [
      "Init: initializing centroids\n",
      "Init: initializing clusters\n",
      "Starting iterations...\n",
      "Run 1, iteration: 1/100, moves: 809, cost: 2997.0\n",
      "Run 1, iteration: 2/100, moves: 201, cost: 2997.0\n",
      "Init: initializing centroids\n",
      "Init: initializing clusters\n",
      "Starting iterations...\n",
      "Run 2, iteration: 1/100, moves: 759, cost: 2694.0\n",
      "Init: initializing centroids\n",
      "Init: initializing clusters\n",
      "Starting iterations...\n",
      "Run 3, iteration: 1/100, moves: 433, cost: 3063.0\n",
      "Init: initializing centroids\n",
      "Init: initializing clusters\n",
      "Starting iterations...\n",
      "Run 4, iteration: 1/100, moves: 538, cost: 3229.0\n",
      "Init: initializing centroids\n",
      "Init: initializing clusters\n",
      "Starting iterations...\n",
      "Run 5, iteration: 1/100, moves: 339, cost: 2793.0\n",
      "Best run was number 2\n"
     ]
    },
    {
     "data": {
      "text/html": [
       "<div>\n",
       "<style scoped>\n",
       "    .dataframe tbody tr th:only-of-type {\n",
       "        vertical-align: middle;\n",
       "    }\n",
       "\n",
       "    .dataframe tbody tr th {\n",
       "        vertical-align: top;\n",
       "    }\n",
       "\n",
       "    .dataframe thead th {\n",
       "        text-align: right;\n",
       "    }\n",
       "</style>\n",
       "<table border=\"1\" class=\"dataframe\">\n",
       "  <thead>\n",
       "    <tr style=\"text-align: right;\">\n",
       "      <th></th>\n",
       "      <th>Cluster</th>\n",
       "      <th>Cantidad de casos</th>\n",
       "      <th>rango_etario</th>\n",
       "      <th>victima_genero</th>\n",
       "      <th>agresor_genero</th>\n",
       "      <th>agresor_relacion_victima</th>\n",
       "      <th>violencia_tipo_simple</th>\n",
       "      <th>cluster</th>\n",
       "    </tr>\n",
       "  </thead>\n",
       "  <tbody>\n",
       "    <tr>\n",
       "      <th>0</th>\n",
       "      <td>0</td>\n",
       "      <td>1010</td>\n",
       "      <td>0-17</td>\n",
       "      <td>MASCULINO</td>\n",
       "      <td>Sin Dato</td>\n",
       "      <td>FAMILIAR DIRECTO</td>\n",
       "      <td>PSICOLÓGICA</td>\n",
       "      <td>0</td>\n",
       "    </tr>\n",
       "    <tr>\n",
       "      <th>1</th>\n",
       "      <td>1</td>\n",
       "      <td>828</td>\n",
       "      <td>18-29</td>\n",
       "      <td>FEMENINO</td>\n",
       "      <td>Sin Dato</td>\n",
       "      <td>SIN DATO</td>\n",
       "      <td>FÍSICA</td>\n",
       "      <td>1</td>\n",
       "    </tr>\n",
       "    <tr>\n",
       "      <th>2</th>\n",
       "      <td>2</td>\n",
       "      <td>880</td>\n",
       "      <td>0-17</td>\n",
       "      <td>FEMENINO</td>\n",
       "      <td>Sin Dato</td>\n",
       "      <td>FAMILIAR DIRECTO</td>\n",
       "      <td>PSICOLÓGICA</td>\n",
       "      <td>2</td>\n",
       "    </tr>\n",
       "    <tr>\n",
       "      <th>3</th>\n",
       "      <td>3</td>\n",
       "      <td>90</td>\n",
       "      <td>60+</td>\n",
       "      <td>FEMENINO</td>\n",
       "      <td>Sin Dato</td>\n",
       "      <td>FAMILIAR DIRECTO</td>\n",
       "      <td>MULTIVIOLENCIA</td>\n",
       "      <td>3</td>\n",
       "    </tr>\n",
       "    <tr>\n",
       "      <th>4</th>\n",
       "      <td>4</td>\n",
       "      <td>619</td>\n",
       "      <td>30-44</td>\n",
       "      <td>FEMENINO</td>\n",
       "      <td>Sin Dato</td>\n",
       "      <td>PAREJA/EX PAREJA</td>\n",
       "      <td>MULTIVIOLENCIA</td>\n",
       "      <td>4</td>\n",
       "    </tr>\n",
       "  </tbody>\n",
       "</table>\n",
       "</div>"
      ],
      "text/plain": [
       "   Cluster  Cantidad de casos rango_etario victima_genero agresor_genero  \\\n",
       "0        0               1010         0-17      MASCULINO       Sin Dato   \n",
       "1        1                828        18-29       FEMENINO       Sin Dato   \n",
       "2        2                880         0-17       FEMENINO       Sin Dato   \n",
       "3        3                 90          60+       FEMENINO       Sin Dato   \n",
       "4        4                619        30-44       FEMENINO       Sin Dato   \n",
       "\n",
       "  agresor_relacion_victima violencia_tipo_simple  cluster  \n",
       "0         FAMILIAR DIRECTO           PSICOLÓGICA        0  \n",
       "1                 SIN DATO                FÍSICA        1  \n",
       "2         FAMILIAR DIRECTO           PSICOLÓGICA        2  \n",
       "3         FAMILIAR DIRECTO        MULTIVIOLENCIA        3  \n",
       "4         PAREJA/EX PAREJA        MULTIVIOLENCIA        4  "
      ]
     },
     "execution_count": 16,
     "metadata": {},
     "output_type": "execute_result"
    }
   ],
   "source": [
    "\n",
    "# Número de clusters\n",
    "n_clusters_137_ID = 5\n",
    "# Clustering final con k=5\n",
    "km_137_ID = KModes(n_clusters_137_ID, init='Huang', n_init=5, verbose=1)\n",
    "clusters_137_ID = km_137_ID.fit_predict(df_137_ID)\n",
    "\n",
    "# Agregamos la columna de cluster al DataFrame\n",
    "df_137_ID['cluster'] = clusters_137_ID\n",
    "\n",
    "\n",
    "# Lista para guardar los datos de cada cluster\n",
    "resumen_clusters = []\n",
    "\n",
    "for c in range(n_clusters_137_ID):\n",
    "    cluster_data = df_137_ID[df_137_ID['cluster'] == c]\n",
    "    n_casos = cluster_data.shape[0]\n",
    "    perfil_modal = cluster_data.mode().iloc[0].to_dict()  # Convertimos a diccionario\n",
    "    \n",
    "    # Agregamos cantidad de casos al diccionario\n",
    "    perfil_modal['Cantidad de casos'] = n_casos\n",
    "    perfil_modal['Cluster'] = c\n",
    "    \n",
    "    resumen_clusters.append(perfil_modal)\n",
    "\n",
    "# Creamos el DataFrame resumen\n",
    "df_resumen_137_ID = pd.DataFrame(resumen_clusters)\n",
    "\n",
    "# Reordenamos columnas para que Cluster y Cantidad de casos estén al inicio\n",
    "cols = ['Cluster', 'Cantidad de casos'] + [col for col in df_resumen_137_ID.columns if col not in ['Cluster','Cantidad de casos']]\n",
    "df_resumen_137_ID = df_resumen_137_ID[cols]\n",
    "\n",
    "# Mostramos el resultado\n",
    "df_resumen_137_ID.head()"
   ]
  },
  {
   "cell_type": "code",
   "execution_count": 24,
   "id": "3474392b",
   "metadata": {},
   "outputs": [
    {
     "name": "stdout",
     "output_type": "stream",
     "text": [
      "   Cluster  Cantidad de casos rango_etario victima_genero agresor_genero agresor_relacion_victima violencia_tipo_simple  cluster\n",
      "0        0               1010         0-17      MASCULINO       Sin Dato         FAMILIAR DIRECTO           PSICOLÓGICA        0\n",
      "1        1                828        18-29       FEMENINO       Sin Dato                 SIN DATO                FÍSICA        1\n",
      "2        2                880         0-17       FEMENINO       Sin Dato         FAMILIAR DIRECTO           PSICOLÓGICA        2\n",
      "3        3                 90          60+       FEMENINO       Sin Dato         FAMILIAR DIRECTO        MULTIVIOLENCIA        3\n",
      "4        4                619        30-44       FEMENINO       Sin Dato         PAREJA/EX PAREJA        MULTIVIOLENCIA        4\n"
     ]
    }
   ],
   "source": [
    "print(df_resumen_137_ID.to_string())"
   ]
  },
  {
   "cell_type": "markdown",
   "id": "59a09ed5",
   "metadata": {},
   "source": [
    "### Línea 144\n"
   ]
  },
  {
   "cell_type": "code",
   "execution_count": 17,
   "id": "d47cc433",
   "metadata": {},
   "outputs": [
    {
     "data": {
      "image/png": "[encoded data removed]",
      "text/plain": [
       "<Figure size 800x500 with 1 Axes>"
      ]
     },
     "metadata": {},
     "output_type": "display_data"
    },
    {
     "name": "stdout",
     "output_type": "stream",
     "text": [
      "range(3, 15)\n",
      "[56139.0, 37652.0, 44820.0, 32067.0, 29508.0, 36998.0, 25123.0, 25454.0, 22503.0, 32338.0, 28431.0, 20019.0]\n"
     ]
    }
   ],
   "source": [
    "\n",
    "linea144 = linea144[cols_relevantes]\n",
    "df_144 = linea144[cols_relevantes].fillna('Sin Dato')  # reemplazamos NA\n",
    "\n",
    "cost = []\n",
    "K_144 = range(3, 15) \n",
    "for k in K_144:\n",
    "    km = KModes(n_clusters=k, init='Huang', n_init=1, verbose=0)\n",
    "    km.fit(df_144)\n",
    "    cost.append(km.cost_)\n",
    "# Graficamos la curva del codo\n",
    "plt.figure(figsize=(8,5))\n",
    "plt.plot(K_144, cost, marker='o')\n",
    "plt.xlabel('Número de clusters (k)')\n",
    "plt.ylabel('Costo')\n",
    "plt.title('Método del codo - k-modes (Línea 144')\n",
    "plt.xticks(K_144)\n",
    "plt.grid(True)\n",
    "plt.show()\n",
    "print (K_144)\n",
    "print(cost)"
   ]
  },
  {
   "cell_type": "code",
   "execution_count": null,
   "id": "3f645c70",
   "metadata": {},
   "outputs": [
    {
     "name": "stdout",
     "output_type": "stream",
     "text": [
      "Init: initializing centroids\n",
      "Init: initializing clusters\n",
      "Starting iterations...\n",
      "Run 1, iteration: 1/100, moves: 5948, cost: 50492.0\n",
      "Run 1, iteration: 2/100, moves: 546, cost: 50492.0\n",
      "Init: initializing centroids\n",
      "Init: initializing clusters\n",
      "Starting iterations...\n",
      "Run 2, iteration: 1/100, moves: 5982, cost: 50177.0\n",
      "Run 2, iteration: 2/100, moves: 5505, cost: 50177.0\n",
      "Init: initializing centroids\n",
      "Init: initializing clusters\n",
      "Starting iterations...\n",
      "Run 3, iteration: 1/100, moves: 4056, cost: 56060.0\n",
      "Run 3, iteration: 2/100, moves: 1077, cost: 56060.0\n",
      "Init: initializing centroids\n",
      "Init: initializing clusters\n",
      "Starting iterations...\n",
      "Run 4, iteration: 1/100, moves: 6716, cost: 55238.0\n",
      "Run 4, iteration: 2/100, moves: 36, cost: 55238.0\n",
      "Init: initializing centroids\n",
      "Init: initializing clusters\n",
      "Starting iterations...\n",
      "Run 5, iteration: 1/100, moves: 15559, cost: 43670.0\n",
      "Run 5, iteration: 2/100, moves: 17, cost: 43670.0\n",
      "Best run was number 5\n",
      "   Cluster  Cantidad de casos rango_etario victima_genero agresor_genero agresor_relacion_victima violencia_tipo_simple  cluster\n",
      "0        0              26961        18-29       FEMENINO      MASCULINO         PAREJA/EX PAREJA        MULTIVIOLENCIA        0\n",
      "1        1               9582        45-59       FEMENINO      MASCULINO         PAREJA/EX PAREJA        MULTIVIOLENCIA        1\n",
      "2        2               2123        30-44       FEMENINO       SIN DATO         PAREJA/EX PAREJA        MULTIVIOLENCIA        2\n",
      "3        3               7404     Sin Dato       FEMENINO       SIN DATO         PAREJA/EX PAREJA        MULTIVIOLENCIA        3\n",
      "4        4               3758        30-44       FEMENINO      MASCULINO      OTRO NO CONVIVIENTE        MULTIVIOLENCIA        4\n",
      "5        5              39713        30-44       FEMENINO      MASCULINO         PAREJA/EX PAREJA        MULTIVIOLENCIA        5\n"
     ]
    }
   ],
   "source": [
    "\n",
    "# Número de clusters\n",
    "n_clusters = 6\n",
    "km_144 = KModes(n_clusters, init='Huang', n_init=5, verbose=1)\n",
    "clusters_144 = km_144.fit_predict(df_144)\n",
    "\n",
    "# Agregamos la columna de cluster al DataFrame\n",
    "df_144['cluster'] = clusters_144\n",
    "\n",
    "\n",
    "# Lista para guardar los datos de cada cluster\n",
    "resumen_clusters = []\n",
    "\n",
    "for c in range(n_clusters):\n",
    "    cluster_data = df_144[df_144['cluster'] == c]\n",
    "    n_casos = cluster_data.shape[0]\n",
    "    perfil_modal = cluster_data.mode().iloc[0].to_dict()  # Convertimos a diccionario\n",
    "    \n",
    "    # Agregamos cantidad de casos al diccionario\n",
    "    perfil_modal['Cantidad de casos'] = n_casos\n",
    "    perfil_modal['Cluster'] = c\n",
    "    \n",
    "    resumen_clusters.append(perfil_modal)\n",
    "\n",
    "# Creamos el DataFrame resumen\n",
    "df_resumen_144 = pd.DataFrame(resumen_clusters)\n",
    "\n",
    "# Reordenamos columnas para que Cluster y Cantidad de casos estén al inicio\n",
    "cols = ['Cluster', 'Cantidad de casos'] + [col for col in df_resumen_144.columns if col not in ['Cluster','Cantidad de casos']]\n",
    "df_resumen_144 = df_resumen_144[cols]\n",
    "\n"
   ]
  },
  {
   "cell_type": "code",
   "execution_count": 25,
   "id": "8f329b45",
   "metadata": {},
   "outputs": [
    {
     "name": "stdout",
     "output_type": "stream",
     "text": [
      "   Cluster  Cantidad de casos rango_etario victima_genero agresor_genero agresor_relacion_victima violencia_tipo_simple  cluster\n",
      "0        0              26961        18-29       FEMENINO      MASCULINO         PAREJA/EX PAREJA        MULTIVIOLENCIA        0\n",
      "1        1               9582        45-59       FEMENINO      MASCULINO         PAREJA/EX PAREJA        MULTIVIOLENCIA        1\n",
      "2        2               2123        30-44       FEMENINO       SIN DATO         PAREJA/EX PAREJA        MULTIVIOLENCIA        2\n",
      "3        3               7404     Sin Dato       FEMENINO       SIN DATO         PAREJA/EX PAREJA        MULTIVIOLENCIA        3\n",
      "4        4               3758        30-44       FEMENINO      MASCULINO      OTRO NO CONVIVIENTE        MULTIVIOLENCIA        4\n",
      "5        5              39713        30-44       FEMENINO      MASCULINO         PAREJA/EX PAREJA        MULTIVIOLENCIA        5\n"
     ]
    }
   ],
   "source": [
    "# Mostramos el resultado\n",
    "print(df_resumen_144.to_string())"
   ]
  }
 ],
 "metadata": {
  "kernelspec": {
   "display_name": "base",
   "language": "python",
   "name": "python3"
  },
  "language_info": {
   "codemirror_mode": {
    "name": "ipython",
    "version": 3
   },
   "file_extension": ".py",
   "mimetype": "text/x-python",
   "name": "python",
   "nbconvert_exporter": "python",
   "pygments_lexer": "ipython3",
   "version": "3.11.7"
  }
 },
 "nbformat": 4,
 "nbformat_minor": 5
}
