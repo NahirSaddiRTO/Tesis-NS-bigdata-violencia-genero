{
 "cells": [
  {
   "cell_type": "markdown",
   "id": "a38d39cf",
   "metadata": {},
   "source": [
    "### Aplicación de un Proceso de Big data para categorizar factores de riesgo sobre Violencia  contra las Mujeres"
   ]
  },
  {
   "cell_type": "markdown",
   "id": "08895104",
   "metadata": {},
   "source": [
    "### Recopilar datos"
   ]
  },
  {
   "cell_type": "code",
   "execution_count": 1,
   "id": "13fef3e5",
   "metadata": {},
   "outputs": [],
   "source": [
    "import pandas as pd\n",
    "import numpy as np"
   ]
  },
  {
   "cell_type": "code",
   "execution_count": 2,
   "id": "048e56e1",
   "metadata": {},
   "outputs": [],
   "source": [
    "\n",
    "# 137 - intervenciones-domiciliarias-violencia-familiar\n",
    "data137_ID = pd.read_csv('datos nuevo\\intervenciones_domiciliarias.csv')\n",
    "# 137 - llamados-atendidos-violencia-familiar\n",
    "data137_LLA = pd.read_csv('datos nuevo\\llamados_atendidos.csv')\n",
    "# 144 - AÑO 2020\n",
    "data144_20 = pd.read_csv('datos nuevo\\linea144_20.csv')\n",
    "# 144 - AÑO 2021\n",
    "data144_21 = pd.read_csv('datos nuevo\\linea144_21.csv')\n",
    "# 144 - AÑO 2022\n",
    "data144_22 = pd.read_csv('datos nuevo\\linea144_22.csv')\n",
    "# 144 - AÑO 2023\n",
    "data144_23 = pd.read_csv('datos nuevo\\linea144_23.csv')\n"
   ]
  },
  {
   "cell_type": "markdown",
   "id": "7d35f3ab",
   "metadata": {},
   "source": [
    "## 137 - Intervenciones domiciliarias - Exploración Inicial"
   ]
  },
  {
   "cell_type": "code",
   "execution_count": 3,
   "id": "b11bead2",
   "metadata": {},
   "outputs": [
    {
     "data": {
      "text/html": [
       "<div>\n",
       "<style scoped>\n",
       "    .dataframe tbody tr th:only-of-type {\n",
       "        vertical-align: middle;\n",
       "    }\n",
       "\n",
       "    .dataframe tbody tr th {\n",
       "        vertical-align: top;\n",
       "    }\n",
       "\n",
       "    .dataframe thead th {\n",
       "        text-align: right;\n",
       "    }\n",
       "</style>\n",
       "<table border=\"1\" class=\"dataframe\">\n",
       "  <thead>\n",
       "    <tr style=\"text-align: right;\">\n",
       "      <th></th>\n",
       "      <th>caso_id</th>\n",
       "      <th>intervencion_fecha</th>\n",
       "      <th>intervencion_hora</th>\n",
       "      <th>victima_embarazo</th>\n",
       "      <th>victima_edad</th>\n",
       "      <th>victima_genero</th>\n",
       "      <th>victima_nacionalidad</th>\n",
       "      <th>victima_discapacidad</th>\n",
       "      <th>violencia_tipo</th>\n",
       "      <th>agresor_relacion_victima</th>\n",
       "    </tr>\n",
       "  </thead>\n",
       "  <tbody>\n",
       "    <tr>\n",
       "      <th>0</th>\n",
       "      <td>458515.0</td>\n",
       "      <td>2024-02-25</td>\n",
       "      <td>15:00</td>\n",
       "      <td>NO</td>\n",
       "      <td>28</td>\n",
       "      <td>Femenino</td>\n",
       "      <td>Boliviana</td>\n",
       "      <td>NO</td>\n",
       "      <td>Física y psicológica</td>\n",
       "      <td>Pareja</td>\n",
       "    </tr>\n",
       "    <tr>\n",
       "      <th>1</th>\n",
       "      <td>458624.0</td>\n",
       "      <td>2024-03-01</td>\n",
       "      <td>10:45</td>\n",
       "      <td>NO</td>\n",
       "      <td>16</td>\n",
       "      <td>Masculino</td>\n",
       "      <td>Argentina</td>\n",
       "      <td>NS/NC</td>\n",
       "      <td>Psicológica</td>\n",
       "      <td>Padrastro</td>\n",
       "    </tr>\n",
       "    <tr>\n",
       "      <th>2</th>\n",
       "      <td>458624.0</td>\n",
       "      <td>2024-03-01</td>\n",
       "      <td>10:45</td>\n",
       "      <td>NO</td>\n",
       "      <td>16</td>\n",
       "      <td>Femenino</td>\n",
       "      <td>Argentina</td>\n",
       "      <td>NS/NC</td>\n",
       "      <td>Económica, física y psicológica</td>\n",
       "      <td>Pareja</td>\n",
       "    </tr>\n",
       "    <tr>\n",
       "      <th>3</th>\n",
       "      <td>458915.0</td>\n",
       "      <td>2024-03-13</td>\n",
       "      <td>12:30</td>\n",
       "      <td>NO</td>\n",
       "      <td>39</td>\n",
       "      <td>Femenino</td>\n",
       "      <td>Argentina</td>\n",
       "      <td>NS/NC</td>\n",
       "      <td>Física y psicológica</td>\n",
       "      <td>Padre</td>\n",
       "    </tr>\n",
       "    <tr>\n",
       "      <th>4</th>\n",
       "      <td>459497.0</td>\n",
       "      <td>2024-04-22</td>\n",
       "      <td>13:00</td>\n",
       "      <td>NO</td>\n",
       "      <td>20</td>\n",
       "      <td>Masculino</td>\n",
       "      <td>Argentina</td>\n",
       "      <td>NO</td>\n",
       "      <td>Psicológica</td>\n",
       "      <td>Padre</td>\n",
       "    </tr>\n",
       "  </tbody>\n",
       "</table>\n",
       "</div>"
      ],
      "text/plain": [
       "    caso_id intervencion_fecha intervencion_hora victima_embarazo  \\\n",
       "0  458515.0         2024-02-25             15:00               NO   \n",
       "1  458624.0         2024-03-01             10:45               NO   \n",
       "2  458624.0         2024-03-01             10:45               NO   \n",
       "3  458915.0         2024-03-13             12:30               NO   \n",
       "4  459497.0         2024-04-22             13:00               NO   \n",
       "\n",
       "  victima_edad victima_genero victima_nacionalidad victima_discapacidad  \\\n",
       "0           28       Femenino            Boliviana                   NO   \n",
       "1           16      Masculino            Argentina                NS/NC   \n",
       "2           16       Femenino            Argentina                NS/NC   \n",
       "3           39       Femenino            Argentina                NS/NC   \n",
       "4           20      Masculino            Argentina                   NO   \n",
       "\n",
       "                    violencia_tipo agresor_relacion_victima  \n",
       "0             Física y psicológica                   Pareja  \n",
       "1                      Psicológica                Padrastro  \n",
       "2  Económica, física y psicológica                   Pareja  \n",
       "3             Física y psicológica                    Padre  \n",
       "4                      Psicológica                    Padre  "
      ]
     },
     "execution_count": 3,
     "metadata": {},
     "output_type": "execute_result"
    }
   ],
   "source": [
    "#Vemos encabezados \n",
    "data137_ID.head()\n"
   ]
  },
  {
   "cell_type": "code",
   "execution_count": 4,
   "id": "7b30e121",
   "metadata": {},
   "outputs": [
    {
     "name": "stdout",
     "output_type": "stream",
     "text": [
      "Cantidad de columnas y filas - 137 INTERVENCIONES DOMICILIARIAS:\n"
     ]
    },
    {
     "data": {
      "text/plain": [
       "(3428, 10)"
      ]
     },
     "execution_count": 4,
     "metadata": {},
     "output_type": "execute_result"
    }
   ],
   "source": [
    "#Vemos cantidad de columnas y registros\n",
    "print(\"Cantidad de columnas y filas - 137 INTERVENCIONES DOMICILIARIAS:\")\n",
    "data137_ID.shape"
   ]
  },
  {
   "cell_type": "code",
   "execution_count": 5,
   "id": "8b5453d5",
   "metadata": {},
   "outputs": [
    {
     "name": "stdout",
     "output_type": "stream",
     "text": [
      "INFO DE 137 INTERVENCIONES DOMICILIARIAS:\n",
      "<class 'pandas.core.frame.DataFrame'>\n",
      "RangeIndex: 3428 entries, 0 to 3427\n",
      "Data columns (total 10 columns):\n",
      " #   Column                    Non-Null Count  Dtype  \n",
      "---  ------                    --------------  -----  \n",
      " 0   caso_id                   3427 non-null   float64\n",
      " 1   intervencion_fecha        3427 non-null   object \n",
      " 2   intervencion_hora         3427 non-null   object \n",
      " 3   victima_embarazo          3427 non-null   object \n",
      " 4   victima_edad              3427 non-null   object \n",
      " 5   victima_genero            3427 non-null   object \n",
      " 6   victima_nacionalidad      3427 non-null   object \n",
      " 7   victima_discapacidad      3427 non-null   object \n",
      " 8   violencia_tipo            3427 non-null   object \n",
      " 9   agresor_relacion_victima  3427 non-null   object \n",
      "dtypes: float64(1), object(9)\n",
      "memory usage: 267.9+ KB\n",
      "-------------------\n"
     ]
    }
   ],
   "source": [
    "print(\"INFO DE 137 INTERVENCIONES DOMICILIARIAS:\")\n",
    "data137_ID.info()\n",
    "print(\"-------------------\")"
   ]
  },
  {
   "cell_type": "code",
   "execution_count": 6,
   "id": "85279c0e",
   "metadata": {},
   "outputs": [
    {
     "data": {
      "text/html": [
       "<div>\n",
       "<style scoped>\n",
       "    .dataframe tbody tr th:only-of-type {\n",
       "        vertical-align: middle;\n",
       "    }\n",
       "\n",
       "    .dataframe tbody tr th {\n",
       "        vertical-align: top;\n",
       "    }\n",
       "\n",
       "    .dataframe thead th {\n",
       "        text-align: right;\n",
       "    }\n",
       "</style>\n",
       "<table border=\"1\" class=\"dataframe\">\n",
       "  <thead>\n",
       "    <tr style=\"text-align: right;\">\n",
       "      <th></th>\n",
       "      <th>Valores nulos</th>\n",
       "      <th>Porcentaje (%)</th>\n",
       "    </tr>\n",
       "  </thead>\n",
       "  <tbody>\n",
       "    <tr>\n",
       "      <th>caso_id</th>\n",
       "      <td>1</td>\n",
       "      <td>0.03</td>\n",
       "    </tr>\n",
       "    <tr>\n",
       "      <th>intervencion_fecha</th>\n",
       "      <td>1</td>\n",
       "      <td>0.03</td>\n",
       "    </tr>\n",
       "    <tr>\n",
       "      <th>intervencion_hora</th>\n",
       "      <td>1</td>\n",
       "      <td>0.03</td>\n",
       "    </tr>\n",
       "    <tr>\n",
       "      <th>victima_embarazo</th>\n",
       "      <td>1</td>\n",
       "      <td>0.03</td>\n",
       "    </tr>\n",
       "    <tr>\n",
       "      <th>victima_edad</th>\n",
       "      <td>1</td>\n",
       "      <td>0.03</td>\n",
       "    </tr>\n",
       "    <tr>\n",
       "      <th>victima_genero</th>\n",
       "      <td>1</td>\n",
       "      <td>0.03</td>\n",
       "    </tr>\n",
       "    <tr>\n",
       "      <th>victima_nacionalidad</th>\n",
       "      <td>1</td>\n",
       "      <td>0.03</td>\n",
       "    </tr>\n",
       "    <tr>\n",
       "      <th>victima_discapacidad</th>\n",
       "      <td>1</td>\n",
       "      <td>0.03</td>\n",
       "    </tr>\n",
       "    <tr>\n",
       "      <th>violencia_tipo</th>\n",
       "      <td>1</td>\n",
       "      <td>0.03</td>\n",
       "    </tr>\n",
       "    <tr>\n",
       "      <th>agresor_relacion_victima</th>\n",
       "      <td>1</td>\n",
       "      <td>0.03</td>\n",
       "    </tr>\n",
       "  </tbody>\n",
       "</table>\n",
       "</div>"
      ],
      "text/plain": [
       "                          Valores nulos  Porcentaje (%)\n",
       "caso_id                               1            0.03\n",
       "intervencion_fecha                    1            0.03\n",
       "intervencion_hora                     1            0.03\n",
       "victima_embarazo                      1            0.03\n",
       "victima_edad                          1            0.03\n",
       "victima_genero                        1            0.03\n",
       "victima_nacionalidad                  1            0.03\n",
       "victima_discapacidad                  1            0.03\n",
       "violencia_tipo                        1            0.03\n",
       "agresor_relacion_victima              1            0.03"
      ]
     },
     "execution_count": 6,
     "metadata": {},
     "output_type": "execute_result"
    }
   ],
   "source": [
    "# Controlar valores nulos\n",
    "faltantes = pd.DataFrame({\n",
    "    'Valores nulos': data137_ID.isnull().sum(),\n",
    "    'Porcentaje (%)': round(data137_ID.isnull().mean() * 100, 2)\n",
    "}).sort_values(by='Porcentaje (%)', ascending=False)\n",
    "\n",
    "faltantes.head(10)"
   ]
  },
  {
   "cell_type": "markdown",
   "id": "529e7892",
   "metadata": {},
   "source": [
    "## 137 - Llamados atendidos - Exploración Inicial"
   ]
  },
  {
   "cell_type": "code",
   "execution_count": 7,
   "id": "d274abae",
   "metadata": {},
   "outputs": [
    {
     "data": {
      "text/html": [
       "<div>\n",
       "<style scoped>\n",
       "    .dataframe tbody tr th:only-of-type {\n",
       "        vertical-align: middle;\n",
       "    }\n",
       "\n",
       "    .dataframe tbody tr th {\n",
       "        vertical-align: top;\n",
       "    }\n",
       "\n",
       "    .dataframe thead th {\n",
       "        text-align: right;\n",
       "    }\n",
       "</style>\n",
       "<table border=\"1\" class=\"dataframe\">\n",
       "  <thead>\n",
       "    <tr style=\"text-align: right;\">\n",
       "      <th></th>\n",
       "      <th>caso_id</th>\n",
       "      <th>llamante_descripcion</th>\n",
       "      <th>llamante_genero</th>\n",
       "      <th>llamante_vinculo_ninios_presentes</th>\n",
       "      <th>violencia_tipo</th>\n",
       "      <th>victima_edad</th>\n",
       "      <th>victima_rango_etario</th>\n",
       "      <th>victima_genero</th>\n",
       "      <th>victima_cantidad</th>\n",
       "      <th>agresor_cantidad</th>\n",
       "      <th>agresor_genero</th>\n",
       "      <th>agresor_relacion_victima</th>\n",
       "      <th>llamado_derivacion</th>\n",
       "      <th>llamado_fecha</th>\n",
       "      <th>llamado_hora</th>\n",
       "      <th>llamado_provincia</th>\n",
       "      <th>llamado_provincia_id</th>\n",
       "    </tr>\n",
       "  </thead>\n",
       "  <tbody>\n",
       "    <tr>\n",
       "      <th>0</th>\n",
       "      <td>344589.0</td>\n",
       "      <td>Comisaría</td>\n",
       "      <td>Femenino</td>\n",
       "      <td>No hay niñas/os</td>\n",
       "      <td>Física y psicológica</td>\n",
       "      <td>23</td>\n",
       "      <td>18 a 29 años</td>\n",
       "      <td>Femenino</td>\n",
       "      <td>1</td>\n",
       "      <td>3</td>\n",
       "      <td>Femenino</td>\n",
       "      <td>Madre</td>\n",
       "      <td>La víctima no aceptó la intervención del Equip...</td>\n",
       "      <td>2017-01-02</td>\n",
       "      <td>11:33</td>\n",
       "      <td>NaN</td>\n",
       "      <td>NaN</td>\n",
       "    </tr>\n",
       "    <tr>\n",
       "      <th>1</th>\n",
       "      <td>344590.0</td>\n",
       "      <td>Otro/a particular</td>\n",
       "      <td>Femenino</td>\n",
       "      <td>Otra/o no familiar</td>\n",
       "      <td>Física y psicológica</td>\n",
       "      <td>18</td>\n",
       "      <td>18 a 29 años</td>\n",
       "      <td>NS/NC</td>\n",
       "      <td>2</td>\n",
       "      <td>1</td>\n",
       "      <td>Masculino</td>\n",
       "      <td>Pareja</td>\n",
       "      <td>Está interviniendo o se deriva a otra institución</td>\n",
       "      <td>2017-01-02</td>\n",
       "      <td>11:38</td>\n",
       "      <td>NaN</td>\n",
       "      <td>NaN</td>\n",
       "    </tr>\n",
       "    <tr>\n",
       "      <th>2</th>\n",
       "      <td>344591.0</td>\n",
       "      <td>Otro/a particular</td>\n",
       "      <td>Femenino</td>\n",
       "      <td>Otra/o no familiar</td>\n",
       "      <td>Psicológica</td>\n",
       "      <td>Sin dato</td>\n",
       "      <td>Sin dato</td>\n",
       "      <td>Femenino</td>\n",
       "      <td>1</td>\n",
       "      <td>1</td>\n",
       "      <td>Masculino</td>\n",
       "      <td>Pareja</td>\n",
       "      <td>Llamante solicitó información y/o orientación</td>\n",
       "      <td>2017-01-02</td>\n",
       "      <td>11:41</td>\n",
       "      <td>NaN</td>\n",
       "      <td>NaN</td>\n",
       "    </tr>\n",
       "    <tr>\n",
       "      <th>3</th>\n",
       "      <td>344590.0</td>\n",
       "      <td>Otro/a particular</td>\n",
       "      <td>Femenino</td>\n",
       "      <td>Otra/o no familiar</td>\n",
       "      <td>Física y psicológica</td>\n",
       "      <td>18</td>\n",
       "      <td>18 a 29 años</td>\n",
       "      <td>Femenino</td>\n",
       "      <td>2</td>\n",
       "      <td>1</td>\n",
       "      <td>Masculino</td>\n",
       "      <td>Pareja</td>\n",
       "      <td>Está interviniendo o se deriva a otra institución</td>\n",
       "      <td>2017-01-02</td>\n",
       "      <td>11:45</td>\n",
       "      <td>NaN</td>\n",
       "      <td>NaN</td>\n",
       "    </tr>\n",
       "    <tr>\n",
       "      <th>4</th>\n",
       "      <td>344592.0</td>\n",
       "      <td>Víctima</td>\n",
       "      <td>Femenino</td>\n",
       "      <td>Otra/o familiar</td>\n",
       "      <td>Física y psicológica</td>\n",
       "      <td>Sin dato</td>\n",
       "      <td>Sin dato</td>\n",
       "      <td>Femenino</td>\n",
       "      <td>1</td>\n",
       "      <td>1</td>\n",
       "      <td>Femenino</td>\n",
       "      <td>Hermano/a</td>\n",
       "      <td>Llamante solicitó información y/o orientación</td>\n",
       "      <td>2017-01-02</td>\n",
       "      <td>12:11</td>\n",
       "      <td>NaN</td>\n",
       "      <td>NaN</td>\n",
       "    </tr>\n",
       "  </tbody>\n",
       "</table>\n",
       "</div>"
      ],
      "text/plain": [
       "    caso_id llamante_descripcion llamante_genero  \\\n",
       "0  344589.0            Comisaría        Femenino   \n",
       "1  344590.0    Otro/a particular        Femenino   \n",
       "2  344591.0    Otro/a particular        Femenino   \n",
       "3  344590.0    Otro/a particular        Femenino   \n",
       "4  344592.0              Víctima        Femenino   \n",
       "\n",
       "  llamante_vinculo_ninios_presentes        violencia_tipo victima_edad  \\\n",
       "0                   No hay niñas/os  Física y psicológica           23   \n",
       "1                Otra/o no familiar  Física y psicológica           18   \n",
       "2                Otra/o no familiar           Psicológica     Sin dato   \n",
       "3                Otra/o no familiar  Física y psicológica           18   \n",
       "4                   Otra/o familiar  Física y psicológica     Sin dato   \n",
       "\n",
       "  victima_rango_etario victima_genero  victima_cantidad  agresor_cantidad  \\\n",
       "0         18 a 29 años       Femenino                 1                 3   \n",
       "1         18 a 29 años          NS/NC                 2                 1   \n",
       "2             Sin dato       Femenino                 1                 1   \n",
       "3         18 a 29 años       Femenino                 2                 1   \n",
       "4             Sin dato       Femenino                 1                 1   \n",
       "\n",
       "  agresor_genero agresor_relacion_victima  \\\n",
       "0       Femenino                    Madre   \n",
       "1      Masculino                   Pareja   \n",
       "2      Masculino                   Pareja   \n",
       "3      Masculino                   Pareja   \n",
       "4       Femenino                Hermano/a   \n",
       "\n",
       "                                  llamado_derivacion llamado_fecha  \\\n",
       "0  La víctima no aceptó la intervención del Equip...    2017-01-02   \n",
       "1  Está interviniendo o se deriva a otra institución    2017-01-02   \n",
       "2      Llamante solicitó información y/o orientación    2017-01-02   \n",
       "3  Está interviniendo o se deriva a otra institución    2017-01-02   \n",
       "4      Llamante solicitó información y/o orientación    2017-01-02   \n",
       "\n",
       "  llamado_hora llamado_provincia  llamado_provincia_id  \n",
       "0        11:33               NaN                   NaN  \n",
       "1        11:38               NaN                   NaN  \n",
       "2        11:41               NaN                   NaN  \n",
       "3        11:45               NaN                   NaN  \n",
       "4        12:11               NaN                   NaN  "
      ]
     },
     "execution_count": 7,
     "metadata": {},
     "output_type": "execute_result"
    }
   ],
   "source": [
    "data137_LLA.head()"
   ]
  },
  {
   "cell_type": "code",
   "execution_count": 8,
   "id": "8aa8e14b",
   "metadata": {},
   "outputs": [
    {
     "data": {
      "text/plain": [
       "(61437, 17)"
      ]
     },
     "execution_count": 8,
     "metadata": {},
     "output_type": "execute_result"
    }
   ],
   "source": [
    "#Vemos cantidad de columnas y registros\n",
    "data137_LLA.shape"
   ]
  },
  {
   "cell_type": "code",
   "execution_count": 9,
   "id": "cfbd0f92",
   "metadata": {},
   "outputs": [
    {
     "name": "stdout",
     "output_type": "stream",
     "text": [
      "INFO DE 137 LLAMADOS:\n",
      "<class 'pandas.core.frame.DataFrame'>\n",
      "RangeIndex: 61437 entries, 0 to 61436\n",
      "Data columns (total 17 columns):\n",
      " #   Column                             Non-Null Count  Dtype  \n",
      "---  ------                             --------------  -----  \n",
      " 0   caso_id                            61436 non-null  float64\n",
      " 1   llamante_descripcion               61437 non-null  object \n",
      " 2   llamante_genero                    61437 non-null  object \n",
      " 3   llamante_vinculo_ninios_presentes  61437 non-null  object \n",
      " 4   violencia_tipo                     61417 non-null  object \n",
      " 5   victima_edad                       61437 non-null  object \n",
      " 6   victima_rango_etario               61437 non-null  object \n",
      " 7   victima_genero                     61437 non-null  object \n",
      " 8   victima_cantidad                   61437 non-null  int64  \n",
      " 9   agresor_cantidad                   61437 non-null  int64  \n",
      " 10  agresor_genero                     61437 non-null  object \n",
      " 11  agresor_relacion_victima           61437 non-null  object \n",
      " 12  llamado_derivacion                 61437 non-null  object \n",
      " 13  llamado_fecha                      61437 non-null  object \n",
      " 14  llamado_hora                       61437 non-null  object \n",
      " 15  llamado_provincia                  24850 non-null  object \n",
      " 16  llamado_provincia_id               0 non-null      float64\n",
      "dtypes: float64(2), int64(2), object(13)\n",
      "memory usage: 8.0+ MB\n",
      "-------------------\n"
     ]
    }
   ],
   "source": [
    "print(\"INFO DE 137 LLAMADOS:\")\n",
    "data137_LLA.info()\n",
    "print(\"-------------------\")"
   ]
  },
  {
   "cell_type": "code",
   "execution_count": 10,
   "id": "6f5fba60",
   "metadata": {},
   "outputs": [
    {
     "data": {
      "text/html": [
       "<div>\n",
       "<style scoped>\n",
       "    .dataframe tbody tr th:only-of-type {\n",
       "        vertical-align: middle;\n",
       "    }\n",
       "\n",
       "    .dataframe tbody tr th {\n",
       "        vertical-align: top;\n",
       "    }\n",
       "\n",
       "    .dataframe thead th {\n",
       "        text-align: right;\n",
       "    }\n",
       "</style>\n",
       "<table border=\"1\" class=\"dataframe\">\n",
       "  <thead>\n",
       "    <tr style=\"text-align: right;\">\n",
       "      <th></th>\n",
       "      <th>Columna</th>\n",
       "      <th>Valores nulos</th>\n",
       "      <th>Porcentaje (%)</th>\n",
       "    </tr>\n",
       "  </thead>\n",
       "  <tbody>\n",
       "    <tr>\n",
       "      <th>llamado_provincia_id</th>\n",
       "      <td>llamado_provincia_id</td>\n",
       "      <td>61437</td>\n",
       "      <td>100.00</td>\n",
       "    </tr>\n",
       "    <tr>\n",
       "      <th>llamado_provincia</th>\n",
       "      <td>llamado_provincia</td>\n",
       "      <td>36587</td>\n",
       "      <td>59.55</td>\n",
       "    </tr>\n",
       "    <tr>\n",
       "      <th>violencia_tipo</th>\n",
       "      <td>violencia_tipo</td>\n",
       "      <td>20</td>\n",
       "      <td>0.03</td>\n",
       "    </tr>\n",
       "    <tr>\n",
       "      <th>agresor_cantidad</th>\n",
       "      <td>agresor_cantidad</td>\n",
       "      <td>0</td>\n",
       "      <td>0.00</td>\n",
       "    </tr>\n",
       "    <tr>\n",
       "      <th>llamado_hora</th>\n",
       "      <td>llamado_hora</td>\n",
       "      <td>0</td>\n",
       "      <td>0.00</td>\n",
       "    </tr>\n",
       "    <tr>\n",
       "      <th>llamado_fecha</th>\n",
       "      <td>llamado_fecha</td>\n",
       "      <td>0</td>\n",
       "      <td>0.00</td>\n",
       "    </tr>\n",
       "    <tr>\n",
       "      <th>llamado_derivacion</th>\n",
       "      <td>llamado_derivacion</td>\n",
       "      <td>0</td>\n",
       "      <td>0.00</td>\n",
       "    </tr>\n",
       "    <tr>\n",
       "      <th>agresor_relacion_victima</th>\n",
       "      <td>agresor_relacion_victima</td>\n",
       "      <td>0</td>\n",
       "      <td>0.00</td>\n",
       "    </tr>\n",
       "    <tr>\n",
       "      <th>agresor_genero</th>\n",
       "      <td>agresor_genero</td>\n",
       "      <td>0</td>\n",
       "      <td>0.00</td>\n",
       "    </tr>\n",
       "    <tr>\n",
       "      <th>caso_id</th>\n",
       "      <td>caso_id</td>\n",
       "      <td>1</td>\n",
       "      <td>0.00</td>\n",
       "    </tr>\n",
       "    <tr>\n",
       "      <th>llamante_descripcion</th>\n",
       "      <td>llamante_descripcion</td>\n",
       "      <td>0</td>\n",
       "      <td>0.00</td>\n",
       "    </tr>\n",
       "    <tr>\n",
       "      <th>victima_genero</th>\n",
       "      <td>victima_genero</td>\n",
       "      <td>0</td>\n",
       "      <td>0.00</td>\n",
       "    </tr>\n",
       "    <tr>\n",
       "      <th>victima_rango_etario</th>\n",
       "      <td>victima_rango_etario</td>\n",
       "      <td>0</td>\n",
       "      <td>0.00</td>\n",
       "    </tr>\n",
       "    <tr>\n",
       "      <th>victima_edad</th>\n",
       "      <td>victima_edad</td>\n",
       "      <td>0</td>\n",
       "      <td>0.00</td>\n",
       "    </tr>\n",
       "    <tr>\n",
       "      <th>llamante_vinculo_ninios_presentes</th>\n",
       "      <td>llamante_vinculo_ninios_presentes</td>\n",
       "      <td>0</td>\n",
       "      <td>0.00</td>\n",
       "    </tr>\n",
       "    <tr>\n",
       "      <th>llamante_genero</th>\n",
       "      <td>llamante_genero</td>\n",
       "      <td>0</td>\n",
       "      <td>0.00</td>\n",
       "    </tr>\n",
       "    <tr>\n",
       "      <th>victima_cantidad</th>\n",
       "      <td>victima_cantidad</td>\n",
       "      <td>0</td>\n",
       "      <td>0.00</td>\n",
       "    </tr>\n",
       "  </tbody>\n",
       "</table>\n",
       "</div>"
      ],
      "text/plain": [
       "                                                             Columna  \\\n",
       "llamado_provincia_id                            llamado_provincia_id   \n",
       "llamado_provincia                                  llamado_provincia   \n",
       "violencia_tipo                                        violencia_tipo   \n",
       "agresor_cantidad                                    agresor_cantidad   \n",
       "llamado_hora                                            llamado_hora   \n",
       "llamado_fecha                                          llamado_fecha   \n",
       "llamado_derivacion                                llamado_derivacion   \n",
       "agresor_relacion_victima                    agresor_relacion_victima   \n",
       "agresor_genero                                        agresor_genero   \n",
       "caso_id                                                      caso_id   \n",
       "llamante_descripcion                            llamante_descripcion   \n",
       "victima_genero                                        victima_genero   \n",
       "victima_rango_etario                            victima_rango_etario   \n",
       "victima_edad                                            victima_edad   \n",
       "llamante_vinculo_ninios_presentes  llamante_vinculo_ninios_presentes   \n",
       "llamante_genero                                      llamante_genero   \n",
       "victima_cantidad                                    victima_cantidad   \n",
       "\n",
       "                                   Valores nulos  Porcentaje (%)  \n",
       "llamado_provincia_id                       61437          100.00  \n",
       "llamado_provincia                          36587           59.55  \n",
       "violencia_tipo                                20            0.03  \n",
       "agresor_cantidad                               0            0.00  \n",
       "llamado_hora                                   0            0.00  \n",
       "llamado_fecha                                  0            0.00  \n",
       "llamado_derivacion                             0            0.00  \n",
       "agresor_relacion_victima                       0            0.00  \n",
       "agresor_genero                                 0            0.00  \n",
       "caso_id                                        1            0.00  \n",
       "llamante_descripcion                           0            0.00  \n",
       "victima_genero                                 0            0.00  \n",
       "victima_rango_etario                           0            0.00  \n",
       "victima_edad                                   0            0.00  \n",
       "llamante_vinculo_ninios_presentes              0            0.00  \n",
       "llamante_genero                                0            0.00  \n",
       "victima_cantidad                               0            0.00  "
      ]
     },
     "execution_count": 10,
     "metadata": {},
     "output_type": "execute_result"
    }
   ],
   "source": [
    "faltantes = pd.DataFrame({\n",
    "    'Columna': data137_LLA.columns,\n",
    "    'Valores nulos': data137_LLA.isnull().sum(),\n",
    "    'Porcentaje (%)': round(data137_LLA.isnull().mean() * 100, 2)\n",
    "}).sort_values(by='Porcentaje (%)', ascending=False)\n",
    "\n",
    "faltantes.head(17)"
   ]
  },
  {
   "cell_type": "markdown",
   "id": "0ea48d51",
   "metadata": {},
   "source": [
    "## Linea 144 - Exploración Inicial"
   ]
  },
  {
   "cell_type": "code",
   "execution_count": 11,
   "id": "04aeaf45",
   "metadata": {},
   "outputs": [
    {
     "data": {
      "text/html": [
       "<div>\n",
       "<style scoped>\n",
       "    .dataframe tbody tr th:only-of-type {\n",
       "        vertical-align: middle;\n",
       "    }\n",
       "\n",
       "    .dataframe tbody tr th {\n",
       "        vertical-align: top;\n",
       "    }\n",
       "\n",
       "    .dataframe thead th {\n",
       "        text-align: right;\n",
       "    }\n",
       "</style>\n",
       "<table border=\"1\" class=\"dataframe\">\n",
       "  <thead>\n",
       "    <tr style=\"text-align: right;\">\n",
       "      <th></th>\n",
       "      <th>fecha</th>\n",
       "      <th>prov_residencia_persona_en_situacion_violencia</th>\n",
       "      <th>genero_persona_en_situacion_de_violencia</th>\n",
       "      <th>edad_persona_en_situacion_de_violencia</th>\n",
       "      <th>pais_nacimiento_persona_en_situacion_de_violencia</th>\n",
       "      <th>tipo_de_violencia_fisica</th>\n",
       "      <th>tipo_de_violencia_psicologica</th>\n",
       "      <th>tipo_de_violencia_sexual</th>\n",
       "      <th>tipo_de_violencia_economica_y_patrimonial</th>\n",
       "      <th>tipo_de_violencia_simbolica</th>\n",
       "      <th>tipo_de_violencia_domestica</th>\n",
       "      <th>modalidad_de_violencia_institucional</th>\n",
       "      <th>modalidad_de_violencia_laboral</th>\n",
       "      <th>modalidad_violencia_contra_libertad_reproductiva</th>\n",
       "      <th>modalidad_de_violencia_obstetrica</th>\n",
       "      <th>modalidad_de_violencia_mediatica</th>\n",
       "      <th>modalidad_de_violencia_otras</th>\n",
       "      <th>vinculo_con_la_persona_agresora</th>\n",
       "      <th>genero_de_la_persona_agresora</th>\n",
       "    </tr>\n",
       "  </thead>\n",
       "  <tbody>\n",
       "    <tr>\n",
       "      <th>0</th>\n",
       "      <td>2020-01-01</td>\n",
       "      <td>Tucumán</td>\n",
       "      <td>Mujer</td>\n",
       "      <td>NaN</td>\n",
       "      <td>NaN</td>\n",
       "      <td>Si</td>\n",
       "      <td>Si</td>\n",
       "      <td>No</td>\n",
       "      <td>No</td>\n",
       "      <td>No</td>\n",
       "      <td>Si</td>\n",
       "      <td>No</td>\n",
       "      <td>No</td>\n",
       "      <td>No</td>\n",
       "      <td>No</td>\n",
       "      <td>No</td>\n",
       "      <td>No</td>\n",
       "      <td>Pareja</td>\n",
       "      <td>Varon</td>\n",
       "    </tr>\n",
       "    <tr>\n",
       "      <th>1</th>\n",
       "      <td>2020-01-01</td>\n",
       "      <td>Buenos Aires</td>\n",
       "      <td>Mujer</td>\n",
       "      <td>39.0</td>\n",
       "      <td>NaN</td>\n",
       "      <td>Si</td>\n",
       "      <td>Si</td>\n",
       "      <td>No</td>\n",
       "      <td>No</td>\n",
       "      <td>No</td>\n",
       "      <td>Si</td>\n",
       "      <td>No</td>\n",
       "      <td>No</td>\n",
       "      <td>No</td>\n",
       "      <td>No</td>\n",
       "      <td>No</td>\n",
       "      <td>No</td>\n",
       "      <td>Ex pareja</td>\n",
       "      <td>Varon</td>\n",
       "    </tr>\n",
       "    <tr>\n",
       "      <th>2</th>\n",
       "      <td>2020-01-01</td>\n",
       "      <td>Buenos Aires</td>\n",
       "      <td>Mujer</td>\n",
       "      <td>22.0</td>\n",
       "      <td>Argentina</td>\n",
       "      <td>Si</td>\n",
       "      <td>Si</td>\n",
       "      <td>No</td>\n",
       "      <td>No</td>\n",
       "      <td>No</td>\n",
       "      <td>Si</td>\n",
       "      <td>No</td>\n",
       "      <td>No</td>\n",
       "      <td>No</td>\n",
       "      <td>No</td>\n",
       "      <td>No</td>\n",
       "      <td>No</td>\n",
       "      <td>Ex pareja</td>\n",
       "      <td>Varon</td>\n",
       "    </tr>\n",
       "    <tr>\n",
       "      <th>3</th>\n",
       "      <td>2020-01-01</td>\n",
       "      <td>Buenos Aires</td>\n",
       "      <td>Mujer</td>\n",
       "      <td>53.0</td>\n",
       "      <td>NaN</td>\n",
       "      <td>No</td>\n",
       "      <td>Si</td>\n",
       "      <td>No</td>\n",
       "      <td>No</td>\n",
       "      <td>No</td>\n",
       "      <td>Si</td>\n",
       "      <td>No</td>\n",
       "      <td>No</td>\n",
       "      <td>No</td>\n",
       "      <td>No</td>\n",
       "      <td>No</td>\n",
       "      <td>No</td>\n",
       "      <td>Pareja</td>\n",
       "      <td>Varon</td>\n",
       "    </tr>\n",
       "    <tr>\n",
       "      <th>4</th>\n",
       "      <td>2020-01-01</td>\n",
       "      <td>Buenos Aires</td>\n",
       "      <td>Mujer</td>\n",
       "      <td>38.0</td>\n",
       "      <td>Argentina</td>\n",
       "      <td>Si</td>\n",
       "      <td>Si</td>\n",
       "      <td>No</td>\n",
       "      <td>No</td>\n",
       "      <td>No</td>\n",
       "      <td>Si</td>\n",
       "      <td>No</td>\n",
       "      <td>No</td>\n",
       "      <td>No</td>\n",
       "      <td>No</td>\n",
       "      <td>No</td>\n",
       "      <td>No</td>\n",
       "      <td>Pareja</td>\n",
       "      <td>Varon</td>\n",
       "    </tr>\n",
       "  </tbody>\n",
       "</table>\n",
       "</div>"
      ],
      "text/plain": [
       "        fecha prov_residencia_persona_en_situacion_violencia  \\\n",
       "0  2020-01-01                                        Tucumán   \n",
       "1  2020-01-01                                   Buenos Aires   \n",
       "2  2020-01-01                                   Buenos Aires   \n",
       "3  2020-01-01                                   Buenos Aires   \n",
       "4  2020-01-01                                   Buenos Aires   \n",
       "\n",
       "  genero_persona_en_situacion_de_violencia  \\\n",
       "0                                    Mujer   \n",
       "1                                    Mujer   \n",
       "2                                    Mujer   \n",
       "3                                    Mujer   \n",
       "4                                    Mujer   \n",
       "\n",
       "   edad_persona_en_situacion_de_violencia  \\\n",
       "0                                     NaN   \n",
       "1                                    39.0   \n",
       "2                                    22.0   \n",
       "3                                    53.0   \n",
       "4                                    38.0   \n",
       "\n",
       "  pais_nacimiento_persona_en_situacion_de_violencia tipo_de_violencia_fisica  \\\n",
       "0                                               NaN                       Si   \n",
       "1                                               NaN                       Si   \n",
       "2                                         Argentina                       Si   \n",
       "3                                               NaN                       No   \n",
       "4                                         Argentina                       Si   \n",
       "\n",
       "  tipo_de_violencia_psicologica tipo_de_violencia_sexual  \\\n",
       "0                            Si                       No   \n",
       "1                            Si                       No   \n",
       "2                            Si                       No   \n",
       "3                            Si                       No   \n",
       "4                            Si                       No   \n",
       "\n",
       "  tipo_de_violencia_economica_y_patrimonial tipo_de_violencia_simbolica  \\\n",
       "0                                        No                          No   \n",
       "1                                        No                          No   \n",
       "2                                        No                          No   \n",
       "3                                        No                          No   \n",
       "4                                        No                          No   \n",
       "\n",
       "  tipo_de_violencia_domestica modalidad_de_violencia_institucional  \\\n",
       "0                          Si                                   No   \n",
       "1                          Si                                   No   \n",
       "2                          Si                                   No   \n",
       "3                          Si                                   No   \n",
       "4                          Si                                   No   \n",
       "\n",
       "  modalidad_de_violencia_laboral  \\\n",
       "0                             No   \n",
       "1                             No   \n",
       "2                             No   \n",
       "3                             No   \n",
       "4                             No   \n",
       "\n",
       "  modalidad_violencia_contra_libertad_reproductiva  \\\n",
       "0                                               No   \n",
       "1                                               No   \n",
       "2                                               No   \n",
       "3                                               No   \n",
       "4                                               No   \n",
       "\n",
       "  modalidad_de_violencia_obstetrica modalidad_de_violencia_mediatica  \\\n",
       "0                                No                               No   \n",
       "1                                No                               No   \n",
       "2                                No                               No   \n",
       "3                                No                               No   \n",
       "4                                No                               No   \n",
       "\n",
       "  modalidad_de_violencia_otras vinculo_con_la_persona_agresora  \\\n",
       "0                           No                          Pareja   \n",
       "1                           No                       Ex pareja   \n",
       "2                           No                       Ex pareja   \n",
       "3                           No                          Pareja   \n",
       "4                           No                          Pareja   \n",
       "\n",
       "  genero_de_la_persona_agresora  \n",
       "0                         Varon  \n",
       "1                         Varon  \n",
       "2                         Varon  \n",
       "3                         Varon  \n",
       "4                         Varon  "
      ]
     },
     "execution_count": 11,
     "metadata": {},
     "output_type": "execute_result"
    }
   ],
   "source": [
    "data144_20.head()"
   ]
  },
  {
   "cell_type": "code",
   "execution_count": 12,
   "id": "99f0ec08",
   "metadata": {},
   "outputs": [
    {
     "data": {
      "text/plain": [
       "(29706, 19)"
      ]
     },
     "execution_count": 12,
     "metadata": {},
     "output_type": "execute_result"
    }
   ],
   "source": [
    "data144_20.shape"
   ]
  },
  {
   "cell_type": "code",
   "execution_count": 13,
   "id": "9dfae2ab",
   "metadata": {},
   "outputs": [
    {
     "name": "stdout",
     "output_type": "stream",
     "text": [
      "INFO DE 144-2020:\n",
      "<class 'pandas.core.frame.DataFrame'>\n",
      "RangeIndex: 29706 entries, 0 to 29705\n",
      "Data columns (total 19 columns):\n",
      " #   Column                                             Non-Null Count  Dtype  \n",
      "---  ------                                             --------------  -----  \n",
      " 0   fecha                                              29706 non-null  object \n",
      " 1   prov_residencia_persona_en_situacion_violencia     29278 non-null  object \n",
      " 2   genero_persona_en_situacion_de_violencia           29127 non-null  object \n",
      " 3   edad_persona_en_situacion_de_violencia             23986 non-null  float64\n",
      " 4   pais_nacimiento_persona_en_situacion_de_violencia  19871 non-null  object \n",
      " 5   tipo_de_violencia_fisica                           29706 non-null  object \n",
      " 6   tipo_de_violencia_psicologica                      29706 non-null  object \n",
      " 7   tipo_de_violencia_sexual                           29706 non-null  object \n",
      " 8   tipo_de_violencia_economica_y_patrimonial          29706 non-null  object \n",
      " 9   tipo_de_violencia_simbolica                        29706 non-null  object \n",
      " 10  tipo_de_violencia_domestica                        29706 non-null  object \n",
      " 11  modalidad_de_violencia_institucional               29706 non-null  object \n",
      " 12  modalidad_de_violencia_laboral                     29706 non-null  object \n",
      " 13  modalidad_violencia_contra_libertad_reproductiva   29706 non-null  object \n",
      " 14  modalidad_de_violencia_obstetrica                  29706 non-null  object \n",
      " 15  modalidad_de_violencia_mediatica                   29706 non-null  object \n",
      " 16  modalidad_de_violencia_otras                       29706 non-null  object \n",
      " 17  vinculo_con_la_persona_agresora                    28928 non-null  object \n",
      " 18  genero_de_la_persona_agresora                      27158 non-null  object \n",
      "dtypes: float64(1), object(18)\n",
      "memory usage: 4.3+ MB\n",
      "-------------------\n"
     ]
    }
   ],
   "source": [
    "\n",
    "print(\"INFO DE 144-2020:\")\n",
    "data144_20.info()\n",
    "print(\"-------------------\")"
   ]
  },
  {
   "cell_type": "code",
   "execution_count": 14,
   "id": "716a78ca",
   "metadata": {},
   "outputs": [
    {
     "data": {
      "text/html": [
       "<div>\n",
       "<style scoped>\n",
       "    .dataframe tbody tr th:only-of-type {\n",
       "        vertical-align: middle;\n",
       "    }\n",
       "\n",
       "    .dataframe tbody tr th {\n",
       "        vertical-align: top;\n",
       "    }\n",
       "\n",
       "    .dataframe thead th {\n",
       "        text-align: right;\n",
       "    }\n",
       "</style>\n",
       "<table border=\"1\" class=\"dataframe\">\n",
       "  <thead>\n",
       "    <tr style=\"text-align: right;\">\n",
       "      <th></th>\n",
       "      <th>fecha</th>\n",
       "      <th>prov_residencia_persona_en_situacion_violencia</th>\n",
       "      <th>genero_persona_en_situacion_de_violencia</th>\n",
       "      <th>edad_persona_en_situacion_de_violencia</th>\n",
       "      <th>pais_nacimiento_persona_en_situacion_de_violencia</th>\n",
       "      <th>tipo_de_violencia_fisica</th>\n",
       "      <th>tipo_de_violencia_psicologica</th>\n",
       "      <th>tipo_de_violencia_sexual</th>\n",
       "      <th>tipo_de_violencia_economica_y_patrimonial</th>\n",
       "      <th>tipo_de_violencia_simbolica</th>\n",
       "      <th>tipo_de_violencia_domestica</th>\n",
       "      <th>modalidad_de_violencia_institucional</th>\n",
       "      <th>modalidad_de_violencia_laboral</th>\n",
       "      <th>modalidad_violencia_contra_libertad_reproductiva</th>\n",
       "      <th>modalidad_de_violencia_obstetrica</th>\n",
       "      <th>modalidad_de_violencia_mediatica</th>\n",
       "      <th>modalidad_de_violencia_otras</th>\n",
       "      <th>vinculo_con_la_persona_agresora</th>\n",
       "      <th>genero_de_la_persona_agresora</th>\n",
       "    </tr>\n",
       "  </thead>\n",
       "  <tbody>\n",
       "    <tr>\n",
       "      <th>0</th>\n",
       "      <td>2021-01-01</td>\n",
       "      <td>Buenos Aires</td>\n",
       "      <td>Mujer</td>\n",
       "      <td>73.0</td>\n",
       "      <td>Argentina</td>\n",
       "      <td>Si</td>\n",
       "      <td>Si</td>\n",
       "      <td>No</td>\n",
       "      <td>No</td>\n",
       "      <td>No</td>\n",
       "      <td>Si</td>\n",
       "      <td>No</td>\n",
       "      <td>No</td>\n",
       "      <td>No</td>\n",
       "      <td>No</td>\n",
       "      <td>No</td>\n",
       "      <td>No</td>\n",
       "      <td>Pareja</td>\n",
       "      <td>Varon</td>\n",
       "    </tr>\n",
       "    <tr>\n",
       "      <th>1</th>\n",
       "      <td>2021-01-01</td>\n",
       "      <td>Buenos Aires</td>\n",
       "      <td>Mujer</td>\n",
       "      <td>32.0</td>\n",
       "      <td>Argentina</td>\n",
       "      <td>Si</td>\n",
       "      <td>Si</td>\n",
       "      <td>No</td>\n",
       "      <td>No</td>\n",
       "      <td>No</td>\n",
       "      <td>Si</td>\n",
       "      <td>No</td>\n",
       "      <td>No</td>\n",
       "      <td>No</td>\n",
       "      <td>No</td>\n",
       "      <td>No</td>\n",
       "      <td>No</td>\n",
       "      <td>Ex pareja</td>\n",
       "      <td>Varon</td>\n",
       "    </tr>\n",
       "    <tr>\n",
       "      <th>2</th>\n",
       "      <td>2021-01-01</td>\n",
       "      <td>Ciudad Autónoma de Buenos Aires</td>\n",
       "      <td>Mujer</td>\n",
       "      <td>33.0</td>\n",
       "      <td>NaN</td>\n",
       "      <td>No</td>\n",
       "      <td>Si</td>\n",
       "      <td>No</td>\n",
       "      <td>No</td>\n",
       "      <td>No</td>\n",
       "      <td>Si</td>\n",
       "      <td>No</td>\n",
       "      <td>No</td>\n",
       "      <td>No</td>\n",
       "      <td>No</td>\n",
       "      <td>No</td>\n",
       "      <td>No</td>\n",
       "      <td>Ex pareja</td>\n",
       "      <td>Varon</td>\n",
       "    </tr>\n",
       "    <tr>\n",
       "      <th>3</th>\n",
       "      <td>2021-01-01</td>\n",
       "      <td>Ciudad Autónoma de Buenos Aires</td>\n",
       "      <td>Mujer</td>\n",
       "      <td>45.0</td>\n",
       "      <td>Argentina</td>\n",
       "      <td>No</td>\n",
       "      <td>Si</td>\n",
       "      <td>No</td>\n",
       "      <td>No</td>\n",
       "      <td>No</td>\n",
       "      <td>Si</td>\n",
       "      <td>No</td>\n",
       "      <td>No</td>\n",
       "      <td>No</td>\n",
       "      <td>No</td>\n",
       "      <td>No</td>\n",
       "      <td>No</td>\n",
       "      <td>Ex pareja</td>\n",
       "      <td>Varon</td>\n",
       "    </tr>\n",
       "    <tr>\n",
       "      <th>4</th>\n",
       "      <td>2021-01-01</td>\n",
       "      <td>Ciudad Autónoma de Buenos Aires</td>\n",
       "      <td>Mujer</td>\n",
       "      <td>32.0</td>\n",
       "      <td>Argentina</td>\n",
       "      <td>Si</td>\n",
       "      <td>Si</td>\n",
       "      <td>No</td>\n",
       "      <td>No</td>\n",
       "      <td>No</td>\n",
       "      <td>Si</td>\n",
       "      <td>No</td>\n",
       "      <td>No</td>\n",
       "      <td>No</td>\n",
       "      <td>No</td>\n",
       "      <td>No</td>\n",
       "      <td>No</td>\n",
       "      <td>Ex pareja</td>\n",
       "      <td>Varon</td>\n",
       "    </tr>\n",
       "  </tbody>\n",
       "</table>\n",
       "</div>"
      ],
      "text/plain": [
       "        fecha prov_residencia_persona_en_situacion_violencia  \\\n",
       "0  2021-01-01                                   Buenos Aires   \n",
       "1  2021-01-01                                   Buenos Aires   \n",
       "2  2021-01-01                Ciudad Autónoma de Buenos Aires   \n",
       "3  2021-01-01                Ciudad Autónoma de Buenos Aires   \n",
       "4  2021-01-01                Ciudad Autónoma de Buenos Aires   \n",
       "\n",
       "  genero_persona_en_situacion_de_violencia  \\\n",
       "0                                    Mujer   \n",
       "1                                    Mujer   \n",
       "2                                    Mujer   \n",
       "3                                    Mujer   \n",
       "4                                    Mujer   \n",
       "\n",
       "   edad_persona_en_situacion_de_violencia  \\\n",
       "0                                    73.0   \n",
       "1                                    32.0   \n",
       "2                                    33.0   \n",
       "3                                    45.0   \n",
       "4                                    32.0   \n",
       "\n",
       "  pais_nacimiento_persona_en_situacion_de_violencia tipo_de_violencia_fisica  \\\n",
       "0                                         Argentina                       Si   \n",
       "1                                         Argentina                       Si   \n",
       "2                                               NaN                       No   \n",
       "3                                         Argentina                       No   \n",
       "4                                         Argentina                       Si   \n",
       "\n",
       "  tipo_de_violencia_psicologica tipo_de_violencia_sexual  \\\n",
       "0                            Si                       No   \n",
       "1                            Si                       No   \n",
       "2                            Si                       No   \n",
       "3                            Si                       No   \n",
       "4                            Si                       No   \n",
       "\n",
       "  tipo_de_violencia_economica_y_patrimonial tipo_de_violencia_simbolica  \\\n",
       "0                                        No                          No   \n",
       "1                                        No                          No   \n",
       "2                                        No                          No   \n",
       "3                                        No                          No   \n",
       "4                                        No                          No   \n",
       "\n",
       "  tipo_de_violencia_domestica modalidad_de_violencia_institucional  \\\n",
       "0                          Si                                   No   \n",
       "1                          Si                                   No   \n",
       "2                          Si                                   No   \n",
       "3                          Si                                   No   \n",
       "4                          Si                                   No   \n",
       "\n",
       "  modalidad_de_violencia_laboral  \\\n",
       "0                             No   \n",
       "1                             No   \n",
       "2                             No   \n",
       "3                             No   \n",
       "4                             No   \n",
       "\n",
       "  modalidad_violencia_contra_libertad_reproductiva  \\\n",
       "0                                               No   \n",
       "1                                               No   \n",
       "2                                               No   \n",
       "3                                               No   \n",
       "4                                               No   \n",
       "\n",
       "  modalidad_de_violencia_obstetrica modalidad_de_violencia_mediatica  \\\n",
       "0                                No                               No   \n",
       "1                                No                               No   \n",
       "2                                No                               No   \n",
       "3                                No                               No   \n",
       "4                                No                               No   \n",
       "\n",
       "  modalidad_de_violencia_otras vinculo_con_la_persona_agresora  \\\n",
       "0                           No                          Pareja   \n",
       "1                           No                       Ex pareja   \n",
       "2                           No                       Ex pareja   \n",
       "3                           No                       Ex pareja   \n",
       "4                           No                       Ex pareja   \n",
       "\n",
       "  genero_de_la_persona_agresora  \n",
       "0                         Varon  \n",
       "1                         Varon  \n",
       "2                         Varon  \n",
       "3                         Varon  \n",
       "4                         Varon  "
      ]
     },
     "execution_count": 14,
     "metadata": {},
     "output_type": "execute_result"
    }
   ],
   "source": [
    "data144_21.head()\n"
   ]
  },
  {
   "cell_type": "code",
   "execution_count": 15,
   "id": "f5cb9583",
   "metadata": {},
   "outputs": [
    {
     "data": {
      "text/plain": [
       "(25301, 19)"
      ]
     },
     "execution_count": 15,
     "metadata": {},
     "output_type": "execute_result"
    }
   ],
   "source": [
    "data144_21.shape"
   ]
  },
  {
   "cell_type": "code",
   "execution_count": 16,
   "id": "f1081e02",
   "metadata": {},
   "outputs": [
    {
     "name": "stdout",
     "output_type": "stream",
     "text": [
      "INFO DE 144-2021:\n",
      "<class 'pandas.core.frame.DataFrame'>\n",
      "RangeIndex: 25301 entries, 0 to 25300\n",
      "Data columns (total 19 columns):\n",
      " #   Column                                             Non-Null Count  Dtype  \n",
      "---  ------                                             --------------  -----  \n",
      " 0   fecha                                              25301 non-null  object \n",
      " 1   prov_residencia_persona_en_situacion_violencia     24887 non-null  object \n",
      " 2   genero_persona_en_situacion_de_violencia           24858 non-null  object \n",
      " 3   edad_persona_en_situacion_de_violencia             20544 non-null  float64\n",
      " 4   pais_nacimiento_persona_en_situacion_de_violencia  16418 non-null  object \n",
      " 5   tipo_de_violencia_fisica                           25301 non-null  object \n",
      " 6   tipo_de_violencia_psicologica                      25301 non-null  object \n",
      " 7   tipo_de_violencia_sexual                           25301 non-null  object \n",
      " 8   tipo_de_violencia_economica_y_patrimonial          25301 non-null  object \n",
      " 9   tipo_de_violencia_simbolica                        25301 non-null  object \n",
      " 10  tipo_de_violencia_domestica                        25301 non-null  object \n",
      " 11  modalidad_de_violencia_institucional               25301 non-null  object \n",
      " 12  modalidad_de_violencia_laboral                     25301 non-null  object \n",
      " 13  modalidad_violencia_contra_libertad_reproductiva   25301 non-null  object \n",
      " 14  modalidad_de_violencia_obstetrica                  25301 non-null  object \n",
      " 15  modalidad_de_violencia_mediatica                   25301 non-null  object \n",
      " 16  modalidad_de_violencia_otras                       25301 non-null  object \n",
      " 17  vinculo_con_la_persona_agresora                    24261 non-null  object \n",
      " 18  genero_de_la_persona_agresora                      22631 non-null  object \n",
      "dtypes: float64(1), object(18)\n",
      "memory usage: 3.7+ MB\n",
      "-------------------\n"
     ]
    }
   ],
   "source": [
    "\n",
    "print(\"INFO DE 144-2021:\")\n",
    "data144_21.info()\n",
    "print(\"-------------------\")"
   ]
  },
  {
   "cell_type": "code",
   "execution_count": 17,
   "id": "fce2ae71",
   "metadata": {},
   "outputs": [
    {
     "data": {
      "text/html": [
       "<div>\n",
       "<style scoped>\n",
       "    .dataframe tbody tr th:only-of-type {\n",
       "        vertical-align: middle;\n",
       "    }\n",
       "\n",
       "    .dataframe tbody tr th {\n",
       "        vertical-align: top;\n",
       "    }\n",
       "\n",
       "    .dataframe thead th {\n",
       "        text-align: right;\n",
       "    }\n",
       "</style>\n",
       "<table border=\"1\" class=\"dataframe\">\n",
       "  <thead>\n",
       "    <tr style=\"text-align: right;\">\n",
       "      <th></th>\n",
       "      <th>Fecha</th>\n",
       "      <th>prov_residencia_persona_en_situacion_violencia</th>\n",
       "      <th>genero_persona_en_situacion_de_violencia</th>\n",
       "      <th>edad_persona_en_situacion_de_violencia</th>\n",
       "      <th>pais_nacimiento_persona_en_situacion_de_violencia</th>\n",
       "      <th>tipo_de_violencia_fisica</th>\n",
       "      <th>tipo_de_violencia_psicologica</th>\n",
       "      <th>tipo_de_violencia_sexual</th>\n",
       "      <th>tipo_de_violencia_economica_y_patrimonial</th>\n",
       "      <th>tipo_de_violencia_simbolica</th>\n",
       "      <th>tipo_de_violencia_domestica</th>\n",
       "      <th>modalidad_de_violencia_institucional</th>\n",
       "      <th>modalidad_de_violencia_laboral</th>\n",
       "      <th>modalidad_violencia_contra_libertad_reproductiva</th>\n",
       "      <th>modalidad_de_violencia_obstetrica</th>\n",
       "      <th>modalidad_de_violencia_mediatica</th>\n",
       "      <th>modalidad_de_violencia_otras</th>\n",
       "      <th>vinculo_con_la_persona_agresora</th>\n",
       "      <th>genero_de_la_persona_agresora</th>\n",
       "      <th>Unnamed: 19</th>\n",
       "    </tr>\n",
       "  </thead>\n",
       "  <tbody>\n",
       "    <tr>\n",
       "      <th>0</th>\n",
       "      <td>2022-01-01</td>\n",
       "      <td>Buenos Aires</td>\n",
       "      <td>Mujer</td>\n",
       "      <td>31.0</td>\n",
       "      <td>Argentina</td>\n",
       "      <td>Si</td>\n",
       "      <td>Si</td>\n",
       "      <td>No</td>\n",
       "      <td>No</td>\n",
       "      <td>No</td>\n",
       "      <td>Si</td>\n",
       "      <td>No</td>\n",
       "      <td>No</td>\n",
       "      <td>No</td>\n",
       "      <td>No</td>\n",
       "      <td>No</td>\n",
       "      <td>No</td>\n",
       "      <td>Pareja</td>\n",
       "      <td>Varon</td>\n",
       "      <td>NaN</td>\n",
       "    </tr>\n",
       "    <tr>\n",
       "      <th>1</th>\n",
       "      <td>2022-01-01</td>\n",
       "      <td>Buenos Aires</td>\n",
       "      <td>Mujer</td>\n",
       "      <td>31.0</td>\n",
       "      <td>Argentina</td>\n",
       "      <td>Si</td>\n",
       "      <td>Si</td>\n",
       "      <td>No</td>\n",
       "      <td>No</td>\n",
       "      <td>No</td>\n",
       "      <td>Si</td>\n",
       "      <td>No</td>\n",
       "      <td>No</td>\n",
       "      <td>No</td>\n",
       "      <td>No</td>\n",
       "      <td>No</td>\n",
       "      <td>No</td>\n",
       "      <td>Otro familiar</td>\n",
       "      <td>Varon</td>\n",
       "      <td>NaN</td>\n",
       "    </tr>\n",
       "    <tr>\n",
       "      <th>2</th>\n",
       "      <td>2022-01-01</td>\n",
       "      <td>Ciudad Autónoma de Buenos Aires</td>\n",
       "      <td>Mujer</td>\n",
       "      <td>29.0</td>\n",
       "      <td>Boliviana</td>\n",
       "      <td>Si</td>\n",
       "      <td>Si</td>\n",
       "      <td>No</td>\n",
       "      <td>Si</td>\n",
       "      <td>No</td>\n",
       "      <td>Si</td>\n",
       "      <td>No</td>\n",
       "      <td>No</td>\n",
       "      <td>No</td>\n",
       "      <td>No</td>\n",
       "      <td>No</td>\n",
       "      <td>No</td>\n",
       "      <td>Ex pareja</td>\n",
       "      <td>Varon</td>\n",
       "      <td>NaN</td>\n",
       "    </tr>\n",
       "    <tr>\n",
       "      <th>3</th>\n",
       "      <td>2022-01-01</td>\n",
       "      <td>Buenos Aires</td>\n",
       "      <td>Mujer</td>\n",
       "      <td>NaN</td>\n",
       "      <td>NaN</td>\n",
       "      <td>Si</td>\n",
       "      <td>Si</td>\n",
       "      <td>No</td>\n",
       "      <td>No</td>\n",
       "      <td>No</td>\n",
       "      <td>Si</td>\n",
       "      <td>No</td>\n",
       "      <td>No</td>\n",
       "      <td>No</td>\n",
       "      <td>No</td>\n",
       "      <td>No</td>\n",
       "      <td>No</td>\n",
       "      <td>Pareja</td>\n",
       "      <td>Varon</td>\n",
       "      <td>NaN</td>\n",
       "    </tr>\n",
       "    <tr>\n",
       "      <th>4</th>\n",
       "      <td>2022-01-01</td>\n",
       "      <td>Buenos Aires</td>\n",
       "      <td>Mujer</td>\n",
       "      <td>NaN</td>\n",
       "      <td>NaN</td>\n",
       "      <td>Si</td>\n",
       "      <td>Si</td>\n",
       "      <td>No</td>\n",
       "      <td>No</td>\n",
       "      <td>No</td>\n",
       "      <td>Si</td>\n",
       "      <td>No</td>\n",
       "      <td>No</td>\n",
       "      <td>No</td>\n",
       "      <td>No</td>\n",
       "      <td>No</td>\n",
       "      <td>No</td>\n",
       "      <td>Pareja</td>\n",
       "      <td>Varon</td>\n",
       "      <td>NaN</td>\n",
       "    </tr>\n",
       "  </tbody>\n",
       "</table>\n",
       "</div>"
      ],
      "text/plain": [
       "        Fecha prov_residencia_persona_en_situacion_violencia  \\\n",
       "0  2022-01-01                                   Buenos Aires   \n",
       "1  2022-01-01                                   Buenos Aires   \n",
       "2  2022-01-01                Ciudad Autónoma de Buenos Aires   \n",
       "3  2022-01-01                                   Buenos Aires   \n",
       "4  2022-01-01                                   Buenos Aires   \n",
       "\n",
       "  genero_persona_en_situacion_de_violencia  \\\n",
       "0                                    Mujer   \n",
       "1                                    Mujer   \n",
       "2                                    Mujer   \n",
       "3                                    Mujer   \n",
       "4                                    Mujer   \n",
       "\n",
       "   edad_persona_en_situacion_de_violencia  \\\n",
       "0                                    31.0   \n",
       "1                                    31.0   \n",
       "2                                    29.0   \n",
       "3                                     NaN   \n",
       "4                                     NaN   \n",
       "\n",
       "  pais_nacimiento_persona_en_situacion_de_violencia tipo_de_violencia_fisica  \\\n",
       "0                                         Argentina                       Si   \n",
       "1                                         Argentina                       Si   \n",
       "2                                         Boliviana                       Si   \n",
       "3                                               NaN                       Si   \n",
       "4                                               NaN                       Si   \n",
       "\n",
       "  tipo_de_violencia_psicologica tipo_de_violencia_sexual  \\\n",
       "0                            Si                       No   \n",
       "1                            Si                       No   \n",
       "2                            Si                       No   \n",
       "3                            Si                       No   \n",
       "4                            Si                       No   \n",
       "\n",
       "  tipo_de_violencia_economica_y_patrimonial tipo_de_violencia_simbolica  \\\n",
       "0                                        No                          No   \n",
       "1                                        No                          No   \n",
       "2                                        Si                          No   \n",
       "3                                        No                          No   \n",
       "4                                        No                          No   \n",
       "\n",
       "  tipo_de_violencia_domestica modalidad_de_violencia_institucional  \\\n",
       "0                          Si                                   No   \n",
       "1                          Si                                   No   \n",
       "2                          Si                                   No   \n",
       "3                          Si                                   No   \n",
       "4                          Si                                   No   \n",
       "\n",
       "  modalidad_de_violencia_laboral  \\\n",
       "0                             No   \n",
       "1                             No   \n",
       "2                             No   \n",
       "3                             No   \n",
       "4                             No   \n",
       "\n",
       "  modalidad_violencia_contra_libertad_reproductiva  \\\n",
       "0                                               No   \n",
       "1                                               No   \n",
       "2                                               No   \n",
       "3                                               No   \n",
       "4                                               No   \n",
       "\n",
       "  modalidad_de_violencia_obstetrica modalidad_de_violencia_mediatica  \\\n",
       "0                                No                               No   \n",
       "1                                No                               No   \n",
       "2                                No                               No   \n",
       "3                                No                               No   \n",
       "4                                No                               No   \n",
       "\n",
       "  modalidad_de_violencia_otras vinculo_con_la_persona_agresora  \\\n",
       "0                           No                          Pareja   \n",
       "1                           No                   Otro familiar   \n",
       "2                           No                       Ex pareja   \n",
       "3                           No                          Pareja   \n",
       "4                           No                          Pareja   \n",
       "\n",
       "  genero_de_la_persona_agresora  Unnamed: 19  \n",
       "0                         Varon          NaN  \n",
       "1                         Varon          NaN  \n",
       "2                         Varon          NaN  \n",
       "3                         Varon          NaN  \n",
       "4                         Varon          NaN  "
      ]
     },
     "execution_count": 17,
     "metadata": {},
     "output_type": "execute_result"
    }
   ],
   "source": [
    "data144_22.head()\n"
   ]
  },
  {
   "cell_type": "code",
   "execution_count": 18,
   "id": "56ec6b13",
   "metadata": {},
   "outputs": [
    {
     "data": {
      "text/plain": [
       "(24558, 20)"
      ]
     },
     "execution_count": 18,
     "metadata": {},
     "output_type": "execute_result"
    }
   ],
   "source": [
    "data144_22.shape"
   ]
  },
  {
   "cell_type": "code",
   "execution_count": 19,
   "id": "8bfb53e9",
   "metadata": {},
   "outputs": [
    {
     "name": "stdout",
     "output_type": "stream",
     "text": [
      "INFO DE 144-2022:\n",
      "<class 'pandas.core.frame.DataFrame'>\n",
      "RangeIndex: 24558 entries, 0 to 24557\n",
      "Data columns (total 20 columns):\n",
      " #   Column                                             Non-Null Count  Dtype  \n",
      "---  ------                                             --------------  -----  \n",
      " 0   Fecha                                              24558 non-null  object \n",
      " 1   prov_residencia_persona_en_situacion_violencia     24236 non-null  object \n",
      " 2   genero_persona_en_situacion_de_violencia           23939 non-null  object \n",
      " 3   edad_persona_en_situacion_de_violencia             19577 non-null  float64\n",
      " 4   pais_nacimiento_persona_en_situacion_de_violencia  16407 non-null  object \n",
      " 5   tipo_de_violencia_fisica                           24558 non-null  object \n",
      " 6   tipo_de_violencia_psicologica                      24558 non-null  object \n",
      " 7   tipo_de_violencia_sexual                           24558 non-null  object \n",
      " 8   tipo_de_violencia_economica_y_patrimonial          24558 non-null  object \n",
      " 9   tipo_de_violencia_simbolica                        24558 non-null  object \n",
      " 10  tipo_de_violencia_domestica                        24558 non-null  object \n",
      " 11  modalidad_de_violencia_institucional               24558 non-null  object \n",
      " 12  modalidad_de_violencia_laboral                     24558 non-null  object \n",
      " 13  modalidad_violencia_contra_libertad_reproductiva   24558 non-null  object \n",
      " 14  modalidad_de_violencia_obstetrica                  24558 non-null  object \n",
      " 15  modalidad_de_violencia_mediatica                   24558 non-null  object \n",
      " 16  modalidad_de_violencia_otras                       24558 non-null  object \n",
      " 17  vinculo_con_la_persona_agresora                    23384 non-null  object \n",
      " 18  genero_de_la_persona_agresora                      21541 non-null  object \n",
      " 19  Unnamed: 19                                        0 non-null      float64\n",
      "dtypes: float64(2), object(18)\n",
      "memory usage: 3.7+ MB\n",
      "-------------------\n"
     ]
    }
   ],
   "source": [
    "print(\"INFO DE 144-2022:\")\n",
    "data144_22.info()\n",
    "print(\"-------------------\")"
   ]
  },
  {
   "cell_type": "code",
   "execution_count": 20,
   "id": "dbda8ad3",
   "metadata": {},
   "outputs": [
    {
     "data": {
      "text/html": [
       "<div>\n",
       "<style scoped>\n",
       "    .dataframe tbody tr th:only-of-type {\n",
       "        vertical-align: middle;\n",
       "    }\n",
       "\n",
       "    .dataframe tbody tr th {\n",
       "        vertical-align: top;\n",
       "    }\n",
       "\n",
       "    .dataframe thead th {\n",
       "        text-align: right;\n",
       "    }\n",
       "</style>\n",
       "<table border=\"1\" class=\"dataframe\">\n",
       "  <thead>\n",
       "    <tr style=\"text-align: right;\">\n",
       "      <th></th>\n",
       "      <th>Fecha</th>\n",
       "      <th>prov_residencia_persona_en_situacion_violencia</th>\n",
       "      <th>genero_persona_en_situacion_de_violencia</th>\n",
       "      <th>edad_persona_en_situacion_de_violencia</th>\n",
       "      <th>pais_nacimiento_persona_en_situacion_de_violencia</th>\n",
       "      <th>tipo_de_violencia_fisica</th>\n",
       "      <th>tipo_de_violencia_psicologica</th>\n",
       "      <th>tipo_de_violencia_sexual</th>\n",
       "      <th>tipo_de_violencia_economica_y_patrimonial</th>\n",
       "      <th>tipo_de_violencia_simbolica</th>\n",
       "      <th>tipo_de_violencia_domestica</th>\n",
       "      <th>modalidad_de_violencia_institucional</th>\n",
       "      <th>modalidad_de_violencia_laboral</th>\n",
       "      <th>modalidad_violencia_contra_libertad_reproductiva</th>\n",
       "      <th>modalidad_de_violencia_obstetrica</th>\n",
       "      <th>modalidad_de_violencia_mediatica</th>\n",
       "      <th>modalidad_de_violencia_otras</th>\n",
       "      <th>vinculo_con_la_persona_agresora</th>\n",
       "      <th>genero_de_la_persona_agresora</th>\n",
       "    </tr>\n",
       "  </thead>\n",
       "  <tbody>\n",
       "    <tr>\n",
       "      <th>0</th>\n",
       "      <td>2023-01-01</td>\n",
       "      <td>Buenos Aires</td>\n",
       "      <td>Mujer</td>\n",
       "      <td>NaN</td>\n",
       "      <td>NaN</td>\n",
       "      <td>Si</td>\n",
       "      <td>Si</td>\n",
       "      <td>No</td>\n",
       "      <td>No</td>\n",
       "      <td>No</td>\n",
       "      <td>Si</td>\n",
       "      <td>No</td>\n",
       "      <td>No</td>\n",
       "      <td>No</td>\n",
       "      <td>No</td>\n",
       "      <td>No</td>\n",
       "      <td>No</td>\n",
       "      <td>Pareja</td>\n",
       "      <td>Varon</td>\n",
       "    </tr>\n",
       "    <tr>\n",
       "      <th>1</th>\n",
       "      <td>2023-01-01</td>\n",
       "      <td>Buenos Aires</td>\n",
       "      <td>Mujer</td>\n",
       "      <td>19.0</td>\n",
       "      <td>Argentina</td>\n",
       "      <td>Si</td>\n",
       "      <td>Si</td>\n",
       "      <td>Si</td>\n",
       "      <td>No</td>\n",
       "      <td>No</td>\n",
       "      <td>No</td>\n",
       "      <td>No</td>\n",
       "      <td>No</td>\n",
       "      <td>No</td>\n",
       "      <td>No</td>\n",
       "      <td>No</td>\n",
       "      <td>No</td>\n",
       "      <td>Otro</td>\n",
       "      <td>Varon</td>\n",
       "    </tr>\n",
       "    <tr>\n",
       "      <th>2</th>\n",
       "      <td>2023-01-01</td>\n",
       "      <td>Buenos Aires</td>\n",
       "      <td>Mujer</td>\n",
       "      <td>46.0</td>\n",
       "      <td>Argentina</td>\n",
       "      <td>Si</td>\n",
       "      <td>Si</td>\n",
       "      <td>No</td>\n",
       "      <td>No</td>\n",
       "      <td>Si</td>\n",
       "      <td>Si</td>\n",
       "      <td>No</td>\n",
       "      <td>No</td>\n",
       "      <td>No</td>\n",
       "      <td>No</td>\n",
       "      <td>No</td>\n",
       "      <td>No</td>\n",
       "      <td>Pareja</td>\n",
       "      <td>Varon</td>\n",
       "    </tr>\n",
       "    <tr>\n",
       "      <th>3</th>\n",
       "      <td>2023-01-01</td>\n",
       "      <td>Entre Ríos</td>\n",
       "      <td>Mujer</td>\n",
       "      <td>28.0</td>\n",
       "      <td>NaN</td>\n",
       "      <td>No</td>\n",
       "      <td>Si</td>\n",
       "      <td>No</td>\n",
       "      <td>No</td>\n",
       "      <td>Si</td>\n",
       "      <td>Si</td>\n",
       "      <td>No</td>\n",
       "      <td>No</td>\n",
       "      <td>No</td>\n",
       "      <td>No</td>\n",
       "      <td>No</td>\n",
       "      <td>No</td>\n",
       "      <td>Pareja</td>\n",
       "      <td>Varon</td>\n",
       "    </tr>\n",
       "    <tr>\n",
       "      <th>4</th>\n",
       "      <td>2023-01-01</td>\n",
       "      <td>Mendoza</td>\n",
       "      <td>Mujer</td>\n",
       "      <td>34.0</td>\n",
       "      <td>Argentina</td>\n",
       "      <td>No</td>\n",
       "      <td>Si</td>\n",
       "      <td>No</td>\n",
       "      <td>No</td>\n",
       "      <td>No</td>\n",
       "      <td>Si</td>\n",
       "      <td>No</td>\n",
       "      <td>No</td>\n",
       "      <td>No</td>\n",
       "      <td>No</td>\n",
       "      <td>No</td>\n",
       "      <td>No</td>\n",
       "      <td>Ex pareja</td>\n",
       "      <td>Varon</td>\n",
       "    </tr>\n",
       "  </tbody>\n",
       "</table>\n",
       "</div>"
      ],
      "text/plain": [
       "        Fecha prov_residencia_persona_en_situacion_violencia  \\\n",
       "0  2023-01-01                                   Buenos Aires   \n",
       "1  2023-01-01                                   Buenos Aires   \n",
       "2  2023-01-01                                   Buenos Aires   \n",
       "3  2023-01-01                                     Entre Ríos   \n",
       "4  2023-01-01                                        Mendoza   \n",
       "\n",
       "  genero_persona_en_situacion_de_violencia  \\\n",
       "0                                    Mujer   \n",
       "1                                    Mujer   \n",
       "2                                    Mujer   \n",
       "3                                    Mujer   \n",
       "4                                    Mujer   \n",
       "\n",
       "   edad_persona_en_situacion_de_violencia  \\\n",
       "0                                     NaN   \n",
       "1                                    19.0   \n",
       "2                                    46.0   \n",
       "3                                    28.0   \n",
       "4                                    34.0   \n",
       "\n",
       "  pais_nacimiento_persona_en_situacion_de_violencia tipo_de_violencia_fisica  \\\n",
       "0                                               NaN                       Si   \n",
       "1                                         Argentina                       Si   \n",
       "2                                         Argentina                       Si   \n",
       "3                                               NaN                       No   \n",
       "4                                         Argentina                       No   \n",
       "\n",
       "  tipo_de_violencia_psicologica tipo_de_violencia_sexual  \\\n",
       "0                            Si                       No   \n",
       "1                            Si                       Si   \n",
       "2                            Si                       No   \n",
       "3                            Si                       No   \n",
       "4                            Si                       No   \n",
       "\n",
       "  tipo_de_violencia_economica_y_patrimonial tipo_de_violencia_simbolica  \\\n",
       "0                                        No                          No   \n",
       "1                                        No                          No   \n",
       "2                                        No                          Si   \n",
       "3                                        No                          Si   \n",
       "4                                        No                          No   \n",
       "\n",
       "  tipo_de_violencia_domestica modalidad_de_violencia_institucional  \\\n",
       "0                          Si                                   No   \n",
       "1                          No                                   No   \n",
       "2                          Si                                   No   \n",
       "3                          Si                                   No   \n",
       "4                          Si                                   No   \n",
       "\n",
       "  modalidad_de_violencia_laboral  \\\n",
       "0                             No   \n",
       "1                             No   \n",
       "2                             No   \n",
       "3                             No   \n",
       "4                             No   \n",
       "\n",
       "  modalidad_violencia_contra_libertad_reproductiva  \\\n",
       "0                                               No   \n",
       "1                                               No   \n",
       "2                                               No   \n",
       "3                                               No   \n",
       "4                                               No   \n",
       "\n",
       "  modalidad_de_violencia_obstetrica modalidad_de_violencia_mediatica  \\\n",
       "0                                No                               No   \n",
       "1                                No                               No   \n",
       "2                                No                               No   \n",
       "3                                No                               No   \n",
       "4                                No                               No   \n",
       "\n",
       "  modalidad_de_violencia_otras vinculo_con_la_persona_agresora  \\\n",
       "0                           No                          Pareja   \n",
       "1                           No                            Otro   \n",
       "2                           No                          Pareja   \n",
       "3                           No                          Pareja   \n",
       "4                           No                       Ex pareja   \n",
       "\n",
       "  genero_de_la_persona_agresora  \n",
       "0                         Varon  \n",
       "1                         Varon  \n",
       "2                         Varon  \n",
       "3                         Varon  \n",
       "4                         Varon  "
      ]
     },
     "execution_count": 20,
     "metadata": {},
     "output_type": "execute_result"
    }
   ],
   "source": [
    "data144_23.head()\n"
   ]
  },
  {
   "cell_type": "code",
   "execution_count": 21,
   "id": "a6cae8f0",
   "metadata": {},
   "outputs": [
    {
     "data": {
      "text/plain": [
       "(9976, 19)"
      ]
     },
     "execution_count": 21,
     "metadata": {},
     "output_type": "execute_result"
    }
   ],
   "source": [
    "data144_23.shape"
   ]
  },
  {
   "cell_type": "code",
   "execution_count": 22,
   "id": "e4bbfb08",
   "metadata": {},
   "outputs": [
    {
     "name": "stdout",
     "output_type": "stream",
     "text": [
      "INFO DE 144-2023:\n",
      "<class 'pandas.core.frame.DataFrame'>\n",
      "RangeIndex: 9976 entries, 0 to 9975\n",
      "Data columns (total 19 columns):\n",
      " #   Column                                             Non-Null Count  Dtype  \n",
      "---  ------                                             --------------  -----  \n",
      " 0   Fecha                                              9976 non-null   object \n",
      " 1   prov_residencia_persona_en_situacion_violencia     9965 non-null   object \n",
      " 2   genero_persona_en_situacion_de_violencia           9702 non-null   object \n",
      " 3   edad_persona_en_situacion_de_violencia             8146 non-null   float64\n",
      " 4   pais_nacimiento_persona_en_situacion_de_violencia  6554 non-null   object \n",
      " 5   tipo_de_violencia_fisica                           9965 non-null   object \n",
      " 6   tipo_de_violencia_psicologica                      9965 non-null   object \n",
      " 7   tipo_de_violencia_sexual                           9965 non-null   object \n",
      " 8   tipo_de_violencia_economica_y_patrimonial          9965 non-null   object \n",
      " 9   tipo_de_violencia_simbolica                        9965 non-null   object \n",
      " 10  tipo_de_violencia_domestica                        9965 non-null   object \n",
      " 11  modalidad_de_violencia_institucional               9965 non-null   object \n",
      " 12  modalidad_de_violencia_laboral                     9965 non-null   object \n",
      " 13  modalidad_violencia_contra_libertad_reproductiva   9965 non-null   object \n",
      " 14  modalidad_de_violencia_obstetrica                  9965 non-null   object \n",
      " 15  modalidad_de_violencia_mediatica                   9965 non-null   object \n",
      " 16  modalidad_de_violencia_otras                       9965 non-null   object \n",
      " 17  vinculo_con_la_persona_agresora                    9563 non-null   object \n",
      " 18  genero_de_la_persona_agresora                      8988 non-null   object \n",
      "dtypes: float64(1), object(18)\n",
      "memory usage: 1.4+ MB\n",
      "-------------------\n"
     ]
    }
   ],
   "source": [
    "\n",
    "print(\"INFO DE 144-2023:\")\n",
    "data144_23.info()\n",
    "print(\"-------------------\")\n"
   ]
  },
  {
   "cell_type": "markdown",
   "id": "6bfcb6dc",
   "metadata": {},
   "source": [
    "## 137 -  intervenciones domiciliarias - Limpieza de datos"
   ]
  },
  {
   "cell_type": "code",
   "execution_count": 23,
   "id": "ddbf1336",
   "metadata": {},
   "outputs": [],
   "source": [
    "#Eliminación de filas completamente vacías\n",
    "data137_ID = data137_ID.dropna(how='all')"
   ]
  },
  {
   "cell_type": "code",
   "execution_count": 24,
   "id": "4b4cce69",
   "metadata": {},
   "outputs": [],
   "source": [
    "#Corrección de valores nulos y estandarización de formatos\n",
    "# Convertir columnas numericas\n",
    "data137_ID['victima_edad'] = pd.to_numeric(data137_ID['victima_edad'], errors='coerce')\n",
    "data137_ID['victima_edad'] = data137_ID['victima_edad'].astype('Int64') \n",
    "data137_ID['caso_id'] = data137_ID['caso_id'].astype('Int64') \n",
    "\n",
    "# Convertir columnas de fecha\n",
    "data137_ID['intervencion_fecha'] = pd.to_datetime(data137_ID['intervencion_fecha'], errors='coerce')\n",
    "data137_ID['intervencion_hora'] = pd.to_datetime(data137_ID['intervencion_hora'], format='%H:%M', errors='coerce').dt.time\n",
    "\n",
    "# Convertir columnas de texto a string\n",
    "cols_texto = ['victima_embarazo', 'victima_genero', 'victima_nacionalidad', \n",
    "              'victima_discapacidad', 'violencia_tipo', 'agresor_relacion_victima']\n",
    "for col in cols_texto:\n",
    "    data137_ID[col] = data137_ID[col].astype(str) \n",
    "    data137_ID[col] = data137_ID[col].str.strip()  # Elimina espacios al inicio y final\n",
    "    data137_ID[col] = data137_ID[col].str.upper()       # Convierte todo a mayusculas\n",
    "    data137_ID[col] = data137_ID[col].fillna('Sin dato')"
   ]
  },
  {
   "cell_type": "code",
   "execution_count": 25,
   "id": "b0e697f8",
   "metadata": {},
   "outputs": [],
   "source": [
    "#Control de calidad de valores numéricos\n",
    "data137_ID['victima_edad'].unique()  \n",
    "data137_ID[(data137_ID['victima_edad'] < 0) | (data137_ID['victima_edad'] > 100)]= np.nan"
   ]
  },
  {
   "cell_type": "markdown",
   "id": "15131942",
   "metadata": {},
   "source": [
    "### Corrección y normalización de categorías"
   ]
  },
  {
   "cell_type": "code",
   "execution_count": 26,
   "id": "88704966",
   "metadata": {},
   "outputs": [
    {
     "data": {
      "text/plain": [
       "array(['NO', 'NS/NC', 'SI', nan], dtype=object)"
      ]
     },
     "execution_count": 26,
     "metadata": {},
     "output_type": "execute_result"
    }
   ],
   "source": [
    "data137_ID['victima_embarazo'].unique()"
   ]
  },
  {
   "cell_type": "code",
   "execution_count": 27,
   "id": "9fb87735",
   "metadata": {},
   "outputs": [
    {
     "data": {
      "text/plain": [
       "array(['NO', 'Sin dato', 'SI'], dtype=object)"
      ]
     },
     "execution_count": 27,
     "metadata": {},
     "output_type": "execute_result"
    }
   ],
   "source": [
    "data137_ID['victima_embarazo'] = data137_ID['victima_embarazo'].replace('NS/NC', 'Sin dato')\n",
    "data137_ID['victima_embarazo'] = data137_ID['victima_embarazo'].fillna('Sin dato')\n",
    "data137_ID['victima_embarazo'].unique()"
   ]
  },
  {
   "cell_type": "code",
   "execution_count": 28,
   "id": "336ae34d",
   "metadata": {},
   "outputs": [
    {
     "data": {
      "text/plain": [
       "array(['FEMENINO', 'MASCULINO', 'NS/NC', 'TRANSGÉNERO', nan, 'TRANS'],\n",
       "      dtype=object)"
      ]
     },
     "execution_count": 28,
     "metadata": {},
     "output_type": "execute_result"
    }
   ],
   "source": [
    "data137_ID['victima_genero'].unique()"
   ]
  },
  {
   "cell_type": "code",
   "execution_count": 29,
   "id": "d70520d3",
   "metadata": {},
   "outputs": [
    {
     "data": {
      "text/plain": [
       "array(['FEMENINO', 'MASCULINO', 'Sin dato', 'TRANSGÉNERO'], dtype=object)"
      ]
     },
     "execution_count": 29,
     "metadata": {},
     "output_type": "execute_result"
    }
   ],
   "source": [
    "data137_ID['victima_genero'] = data137_ID['victima_genero'].replace('TRANS', 'TRANSGÉNERO')\n",
    "data137_ID['victima_genero'] = data137_ID['victima_genero'].replace('NS/NC', 'Sin dato')\n",
    "data137_ID['victima_genero'] = data137_ID['victima_genero'].fillna('Sin dato')\n",
    "data137_ID['victima_genero'].unique()"
   ]
  },
  {
   "cell_type": "code",
   "execution_count": 30,
   "id": "1498740c",
   "metadata": {},
   "outputs": [
    {
     "data": {
      "text/plain": [
       "array(['BOLIVIANA', 'ARGENTINA', 'PARAGUAYA', 'OTRA', 'BRASILEÑA',\n",
       "       'NS/NC', 'PERUANA', 'URUGUAYA', 'CHILENA', '1.- ARGENTINA',\n",
       "       '2.- PARAGUAYA', '3.- BOLIVIANA', '7.- OTRA', '6.- BRASILEÑA',\n",
       "       '4.- URUGUAYA', '99.- NS/NC', nan], dtype=object)"
      ]
     },
     "execution_count": 30,
     "metadata": {},
     "output_type": "execute_result"
    }
   ],
   "source": [
    "data137_ID['victima_nacionalidad'].unique()"
   ]
  },
  {
   "cell_type": "code",
   "execution_count": 31,
   "id": "c3909a02",
   "metadata": {},
   "outputs": [
    {
     "data": {
      "text/plain": [
       "array(['BOLIVIANA', 'ARGENTINA', 'PARAGUAYA', 'OTRA', 'BRASILEÑA',\n",
       "       'SIN DATOS', 'PERUANA', 'URUGUAYA', 'CHILENA'], dtype=object)"
      ]
     },
     "execution_count": 31,
     "metadata": {},
     "output_type": "execute_result"
    }
   ],
   "source": [
    "data137_ID['victima_nacionalidad'] = data137_ID['victima_nacionalidad'].replace('1.- ARGENTINA', 'ARGENTINA')\n",
    "data137_ID['victima_nacionalidad'] = data137_ID['victima_nacionalidad'].replace('2.- PARAGUAYA', 'PARAGUAYA')\n",
    "data137_ID['victima_nacionalidad'] = data137_ID['victima_nacionalidad'].replace('3.- BOLIVIANA', 'BOLIVIANA')\n",
    "data137_ID['victima_nacionalidad'] = data137_ID['victima_nacionalidad'].replace('4.- URUGUAYA', 'URUGUAYA')\n",
    "data137_ID['victima_nacionalidad'] = data137_ID['victima_nacionalidad'].replace('6.- BRASILEÑA', 'BRASILEÑA')\n",
    "data137_ID['victima_nacionalidad'] = data137_ID['victima_nacionalidad'].replace('7.- OTRA', 'OTRA')\n",
    "data137_ID['victima_nacionalidad'] = data137_ID['victima_nacionalidad'].replace('NS/NC', 'SIN DATOS')\n",
    "data137_ID['victima_nacionalidad'] = data137_ID['victima_nacionalidad'].replace('99.- NS/NC', 'SIN DATOS')\n",
    "data137_ID['victima_nacionalidad'] = data137_ID['victima_nacionalidad'].fillna('SIN DATOS')\n",
    "data137_ID['victima_nacionalidad'].unique()"
   ]
  },
  {
   "cell_type": "code",
   "execution_count": 32,
   "id": "ad5a504a",
   "metadata": {},
   "outputs": [
    {
     "data": {
      "text/plain": [
       "array(['NO', 'NS/NC', 'SI', nan], dtype=object)"
      ]
     },
     "execution_count": 32,
     "metadata": {},
     "output_type": "execute_result"
    }
   ],
   "source": [
    "data137_ID['victima_discapacidad'].unique()"
   ]
  },
  {
   "cell_type": "code",
   "execution_count": 33,
   "id": "0dd0ed31",
   "metadata": {},
   "outputs": [
    {
     "data": {
      "text/plain": [
       "array(['NO', 'Sin dato', 'SI'], dtype=object)"
      ]
     },
     "execution_count": 33,
     "metadata": {},
     "output_type": "execute_result"
    }
   ],
   "source": [
    "data137_ID['victima_discapacidad'] = data137_ID['victima_discapacidad'].fillna('Sin dato')\n",
    "data137_ID['victima_discapacidad'] = data137_ID['victima_discapacidad'].replace('NS/NC', 'Sin dato')\n",
    "data137_ID['victima_discapacidad'].unique()"
   ]
  },
  {
   "cell_type": "markdown",
   "id": "47277b7f",
   "metadata": {},
   "source": [
    "### Homogeneización de categorías"
   ]
  },
  {
   "cell_type": "code",
   "execution_count": 34,
   "id": "8f3a546e",
   "metadata": {},
   "outputs": [
    {
     "data": {
      "text/plain": [
       "array(['FÍSICA Y PSICOLÓGICA', 'PSICOLÓGICA',\n",
       "       'ECONÓMICA, FÍSICA Y PSICOLÓGICA',\n",
       "       'FÍSICA, SEXUAL, PSICOLÓGICA Y ECONÓMICA', 'SEXUAL', 'FÍSICA',\n",
       "       'ECONÓMICA Y FÍSICA', 'FÍSICA, SEXUAL Y PSICOLÓGICA',\n",
       "       'FÍSICA, SEXUAL, ECONÓMICA Y PSICOLÓGICA',\n",
       "       'FÍSICA, ECONÓMICA Y PSICOLÓGICA', 'OTRAS', 'SEXUAL Y ECONÓMICA',\n",
       "       'ECONÓMICA', 'FÍSICA Y SEXUAL',\n",
       "       'NO ES UN CASO DE VIOLENCIA FAMILIAR',\n",
       "       'EXPLOTACIÓN COMERCIAL SEXUAL', 'OTRA', nan,\n",
       "       'SEXUAL, ECONÓMICA Y PSICOLÓGICA'], dtype=object)"
      ]
     },
     "execution_count": 34,
     "metadata": {},
     "output_type": "execute_result"
    }
   ],
   "source": [
    "data137_ID['violencia_tipo'].unique()            "
   ]
  },
  {
   "cell_type": "code",
   "execution_count": 35,
   "id": "ab0f19e6",
   "metadata": {},
   "outputs": [
    {
     "name": "stdout",
     "output_type": "stream",
     "text": [
      "['ECONÓMICA', 'ECONÓMICA, FÍSICA', 'ECONÓMICA, FÍSICA, PSICOLÓGICA', 'ECONÓMICA, FÍSICA, PSICOLÓGICA, SEXUAL', 'ECONÓMICA, PSICOLÓGICA, SEXUAL', 'ECONÓMICA, SEXUAL', 'EXPLOTACIÓN COMERCIAL SEXUAL', 'FÍSICA', 'FÍSICA, PSICOLÓGICA', 'FÍSICA, PSICOLÓGICA, SEXUAL', 'FÍSICA, SEXUAL', 'NO ES UN CASO DE VIOLENCIA FAMILIAR', 'OTRA', 'PSICOLÓGICA', 'SEXUAL', 'SIN DATO']\n"
     ]
    }
   ],
   "source": [
    "# Convertir todo a string, mayúsculas y limpiar espacios\n",
    "data137_ID['violencia_tipo'] = (\n",
    "    data137_ID['violencia_tipo']\n",
    "    .astype(str)\n",
    "    .str.upper()\n",
    "    .str.replace(' Y ', ', ')\n",
    "    .str.replace(' ,', ',')\n",
    "    .str.replace(', ', ',')\n",
    "    .str.strip()\n",
    ")\n",
    "\n",
    "# Normalizar combinaciones de palabras (orden alfabético)\n",
    "def normalizar_tipos(texto):\n",
    "    if texto in ['NAN', '']:\n",
    "        return np.nan\n",
    "    palabras = [p.strip() for p in texto.split(',')]\n",
    "    palabras = sorted(set(palabras))  # elimina duplicados y ordena\n",
    "    return ', '.join(palabras)\n",
    "\n",
    "data137_ID['violencia_tipo'] = data137_ID['violencia_tipo'].apply(normalizar_tipos)\n",
    "\n",
    "# Corrección de algunos casos puntuales\n",
    "reemplazos = {\n",
    "    'OTRAS': 'OTRA',\n",
    "    'NO ES UN CASO DE VIOLENCIA FAMILIAR': 'NO ES UN CASO DE VIOLENCIA FAMILIAR',\n",
    "    'EXPLOTACION COMERCIAL SEXUAL': 'EXPLOTACIÓN COMERCIAL SEXUAL'\n",
    "}\n",
    "data137_ID['violencia_tipo'] = data137_ID['violencia_tipo'].replace(reemplazos)\n",
    "\n",
    "# Completar valores nulos\n",
    "data137_ID['violencia_tipo'] = data137_ID['violencia_tipo'].fillna('SIN DATO')\n",
    "\n",
    "print(sorted(data137_ID['violencia_tipo'].unique()))"
   ]
  },
  {
   "cell_type": "code",
   "execution_count": 36,
   "id": "4b448c01",
   "metadata": {},
   "outputs": [
    {
     "data": {
      "text/plain": [
       "array(['PAREJA', 'PADRASTRO', 'PADRE', 'OTRO/A CONVIVIENTE',\n",
       "       'OTRO/A NO CONVIVIENTE', 'ABUELO/A', 'EX PAREJA',\n",
       "       'OTRO CONVIVIENTE', 'OTRO NO CONVIVIENTE', 'MADRE', 'HIJA/O',\n",
       "       'HERMANO/A', 'NS/NC', 'HIJO/A', 'OTRA/O CONVIVIENTE', 'HERMANA/O',\n",
       "       'EX ESPOS@/PAREJA', 'ESPOS@/COMPAÑER@ ACTUAL', 'HIJ@',\n",
       "       'PAREJA DE LA MADRE/PADRE', 'HERMAN@', 'ABUEL@', nan], dtype=object)"
      ]
     },
     "execution_count": 36,
     "metadata": {},
     "output_type": "execute_result"
    }
   ],
   "source": [
    "data137_ID['agresor_relacion_victima'].unique()  "
   ]
  },
  {
   "cell_type": "code",
   "execution_count": 37,
   "id": "e1d6ed26",
   "metadata": {},
   "outputs": [],
   "source": [
    "map_agresor = {\n",
    "    # Pareja / Ex pareja\n",
    "    \"PAREJA\": \"PAREJA/EX PAREJA\",\n",
    "    \"EX PAREJA\": \"PAREJA/EX PAREJA\",\n",
    "    \"ESPOS@/COMPANER@ ACTUAL\": \"PAREJA/EX PAREJA\",\n",
    "    \"EX ESPOS@/PAREJA\": \"PAREJA/EX PAREJA\",\n",
    "\n",
    "    # Familiar directo\n",
    "    \"PADRE\": \"FAMILIAR DIRECTO\",\n",
    "    \"MADRE\": \"FAMILIAR DIRECTO\",\n",
    "    \"HIJA/O\": \"FAMILIAR DIRECTO\",\n",
    "    \"HIJO/A\": \"FAMILIAR DIRECTO\",\n",
    "    \"HIJ@\": \"FAMILIAR DIRECTO\",\n",
    "    \"HERMANO/A\": \"FAMILIAR DIRECTO\",\n",
    "    \"HERMANA/O\": \"FAMILIAR DIRECTO\",\n",
    "    \"HERMAN@\": \"FAMILIAR DIRECTO\",\n",
    "    \"ABUELO/A\": \"FAMILIAR DIRECTO\",\n",
    "    \"ABUEL@\": \"FAMILIAR DIRECTO\",\n",
    "\n",
    "    # Familiar indirecto\n",
    "    \"PADRASTRO\": \"FAMILIAR INDIRECTO\",\n",
    "    \"PAREJA DE LA MADRE/PADRE\": \"FAMILIAR INDIRECTO\",\n",
    "\n",
    "    # Otro conviviente\n",
    "    \"OTRO/A CONVIVIENTE\": \"OTRO CONVIVIENTE\",\n",
    "    \"OTRO CONVIVIENTE\": \"OTRO CONVIVIENTE\",\n",
    "    \"OTRA/O CONVIVIENTE\": \"OTRO CONVIVIENTE\",\n",
    "\n",
    "    # Otro no conviviente\n",
    "    \"OTRO/A NO CONVIVIENTE\": \"OTRO NO CONVIVIENTE\",\n",
    "    \"OTRO NO CONVIVIENTE\": \"OTRO NO CONVIVIENTE\",\n",
    "\n",
    "    # Sin dato\n",
    "    \"NS/NC\": \"SIN DATO\",\n",
    "    \"NAN\": \"SIN DATO\"\n",
    "}\n",
    "\n",
    "# Aplicamos el mapeo y completamos vacíos\n",
    "data137_ID[\"agresor_relacion_victima\"] = (\n",
    "    data137_ID[\"agresor_relacion_victima\"].map(map_agresor).fillna(\"SIN DATO\")\n",
    ")\n"
   ]
  },
  {
   "cell_type": "code",
   "execution_count": 38,
   "id": "abbf705e",
   "metadata": {},
   "outputs": [
    {
     "data": {
      "text/plain": [
       "array(['PAREJA/EX PAREJA', 'FAMILIAR INDIRECTO', 'FAMILIAR DIRECTO',\n",
       "       'OTRO CONVIVIENTE', 'OTRO NO CONVIVIENTE', 'SIN DATO'],\n",
       "      dtype=object)"
      ]
     },
     "execution_count": 38,
     "metadata": {},
     "output_type": "execute_result"
    }
   ],
   "source": [
    "data137_ID['agresor_relacion_victima'].unique()  "
   ]
  },
  {
   "cell_type": "markdown",
   "id": "b82835e7",
   "metadata": {},
   "source": [
    "## Linea 137 -  llamados atendidos - Limpieza de datos"
   ]
  },
  {
   "cell_type": "code",
   "execution_count": 39,
   "id": "536c4158",
   "metadata": {},
   "outputs": [],
   "source": [
    "# Eliminación de columnas innecesarias\n",
    "data137_LLA = data137_LLA.drop(columns=['llamado_provincia_id'])"
   ]
  },
  {
   "cell_type": "code",
   "execution_count": 40,
   "id": "f34e3dbf",
   "metadata": {},
   "outputs": [],
   "source": [
    "data137_LLA = data137_LLA.dropna(subset=['caso_id'])"
   ]
  },
  {
   "cell_type": "code",
   "execution_count": 41,
   "id": "ec129c95",
   "metadata": {},
   "outputs": [],
   "source": [
    "# Corrección de valores nulos y estandarización de formatos\n",
    "# Columnas de fecha y hora\n",
    "data137_LLA['llamado_fecha'] = pd.to_datetime(data137_LLA['llamado_fecha'], errors='coerce')\n",
    "data137_LLA['llamado_hora'] = pd.to_datetime(data137_LLA['llamado_hora'], format='%H:%M', errors='coerce').dt.time\n",
    "\n",
    "# Columnas numéricas\n",
    "data137_LLA['caso_id'] = pd.to_numeric(data137_LLA['caso_id'], errors='coerce')\n",
    "data137_LLA['victima_edad'] = pd.to_numeric(data137_LLA['victima_edad'], errors='coerce')\n",
    "data137_LLA['victima_cantidad'] = pd.to_numeric(data137_LLA['victima_cantidad'], errors='coerce')\n",
    "data137_LLA['agresor_cantidad'] = pd.to_numeric(data137_LLA['agresor_cantidad'], errors='coerce')\n",
    "data137_LLA['caso_id']= data137_LLA['caso_id'].astype('Int64') \n",
    "data137_LLA['victima_edad'] = data137_LLA['victima_edad'].astype('Int64')\n",
    "data137_LLA['victima_cantidad'] = data137_LLA['victima_cantidad'].astype('Int64')\n",
    "data137_LLA['agresor_cantidad'] = data137_LLA['agresor_cantidad'].astype('Int64')\n",
    "\n",
    "# Convertir columnas de texto a string y estandarizar\n",
    "data137_LLA = data137_LLA.dropna(subset=['caso_id'])\n",
    "\n",
    "cols_texto = ['llamante_descripcion', 'llamante_genero', 'llamante_vinculo_ninios_presentes',\n",
    "              'violencia_tipo', 'victima_genero', 'victima_rango_etario',\n",
    "              'agresor_genero', 'agresor_relacion_victima', 'llamado_derivacion', \n",
    "              'llamado_provincia']\n",
    "for col in cols_texto:\n",
    "    data137_LLA[col] = data137_LLA[col].astype(str)   # asegura tipo string\n",
    "    data137_LLA[col] = data137_LLA[col].str.strip()   # elimina espacios al inicio y final\n",
    "    data137_LLA[col] = data137_LLA[col].str.upper()    # normaliza capitalización\n",
    "    data137_LLA[col] = data137_LLA[col].fillna('Sin dato')\n"
   ]
  },
  {
   "cell_type": "code",
   "execution_count": 42,
   "id": "d79407a7",
   "metadata": {},
   "outputs": [
    {
     "data": {
      "text/plain": [
       "<IntegerArray>\n",
       "[  23,   18, <NA>,   27,   35,   25,   53,   38,   31,   60,\n",
       " ...\n",
       "  100,   89,   92,   95,   97,   98,  101,   99,  104,  103]\n",
       "Length: 105, dtype: Int64"
      ]
     },
     "execution_count": 42,
     "metadata": {},
     "output_type": "execute_result"
    }
   ],
   "source": [
    "data137_LLA['victima_edad'].unique()  "
   ]
  },
  {
   "cell_type": "code",
   "execution_count": 43,
   "id": "2355a876",
   "metadata": {},
   "outputs": [
    {
     "data": {
      "text/plain": [
       "<IntegerArray>\n",
       "[  23,   18, <NA>,   27,   35,   25,   53,   38,   31,   60,\n",
       " ...\n",
       "   93,   94,   79,  100,   89,   92,   95,   97,   98,   99]\n",
       "Length: 102, dtype: Int64"
      ]
     },
     "execution_count": 43,
     "metadata": {},
     "output_type": "execute_result"
    }
   ],
   "source": [
    "data137_LLA[(data137_LLA['victima_edad'] < 0) | (data137_LLA['victima_edad'] > 100)]= np.nan\n",
    "data137_LLA['victima_edad'].unique()  "
   ]
  },
  {
   "cell_type": "markdown",
   "id": "b37dd45c",
   "metadata": {},
   "source": [
    "### Corrección y normalización de categorías"
   ]
  },
  {
   "cell_type": "code",
   "execution_count": 44,
   "id": "684fb5dd",
   "metadata": {},
   "outputs": [
    {
     "data": {
      "text/plain": [
       "array(['18 A 29 AÑOS', 'SIN DATO', '30 A 39 AÑOS', '50 A 59 AÑOS',\n",
       "       'MÁS DE 60 AÑOS', '40 A 49 AÑOS', '0 A 5 AÑOS', '06 A 11 AÑOS',\n",
       "       '12 A 17 AÑOS', '6 A 11 AÑOS', nan], dtype=object)"
      ]
     },
     "execution_count": 44,
     "metadata": {},
     "output_type": "execute_result"
    }
   ],
   "source": [
    "data137_LLA['victima_rango_etario'].unique()  "
   ]
  },
  {
   "cell_type": "code",
   "execution_count": 45,
   "id": "8c9e3fa6",
   "metadata": {},
   "outputs": [
    {
     "data": {
      "text/plain": [
       "array(['18 A 29 AÑOS', 'SIN DATO', '30 A 39 AÑOS', '50 A 59 AÑOS',\n",
       "       'MÁS DE 60 AÑOS', '40 A 49 AÑOS', '0 A 5 AÑOS', '06 A 11 AÑOS',\n",
       "       '12 A 17 AÑOS'], dtype=object)"
      ]
     },
     "execution_count": 45,
     "metadata": {},
     "output_type": "execute_result"
    }
   ],
   "source": [
    "data137_LLA['victima_rango_etario'] = data137_LLA['victima_rango_etario'].replace('6 A 11 AÑOS', '06 A 11 AÑOS')\n",
    "data137_LLA['victima_rango_etario'] = data137_LLA['victima_rango_etario'].fillna('SIN DATO')\n",
    "data137_LLA['victima_rango_etario'].unique()  "
   ]
  },
  {
   "cell_type": "code",
   "execution_count": 46,
   "id": "89b41d74",
   "metadata": {},
   "outputs": [
    {
     "data": {
      "text/plain": [
       "array(['FEMENINO', 'NS/NC', 'MASCULINO', 'TRANSGÉNERO', nan], dtype=object)"
      ]
     },
     "execution_count": 46,
     "metadata": {},
     "output_type": "execute_result"
    }
   ],
   "source": [
    "data137_LLA['llamante_genero'].unique()  "
   ]
  },
  {
   "cell_type": "code",
   "execution_count": 47,
   "id": "b2e2afac",
   "metadata": {},
   "outputs": [
    {
     "data": {
      "text/plain": [
       "array(['FEMENINO', 'Sin Dato', 'MASCULINO', 'TRANSGÉNERO'], dtype=object)"
      ]
     },
     "execution_count": 47,
     "metadata": {},
     "output_type": "execute_result"
    }
   ],
   "source": [
    "data137_LLA['llamante_genero'] = data137_LLA['llamante_genero'].replace('NS/NC', 'Sin Dato')\n",
    "data137_LLA['llamante_genero'] = data137_LLA['llamante_genero'].fillna('Sin Dato')\n",
    "data137_LLA['llamante_genero'].unique()  \n"
   ]
  },
  {
   "cell_type": "code",
   "execution_count": 48,
   "id": "13545452",
   "metadata": {},
   "outputs": [
    {
     "data": {
      "text/plain": [
       "array(['FEMENINO', 'NS/NC', 'MASCULINO', 'TRANSGÉNERO', nan], dtype=object)"
      ]
     },
     "execution_count": 48,
     "metadata": {},
     "output_type": "execute_result"
    }
   ],
   "source": [
    "data137_LLA['victima_genero'].unique() \n"
   ]
  },
  {
   "cell_type": "code",
   "execution_count": 49,
   "id": "22abaf59",
   "metadata": {},
   "outputs": [
    {
     "data": {
      "text/plain": [
       "array(['FEMENINO', 'Sin Dato', 'MASCULINO', 'TRANSGÉNERO'], dtype=object)"
      ]
     },
     "execution_count": 49,
     "metadata": {},
     "output_type": "execute_result"
    }
   ],
   "source": [
    "data137_LLA['victima_genero'] = data137_LLA['victima_genero'].replace('NS/NC', 'Sin Dato')\n",
    "data137_LLA['victima_genero'] = data137_LLA['victima_genero'].fillna('Sin Dato')\n",
    "data137_LLA['victima_genero'].unique()  "
   ]
  },
  {
   "cell_type": "code",
   "execution_count": 50,
   "id": "b2525cf4",
   "metadata": {},
   "outputs": [
    {
     "data": {
      "text/plain": [
       "array(['FEMENINO', 'MASCULINO', 'NS/NC', 'TRANSGÉNERO', nan], dtype=object)"
      ]
     },
     "execution_count": 50,
     "metadata": {},
     "output_type": "execute_result"
    }
   ],
   "source": [
    "data137_LLA['agresor_genero'].unique()  \n"
   ]
  },
  {
   "cell_type": "code",
   "execution_count": 51,
   "id": "31f8538a",
   "metadata": {},
   "outputs": [
    {
     "data": {
      "text/plain": [
       "array(['FEMENINO', 'MASCULINO', 'Sin dato', 'TRANSGÉNERO'], dtype=object)"
      ]
     },
     "execution_count": 51,
     "metadata": {},
     "output_type": "execute_result"
    }
   ],
   "source": [
    "data137_LLA['agresor_genero'] = data137_LLA['agresor_genero'].replace('NS/NC', 'Sin dato')\n",
    "data137_LLA['agresor_genero'] = data137_LLA['agresor_genero'].fillna('Sin dato')\n",
    "data137_LLA['agresor_genero'].unique()  \n"
   ]
  },
  {
   "cell_type": "code",
   "execution_count": 52,
   "id": "0c9456a3",
   "metadata": {},
   "outputs": [
    {
     "data": {
      "text/plain": [
       "array(['NAN', 'METROPOLITANA', 'NEA', 'PAMPEANA', 'NOA', 'CUYO', nan,\n",
       "       'PATAGONIA', 'SIN DATO', 'NS/NC'], dtype=object)"
      ]
     },
     "execution_count": 52,
     "metadata": {},
     "output_type": "execute_result"
    }
   ],
   "source": [
    "data137_LLA['llamado_provincia'].unique()"
   ]
  },
  {
   "cell_type": "code",
   "execution_count": 53,
   "id": "87537879",
   "metadata": {},
   "outputs": [
    {
     "data": {
      "text/plain": [
       "array(['SIN DATO', 'METROPOLITANA', 'NEA', 'PAMPEANA', 'NOA', 'CUYO',\n",
       "       'PATAGONIA'], dtype=object)"
      ]
     },
     "execution_count": 53,
     "metadata": {},
     "output_type": "execute_result"
    }
   ],
   "source": [
    "data137_LLA['llamado_provincia'] = data137_LLA['llamado_provincia'].replace('NS/NC', 'SIN DATO')\n",
    "data137_LLA['llamado_provincia'] = data137_LLA['llamado_provincia'].replace('NAN', 'SIN DATO')\n",
    "data137_LLA['llamado_provincia'] = data137_LLA['llamado_provincia'].fillna('SIN DATO')\n",
    "data137_LLA['llamado_provincia'].unique()"
   ]
  },
  {
   "cell_type": "markdown",
   "id": "a6ac5a6b",
   "metadata": {},
   "source": [
    "### Homogeneización de categorías"
   ]
  },
  {
   "cell_type": "code",
   "execution_count": 54,
   "id": "4436aba7",
   "metadata": {},
   "outputs": [
    {
     "data": {
      "text/plain": [
       "array(['COMISARÍA', 'OTRO/A PARTICULAR', 'VÍCTIMA',\n",
       "       'OTRA/O SOBRE UNA SITUACIÓN DE CONFLICTO FAMILIAR',\n",
       "       'PROFESIONALES DE LA LÍNEA 137', 'FAMILIAR', 'OTRA INSTITUCIÓN',\n",
       "       'VECINA/O', 'HOSPITAL', 'AGRESOR/A', 'OTRO/A', 'NS/NC',\n",
       "       'DEFENSORÍA', nan], dtype=object)"
      ]
     },
     "execution_count": 54,
     "metadata": {},
     "output_type": "execute_result"
    }
   ],
   "source": [
    "data137_LLA['llamante_descripcion'].unique() \n"
   ]
  },
  {
   "cell_type": "code",
   "execution_count": 55,
   "id": "f4d92485",
   "metadata": {},
   "outputs": [],
   "source": [
    "map_llamante = {\n",
    "    # Instituciones\n",
    "    'COMISARÍA': 'INSTITUCIÓN',\n",
    "    'HOSPITAL': 'INSTITUCIÓN',\n",
    "    'DEFENSORÍA': 'INSTITUCIÓN',\n",
    "    'OTRA INSTITUCIÓN': 'INSTITUCIÓN',\n",
    "\n",
    "    # Particulares\n",
    "    'VÍCTIMA': 'PARTICULAR',\n",
    "    'FAMILIAR': 'PARTICULAR',\n",
    "    'VECINA/O': 'PARTICULAR',\n",
    "    'OTRO/A PARTICULAR': 'PARTICULAR',\n",
    "\n",
    "    # Profesionales\n",
    "    'PROFESIONALES DE LA LÍNEA 137': 'PROFESIONAL',\n",
    "\n",
    "    # Sin dato\n",
    "    'NS/NC': 'SIN DATO'\n",
    "}\n",
    "\n",
    "data137_LLA['llamante_descripcion'] = data137_LLA['llamante_descripcion'].map(map_llamante)\n",
    "data137_LLA['llamante_descripcion'] = data137_LLA['llamante_descripcion'].fillna('SIN DATO')\n"
   ]
  },
  {
   "cell_type": "code",
   "execution_count": 56,
   "id": "176d27ff",
   "metadata": {},
   "outputs": [
    {
     "data": {
      "text/plain": [
       "array(['INSTITUCIÓN', 'PARTICULAR', 'SIN DATO', 'PROFESIONAL'],\n",
       "      dtype=object)"
      ]
     },
     "execution_count": 56,
     "metadata": {},
     "output_type": "execute_result"
    }
   ],
   "source": [
    "data137_LLA['llamante_descripcion'].unique() \n"
   ]
  },
  {
   "cell_type": "code",
   "execution_count": 57,
   "id": "6a54989f",
   "metadata": {},
   "outputs": [
    {
     "data": {
      "text/plain": [
       "array(['NO HAY NIÑAS/OS', 'OTRA/O NO FAMILIAR', 'OTRA/O FAMILIAR',\n",
       "       'SIN DATOS', 'PADRE', 'MADRE', 'OTRO/A NO FAMILIAR', 'NS/NC',\n",
       "       'OTRO FAMILIAR', 'HERMANA/O', 'HERMANO/A', 'PADRASTRO', nan],\n",
       "      dtype=object)"
      ]
     },
     "execution_count": 57,
     "metadata": {},
     "output_type": "execute_result"
    }
   ],
   "source": [
    "data137_LLA['llamante_vinculo_ninios_presentes'].unique()  "
   ]
  },
  {
   "cell_type": "code",
   "execution_count": 58,
   "id": "ee516749",
   "metadata": {},
   "outputs": [
    {
     "data": {
      "text/plain": [
       "array(['SIN NIÑOS PRESENTES', 'SIN DATO', 'FAMILIAR INDIRECTO',\n",
       "       'FAMILIAR DIRECTO', 'NO FAMILIAR'], dtype=object)"
      ]
     },
     "execution_count": 58,
     "metadata": {},
     "output_type": "execute_result"
    }
   ],
   "source": [
    "map_vinculo = {\n",
    "    # Familiar directo\n",
    "    'MADRE': 'FAMILIAR DIRECTO',\n",
    "    'PADRE': 'FAMILIAR DIRECTO',\n",
    "    'HIJO/A': 'FAMILIAR DIRECTO',\n",
    "    'HERMANO/A': 'FAMILIAR DIRECTO',\n",
    "    'HERMANA/O': 'FAMILIAR DIRECTO',\n",
    "\n",
    "    # Familiar indirecto\n",
    "    'PADRASTRO': 'FAMILIAR INDIRECTO',\n",
    "    'MADRASTRA': 'FAMILIAR INDIRECTO',\n",
    "    'OTRO FAMILIAR': 'FAMILIAR INDIRECTO',\n",
    "    'OTRA/O FAMILIAR': 'FAMILIAR INDIRECTO',\n",
    "\n",
    "    # No familiar\n",
    "    'OTRO/A NO FAMILIAR': 'NO FAMILIAR',\n",
    "\n",
    "    # Sin niños/as presentes\n",
    "    'NO HAY NIÑAS/OS': 'SIN NIÑOS PRESENTES',\n",
    "\n",
    "    # Sin dato\n",
    "    'NS/NC': 'SIN DATO',\n",
    "    'SIN DATOS': 'SIN DATO'\n",
    "}\n",
    "\n",
    "data137_LLA['llamante_vinculo_ninios_presentes'] = data137_LLA['llamante_vinculo_ninios_presentes'].map(map_vinculo)\n",
    "data137_LLA['llamante_vinculo_ninios_presentes'] = data137_LLA['llamante_vinculo_ninios_presentes'].fillna('SIN DATO')\n",
    "data137_LLA['llamante_vinculo_ninios_presentes'].unique()  "
   ]
  },
  {
   "cell_type": "code",
   "execution_count": 59,
   "id": "9cd19197",
   "metadata": {},
   "outputs": [
    {
     "data": {
      "text/plain": [
       "array(['FÍSICA Y PSICOLÓGICA', 'PSICOLÓGICA', 'NO APLICA',\n",
       "       'ECONÓMICA, FÍSICA Y PSICOLÓGICA', 'OTRAS',\n",
       "       'ECONÓMICA Y PSICOLÓGICA', 'SEXUAL Y PSICOLÓGICA',\n",
       "       'SEXUAL, ECONÓMICA Y PSICOLÓGICA',\n",
       "       'NO ES UN CASO DE VIOLENCIA FAMILIAR',\n",
       "       'FÍSICA, SEXUAL Y PSICOLÓGICA', 'NAN', nan,\n",
       "       'FÍSICA, PSICOLÓGICA Y ECONÓMICA',\n",
       "       'FÍSICA, SEXUAL, PSICOLÓGICA Y ECONÓMICA', 'TRATA'], dtype=object)"
      ]
     },
     "execution_count": 59,
     "metadata": {},
     "output_type": "execute_result"
    }
   ],
   "source": [
    "data137_LLA['violencia_tipo'].unique()  "
   ]
  },
  {
   "cell_type": "code",
   "execution_count": 60,
   "id": "89a45c3d",
   "metadata": {},
   "outputs": [
    {
     "data": {
      "text/plain": [
       "array(['FÍSICA, PSICOLÓGICA', 'PSICOLÓGICA', 'NO APLICA',\n",
       "       'ECONÓMICA, FÍSICA, PSICOLÓGICA', 'OTRAS',\n",
       "       'ECONÓMICA, PSICOLÓGICA', 'PSICOLÓGICA, SEXUAL',\n",
       "       'ECONÓMICA, PSICOLÓGICA, SEXUAL',\n",
       "       'NO ES UN CASO DE VIOLENCIA FAMILIAR',\n",
       "       'FÍSICA, PSICOLÓGICA, SEXUAL', 'SIN DATO',\n",
       "       'ECONÓMICA, FÍSICA, PSICOLÓGICA, SEXUAL', 'TRATA'], dtype=object)"
      ]
     },
     "execution_count": 60,
     "metadata": {},
     "output_type": "execute_result"
    }
   ],
   "source": [
    "replace_violencia = {\n",
    "    'ECONÓMICA, FÍSICA Y PSICOLÓGICA': 'FÍSICA, ECONÓMICA, PSICOLÓGICA',\n",
    "    'FÍSICA, PSICOLÓGICA Y ECONÓMICA': 'FÍSICA, ECONÓMICA,  PSICOLÓGICA',\n",
    "    'SEXUAL, ECONÓMICA Y PSICOLÓGICA': 'SEXUAL, ECONÓMICA Y PSICOLÓGICA',\n",
    "    'FÍSICA, SEXUAL Y PSICOLÓGICA': 'FÍSICA, SEXUAL Y PSICOLÓGICA',\n",
    "    'FÍSICA, SEXUAL, PSICOLÓGICA Y ECONÓMICA': 'FÍSICA, SEXUAL, ECONÓMICA Y PSICOLÓGICA',\n",
    "    'OTRAS': 'OTRA',\n",
    "    'NAN': 'SIN DATO'\n",
    "}\n",
    "\n",
    "# Convertir todo a string, mayúsculas y limpiar espacios\n",
    "data137_LLA['violencia_tipo'] = (\n",
    "    data137_LLA['violencia_tipo']\n",
    "    .astype(str)\n",
    "    .str.upper()\n",
    "    .str.replace(' Y ', ', ')\n",
    "    .str.replace(' ,', ',')\n",
    "    .str.replace(', ', ',')\n",
    "    .str.strip()\n",
    ")\n",
    "\n",
    "# Normalizar combinaciones de palabras (orden alfabético)\n",
    "def normalizar_tipos(texto):\n",
    "    if texto in ['NAN', '']:\n",
    "        return np.nan\n",
    "    palabras = [p.strip() for p in texto.split(',')]\n",
    "    palabras = sorted(set(palabras))  # elimina duplicados y ordena\n",
    "    return ', '.join(palabras)\n",
    "\n",
    "data137_LLA['violencia_tipo'] = data137_LLA['violencia_tipo'].apply(normalizar_tipos)\n",
    "data137_LLA['violencia_tipo'] = data137_LLA['violencia_tipo'].fillna('SIN DATO')\n",
    "data137_LLA['violencia_tipo'].unique()  \n"
   ]
  },
  {
   "cell_type": "code",
   "execution_count": 61,
   "id": "78c46a32",
   "metadata": {},
   "outputs": [
    {
     "data": {
      "text/plain": [
       "array(['MADRE', 'PAREJA', 'HERMANO/A', 'NS/NC', 'EX PAREJA', 'HIJO/A',\n",
       "       'OTRO/A NO CONVIVIENTE', 'PADRE', 'OTRO/A CONVIVIENTE',\n",
       "       'PADRASTRO', 'ABUELO/A', 'HERMANA/O', nan, 'MADRASTRA'],\n",
       "      dtype=object)"
      ]
     },
     "execution_count": 61,
     "metadata": {},
     "output_type": "execute_result"
    }
   ],
   "source": [
    "data137_LLA['agresor_relacion_victima'].unique()            "
   ]
  },
  {
   "cell_type": "code",
   "execution_count": 62,
   "id": "ff3c897e",
   "metadata": {},
   "outputs": [
    {
     "data": {
      "text/plain": [
       "array(['FAMILIAR DIRECTO', 'PAREJA/EX PAREJA', 'SIN DATO',\n",
       "       'OTRO NO CONVIVIENTE', 'OTRO CONVIVIENTE', 'FAMILIAR INDIRECTO'],\n",
       "      dtype=object)"
      ]
     },
     "execution_count": 62,
     "metadata": {},
     "output_type": "execute_result"
    }
   ],
   "source": [
    "map_agresor = {\n",
    "    # Pareja / Ex pareja\n",
    "    'PAREJA': 'PAREJA/EX PAREJA',\n",
    "    'EX PAREJA': 'PAREJA/EX PAREJA',\n",
    "\n",
    "    # Familiar directo\n",
    "    'PADRE': 'FAMILIAR DIRECTO',\n",
    "    'MADRE': 'FAMILIAR DIRECTO',\n",
    "    'HIJO/A': 'FAMILIAR DIRECTO',\n",
    "    'HERMANO/A': 'FAMILIAR DIRECTO',\n",
    "    'HERMANA/O': 'FAMILIAR DIRECTO',\n",
    "    'ABUELO/A': 'FAMILIAR DIRECTO',\n",
    "\n",
    "    # Familiar indirecto\n",
    "    'PADRASTRO': 'FAMILIAR INDIRECTO',\n",
    "    'MADRASTRA': 'FAMILIAR INDIRECTO',\n",
    "\n",
    "    # Otro conviviente / no conviviente\n",
    "    'OTRO/A CONVIVIENTE': 'OTRO CONVIVIENTE',\n",
    "    'OTRO/A NO CONVIVIENTE': 'OTRO NO CONVIVIENTE',\n",
    "\n",
    "    # Sin dato\n",
    "    'NS/NC': 'SIN DATO'\n",
    "}\n",
    "\n",
    "data137_LLA['agresor_relacion_victima'] = data137_LLA['agresor_relacion_victima'].map(map_agresor)\n",
    "data137_LLA['agresor_relacion_victima'] = data137_LLA['agresor_relacion_victima'].fillna('SIN DATO')\n",
    "data137_LLA['agresor_relacion_victima'].unique()            "
   ]
  },
  {
   "cell_type": "code",
   "execution_count": 63,
   "id": "75fcb57d",
   "metadata": {},
   "outputs": [
    {
     "data": {
      "text/plain": [
       "array(['LA VÍCTIMA NO ACEPTÓ LA INTERVENCIÓN DEL EQUIPO MÓVIL',\n",
       "       'ESTÁ INTERVINIENDO O SE DERIVA A OTRA INSTITUCIÓN',\n",
       "       'LLAMANTE SOLICITÓ INFORMACIÓN Y/O ORIENTACIÓN',\n",
       "       'SE TRATA DE UN CONFLICTO FAMILIAR',\n",
       "       'COMUNICACIÓN CON EQUIPOS MÓVILES',\n",
       "       'DESPLAZAMIENTO DE UN EQUIPO MÓVIL A DONDE SE ENCONTRABA LA/S VÍCTIMA/S',\n",
       "       'NO HABÍA MÓVILES Y/O EQUIPOS PARA REALIZAR LA INTERVENCIÓN',\n",
       "       'NO SE DESPLAZÓ UN EQUIPO MÓVIL POR TRATARSE DE UN CASO FUERA DE CABA',\n",
       "       'SE PLANIFICÓ INTERVENCIÓN PARA OTRO MOMENTO',\n",
       "       'COMUNICACIÓN CON LOS EQUIPOS MÓVILES', nan, 'OTRAS',\n",
       "       'DESPLAZAMIENTO DE UN EQUIPO MOVIL A DONDE SE ENCONTRABA LA VÍCTIMA'],\n",
       "      dtype=object)"
      ]
     },
     "execution_count": 63,
     "metadata": {},
     "output_type": "execute_result"
    }
   ],
   "source": [
    "data137_LLA['llamado_derivacion'].unique()  "
   ]
  },
  {
   "cell_type": "code",
   "execution_count": 64,
   "id": "a3e8fc62",
   "metadata": {},
   "outputs": [
    {
     "data": {
      "text/plain": [
       "array(['LA VÍCTIMA NO ACEPTÓ LA INTERVENCIÓN DEL EQUIPO MÓVIL',\n",
       "       'DERIVACIÓN A OTRA INSTITUCIÓN', 'ORIENTACIÓN/INFORMACIÓN',\n",
       "       'CONFLICTO FAMILIAR', 'COMUNICACIÓN CON EQUIPO MÓVIL',\n",
       "       'INTERVENCIÓN DEL EQUIPO MÓVIL', 'SIN MÓVIL DISPONIBLE',\n",
       "       'FUERA DE CABA', 'PLANIFICADA PARA OTRO MOMENTO', 'SIN DATO',\n",
       "       'OTRA'], dtype=object)"
      ]
     },
     "execution_count": 64,
     "metadata": {},
     "output_type": "execute_result"
    }
   ],
   "source": [
    "replace_derivacion = {\n",
    "    'COMUNICACIÓN CON EQUIPOS MÓVILES': 'COMUNICACIÓN CON EQUIPO MÓVIL',\n",
    "    'COMUNICACIÓN CON LOS EQUIPOS MÓVILES': 'COMUNICACIÓN CON EQUIPO MÓVIL',\n",
    "    'DESPLAZAMIENTO DE UN EQUIPO MÓVIL A DONDE SE ENCONTRABA LA/S VÍCTIMA/S':\n",
    "        'INTERVENCIÓN DEL EQUIPO MÓVIL',\n",
    "    'DESPLAZAMIENTO DE UN EQUIPO MOVIL A DONDE SE ENCONTRABA LA VÍCTIMA':\n",
    "        'INTERVENCIÓN DEL EQUIPO MÓVIL',\n",
    "    'NO HABÍA MÓVILES Y/O EQUIPOS PARA REALIZAR LA INTERVENCIÓN': 'SIN MÓVIL DISPONIBLE',\n",
    "    'NO SE DESPLAZÓ UN EQUIPO MÓVIL POR TRATARSE DE UN CASO FUERA DE CABA': 'FUERA DE CABA',\n",
    "    'SE PLANIFICÓ INTERVENCIÓN PARA OTRO MOMENTO': 'PLANIFICADA PARA OTRO MOMENTO',\n",
    "    'LLAMANTE SOLICITÓ INFORMACIÓN Y/O ORIENTACIÓN': 'ORIENTACIÓN/INFORMACIÓN',\n",
    "    'ESTÁ INTERVINIENDO O SE DERIVA A OTRA INSTITUCIÓN': 'DERIVACIÓN A OTRA INSTITUCIÓN',\n",
    "    'SE TRATA DE UN CONFLICTO FAMILIAR': 'CONFLICTO FAMILIAR',\n",
    "    'OTRAS': 'OTRA'\n",
    "}\n",
    "\n",
    "data137_LLA['llamado_derivacion'] = data137_LLA['llamado_derivacion'].replace(replace_derivacion)\n",
    "data137_LLA['llamado_derivacion'] = data137_LLA['llamado_derivacion'].fillna('SIN DATO')\n",
    "data137_LLA['llamado_derivacion'].unique()  \n"
   ]
  },
  {
   "cell_type": "markdown",
   "id": "1497c333",
   "metadata": {},
   "source": [
    "## Linea 144 - Limpieza de datos"
   ]
  },
  {
   "cell_type": "markdown",
   "id": "984ca510",
   "metadata": {},
   "source": [
    "### Unificacion"
   ]
  },
  {
   "cell_type": "code",
   "execution_count": 65,
   "id": "06ef5985",
   "metadata": {},
   "outputs": [],
   "source": [
    "data144_22 = data144_22.drop(columns=['Unnamed: 19'])"
   ]
  },
  {
   "cell_type": "code",
   "execution_count": 66,
   "id": "4cc3e47e",
   "metadata": {},
   "outputs": [],
   "source": [
    "# Cambiar los nombres de las columnas\n",
    "nuevos_nombres = {'fecha': 'Fecha'}\n",
    "data144_20 = data144_20.rename(columns=nuevos_nombres)\n",
    "data144_21 = data144_21.rename(columns=nuevos_nombres)"
   ]
  },
  {
   "cell_type": "code",
   "execution_count": 67,
   "id": "c36186cb",
   "metadata": {},
   "outputs": [
    {
     "data": {
      "text/html": [
       "<div>\n",
       "<style scoped>\n",
       "    .dataframe tbody tr th:only-of-type {\n",
       "        vertical-align: middle;\n",
       "    }\n",
       "\n",
       "    .dataframe tbody tr th {\n",
       "        vertical-align: top;\n",
       "    }\n",
       "\n",
       "    .dataframe thead th {\n",
       "        text-align: right;\n",
       "    }\n",
       "</style>\n",
       "<table border=\"1\" class=\"dataframe\">\n",
       "  <thead>\n",
       "    <tr style=\"text-align: right;\">\n",
       "      <th></th>\n",
       "      <th>Fecha</th>\n",
       "      <th>prov_residencia_persona_en_situacion_violencia</th>\n",
       "      <th>genero_persona_en_situacion_de_violencia</th>\n",
       "      <th>edad_persona_en_situacion_de_violencia</th>\n",
       "      <th>pais_nacimiento_persona_en_situacion_de_violencia</th>\n",
       "      <th>tipo_de_violencia_fisica</th>\n",
       "      <th>tipo_de_violencia_psicologica</th>\n",
       "      <th>tipo_de_violencia_sexual</th>\n",
       "      <th>tipo_de_violencia_economica_y_patrimonial</th>\n",
       "      <th>tipo_de_violencia_simbolica</th>\n",
       "      <th>tipo_de_violencia_domestica</th>\n",
       "      <th>modalidad_de_violencia_institucional</th>\n",
       "      <th>modalidad_de_violencia_laboral</th>\n",
       "      <th>modalidad_violencia_contra_libertad_reproductiva</th>\n",
       "      <th>modalidad_de_violencia_obstetrica</th>\n",
       "      <th>modalidad_de_violencia_mediatica</th>\n",
       "      <th>modalidad_de_violencia_otras</th>\n",
       "      <th>vinculo_con_la_persona_agresora</th>\n",
       "      <th>genero_de_la_persona_agresora</th>\n",
       "    </tr>\n",
       "  </thead>\n",
       "  <tbody>\n",
       "    <tr>\n",
       "      <th>0</th>\n",
       "      <td>2020-01-01</td>\n",
       "      <td>Tucumán</td>\n",
       "      <td>Mujer</td>\n",
       "      <td>NaN</td>\n",
       "      <td>NaN</td>\n",
       "      <td>Si</td>\n",
       "      <td>Si</td>\n",
       "      <td>No</td>\n",
       "      <td>No</td>\n",
       "      <td>No</td>\n",
       "      <td>Si</td>\n",
       "      <td>No</td>\n",
       "      <td>No</td>\n",
       "      <td>No</td>\n",
       "      <td>No</td>\n",
       "      <td>No</td>\n",
       "      <td>No</td>\n",
       "      <td>Pareja</td>\n",
       "      <td>Varon</td>\n",
       "    </tr>\n",
       "    <tr>\n",
       "      <th>1</th>\n",
       "      <td>2020-01-01</td>\n",
       "      <td>Buenos Aires</td>\n",
       "      <td>Mujer</td>\n",
       "      <td>39.0</td>\n",
       "      <td>NaN</td>\n",
       "      <td>Si</td>\n",
       "      <td>Si</td>\n",
       "      <td>No</td>\n",
       "      <td>No</td>\n",
       "      <td>No</td>\n",
       "      <td>Si</td>\n",
       "      <td>No</td>\n",
       "      <td>No</td>\n",
       "      <td>No</td>\n",
       "      <td>No</td>\n",
       "      <td>No</td>\n",
       "      <td>No</td>\n",
       "      <td>Ex pareja</td>\n",
       "      <td>Varon</td>\n",
       "    </tr>\n",
       "    <tr>\n",
       "      <th>2</th>\n",
       "      <td>2020-01-01</td>\n",
       "      <td>Buenos Aires</td>\n",
       "      <td>Mujer</td>\n",
       "      <td>22.0</td>\n",
       "      <td>Argentina</td>\n",
       "      <td>Si</td>\n",
       "      <td>Si</td>\n",
       "      <td>No</td>\n",
       "      <td>No</td>\n",
       "      <td>No</td>\n",
       "      <td>Si</td>\n",
       "      <td>No</td>\n",
       "      <td>No</td>\n",
       "      <td>No</td>\n",
       "      <td>No</td>\n",
       "      <td>No</td>\n",
       "      <td>No</td>\n",
       "      <td>Ex pareja</td>\n",
       "      <td>Varon</td>\n",
       "    </tr>\n",
       "    <tr>\n",
       "      <th>3</th>\n",
       "      <td>2020-01-01</td>\n",
       "      <td>Buenos Aires</td>\n",
       "      <td>Mujer</td>\n",
       "      <td>53.0</td>\n",
       "      <td>NaN</td>\n",
       "      <td>No</td>\n",
       "      <td>Si</td>\n",
       "      <td>No</td>\n",
       "      <td>No</td>\n",
       "      <td>No</td>\n",
       "      <td>Si</td>\n",
       "      <td>No</td>\n",
       "      <td>No</td>\n",
       "      <td>No</td>\n",
       "      <td>No</td>\n",
       "      <td>No</td>\n",
       "      <td>No</td>\n",
       "      <td>Pareja</td>\n",
       "      <td>Varon</td>\n",
       "    </tr>\n",
       "    <tr>\n",
       "      <th>4</th>\n",
       "      <td>2020-01-01</td>\n",
       "      <td>Buenos Aires</td>\n",
       "      <td>Mujer</td>\n",
       "      <td>38.0</td>\n",
       "      <td>Argentina</td>\n",
       "      <td>Si</td>\n",
       "      <td>Si</td>\n",
       "      <td>No</td>\n",
       "      <td>No</td>\n",
       "      <td>No</td>\n",
       "      <td>Si</td>\n",
       "      <td>No</td>\n",
       "      <td>No</td>\n",
       "      <td>No</td>\n",
       "      <td>No</td>\n",
       "      <td>No</td>\n",
       "      <td>No</td>\n",
       "      <td>Pareja</td>\n",
       "      <td>Varon</td>\n",
       "    </tr>\n",
       "  </tbody>\n",
       "</table>\n",
       "</div>"
      ],
      "text/plain": [
       "        Fecha prov_residencia_persona_en_situacion_violencia  \\\n",
       "0  2020-01-01                                        Tucumán   \n",
       "1  2020-01-01                                   Buenos Aires   \n",
       "2  2020-01-01                                   Buenos Aires   \n",
       "3  2020-01-01                                   Buenos Aires   \n",
       "4  2020-01-01                                   Buenos Aires   \n",
       "\n",
       "  genero_persona_en_situacion_de_violencia  \\\n",
       "0                                    Mujer   \n",
       "1                                    Mujer   \n",
       "2                                    Mujer   \n",
       "3                                    Mujer   \n",
       "4                                    Mujer   \n",
       "\n",
       "   edad_persona_en_situacion_de_violencia  \\\n",
       "0                                     NaN   \n",
       "1                                    39.0   \n",
       "2                                    22.0   \n",
       "3                                    53.0   \n",
       "4                                    38.0   \n",
       "\n",
       "  pais_nacimiento_persona_en_situacion_de_violencia tipo_de_violencia_fisica  \\\n",
       "0                                               NaN                       Si   \n",
       "1                                               NaN                       Si   \n",
       "2                                         Argentina                       Si   \n",
       "3                                               NaN                       No   \n",
       "4                                         Argentina                       Si   \n",
       "\n",
       "  tipo_de_violencia_psicologica tipo_de_violencia_sexual  \\\n",
       "0                            Si                       No   \n",
       "1                            Si                       No   \n",
       "2                            Si                       No   \n",
       "3                            Si                       No   \n",
       "4                            Si                       No   \n",
       "\n",
       "  tipo_de_violencia_economica_y_patrimonial tipo_de_violencia_simbolica  \\\n",
       "0                                        No                          No   \n",
       "1                                        No                          No   \n",
       "2                                        No                          No   \n",
       "3                                        No                          No   \n",
       "4                                        No                          No   \n",
       "\n",
       "  tipo_de_violencia_domestica modalidad_de_violencia_institucional  \\\n",
       "0                          Si                                   No   \n",
       "1                          Si                                   No   \n",
       "2                          Si                                   No   \n",
       "3                          Si                                   No   \n",
       "4                          Si                                   No   \n",
       "\n",
       "  modalidad_de_violencia_laboral  \\\n",
       "0                             No   \n",
       "1                             No   \n",
       "2                             No   \n",
       "3                             No   \n",
       "4                             No   \n",
       "\n",
       "  modalidad_violencia_contra_libertad_reproductiva  \\\n",
       "0                                               No   \n",
       "1                                               No   \n",
       "2                                               No   \n",
       "3                                               No   \n",
       "4                                               No   \n",
       "\n",
       "  modalidad_de_violencia_obstetrica modalidad_de_violencia_mediatica  \\\n",
       "0                                No                               No   \n",
       "1                                No                               No   \n",
       "2                                No                               No   \n",
       "3                                No                               No   \n",
       "4                                No                               No   \n",
       "\n",
       "  modalidad_de_violencia_otras vinculo_con_la_persona_agresora  \\\n",
       "0                           No                          Pareja   \n",
       "1                           No                       Ex pareja   \n",
       "2                           No                       Ex pareja   \n",
       "3                           No                          Pareja   \n",
       "4                           No                          Pareja   \n",
       "\n",
       "  genero_de_la_persona_agresora  \n",
       "0                         Varon  \n",
       "1                         Varon  \n",
       "2                         Varon  \n",
       "3                         Varon  \n",
       "4                         Varon  "
      ]
     },
     "execution_count": 67,
     "metadata": {},
     "output_type": "execute_result"
    }
   ],
   "source": [
    "linea144 = pd.concat([data144_20, data144_21,data144_22,data144_23])\n",
    "linea144.to_csv(\"datos nuevo\\linea144.csv\", index=False)\n",
    "linea144.head()"
   ]
  },
  {
   "cell_type": "code",
   "execution_count": 68,
   "id": "d4f25709",
   "metadata": {},
   "outputs": [
    {
     "data": {
      "text/plain": [
       "(89541, 19)"
      ]
     },
     "execution_count": 68,
     "metadata": {},
     "output_type": "execute_result"
    }
   ],
   "source": [
    "linea144.shape"
   ]
  },
  {
   "cell_type": "code",
   "execution_count": 69,
   "id": "9dd53a57",
   "metadata": {},
   "outputs": [
    {
     "name": "stdout",
     "output_type": "stream",
     "text": [
      "INFO DE 144 unificado:\n",
      "<class 'pandas.core.frame.DataFrame'>\n",
      "Index: 89541 entries, 0 to 9975\n",
      "Data columns (total 19 columns):\n",
      " #   Column                                             Non-Null Count  Dtype  \n",
      "---  ------                                             --------------  -----  \n",
      " 0   Fecha                                              89541 non-null  object \n",
      " 1   prov_residencia_persona_en_situacion_violencia     88366 non-null  object \n",
      " 2   genero_persona_en_situacion_de_violencia           87626 non-null  object \n",
      " 3   edad_persona_en_situacion_de_violencia             72253 non-null  float64\n",
      " 4   pais_nacimiento_persona_en_situacion_de_violencia  59250 non-null  object \n",
      " 5   tipo_de_violencia_fisica                           89530 non-null  object \n",
      " 6   tipo_de_violencia_psicologica                      89530 non-null  object \n",
      " 7   tipo_de_violencia_sexual                           89530 non-null  object \n",
      " 8   tipo_de_violencia_economica_y_patrimonial          89530 non-null  object \n",
      " 9   tipo_de_violencia_simbolica                        89530 non-null  object \n",
      " 10  tipo_de_violencia_domestica                        89530 non-null  object \n",
      " 11  modalidad_de_violencia_institucional               89530 non-null  object \n",
      " 12  modalidad_de_violencia_laboral                     89530 non-null  object \n",
      " 13  modalidad_violencia_contra_libertad_reproductiva   89530 non-null  object \n",
      " 14  modalidad_de_violencia_obstetrica                  89530 non-null  object \n",
      " 15  modalidad_de_violencia_mediatica                   89530 non-null  object \n",
      " 16  modalidad_de_violencia_otras                       89530 non-null  object \n",
      " 17  vinculo_con_la_persona_agresora                    86136 non-null  object \n",
      " 18  genero_de_la_persona_agresora                      80318 non-null  object \n",
      "dtypes: float64(1), object(18)\n",
      "memory usage: 13.7+ MB\n",
      "-------------------\n"
     ]
    }
   ],
   "source": [
    "\n",
    "print(\"INFO DE 144 unificado:\")\n",
    "linea144.info()\n",
    "print(\"-------------------\")"
   ]
  },
  {
   "cell_type": "code",
   "execution_count": 70,
   "id": "11075f8e",
   "metadata": {},
   "outputs": [
    {
     "data": {
      "text/html": [
       "<div>\n",
       "<style scoped>\n",
       "    .dataframe tbody tr th:only-of-type {\n",
       "        vertical-align: middle;\n",
       "    }\n",
       "\n",
       "    .dataframe tbody tr th {\n",
       "        vertical-align: top;\n",
       "    }\n",
       "\n",
       "    .dataframe thead th {\n",
       "        text-align: right;\n",
       "    }\n",
       "</style>\n",
       "<table border=\"1\" class=\"dataframe\">\n",
       "  <thead>\n",
       "    <tr style=\"text-align: right;\">\n",
       "      <th></th>\n",
       "      <th>Valores nulos</th>\n",
       "      <th>Porcentaje (%)</th>\n",
       "    </tr>\n",
       "  </thead>\n",
       "  <tbody>\n",
       "    <tr>\n",
       "      <th>pais_nacimiento_persona_en_situacion_de_violencia</th>\n",
       "      <td>30291</td>\n",
       "      <td>33.83</td>\n",
       "    </tr>\n",
       "    <tr>\n",
       "      <th>edad_persona_en_situacion_de_violencia</th>\n",
       "      <td>17288</td>\n",
       "      <td>19.31</td>\n",
       "    </tr>\n",
       "    <tr>\n",
       "      <th>genero_de_la_persona_agresora</th>\n",
       "      <td>9223</td>\n",
       "      <td>10.30</td>\n",
       "    </tr>\n",
       "    <tr>\n",
       "      <th>vinculo_con_la_persona_agresora</th>\n",
       "      <td>3405</td>\n",
       "      <td>3.80</td>\n",
       "    </tr>\n",
       "    <tr>\n",
       "      <th>genero_persona_en_situacion_de_violencia</th>\n",
       "      <td>1915</td>\n",
       "      <td>2.14</td>\n",
       "    </tr>\n",
       "    <tr>\n",
       "      <th>prov_residencia_persona_en_situacion_violencia</th>\n",
       "      <td>1175</td>\n",
       "      <td>1.31</td>\n",
       "    </tr>\n",
       "    <tr>\n",
       "      <th>modalidad_de_violencia_laboral</th>\n",
       "      <td>11</td>\n",
       "      <td>0.01</td>\n",
       "    </tr>\n",
       "    <tr>\n",
       "      <th>modalidad_de_violencia_otras</th>\n",
       "      <td>11</td>\n",
       "      <td>0.01</td>\n",
       "    </tr>\n",
       "    <tr>\n",
       "      <th>modalidad_de_violencia_mediatica</th>\n",
       "      <td>11</td>\n",
       "      <td>0.01</td>\n",
       "    </tr>\n",
       "    <tr>\n",
       "      <th>modalidad_de_violencia_obstetrica</th>\n",
       "      <td>11</td>\n",
       "      <td>0.01</td>\n",
       "    </tr>\n",
       "    <tr>\n",
       "      <th>modalidad_violencia_contra_libertad_reproductiva</th>\n",
       "      <td>11</td>\n",
       "      <td>0.01</td>\n",
       "    </tr>\n",
       "    <tr>\n",
       "      <th>tipo_de_violencia_simbolica</th>\n",
       "      <td>11</td>\n",
       "      <td>0.01</td>\n",
       "    </tr>\n",
       "    <tr>\n",
       "      <th>modalidad_de_violencia_institucional</th>\n",
       "      <td>11</td>\n",
       "      <td>0.01</td>\n",
       "    </tr>\n",
       "    <tr>\n",
       "      <th>tipo_de_violencia_domestica</th>\n",
       "      <td>11</td>\n",
       "      <td>0.01</td>\n",
       "    </tr>\n",
       "    <tr>\n",
       "      <th>tipo_de_violencia_economica_y_patrimonial</th>\n",
       "      <td>11</td>\n",
       "      <td>0.01</td>\n",
       "    </tr>\n",
       "    <tr>\n",
       "      <th>tipo_de_violencia_sexual</th>\n",
       "      <td>11</td>\n",
       "      <td>0.01</td>\n",
       "    </tr>\n",
       "    <tr>\n",
       "      <th>tipo_de_violencia_psicologica</th>\n",
       "      <td>11</td>\n",
       "      <td>0.01</td>\n",
       "    </tr>\n",
       "    <tr>\n",
       "      <th>tipo_de_violencia_fisica</th>\n",
       "      <td>11</td>\n",
       "      <td>0.01</td>\n",
       "    </tr>\n",
       "    <tr>\n",
       "      <th>Fecha</th>\n",
       "      <td>0</td>\n",
       "      <td>0.00</td>\n",
       "    </tr>\n",
       "  </tbody>\n",
       "</table>\n",
       "</div>"
      ],
      "text/plain": [
       "                                                   Valores nulos  \\\n",
       "pais_nacimiento_persona_en_situacion_de_violencia          30291   \n",
       "edad_persona_en_situacion_de_violencia                     17288   \n",
       "genero_de_la_persona_agresora                               9223   \n",
       "vinculo_con_la_persona_agresora                             3405   \n",
       "genero_persona_en_situacion_de_violencia                    1915   \n",
       "prov_residencia_persona_en_situacion_violencia              1175   \n",
       "modalidad_de_violencia_laboral                                11   \n",
       "modalidad_de_violencia_otras                                  11   \n",
       "modalidad_de_violencia_mediatica                              11   \n",
       "modalidad_de_violencia_obstetrica                             11   \n",
       "modalidad_violencia_contra_libertad_reproductiva              11   \n",
       "tipo_de_violencia_simbolica                                   11   \n",
       "modalidad_de_violencia_institucional                          11   \n",
       "tipo_de_violencia_domestica                                   11   \n",
       "tipo_de_violencia_economica_y_patrimonial                     11   \n",
       "tipo_de_violencia_sexual                                      11   \n",
       "tipo_de_violencia_psicologica                                 11   \n",
       "tipo_de_violencia_fisica                                      11   \n",
       "Fecha                                                          0   \n",
       "\n",
       "                                                   Porcentaje (%)  \n",
       "pais_nacimiento_persona_en_situacion_de_violencia           33.83  \n",
       "edad_persona_en_situacion_de_violencia                      19.31  \n",
       "genero_de_la_persona_agresora                               10.30  \n",
       "vinculo_con_la_persona_agresora                              3.80  \n",
       "genero_persona_en_situacion_de_violencia                     2.14  \n",
       "prov_residencia_persona_en_situacion_violencia               1.31  \n",
       "modalidad_de_violencia_laboral                               0.01  \n",
       "modalidad_de_violencia_otras                                 0.01  \n",
       "modalidad_de_violencia_mediatica                             0.01  \n",
       "modalidad_de_violencia_obstetrica                            0.01  \n",
       "modalidad_violencia_contra_libertad_reproductiva             0.01  \n",
       "tipo_de_violencia_simbolica                                  0.01  \n",
       "modalidad_de_violencia_institucional                         0.01  \n",
       "tipo_de_violencia_domestica                                  0.01  \n",
       "tipo_de_violencia_economica_y_patrimonial                    0.01  \n",
       "tipo_de_violencia_sexual                                     0.01  \n",
       "tipo_de_violencia_psicologica                                0.01  \n",
       "tipo_de_violencia_fisica                                     0.01  \n",
       "Fecha                                                        0.00  "
      ]
     },
     "execution_count": 70,
     "metadata": {},
     "output_type": "execute_result"
    }
   ],
   "source": [
    "faltantes = pd.DataFrame({\n",
    "    'Valores nulos': linea144.isnull().sum(),\n",
    "    'Porcentaje (%)': round(linea144.isnull().mean() * 100, 2)\n",
    "}).sort_values(by='Porcentaje (%)', ascending=False)\n",
    "\n",
    "faltantes.head(19)"
   ]
  },
  {
   "cell_type": "markdown",
   "id": "15e6cb47",
   "metadata": {},
   "source": [
    "### Corrección de valores nulos y estandarización de formatos\n"
   ]
  },
  {
   "cell_type": "code",
   "execution_count": 71,
   "id": "b80ef578",
   "metadata": {},
   "outputs": [],
   "source": [
    "# Conversión de columna de fecha\n",
    "linea144['Fecha'] = pd.to_datetime(linea144['Fecha'], errors='coerce')\n",
    "\n",
    "# Columnas numéricas\n",
    "linea144['edad_persona_en_situacion_de_violencia'] = pd.to_numeric(\n",
    "    linea144['edad_persona_en_situacion_de_violencia'], errors='coerce'\n",
    ")\n",
    "linea144['edad_persona_en_situacion_de_violencia'] = linea144['edad_persona_en_situacion_de_violencia'].astype('Int64')\n",
    "\n",
    "# Columnas de texto a estandarizar\n",
    "cols_texto = [\n",
    "    'prov_residencia_persona_en_situacion_violencia',\n",
    "    'genero_persona_en_situacion_de_violencia',\n",
    "    'pais_nacimiento_persona_en_situacion_de_violencia',\n",
    "    'tipo_de_violencia_fisica',\n",
    "    'tipo_de_violencia_psicologica',\n",
    "    'tipo_de_violencia_sexual',\n",
    "    'tipo_de_violencia_economica_y_patrimonial',\n",
    "    'tipo_de_violencia_simbolica',\n",
    "    'tipo_de_violencia_domestica',\n",
    "    'modalidad_de_violencia_institucional',\n",
    "    'modalidad_de_violencia_laboral',\n",
    "    'modalidad_violencia_contra_libertad_reproductiva',\n",
    "    'modalidad_de_violencia_obstetrica',\n",
    "    'modalidad_de_violencia_mediatica',\n",
    "    'modalidad_de_violencia_otras',\n",
    "    'vinculo_con_la_persona_agresora',\n",
    "    'genero_de_la_persona_agresora'\n",
    "]\n",
    "\n",
    "for col in cols_texto:\n",
    "    linea144[col] = linea144[col].astype(str)              # Asegura tipo string\n",
    "    linea144[col] = linea144[col].str.strip()              # Elimina espacios\n",
    "    linea144[col] = linea144[col].str.upper()              # Normaliza mayusculas\n",
    "    linea144[col] = linea144[col].replace('NAN', np.nan)          \n",
    "    linea144[col] = linea144[col].fillna('Sin Dato')       # Reemplaza nulos con etiqueta estándar\n"
   ]
  },
  {
   "cell_type": "code",
   "execution_count": 72,
   "id": "5681f3de",
   "metadata": {},
   "outputs": [
    {
     "name": "stdout",
     "output_type": "stream",
     "text": [
      "<IntegerArray>\n",
      "[<NA>,   39,   22,   53,   38,   23,   25,   24,   21,   42,   34,   62,   40,\n",
      "   29,   20,   31,   35,   68,   16,   41,   48,   19,   67,   18,   43,   33,\n",
      "   26,   75,   51,   61,   27,   17,   28,   45,   30,   37,   55,   32,   56,\n",
      "   73,   36,   59,   46,   50,   66,   80,   65,   70,   83,   44,   49,   57,\n",
      "   52,   60,   15,   13,   69,   64,   47,   63,   14,   72,   58,   71,   77,\n",
      "   85,   54,   88,   78,    5,   76,   74,   87,    9,   12,   81,    7,   10,\n",
      "   79,   89,   82,    3,   86,   94,   84,   90,    6,   92,   11,    8,    4,\n",
      "   91,    1,   93,    2,   95,  100,   97,  127,  103]\n",
      "Length: 100, dtype: Int64\n"
     ]
    }
   ],
   "source": [
    "\n",
    "print(linea144['edad_persona_en_situacion_de_violencia'].unique())    # valores únicos ya corregidos\n"
   ]
  },
  {
   "cell_type": "code",
   "execution_count": 73,
   "id": "57a331cf",
   "metadata": {},
   "outputs": [
    {
     "data": {
      "text/plain": [
       "<IntegerArray>\n",
       "[<NA>,   39,   22,   53,   38,   23,   25,   24,   21,   42,   34,   62,   40,\n",
       "   29,   20,   31,   35,   68,   16,   41,   48,   19,   67,   18,   43,   33,\n",
       "   26,   75,   51,   61,   27,   17,   28,   45,   30,   37,   55,   32,   56,\n",
       "   73,   36,   59,   46,   50,   66,   80,   65,   70,   83,   44,   49,   57,\n",
       "   52,   60,   15,   13,   69,   64,   47,   63,   14,   72,   58,   71,   77,\n",
       "   85,   54,   88,   78,    5,   76,   74,   87,    9,   12,   81,    7,   10,\n",
       "   79,   89,   82,    3,   86,   94,   84,   90,    6,   92,   11,    8,    4,\n",
       "   91,    1,   93,    2,   95,  100,   97]\n",
       "Length: 98, dtype: Int64"
      ]
     },
     "execution_count": 73,
     "metadata": {},
     "output_type": "execute_result"
    }
   ],
   "source": [
    "\n",
    "linea144[(linea144['edad_persona_en_situacion_de_violencia'] < 0) | (linea144['edad_persona_en_situacion_de_violencia'] > 100)]= np.nan\n",
    "linea144['edad_persona_en_situacion_de_violencia'].unique()  "
   ]
  },
  {
   "cell_type": "code",
   "execution_count": 74,
   "id": "f35f68ab",
   "metadata": {},
   "outputs": [
    {
     "data": {
      "text/plain": [
       "array(['TUCUMÁN', 'BUENOS AIRES', 'SANTIAGO DEL ESTERO', 'SANTA FE',\n",
       "       'SAN JUAN', 'CATAMARCA', 'NEUQUÉN', 'MENDOZA', 'CÓRDOBA',\n",
       "       'RÍO NEGRO', 'CIUDAD AUTÓNOMA DE BUENOS AIRES', 'SALTA',\n",
       "       'ENTRE RÍOS', 'JUJUY', 'CHACO', 'CHUBUT', 'SAN LUIS', 'LA PAMPA',\n",
       "       'MISIONES', 'FORMOSA',\n",
       "       'TIERRA DEL FUEGO, ANTÁRTIDA E ISLAS DEL ATLÁNTICO SUR',\n",
       "       'Sin Dato', 'CORRIENTES', 'SANTA CRUZ', 'LA RIOJA', nan, 'CORDOBA',\n",
       "       'SIN DATOS', 'TIERRA DEL FUEGO'], dtype=object)"
      ]
     },
     "execution_count": 74,
     "metadata": {},
     "output_type": "execute_result"
    }
   ],
   "source": [
    "linea144['prov_residencia_persona_en_situacion_violencia'].unique()  "
   ]
  },
  {
   "cell_type": "code",
   "execution_count": 75,
   "id": "e582ce96",
   "metadata": {},
   "outputs": [
    {
     "data": {
      "text/plain": [
       "array(['TUCUMÁN', 'BUENOS AIRES', 'SANTIAGO DEL ESTERO', 'SANTA FE',\n",
       "       'SAN JUAN', 'CATAMARCA', 'NEUQUÉN', 'MENDOZA', 'CÓRDOBA',\n",
       "       'RÍO NEGRO', 'SALTA', 'ENTRE RÍOS', 'JUJUY', 'CHACO', 'CHUBUT',\n",
       "       'SAN LUIS', 'LA PAMPA', 'MISIONES', 'FORMOSA', 'TIERRA DEL FUEGO',\n",
       "       'SIN DATOS', 'CORRIENTES', 'SANTA CRUZ', 'LA RIOJA', 'CORDOBA'],\n",
       "      dtype=object)"
      ]
     },
     "execution_count": 75,
     "metadata": {},
     "output_type": "execute_result"
    }
   ],
   "source": [
    "linea144['prov_residencia_persona_en_situacion_violencia'] = linea144['prov_residencia_persona_en_situacion_violencia'].replace('TIERRA DEL FUEGO, ANTÁRTIDA E ISLAS DEL ATLÁNTICO SUR', 'TIERRA DEL FUEGO')\n",
    "linea144['prov_residencia_persona_en_situacion_violencia'] = linea144['prov_residencia_persona_en_situacion_violencia'].replace('CIUDAD AUTÓNOMA DE BUENOS AIRES', 'BUENOS AIRES')\n",
    "linea144['prov_residencia_persona_en_situacion_violencia'] = linea144['prov_residencia_persona_en_situacion_violencia'].replace('Sin Dato','SIN DATOS')\n",
    "linea144['prov_residencia_persona_en_situacion_violencia'] = linea144['prov_residencia_persona_en_situacion_violencia'].replace('NAN', 'SIN DATOS')\n",
    "linea144['prov_residencia_persona_en_situacion_violencia'] = linea144['prov_residencia_persona_en_situacion_violencia'].fillna('SIN DATOS')\n",
    "linea144['prov_residencia_persona_en_situacion_violencia'].unique()  "
   ]
  },
  {
   "cell_type": "code",
   "execution_count": 76,
   "id": "f523b9ef",
   "metadata": {},
   "outputs": [
    {
     "data": {
      "text/plain": [
       "array(['MUJER', 'Sin Dato', 'VARON', 'MUJER TRANS', 'TRANSGENERO', 'OTRO',\n",
       "       'INTERSEXUAL', 'VARÓN TRANS', 'TRAVESTI', 'QUEER', nan,\n",
       "       'VARON TRANS', 'NO BINARIE', 'TRANSGÉNERO'], dtype=object)"
      ]
     },
     "execution_count": 76,
     "metadata": {},
     "output_type": "execute_result"
    }
   ],
   "source": [
    "linea144['genero_persona_en_situacion_de_violencia'].unique()  "
   ]
  },
  {
   "cell_type": "code",
   "execution_count": 77,
   "id": "41785012",
   "metadata": {},
   "outputs": [
    {
     "data": {
      "text/plain": [
       "array(['FEMENINO', 'SIN DATO', 'MASCULINO', 'TRANSGÉNERO', 'OTROS',\n",
       "       'TRAVESTI'], dtype=object)"
      ]
     },
     "execution_count": 77,
     "metadata": {},
     "output_type": "execute_result"
    }
   ],
   "source": [
    "linea144['genero_persona_en_situacion_de_violencia'] = (\n",
    "    linea144['genero_persona_en_situacion_de_violencia']\n",
    "    .replace({\n",
    "        'NAN': np.nan,\n",
    "        'VARON': 'MASCULINO',\n",
    "        'MUJER': 'FEMENINO',\n",
    "        'TRANSGENERO': 'TRANSGÉNERO',\n",
    "        'MUJER TRANS': 'TRANSGÉNERO',\n",
    "        'VARÓN TRANS': 'TRANSGÉNERO',\n",
    "        'VARON TRANS': 'TRANSGÉNERO',\n",
    "        'TRANSGENERO': 'TRANSGÉNERO',\n",
    "        'NAN': np.nan\n",
    "    })\n",
    "    .replace(['INTERSEXUAL', 'QUEER', 'NO BINARIE', 'OTRO'], 'OTROS')\n",
    "    .str.upper()\n",
    "    .fillna('SIN DATO')\n",
    ")\n",
    "linea144['genero_persona_en_situacion_de_violencia'].unique()  "
   ]
  },
  {
   "cell_type": "code",
   "execution_count": 78,
   "id": "75712288",
   "metadata": {},
   "outputs": [
    {
     "data": {
      "text/plain": [
       "array(['Sin Dato', 'ARGENTINA', 'PARAGUAYA', 'BOLIVIANA', 'VENEZOLANA',\n",
       "       'DOMINICANA', 'PERUANA', 'COLOMBIANA', 'URUGUAYA', 'BRASILEÑA',\n",
       "       'CHILENA', 'OTRA', 'ECUATORIANA', 'ESTADOUNIDENSE', 'CUBANA',\n",
       "       'ARMENIA', 'JAPONESA', 'SALVADOREÑA', 'ESPAÑOLA', 'MEXICANA',\n",
       "       'ALEMANA', 'ISRAELÍ', 'RUSA', 'BELGA', 'ARABE', 'VIETNAMITA',\n",
       "       'LIBANO', 'FRANCESA', 'UCRANIANA', 'GRIEGA', 'AUSTRALIANA',\n",
       "       'ITALIANA', 'NICARAGÜENSE', 'PANAMEÑA', 'TURCA', 'COSTARRICENSE',\n",
       "       'GUATEMALTECA', nan, 'OTRO', 'PALESTINA', 'CANADIENSE', 'LETONA',\n",
       "       'LITUANIA'], dtype=object)"
      ]
     },
     "execution_count": 78,
     "metadata": {},
     "output_type": "execute_result"
    }
   ],
   "source": [
    "linea144['pais_nacimiento_persona_en_situacion_de_violencia'].unique()  "
   ]
  },
  {
   "cell_type": "code",
   "execution_count": 79,
   "id": "facf3d3b",
   "metadata": {},
   "outputs": [
    {
     "data": {
      "text/plain": [
       "array(['SIN DATOS', 'ARGENTINA', 'PARAGUAYA', 'BOLIVIANA', 'VENEZOLANA',\n",
       "       'DOMINICANA', 'PERUANA', 'COLOMBIANA', 'URUGUAYA', 'BRASILEÑA',\n",
       "       'CHILENA', 'OTRA', 'ECUATORIANA', 'ESTADOUNIDENSE', 'CUBANA',\n",
       "       'ARMENIA', 'JAPONESA', 'SALVADOREÑA', 'ESPAÑOLA', 'MEXICANA',\n",
       "       'ALEMANA', 'ISRAELÍ', 'RUSA', 'BELGA', 'ARABE', 'VIETNAMITA',\n",
       "       'LIBANO', 'FRANCESA', 'UCRANIANA', 'GRIEGA', 'AUSTRALIANA',\n",
       "       'ITALIANA', 'NICARAGÜENSE', 'PANAMEÑA', 'TURCA', 'COSTARRICENSE',\n",
       "       'GUATEMALTECA', 'PALESTINA', 'CANADIENSE', 'LETONA', 'LITUANIA'],\n",
       "      dtype=object)"
      ]
     },
     "execution_count": 79,
     "metadata": {},
     "output_type": "execute_result"
    }
   ],
   "source": [
    "linea144['pais_nacimiento_persona_en_situacion_de_violencia'] = linea144['pais_nacimiento_persona_en_situacion_de_violencia'].replace('OTRO', 'OTRA')\n",
    "linea144['pais_nacimiento_persona_en_situacion_de_violencia'] = linea144['pais_nacimiento_persona_en_situacion_de_violencia'].replace('NAN', np.nan)\n",
    "linea144['pais_nacimiento_persona_en_situacion_de_violencia'] = linea144['pais_nacimiento_persona_en_situacion_de_violencia'].replace('Sin Dato', 'SIN DATOS')\n",
    "linea144['pais_nacimiento_persona_en_situacion_de_violencia'] = linea144['pais_nacimiento_persona_en_situacion_de_violencia'].fillna('SIN DATOS')\n",
    "linea144['pais_nacimiento_persona_en_situacion_de_violencia'].unique() "
   ]
  },
  {
   "cell_type": "code",
   "execution_count": 80,
   "id": "1c161fd5",
   "metadata": {},
   "outputs": [
    {
     "data": {
      "text/plain": [
       "array(['SI', 'NO', nan, 'Sin Dato'], dtype=object)"
      ]
     },
     "execution_count": 80,
     "metadata": {},
     "output_type": "execute_result"
    }
   ],
   "source": [
    "linea144['tipo_de_violencia_fisica'].unique()  "
   ]
  },
  {
   "cell_type": "code",
   "execution_count": 81,
   "id": "3935788b",
   "metadata": {},
   "outputs": [
    {
     "data": {
      "text/plain": [
       "array(['SI', 'NO', nan, 'Sin Dato'], dtype=object)"
      ]
     },
     "execution_count": 81,
     "metadata": {},
     "output_type": "execute_result"
    }
   ],
   "source": [
    "linea144['tipo_de_violencia_psicologica'].unique()  "
   ]
  },
  {
   "cell_type": "code",
   "execution_count": 82,
   "id": "254b1449",
   "metadata": {},
   "outputs": [
    {
     "data": {
      "text/plain": [
       "array(['NO', 'SI', nan, 'Sin Dato'], dtype=object)"
      ]
     },
     "execution_count": 82,
     "metadata": {},
     "output_type": "execute_result"
    }
   ],
   "source": [
    "linea144['tipo_de_violencia_sexual'].unique() "
   ]
  },
  {
   "cell_type": "code",
   "execution_count": 83,
   "id": "27b95492",
   "metadata": {},
   "outputs": [
    {
     "data": {
      "text/plain": [
       "array(['NO', 'SI', nan, 'Sin Dato'], dtype=object)"
      ]
     },
     "execution_count": 83,
     "metadata": {},
     "output_type": "execute_result"
    }
   ],
   "source": [
    "linea144['tipo_de_violencia_economica_y_patrimonial'].unique()           "
   ]
  },
  {
   "cell_type": "code",
   "execution_count": 84,
   "id": "6825965d",
   "metadata": {},
   "outputs": [
    {
     "data": {
      "text/plain": [
       "array(['NO', 'SI', nan, 'Sin Dato'], dtype=object)"
      ]
     },
     "execution_count": 84,
     "metadata": {},
     "output_type": "execute_result"
    }
   ],
   "source": [
    "linea144['tipo_de_violencia_simbolica'].unique()           "
   ]
  },
  {
   "cell_type": "code",
   "execution_count": 85,
   "id": "ec50f10b",
   "metadata": {},
   "outputs": [
    {
     "data": {
      "text/plain": [
       "array(['SI', 'NO', nan, 'Sin Dato'], dtype=object)"
      ]
     },
     "execution_count": 85,
     "metadata": {},
     "output_type": "execute_result"
    }
   ],
   "source": [
    "linea144['tipo_de_violencia_domestica'].unique()            "
   ]
  },
  {
   "cell_type": "code",
   "execution_count": 86,
   "id": "64133a2d",
   "metadata": {},
   "outputs": [
    {
     "data": {
      "text/plain": [
       "array(['NO', 'SI', nan, 'Sin Dato'], dtype=object)"
      ]
     },
     "execution_count": 86,
     "metadata": {},
     "output_type": "execute_result"
    }
   ],
   "source": [
    "linea144['modalidad_de_violencia_institucional'].unique()                           "
   ]
  },
  {
   "cell_type": "code",
   "execution_count": 87,
   "id": "21a278ac",
   "metadata": {},
   "outputs": [
    {
     "data": {
      "text/plain": [
       "array(['NO', 'SI', nan, 'Sin Dato'], dtype=object)"
      ]
     },
     "execution_count": 87,
     "metadata": {},
     "output_type": "execute_result"
    }
   ],
   "source": [
    "linea144['modalidad_de_violencia_laboral'].unique()                      "
   ]
  },
  {
   "cell_type": "code",
   "execution_count": 88,
   "id": "1ce66ead",
   "metadata": {},
   "outputs": [
    {
     "data": {
      "text/plain": [
       "array(['NO', 'SI', nan, 'Sin Dato'], dtype=object)"
      ]
     },
     "execution_count": 88,
     "metadata": {},
     "output_type": "execute_result"
    }
   ],
   "source": [
    "linea144['modalidad_violencia_contra_libertad_reproductiva'].unique()                       "
   ]
  },
  {
   "cell_type": "code",
   "execution_count": 89,
   "id": "c174db91",
   "metadata": {},
   "outputs": [
    {
     "data": {
      "text/plain": [
       "array(['NO', 'SI', nan, 'Sin Dato'], dtype=object)"
      ]
     },
     "execution_count": 89,
     "metadata": {},
     "output_type": "execute_result"
    }
   ],
   "source": [
    "linea144['modalidad_de_violencia_obstetrica'].unique()                       "
   ]
  },
  {
   "cell_type": "code",
   "execution_count": 90,
   "id": "38e8047a",
   "metadata": {},
   "outputs": [
    {
     "data": {
      "text/plain": [
       "array(['NO', 'SI', nan, 'Sin Dato'], dtype=object)"
      ]
     },
     "execution_count": 90,
     "metadata": {},
     "output_type": "execute_result"
    }
   ],
   "source": [
    "linea144['modalidad_de_violencia_mediatica'].unique()                                          "
   ]
  },
  {
   "cell_type": "code",
   "execution_count": 91,
   "id": "9f7aae76",
   "metadata": {},
   "outputs": [
    {
     "data": {
      "text/plain": [
       "array(['NO', 'SI', nan, 'Sin Dato'], dtype=object)"
      ]
     },
     "execution_count": 91,
     "metadata": {},
     "output_type": "execute_result"
    }
   ],
   "source": [
    "linea144['modalidad_de_violencia_otras'].unique() "
   ]
  },
  {
   "cell_type": "code",
   "execution_count": 92,
   "id": "26cd8294",
   "metadata": {},
   "outputs": [
    {
     "data": {
      "text/plain": [
       "array(['PAREJA', 'EX PAREJA', 'OTRO FAMILIAR', 'OTRO', 'PADRE O TUTOR',\n",
       "       'SUPERIOR JERARQUICO', 'Sin Dato', 'MADRE O TUTOR', nan,\n",
       "       'SUPERIOR JERÁRQUICO'], dtype=object)"
      ]
     },
     "execution_count": 92,
     "metadata": {},
     "output_type": "execute_result"
    }
   ],
   "source": [
    "linea144['vinculo_con_la_persona_agresora'].unique()  "
   ]
  },
  {
   "cell_type": "code",
   "execution_count": 93,
   "id": "18abb833",
   "metadata": {},
   "outputs": [
    {
     "data": {
      "text/plain": [
       "array(['PAREJA/EX PAREJA', 'FAMILIAR INDIRECTO', 'OTRO NO CONVIVIENTE',\n",
       "       'FAMILIAR DIRECTO', 'SIN DATO'], dtype=object)"
      ]
     },
     "execution_count": 93,
     "metadata": {},
     "output_type": "execute_result"
    }
   ],
   "source": [
    "map_vinculo_agresor = {\n",
    "    # Pareja / Ex pareja\n",
    "    'PAREJA': 'PAREJA/EX PAREJA',\n",
    "    'EX PAREJA': 'PAREJA/EX PAREJA',\n",
    "    'PADRE O TUTOR': 'FAMILIAR DIRECTO',\n",
    "    'MADRE O TUTOR': 'FAMILIAR DIRECTO',\n",
    "    'OTRO FAMILIAR': 'FAMILIAR INDIRECTO',\n",
    "    'SUPERIOR JERARQUICO':  'OTRO NO CONVIVIENTE',\n",
    "    'SUPERIOR JERÁRQUICO':  'OTRO NO CONVIVIENTE',\n",
    "    'OTRO':  'OTRO NO CONVIVIENTE',\n",
    "    'Sin Dato': 'SIN DATO'\n",
    "}\n",
    "\n",
    "linea144['vinculo_con_la_persona_agresora'] = (\n",
    "    linea144['vinculo_con_la_persona_agresora']\n",
    "    .replace(map_vinculo_agresor)\n",
    "    .fillna('SIN DATO')\n",
    ")\n",
    "linea144['vinculo_con_la_persona_agresora'].unique()  "
   ]
  },
  {
   "cell_type": "code",
   "execution_count": 94,
   "id": "1e159018",
   "metadata": {},
   "outputs": [
    {
     "data": {
      "text/plain": [
       "array(['VARON', 'Sin Dato', 'OTRO', 'MUJER', 'VARON TRANS', 'MUJER TRANS',\n",
       "       'TRANSGENERO', 'TRAVESTI', nan, 'QUEER', 'NO BINARIE',\n",
       "       'TRANSGÉNERO'], dtype=object)"
      ]
     },
     "execution_count": 94,
     "metadata": {},
     "output_type": "execute_result"
    }
   ],
   "source": [
    "linea144['genero_de_la_persona_agresora'].unique()  "
   ]
  },
  {
   "cell_type": "code",
   "execution_count": 95,
   "id": "37f25913",
   "metadata": {},
   "outputs": [
    {
     "data": {
      "text/plain": [
       "array(['MASCULINO', 'SIN DATO', 'OTROS', 'FEMENINO', 'TRANSGÉNERO',\n",
       "       'TRAVESTI'], dtype=object)"
      ]
     },
     "execution_count": 95,
     "metadata": {},
     "output_type": "execute_result"
    }
   ],
   "source": [
    "linea144['genero_de_la_persona_agresora'] = (\n",
    "    linea144['genero_de_la_persona_agresora']\n",
    "    .replace({\n",
    "        'NAN': np.nan,\n",
    "        'VARON': 'MASCULINO',\n",
    "        'MUJER': 'FEMENINO',\n",
    "        'TRANSGENERO': 'TRANSGÉNERO',\n",
    "        'MUJER TRANS': 'TRANSGÉNERO',\n",
    "        'VARON TRANS': 'TRANSGÉNERO',\n",
    "        'TRANSGENERO': 'TRANSGÉNERO',\n",
    "        'NAN': np.nan\n",
    "    })\n",
    "    .replace(['INTERSEXUAL', 'QUEER', 'NO BINARIE', 'OTRO'], 'OTROS')\n",
    "    .str.upper()\n",
    "    .fillna('SIN DATO')\n",
    ")\n",
    "linea144['genero_de_la_persona_agresora'].unique()  "
   ]
  },
  {
   "cell_type": "markdown",
   "id": "6e6c9e02",
   "metadata": {},
   "source": [
    "## Integración de Intervenciones y Llamados"
   ]
  },
  {
   "cell_type": "code",
   "execution_count": 96,
   "id": "c451ddcd",
   "metadata": {},
   "outputs": [
    {
     "name": "stdout",
     "output_type": "stream",
     "text": [
      "Intervenciones:\n"
     ]
    },
    {
     "data": {
      "text/html": [
       "<div>\n",
       "<style scoped>\n",
       "    .dataframe tbody tr th:only-of-type {\n",
       "        vertical-align: middle;\n",
       "    }\n",
       "\n",
       "    .dataframe tbody tr th {\n",
       "        vertical-align: top;\n",
       "    }\n",
       "\n",
       "    .dataframe thead th {\n",
       "        text-align: right;\n",
       "    }\n",
       "</style>\n",
       "<table border=\"1\" class=\"dataframe\">\n",
       "  <thead>\n",
       "    <tr style=\"text-align: right;\">\n",
       "      <th></th>\n",
       "      <th>caso_id</th>\n",
       "      <th>intervencion_fecha</th>\n",
       "      <th>intervencion_hora</th>\n",
       "      <th>victima_embarazo</th>\n",
       "      <th>victima_edad</th>\n",
       "      <th>victima_genero</th>\n",
       "      <th>victima_nacionalidad</th>\n",
       "      <th>victima_discapacidad</th>\n",
       "      <th>violencia_tipo</th>\n",
       "      <th>agresor_relacion_victima</th>\n",
       "    </tr>\n",
       "  </thead>\n",
       "  <tbody>\n",
       "    <tr>\n",
       "      <th>1</th>\n",
       "      <td>458624</td>\n",
       "      <td>2024-03-01</td>\n",
       "      <td>10:45:00</td>\n",
       "      <td>NO</td>\n",
       "      <td>16</td>\n",
       "      <td>MASCULINO</td>\n",
       "      <td>ARGENTINA</td>\n",
       "      <td>Sin dato</td>\n",
       "      <td>PSICOLÓGICA</td>\n",
       "      <td>FAMILIAR INDIRECTO</td>\n",
       "    </tr>\n",
       "    <tr>\n",
       "      <th>2</th>\n",
       "      <td>458624</td>\n",
       "      <td>2024-03-01</td>\n",
       "      <td>10:45:00</td>\n",
       "      <td>NO</td>\n",
       "      <td>16</td>\n",
       "      <td>FEMENINO</td>\n",
       "      <td>ARGENTINA</td>\n",
       "      <td>Sin dato</td>\n",
       "      <td>ECONÓMICA, FÍSICA, PSICOLÓGICA</td>\n",
       "      <td>PAREJA/EX PAREJA</td>\n",
       "    </tr>\n",
       "  </tbody>\n",
       "</table>\n",
       "</div>"
      ],
      "text/plain": [
       "   caso_id intervencion_fecha intervencion_hora victima_embarazo  \\\n",
       "1   458624         2024-03-01          10:45:00               NO   \n",
       "2   458624         2024-03-01          10:45:00               NO   \n",
       "\n",
       "   victima_edad victima_genero victima_nacionalidad victima_discapacidad  \\\n",
       "1            16      MASCULINO            ARGENTINA             Sin dato   \n",
       "2            16       FEMENINO            ARGENTINA             Sin dato   \n",
       "\n",
       "                   violencia_tipo agresor_relacion_victima  \n",
       "1                     PSICOLÓGICA       FAMILIAR INDIRECTO  \n",
       "2  ECONÓMICA, FÍSICA, PSICOLÓGICA         PAREJA/EX PAREJA  "
      ]
     },
     "execution_count": 96,
     "metadata": {},
     "output_type": "execute_result"
    }
   ],
   "source": [
    "# Ejemplo de porque no un Merge\n",
    "caso_ejemplo = 458624\n",
    "# Filtrar en intervenciones\n",
    "intervenciones_filtradas = data137_ID[data137_ID['caso_id'] == caso_ejemplo]\n",
    "print(\"Intervenciones:\")\n",
    "intervenciones_filtradas.head()"
   ]
  },
  {
   "cell_type": "code",
   "execution_count": 97,
   "id": "71aac0fb",
   "metadata": {},
   "outputs": [
    {
     "name": "stdout",
     "output_type": "stream",
     "text": [
      "\n",
      "Llamados:\n"
     ]
    },
    {
     "data": {
      "text/html": [
       "<div>\n",
       "<style scoped>\n",
       "    .dataframe tbody tr th:only-of-type {\n",
       "        vertical-align: middle;\n",
       "    }\n",
       "\n",
       "    .dataframe tbody tr th {\n",
       "        vertical-align: top;\n",
       "    }\n",
       "\n",
       "    .dataframe thead th {\n",
       "        text-align: right;\n",
       "    }\n",
       "</style>\n",
       "<table border=\"1\" class=\"dataframe\">\n",
       "  <thead>\n",
       "    <tr style=\"text-align: right;\">\n",
       "      <th></th>\n",
       "      <th>caso_id</th>\n",
       "      <th>llamante_descripcion</th>\n",
       "      <th>llamante_genero</th>\n",
       "      <th>llamante_vinculo_ninios_presentes</th>\n",
       "      <th>violencia_tipo</th>\n",
       "      <th>victima_edad</th>\n",
       "      <th>victima_rango_etario</th>\n",
       "      <th>victima_genero</th>\n",
       "      <th>victima_cantidad</th>\n",
       "      <th>agresor_cantidad</th>\n",
       "      <th>agresor_genero</th>\n",
       "      <th>agresor_relacion_victima</th>\n",
       "      <th>llamado_derivacion</th>\n",
       "      <th>llamado_fecha</th>\n",
       "      <th>llamado_hora</th>\n",
       "      <th>llamado_provincia</th>\n",
       "    </tr>\n",
       "  </thead>\n",
       "  <tbody>\n",
       "    <tr>\n",
       "      <th>58662</th>\n",
       "      <td>458624</td>\n",
       "      <td>INSTITUCIÓN</td>\n",
       "      <td>FEMENINO</td>\n",
       "      <td>NO FAMILIAR</td>\n",
       "      <td>FÍSICA, PSICOLÓGICA</td>\n",
       "      <td>&lt;NA&gt;</td>\n",
       "      <td>SIN DATO</td>\n",
       "      <td>FEMENINO</td>\n",
       "      <td>2</td>\n",
       "      <td>1</td>\n",
       "      <td>MASCULINO</td>\n",
       "      <td>PAREJA/EX PAREJA</td>\n",
       "      <td>INTERVENCIÓN DEL EQUIPO MÓVIL</td>\n",
       "      <td>2024-02-29</td>\n",
       "      <td>16:51:00</td>\n",
       "      <td>METROPOLITANA</td>\n",
       "    </tr>\n",
       "    <tr>\n",
       "      <th>58664</th>\n",
       "      <td>458624</td>\n",
       "      <td>PROFESIONAL</td>\n",
       "      <td>Sin Dato</td>\n",
       "      <td>SIN DATO</td>\n",
       "      <td>NO APLICA</td>\n",
       "      <td>&lt;NA&gt;</td>\n",
       "      <td>SIN DATO</td>\n",
       "      <td>Sin Dato</td>\n",
       "      <td>0</td>\n",
       "      <td>0</td>\n",
       "      <td>Sin dato</td>\n",
       "      <td>SIN DATO</td>\n",
       "      <td>OTRA</td>\n",
       "      <td>2024-02-29</td>\n",
       "      <td>17:36:00</td>\n",
       "      <td>METROPOLITANA</td>\n",
       "    </tr>\n",
       "    <tr>\n",
       "      <th>58671</th>\n",
       "      <td>458624</td>\n",
       "      <td>PROFESIONAL</td>\n",
       "      <td>Sin Dato</td>\n",
       "      <td>SIN DATO</td>\n",
       "      <td>NO APLICA</td>\n",
       "      <td>&lt;NA&gt;</td>\n",
       "      <td>SIN DATO</td>\n",
       "      <td>Sin Dato</td>\n",
       "      <td>0</td>\n",
       "      <td>0</td>\n",
       "      <td>Sin dato</td>\n",
       "      <td>SIN DATO</td>\n",
       "      <td>OTRA</td>\n",
       "      <td>2024-03-01</td>\n",
       "      <td>10:34:00</td>\n",
       "      <td>METROPOLITANA</td>\n",
       "    </tr>\n",
       "    <tr>\n",
       "      <th>58678</th>\n",
       "      <td>458624</td>\n",
       "      <td>PROFESIONAL</td>\n",
       "      <td>Sin Dato</td>\n",
       "      <td>SIN DATO</td>\n",
       "      <td>NO APLICA</td>\n",
       "      <td>&lt;NA&gt;</td>\n",
       "      <td>SIN DATO</td>\n",
       "      <td>Sin Dato</td>\n",
       "      <td>0</td>\n",
       "      <td>0</td>\n",
       "      <td>Sin dato</td>\n",
       "      <td>SIN DATO</td>\n",
       "      <td>OTRA</td>\n",
       "      <td>2024-03-01</td>\n",
       "      <td>13:46:00</td>\n",
       "      <td>METROPOLITANA</td>\n",
       "    </tr>\n",
       "  </tbody>\n",
       "</table>\n",
       "</div>"
      ],
      "text/plain": [
       "       caso_id llamante_descripcion llamante_genero  \\\n",
       "58662   458624          INSTITUCIÓN        FEMENINO   \n",
       "58664   458624          PROFESIONAL        Sin Dato   \n",
       "58671   458624          PROFESIONAL        Sin Dato   \n",
       "58678   458624          PROFESIONAL        Sin Dato   \n",
       "\n",
       "      llamante_vinculo_ninios_presentes       violencia_tipo  victima_edad  \\\n",
       "58662                       NO FAMILIAR  FÍSICA, PSICOLÓGICA          <NA>   \n",
       "58664                          SIN DATO            NO APLICA          <NA>   \n",
       "58671                          SIN DATO            NO APLICA          <NA>   \n",
       "58678                          SIN DATO            NO APLICA          <NA>   \n",
       "\n",
       "      victima_rango_etario victima_genero  victima_cantidad  agresor_cantidad  \\\n",
       "58662             SIN DATO       FEMENINO                 2                 1   \n",
       "58664             SIN DATO       Sin Dato                 0                 0   \n",
       "58671             SIN DATO       Sin Dato                 0                 0   \n",
       "58678             SIN DATO       Sin Dato                 0                 0   \n",
       "\n",
       "      agresor_genero agresor_relacion_victima             llamado_derivacion  \\\n",
       "58662      MASCULINO         PAREJA/EX PAREJA  INTERVENCIÓN DEL EQUIPO MÓVIL   \n",
       "58664       Sin dato                 SIN DATO                           OTRA   \n",
       "58671       Sin dato                 SIN DATO                           OTRA   \n",
       "58678       Sin dato                 SIN DATO                           OTRA   \n",
       "\n",
       "      llamado_fecha llamado_hora llamado_provincia  \n",
       "58662    2024-02-29     16:51:00     METROPOLITANA  \n",
       "58664    2024-02-29     17:36:00     METROPOLITANA  \n",
       "58671    2024-03-01     10:34:00     METROPOLITANA  \n",
       "58678    2024-03-01     13:46:00     METROPOLITANA  "
      ]
     },
     "execution_count": 97,
     "metadata": {},
     "output_type": "execute_result"
    }
   ],
   "source": [
    "# Filtrar en llamados\n",
    "llamados_filtrados = data137_LLA[data137_LLA['caso_id'] == caso_ejemplo]\n",
    "print(\"\\nLlamados:\")\n",
    "llamados_filtrados.head()"
   ]
  },
  {
   "cell_type": "markdown",
   "id": "98f1f668",
   "metadata": {},
   "source": [
    "## Generacion de nuevo dataset con las transformaciones listas para el analisis"
   ]
  },
  {
   "cell_type": "code",
   "execution_count": 98,
   "id": "1b09dc53",
   "metadata": {},
   "outputs": [],
   "source": [
    "output_file_path_linea144 = 'datos nuevo\\linea144_transformada.csv'\n",
    "linea144.to_csv(output_file_path_linea144, index=False)\n",
    "output_file_path_linea137_1 = 'datos nuevo\\linea137_ID_transformada.csv'\n",
    "data137_ID.to_csv(output_file_path_linea137_1, index=False)\n",
    "output_file_path_linea137_2 = 'datos nuevo\\linea137_LLA_transformada.csv'\n",
    "data137_LLA.to_csv(output_file_path_linea137_2, index=False)\n"
   ]
  }
 ],
 "metadata": {
  "kernelspec": {
   "display_name": "base",
   "language": "python",
   "name": "python3"
  },
  "language_info": {
   "codemirror_mode": {
    "name": "ipython",
    "version": 3
   },
   "file_extension": ".py",
   "mimetype": "text/x-python",
   "name": "python",
   "nbconvert_exporter": "python",
   "pygments_lexer": "ipython3",
   "version": "3.11.7"
  }
 },
 "nbformat": 4,
 "nbformat_minor": 5
}
