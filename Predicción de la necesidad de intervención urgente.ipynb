{
 "cells": [
  {
   "cell_type": "markdown",
   "id": "e6139686",
   "metadata": {},
   "source": [
    "### Predecir si un caso es de alto riesgo y requiere una atención inmediata en función de diversas características."
   ]
  },
  {
   "cell_type": "markdown",
   "id": "7ca8a250",
   "metadata": {},
   "source": [
    "## Importacion de librerias"
   ]
  },
  {
   "cell_type": "code",
   "execution_count": null,
   "id": "167f4ed9",
   "metadata": {
    "scrolled": true
   },
   "outputs": [],
   "source": [
    "import pandas as pd\n",
    "import numpy as np\n",
    "from sklearn.model_selection import train_test_split\n",
    "from sklearn.ensemble import RandomForestClassifier\n",
    "from sklearn.metrics import  accuracy_score, confusion_matrix,classification_report, f1_score, precision_score, recall_score\n",
    "import matplotlib.pyplot as plt\n",
    "import seaborn as sns\n",
    "from imblearn.over_sampling import SMOTE\n",
    "\n"
   ]
  },
  {
   "cell_type": "markdown",
   "id": "8bde527f",
   "metadata": {},
   "source": [
    "## Preparación y Transformación de los Datos"
   ]
  },
  {
   "cell_type": "code",
   "execution_count": 20,
   "id": "a68bcbca",
   "metadata": {},
   "outputs": [
    {
     "name": "stdout",
     "output_type": "stream",
     "text": [
      "       caso_id  victima_edad victima_genero        violencia_tipo  \\\n",
      "0     361490.0          70.0       Femenino                Sexual   \n",
      "1     361470.0          18.0      Masculino                Física   \n",
      "2     361470.0          15.0      Masculino           Psicológica   \n",
      "3     361490.0          15.0      Masculino           Psicológica   \n",
      "4     121995.0          14.0      Masculino                Física   \n",
      "...        ...           ...            ...                   ...   \n",
      "3399  458515.0           2.0       Femenino           Psicológica   \n",
      "3400  458515.0          28.0       Femenino  Física y psicológica   \n",
      "3401  458624.0          16.0      Masculino           Psicológica   \n",
      "3403  458915.0          39.0       Femenino  Física y psicológica   \n",
      "3404  459497.0          20.0      Masculino           Psicológica   \n",
      "\n",
      "     agresor_relacion_victima  \n",
      "0                      Pareja  \n",
      "1                   Padrastro  \n",
      "2                   Padrastro  \n",
      "3                    Abuelo/a  \n",
      "4                   Padrastro  \n",
      "...                       ...  \n",
      "3399                    Padre  \n",
      "3400                   Pareja  \n",
      "3401                Padrastro  \n",
      "3403                    Padre  \n",
      "3404                    Padre  \n",
      "\n",
      "[3067 rows x 5 columns]\n"
     ]
    }
   ],
   "source": [
    "# Cargar el dataset transformado con anterioridad\n",
    "df = pd.read_csv('linea137_1_transformada.csv')\n",
    "\n",
    "# Eliminar filas con valores nulos si es necesario\n",
    "df.dropna(inplace=True)\n",
    "\n",
    "df_modificado=df\n",
    "# Eliminar columnas irrelevantes\n",
    "columnas = {'victima_embarazo', 'victima_nacionalidad', 'victima_discapacidad', 'intervencion_fecha','intervencion_hora'}\n",
    "df_modificado.drop(columns=columnas, inplace=True)\n",
    "\n",
    "print(df_modificado)"
   ]
  },
  {
   "cell_type": "code",
   "execution_count": 21,
   "id": "309324d4",
   "metadata": {},
   "outputs": [
    {
     "name": "stdout",
     "output_type": "stream",
     "text": [
      "Columnas antes del dummies:\n",
      "\n",
      "<class 'pandas.core.frame.DataFrame'>\n",
      "Index: 3067 entries, 0 to 3404\n",
      "Data columns (total 5 columns):\n",
      " #   Column                    Non-Null Count  Dtype  \n",
      "---  ------                    --------------  -----  \n",
      " 0   caso_id                   3067 non-null   float64\n",
      " 1   victima_edad              3067 non-null   float64\n",
      " 2   victima_genero            3067 non-null   object \n",
      " 3   violencia_tipo            3067 non-null   object \n",
      " 4   agresor_relacion_victima  3067 non-null   object \n",
      "dtypes: float64(2), object(3)\n",
      "memory usage: 143.8+ KB\n",
      "\n",
      "\n",
      "Columnas despues del dummies:\n",
      "\n",
      "<class 'pandas.core.frame.DataFrame'>\n",
      "Index: 3067 entries, 0 to 3404\n",
      "Data columns (total 33 columns):\n",
      " #   Column                                                  Non-Null Count  Dtype  \n",
      "---  ------                                                  --------------  -----  \n",
      " 0   caso_id                                                 3067 non-null   float64\n",
      " 1   victima_edad                                            3067 non-null   float64\n",
      " 2   victima_genero_Femenino                                 3067 non-null   bool   \n",
      " 3   victima_genero_Masculino                                3067 non-null   bool   \n",
      " 4   victima_genero_Transgénero                              3067 non-null   bool   \n",
      " 5   violencia_tipo_Económica                                3067 non-null   bool   \n",
      " 6   violencia_tipo_Económica y física                       3067 non-null   bool   \n",
      " 7   violencia_tipo_Explotación Comercial Sexual             3067 non-null   bool   \n",
      " 8   violencia_tipo_Física                                   3067 non-null   bool   \n",
      " 9   violencia_tipo_Física y Sexual                          3067 non-null   bool   \n",
      " 10  violencia_tipo_Física y psicológica                     3067 non-null   bool   \n",
      " 11  violencia_tipo_Física, económica y psicológica          3067 non-null   bool   \n",
      " 12  violencia_tipo_Física, sexual y psicológica             3067 non-null   bool   \n",
      " 13  violencia_tipo_Física, sexual, económica y psicológica  3067 non-null   bool   \n",
      " 14  violencia_tipo_No es un caso de violencia Familiar      3067 non-null   bool   \n",
      " 15  violencia_tipo_Otra                                     3067 non-null   bool   \n",
      " 16  violencia_tipo_Psicológica                              3067 non-null   bool   \n",
      " 17  violencia_tipo_Sexual                                   3067 non-null   bool   \n",
      " 18  violencia_tipo_Sexual y económica                       3067 non-null   bool   \n",
      " 19  violencia_tipo_Sexual, económica y psicológica          3067 non-null   bool   \n",
      " 20  agresor_relacion_victima_Abuel@                         3067 non-null   bool   \n",
      " 21  agresor_relacion_victima_Abuelo/a                       3067 non-null   bool   \n",
      " 22  agresor_relacion_victima_Ex pareja                      3067 non-null   bool   \n",
      " 23  agresor_relacion_victima_Hermano/a                      3067 non-null   bool   \n",
      " 24  agresor_relacion_victima_Hijo/a                         3067 non-null   bool   \n",
      " 25  agresor_relacion_victima_Madre                          3067 non-null   bool   \n",
      " 26  agresor_relacion_victima_NS/NC                          3067 non-null   bool   \n",
      " 27  agresor_relacion_victima_Otra/o conviviente             3067 non-null   bool   \n",
      " 28  agresor_relacion_victima_Otro/a no conviviente          3067 non-null   bool   \n",
      " 29  agresor_relacion_victima_Padrastro                      3067 non-null   bool   \n",
      " 30  agresor_relacion_victima_Padre                          3067 non-null   bool   \n",
      " 31  agresor_relacion_victima_Pareja                         3067 non-null   bool   \n",
      " 32  agresor_relacion_victima_Pareja de la madre/padre       3067 non-null   bool   \n",
      "dtypes: bool(31), float64(2)\n",
      "memory usage: 164.7 KB\n"
     ]
    }
   ],
   "source": [
    "# Codificación de variables categóricas\n",
    "categorical_columns = ['victima_genero', 'violencia_tipo', 'agresor_relacion_victima']\n",
    "\n",
    "# DESCARTADO\n",
    "#for col in categorical_columns:\n",
    "#    le = LabelEncoder()\n",
    "#    df_modificado[col] = le.fit_transform(df_modificado[col])\n",
    "\n",
    "print(\"Columnas antes del dummies:\\n\")\n",
    "df_modificado.info()\n",
    "df_modificado = pd.get_dummies(df_modificado, columns=categorical_columns)\n",
    "print(\"\\n\\nColumnas despues del dummies:\\n\")\n",
    "df_modificado.info()\n"
   ]
  },
  {
   "cell_type": "code",
   "execution_count": null,
   "id": "81d29c4f",
   "metadata": {},
   "outputs": [
    {
     "name": "stdout",
     "output_type": "stream",
     "text": [
      "Cantidad de datos con edad menor a 23: 1697\n",
      "Cantidad de datos con género femenino: 2148\n",
      "Cantidad de datos con agresor en la relación de pareja: 1042\n",
      "Cantidad de datos con agresor en la relación de padre: 1026\n",
      "Cantidad de datos con violencia física: 1307\n",
      "Cantidad de datos con violencia psicológica: 1030\n",
      "Cantidad de datos con violencia física y psicológica: 372\n",
      "Distribución de alto riesgo:\n"
     ]
    },
    {
     "data": {
      "text/plain": [
       "alto_riesgo\n",
       "1    3056\n",
       "0      11\n",
       "Name: count, dtype: int64"
      ]
     },
     "execution_count": 33,
     "metadata": {},
     "output_type": "execute_result"
    }
   ],
   "source": [
    "# Cantidad de datos donde 'victima_edad' es menor a 23\n",
    "cantidad_edad = df_modificado[df_modificado['victima_edad'] < 23].shape[0]\n",
    "print(f'Cantidad de datos con edad menor a 23: {cantidad_edad}')\n",
    "\n",
    "# Cantidad de datos donde 'victima_genero_Femenino' es True\n",
    "cantidad_genero = df_modificado[df_modificado['victima_genero_Femenino'] == True].shape[0]\n",
    "print(f'Cantidad de datos con género femenino: {cantidad_genero}')\n",
    "\n",
    "# Cantidad de datos donde 'agresor_relacion_victima_Pareja' es True\n",
    "cantidad_pareja = df_modificado[df_modificado['agresor_relacion_victima_Pareja'] == True].shape[0]\n",
    "print(f'Cantidad de datos con agresor en la relación de pareja: {cantidad_pareja}')\n",
    "\n",
    "# Cantidad de datos donde 'agresor_relacion_victima_Padre' es True\n",
    "cantidad_padre = df_modificado[df_modificado['agresor_relacion_victima_Padre'] == True].shape[0]\n",
    "print(f'Cantidad de datos con agresor en la relación de padre: {cantidad_padre}')\n",
    "\n",
    "# Cantidad de datos donde 'violencia_tipo_Física' es True\n",
    "cantidad_fisica = df_modificado[df_modificado['violencia_tipo_Física'] == True].shape[0]\n",
    "print(f'Cantidad de datos con violencia física: {cantidad_fisica}')\n",
    "\n",
    "# Cantidad de datos donde 'violencia_tipo_Psicológica' es True\n",
    "cantidad_psicologica = df_modificado[df_modificado['violencia_tipo_Psicológica'] == True].shape[0]\n",
    "print(f'Cantidad de datos con violencia psicológica: {cantidad_psicologica}')\n",
    "\n",
    "# Cantidad de datos donde 'violencia_tipo_Física y psicológica' es True\n",
    "cantidad_fisica_psicologica = df_modificado[df_modificado['violencia_tipo_Física y psicológica'] == True].shape[0]\n",
    "print(f'Cantidad de datos con violencia física y psicológica: {cantidad_fisica_psicologica}')\n",
    "\n",
    "\n",
    "# Crear la columna 'alto_riesgo' basado en condiciones lógicas\n",
    "# 1 indica \"alto riesgo\"\n",
    "# 0 indica \"bajo riesgo\"\n",
    "\n",
    "df_modificado['alto_riesgo'] = np.where(\n",
    "    (df_modificado['victima_edad'] < 23) &\n",
    "    (df_modificado['victima_genero_Femenino'] == True) &  \n",
    "    ((df_modificado['agresor_relacion_victima_Pareja'] == True) |  \n",
    "     (df_modificado['agresor_relacion_victima_Padre'] == True)) &\n",
    "    ((df_modificado['violencia_tipo_Física'] == True) |  \n",
    "    (df_modificado['violencia_tipo_Psicológica'] == True) | \n",
    "    (df_modificado['violencia_tipo_Física y psicológica'] == True)),\n",
    "    1, 0)\n",
    "\n",
    "# Verificamos la distribución de la nueva variable\n",
    "print(\"Distribución de alto riesgo:\")\n",
    "df_modificado['alto_riesgo'].value_counts()"
   ]
  },
  {
   "cell_type": "markdown",
   "id": "037fcc34",
   "metadata": {},
   "source": [
    "# División de los datos en entrenamiento y prueba\n"
   ]
  },
  {
   "cell_type": "code",
   "execution_count": 23,
   "id": "e1f2ed5d",
   "metadata": {},
   "outputs": [
    {
     "name": "stdout",
     "output_type": "stream",
     "text": [
      "Tamaño de X_TRAIN: (2453, 33)\n",
      "Tamaño de X_TEST: (614, 33)\n",
      "Tamaño de Y_TRAIN: (2453,)\n",
      "Tamaño de Y_TEST: (614,)\n",
      "Tamaño de X_train_resampleo: (3950, 33)\n",
      "Tamaño de y_train_resampleo: (3950,)\n"
     ]
    }
   ],
   "source": [
    "X = df_modificado.drop('alto_riesgo', axis=1)  # Eliminar la columna 'alto_riesgo' de las características, asi solo tener variables independientes\n",
    "Y = df_modificado['alto_riesgo']  # Variable dependiente\n",
    "\n",
    "# Dividir los datos en conjunto de entrenamiento y conjunto de prueba (80% entrenamiento, 20% prueba)\n",
    "X_TRAIN, X_TEST, Y_TRAIN, Y_TEST = train_test_split(X, Y, test_size=0.2, random_state=42)\n",
    "\n",
    "# Aplicar SMOTE para el sobremuestreo de la clase minoritaria en el conjunto de entrenamiento\n",
    "smote = SMOTE(random_state=42)\n",
    "X_train_resampleo, y_train_resampleo = smote.fit_resample(X_TRAIN, Y_TRAIN)\n",
    "\n",
    "# Imprimir las dimensiones de los conjuntos para verificar\n",
    "print(f\"Tamaño de X_TRAIN: {X_TRAIN.shape}\")\n",
    "print(f\"Tamaño de X_TEST: {X_TEST.shape}\")\n",
    "print(f\"Tamaño de Y_TRAIN: {Y_TRAIN.shape}\")\n",
    "print(f\"Tamaño de Y_TEST: {Y_TEST.shape}\")\n",
    "print(f\"Tamaño de X_train_resampleo: {X_train_resampleo.shape}\")\n",
    "print(f\"Tamaño de y_train_resampleo: {y_train_resampleo.shape}\")"
   ]
  },
  {
   "cell_type": "markdown",
   "id": "767ff187",
   "metadata": {},
   "source": [
    "## Ver la distribución real de clases (Y)"
   ]
  },
  {
   "cell_type": "code",
   "execution_count": 24,
   "id": "f19f7a13",
   "metadata": {},
   "outputs": [
    {
     "name": "stdout",
     "output_type": "stream",
     "text": [
      "Clase 0: 2483 casos\n",
      "Clase 1: 584 casos\n",
      "Clase 0: 1975 casos\n",
      "Clase 1: 1975 casos\n"
     ]
    }
   ],
   "source": [
    "# Distribución de clases en el conjunto original\n",
    "unique, counts = np.unique(Y, return_counts=True)\n",
    "for u, c in zip(unique, counts):\n",
    "    print(f\"Clase {u}: {c} casos\")\n",
    "\n",
    "unique, counts = np.unique(y_train_resampleo, return_counts=True)\n",
    "for u, c in zip(unique, counts):\n",
    "    print(f\"Clase {u}: {c} casos\")"
   ]
  },
  {
   "cell_type": "markdown",
   "id": "453ca7d0",
   "metadata": {},
   "source": [
    "# Entrenamiento y prediccion"
   ]
  },
  {
   "cell_type": "code",
   "execution_count": 25,
   "id": "d20c33c7",
   "metadata": {},
   "outputs": [
    {
     "name": "stdout",
     "output_type": "stream",
     "text": [
      "Predicciones del modelo:\n",
      "[0 0 0 0 0 0 0 0 0 0 0 0 0 0 1 1 1 0 0 1 0 0 0 0 0 1 0 0 0 0 0 0 0 0 0 0 0\n",
      " 1 0 0 0 0 0 0 0 0 0 0 0 0 0 0 0 0 0 0 0 0 0 0 0 0 0 0 0 0 0 1 0 0 1 0 1 1\n",
      " 0 0 0 0 0 0 0 0 1 0 0 0 0 0 0 0 1 0 0 0 0 0 1 0 0 0 1 0 0 1 1 1 0 0 0 0 0\n",
      " 0 0 0 1 0 0 0 1 0 0 0 0 0 0 0 0 0 0 0 0 0 0 0 0 0 0 1 0 0 0 0 0 1 0 0 0 0\n",
      " 0 0 0 0 1 1 0 0 0 0 0 0 0 0 1 0 0 0 0 0 0 0 0 0 0 0 0 0 0 1 0 0 0 0 0 1 0\n",
      " 1 0 0 0 0 0 0 1 0 0 0 0 0 0 0 1 0 0 0 0 0 0 0 0 0 0 0 0 0 0 0 0 0 0 1 1 1\n",
      " 0 1 0 1 0 0 0 0 0 0 0 0 0 0 0 0 0 0 0 0 0 0 0 0 0 0 0 0 1 0 0 0 0 0 0 0 0\n",
      " 0 0 0 1 0 1 0 0 1 1 1 1 0 0 1 1 0 0 0 0 0 0 0 0 0 0 0 0 0 1 0 0 0 0 0 0 0\n",
      " 0 0 1 0 0 0 0 0 1 1 0 0 0 0 0 0 0 1 0 0 0 0 0 0 0 0 0 0 0 0 0 0 0 0 0 0 0\n",
      " 0 1 1 0 1 1 1 0 1 0 0 0 0 0 0 0 1 0 0 0 1 1 0 0 0 0 1 0 0 0 0 1 0 0 0 0 0\n",
      " 0 0 0 0 1 0 0 0 1 0 0 0 0 0 0 0 0 0 1 0 1 0 0 0 0 1 0 1 1 0 0 0 0 0 0 0 0\n",
      " 0 0 1 0 0 0 0 0 0 1 1 0 1 0 0 0 1 1 1 0 0 0 0 0 0 1 1 0 1 0 1 0 1 1 0 0 0\n",
      " 1 0 0 0 0 0 0 0 0 0 1 0 0 1 0 0 0 0 0 0 0 0 0 0 0 0 0 0 0 0 0 0 0 0 1 1 0\n",
      " 1 1 0 0 0 0 0 0 0 0 0 0 0 0 0 0 0 0 0 0 0 0 0 0 0 1 0 0 0 0 0 1 0 1 0 0 1\n",
      " 0 0 0 0 0 0 0 0 1 0 0 0 0 1 0 0 0 0 0 0 0 0 0 0 0 0 1 0 0 0 0 0 0 1 0 0 1\n",
      " 1 0 0 0 0 0 0 0 1 0 0 0 0 0 1 1 0 1 1 0 0 0 1 0 0 0 0 0 0 0 0 0 1 0 0 0 0\n",
      " 0 1 0 0 0 0 0 0 0 1 0 0 0 0 0 0 0 0 1 0 0 0]\n",
      "Comparación con las etiquetas reales:\n",
      "Etiquetas reales: [0 0 0 0 0 0 0 0 0 0 0 0 0 0 1 1 1 0 0 1 0 0 0 0 0 1 0 0 0 0 0 0 0 0 0 0 0\n",
      " 1 0 0 0 0 0 0 0 0 0 0 0 0 0 0 0 0 0 0 0 0 0 0 0 0 0 0 0 0 0 1 0 0 1 0 1 1\n",
      " 0 0 0 0 0 0 0 0 1 0 0 0 0 0 0 0 1 0 0 0 0 0 1 0 0 0 1 0 0 1 1 1 0 0 0 0 0\n",
      " 0 0 0 1 0 0 0 1 0 0 0 0 0 0 0 0 0 0 0 0 0 0 0 0 0 0 1 0 0 0 0 0 1 0 0 0 0\n",
      " 0 0 0 0 1 1 0 0 0 0 0 0 0 0 1 0 0 0 0 0 0 0 0 0 0 0 0 0 0 1 0 0 0 0 0 1 0\n",
      " 1 0 0 0 0 0 0 1 0 0 0 0 0 0 0 1 0 0 0 0 0 0 0 0 0 0 0 0 0 0 0 0 0 0 1 1 1\n",
      " 0 1 0 1 0 0 0 0 0 0 0 0 0 0 0 0 0 0 0 0 0 0 0 0 0 0 0 0 1 0 0 0 0 0 0 0 0\n",
      " 0 0 0 1 0 1 0 0 1 1 1 1 0 0 1 1 0 0 0 0 0 0 0 0 0 0 0 0 0 1 0 0 0 0 0 0 0\n",
      " 0 0 1 0 0 0 0 0 1 1 0 0 0 0 0 0 0 1 0 0 0 0 0 0 0 0 0 0 0 0 0 0 0 0 0 0 0\n",
      " 0 1 1 0 1 1 1 0 1 0 0 0 0 0 0 0 1 0 0 0 1 1 0 0 0 0 1 0 0 0 0 1 0 0 0 0 0\n",
      " 0 0 0 0 1 0 0 0 1 0 0 0 0 0 0 0 0 0 1 0 1 0 0 0 0 1 0 1 1 0 0 0 0 0 0 0 0\n",
      " 0 0 1 0 0 0 0 0 0 1 1 0 1 0 0 0 1 1 1 0 0 0 0 0 0 1 1 0 1 0 1 0 1 1 0 0 0\n",
      " 1 0 0 0 0 0 0 0 0 0 1 0 0 1 0 0 0 0 0 0 0 0 0 0 0 0 0 0 0 0 0 0 0 0 1 1 0\n",
      " 1 1 0 0 0 0 0 0 0 0 0 0 0 0 0 0 0 0 0 0 0 0 0 0 0 1 0 0 0 0 0 1 0 1 0 0 1\n",
      " 0 0 0 0 0 0 0 0 1 0 0 0 0 1 0 0 0 0 0 0 0 0 0 0 0 0 1 0 0 0 0 0 0 1 0 0 1\n",
      " 1 0 0 0 0 0 0 0 1 0 0 0 0 0 1 1 0 1 1 0 0 0 1 0 0 0 0 0 0 0 0 0 1 0 0 0 0\n",
      " 0 1 0 0 0 0 0 0 0 1 0 0 0 0 0 0 0 0 1 0 0 0]\n"
     ]
    }
   ],
   "source": [
    "\n",
    "# Entrenamiento del modelo con los datos de entrenamiento.\n",
    "modelo = RandomForestClassifier(class_weight='balanced', random_state=42)\n",
    "# Pasamos tanto las características como la variable objetivo, para que el modelo pueda aprender.\n",
    "modelo.fit(X_train_resampleo, y_train_resampleo)\n",
    "\n",
    "# Predicción con los datos de prueba\n",
    "Y_pred = modelo.predict(X_TEST)\n",
    "\n",
    "print(\"Predicciones del modelo:\")\n",
    "print(Y_pred)\n",
    "\n",
    "print(\"Comparación con las etiquetas reales:\")\n",
    "print(f\"Etiquetas reales: {Y_TEST.values}\")"
   ]
  },
  {
   "cell_type": "markdown",
   "id": "d24fce98",
   "metadata": {},
   "source": [
    "# Evaluación del rendimiento del modelo"
   ]
  },
  {
   "cell_type": "code",
   "execution_count": 26,
   "id": "5bfdeea3",
   "metadata": {},
   "outputs": [
    {
     "name": "stdout",
     "output_type": "stream",
     "text": [
      "Exactitud del modelo: 1.0000\n",
      "\n",
      "Informe de clasificación:\n",
      "              precision    recall  f1-score   support\n",
      "\n",
      "           0       1.00      1.00      1.00       508\n",
      "           1       1.00      1.00      1.00       106\n",
      "\n",
      "    accuracy                           1.00       614\n",
      "   macro avg       1.00      1.00      1.00       614\n",
      "weighted avg       1.00      1.00      1.00       614\n",
      "\n"
     ]
    },
    {
     "data": {
      "image/png": "[encoded data removed]",
      "text/plain": [
       "<Figure size 600x500 with 2 Axes>"
      ]
     },
     "metadata": {},
     "output_type": "display_data"
    }
   ],
   "source": [
    "\n",
    "# 1. Accuracy Score\n",
    "\n",
    "\n",
    "\n",
    "accuracy = accuracy_score(Y_TEST, Y_pred)\n",
    "print(f'Exactitud del modelo: {accuracy:.4f}')\n",
    "\n",
    "# Informe de clasificación (precision, recall, f1-score, etc.)\n",
    "\n",
    "precision = precision_score(Y_TEST, Y_pred)\n",
    "recall = recall_score(Y_TEST, Y_pred)\n",
    "f1 = f1_score(Y_TEST, Y_pred)\n",
    "cm = confusion_matrix(Y_TEST, Y_pred)\n",
    "\n",
    "print(\"\\nInforme de clasificación:\")\n",
    "print(classification_report(Y_TEST, Y_pred))\n",
    "\n",
    "\n",
    "\n",
    "# Graficar la matriz de confusión\n",
    "plt.figure(figsize=(6, 5))\n",
    "sns.heatmap(cm, annot=True, fmt=\"d\", cmap=\"Blues\", xticklabels=['Bajo Riesgo', 'Alto Riesgo'], yticklabels=['Bajo Riesgo', 'Alto Riesgo'])\n",
    "plt.title('Matriz de Confusión')\n",
    "plt.xlabel('Predicción')\n",
    "plt.ylabel('Real')\n",
    "plt.show()"
   ]
  }
 ],
 "metadata": {
  "kernelspec": {
   "display_name": "base",
   "language": "python",
   "name": "python3"
  },
  "language_info": {
   "codemirror_mode": {
    "name": "ipython",
    "version": 3
   },
   "file_extension": ".py",
   "mimetype": "text/x-python",
   "name": "python",
   "nbconvert_exporter": "python",
   "pygments_lexer": "ipython3",
   "version": "3.11.7"
  }
 },
 "nbformat": 4,
 "nbformat_minor": 5
}
