{
 "cells": [
  {
   "cell_type": "markdown",
   "id": "b1039a51",
   "metadata": {},
   "source": [
    "\n",
    "\n",
    "### ANÁLISIS DE DATOS"
   ]
  },
  {
   "cell_type": "code",
   "execution_count": 1,
   "id": "7d832011",
   "metadata": {},
   "outputs": [],
   "source": [
    "import pandas as pd\n",
    "import matplotlib.pyplot as plt\n",
    "import plotly.graph_objects as go\n",
    "import random\n",
    "import seaborn as sns\n",
    "import plotly.express as px\n"
   ]
  },
  {
   "cell_type": "code",
   "execution_count": 2,
   "id": "a65d9914",
   "metadata": {},
   "outputs": [
    {
     "name": "stdout",
     "output_type": "stream",
     "text": [
      "Estructura 137 intervenciones domiciliarias - luego de la transformacion: \n",
      "<class 'pandas.core.frame.DataFrame'>\n",
      "RangeIndex: 3427 entries, 0 to 3426\n",
      "Data columns (total 10 columns):\n",
      " #   Column                    Non-Null Count  Dtype  \n",
      "---  ------                    --------------  -----  \n",
      " 0   caso_id                   3425 non-null   float64\n",
      " 1   intervencion_fecha        3425 non-null   object \n",
      " 2   intervencion_hora         3425 non-null   object \n",
      " 3   victima_embarazo          3427 non-null   object \n",
      " 4   victima_edad              3407 non-null   float64\n",
      " 5   victima_genero            3427 non-null   object \n",
      " 6   victima_nacionalidad      3427 non-null   object \n",
      " 7   victima_discapacidad      3427 non-null   object \n",
      " 8   violencia_tipo            3427 non-null   object \n",
      " 9   agresor_relacion_victima  3427 non-null   object \n",
      "dtypes: float64(2), object(8)\n",
      "memory usage: 267.9+ KB\n",
      "Filas y columnas:\n"
     ]
    },
    {
     "data": {
      "text/plain": [
       "(3427, 10)"
      ]
     },
     "execution_count": 2,
     "metadata": {},
     "output_type": "execute_result"
    }
   ],
   "source": [
    "## 137 - intervenciones-domiciliarias-violencia-familiar\n",
    "\n",
    "intervenciones_domiciliarias = pd.read_csv('datos nuevo\\linea137_ID_transformada.csv')\n",
    "print(\"Estructura 137 intervenciones domiciliarias - luego de la transformacion: \")\n",
    "intervenciones_domiciliarias.info()\n",
    "print(\"Filas y columnas:\")\n",
    "intervenciones_domiciliarias.shape\n"
   ]
  },
  {
   "cell_type": "code",
   "execution_count": 3,
   "id": "0d43336f",
   "metadata": {},
   "outputs": [
    {
     "name": "stdout",
     "output_type": "stream",
     "text": [
      "Estructura 137 llamados atendidos - luego de la transformacion: \n",
      "<class 'pandas.core.frame.DataFrame'>\n",
      "RangeIndex: 61436 entries, 0 to 61435\n",
      "Data columns (total 16 columns):\n",
      " #   Column                             Non-Null Count  Dtype  \n",
      "---  ------                             --------------  -----  \n",
      " 0   caso_id                            61430 non-null  float64\n",
      " 1   llamante_descripcion               61436 non-null  object \n",
      " 2   llamante_genero                    61436 non-null  object \n",
      " 3   llamante_vinculo_ninios_presentes  61436 non-null  object \n",
      " 4   violencia_tipo                     61436 non-null  object \n",
      " 5   victima_edad                       31987 non-null  float64\n",
      " 6   victima_rango_etario               61436 non-null  object \n",
      " 7   victima_genero                     61436 non-null  object \n",
      " 8   victima_cantidad                   61430 non-null  float64\n",
      " 9   agresor_cantidad                   61430 non-null  float64\n",
      " 10  agresor_genero                     61436 non-null  object \n",
      " 11  agresor_relacion_victima           61436 non-null  object \n",
      " 12  llamado_derivacion                 61436 non-null  object \n",
      " 13  llamado_fecha                      61430 non-null  object \n",
      " 14  llamado_hora                       61430 non-null  object \n",
      " 15  llamado_provincia                  61436 non-null  object \n",
      "dtypes: float64(4), object(12)\n",
      "memory usage: 7.5+ MB\n",
      "Filas y columnas:\n"
     ]
    },
    {
     "data": {
      "text/plain": [
       "(61436, 16)"
      ]
     },
     "execution_count": 3,
     "metadata": {},
     "output_type": "execute_result"
    }
   ],
   "source": [
    "## 137 - llamados-atendidos-violencia-familiar\n",
    "\n",
    "llamados = pd.read_csv('datos nuevo\\linea137_LLA_transformada.csv')\n",
    "print(\"Estructura 137 llamados atendidos - luego de la transformacion: \")\n",
    "llamados.info()\n",
    "print(\"Filas y columnas:\")\n",
    "llamados.shape\n"
   ]
  },
  {
   "cell_type": "code",
   "execution_count": 4,
   "id": "a508a139",
   "metadata": {},
   "outputs": [
    {
     "name": "stdout",
     "output_type": "stream",
     "text": [
      "Estructura 144 - luego de la transformacion: \n",
      "<class 'pandas.core.frame.DataFrame'>\n",
      "RangeIndex: 89541 entries, 0 to 89540\n",
      "Data columns (total 19 columns):\n",
      " #   Column                                             Non-Null Count  Dtype  \n",
      "---  ------                                             --------------  -----  \n",
      " 0   Fecha                                              89528 non-null  object \n",
      " 1   prov_residencia_persona_en_situacion_violencia     89541 non-null  object \n",
      " 2   genero_persona_en_situacion_de_violencia           89541 non-null  object \n",
      " 3   edad_persona_en_situacion_de_violencia             72251 non-null  float64\n",
      " 4   pais_nacimiento_persona_en_situacion_de_violencia  89541 non-null  object \n",
      " 5   tipo_de_violencia_fisica                           89539 non-null  object \n",
      " 6   tipo_de_violencia_psicologica                      89539 non-null  object \n",
      " 7   tipo_de_violencia_sexual                           89539 non-null  object \n",
      " 8   tipo_de_violencia_economica_y_patrimonial          89539 non-null  object \n",
      " 9   tipo_de_violencia_simbolica                        89539 non-null  object \n",
      " 10  tipo_de_violencia_domestica                        89539 non-null  object \n",
      " 11  modalidad_de_violencia_institucional               89539 non-null  object \n",
      " 12  modalidad_de_violencia_laboral                     89539 non-null  object \n",
      " 13  modalidad_violencia_contra_libertad_reproductiva   89539 non-null  object \n",
      " 14  modalidad_de_violencia_obstetrica                  89539 non-null  object \n",
      " 15  modalidad_de_violencia_mediatica                   89539 non-null  object \n",
      " 16  modalidad_de_violencia_otras                       89539 non-null  object \n",
      " 17  vinculo_con_la_persona_agresora                    89541 non-null  object \n",
      " 18  genero_de_la_persona_agresora                      89541 non-null  object \n",
      "dtypes: float64(1), object(18)\n",
      "memory usage: 13.0+ MB\n",
      "Filas y columnas:\n"
     ]
    },
    {
     "data": {
      "text/plain": [
       "(89541, 19)"
      ]
     },
     "execution_count": 4,
     "metadata": {},
     "output_type": "execute_result"
    }
   ],
   "source": [
    "## 144\n",
    "data144_final = pd.read_csv('datos nuevo\\linea144_transformada.csv')\n",
    "print(\"Estructura 144 - luego de la transformacion: \")\n",
    "data144_final.info()\n",
    "print(\"Filas y columnas:\")\n",
    "data144_final.shape\n"
   ]
  },
  {
   "cell_type": "markdown",
   "id": "97a075ff",
   "metadata": {},
   "source": []
  },
  {
   "cell_type": "markdown",
   "id": "6602faea",
   "metadata": {},
   "source": [
    "## Factor sociodemográfico: Edad de las víctimas"
   ]
  },
  {
   "cell_type": "code",
   "execution_count": 5,
   "id": "43b5993b",
   "metadata": {},
   "outputs": [
    {
     "data": {
      "text/plain": [
       "array([ 23.,  18.,  nan,  27.,  35.,  25.,  53.,  38.,  31.,  60.,  28.,\n",
       "        77.,  37.,  36.,  24.,  22.,  30.,  41.,  40.,  26.,   4.,  50.,\n",
       "        11.,  32.,  20.,  33.,   5.,  55.,  34.,   7.,  43.,  48.,  63.,\n",
       "        42.,  46.,  44.,  54.,  81.,  16.,  64.,  21.,  56.,  47.,  68.,\n",
       "        58.,  19.,  52.,  45.,  39.,  67.,  86.,  29.,  62.,  13.,  10.,\n",
       "        49.,  65.,   2.,   3.,  76.,  17.,   1.,   6.,   8.,   9.,  88.,\n",
       "        87.,  57.,  84.,  51.,  59.,  69.,  73.,  85.,  14.,   0.,  74.,\n",
       "        83.,  61.,  15.,  91.,  80.,  96.,  75.,  70.,  12.,  82.,  66.,\n",
       "        72.,  78.,  71.,  90.,  93.,  94.,  79., 100.,  89.,  92.,  95.,\n",
       "        97.,  98.,  99.])"
      ]
     },
     "execution_count": 5,
     "metadata": {},
     "output_type": "execute_result"
    }
   ],
   "source": [
    "#llamados['victima_rango_etario'].unique()  \n",
    "llamados['victima_edad'].unique()  "
   ]
  },
  {
   "cell_type": "code",
   "execution_count": 6,
   "id": "c3681a2f",
   "metadata": {},
   "outputs": [
    {
     "name": "stdout",
     "output_type": "stream",
     "text": [
      "Intervenciones domiciliarias -  Línea 137\n",
      "Promedio: 20.48\n",
      "Mediana: 16.00\n",
      "Desviación estándar: 17.84\n",
      "Valores nulos en 'victima_edad': 20\n",
      "Valores nulos en 'rango_etario_aux': 20\n",
      "\n",
      "Distribución por rango etario:\n",
      "rango_etario_aux\n",
      "0-17     1831\n",
      "18-29     703\n",
      "30-44     606\n",
      "45-59     148\n",
      "60+       119\n",
      "Name: count, dtype: int64\n"
     ]
    },
    {
     "data": {
      "image/png": "[encoded data removed]",
      "text/plain": [
       "<Figure size 800x500 with 1 Axes>"
      ]
     },
     "metadata": {},
     "output_type": "display_data"
    },
    {
     "name": "stdout",
     "output_type": "stream",
     "text": [
      "Llamados atendidos -  Línea 137\n",
      "Promedio: 32.53\n",
      "Mediana: 30.00\n",
      "Desviación estándar: 19.23\n",
      "Valores nulos en 'victima_edad': 29449\n",
      "Valores nulos en 'rango_etario_aux': 29449\n",
      "\n",
      "Distribución por rango etario:\n",
      "rango_etario_aux\n",
      "0-17     7698\n",
      "18-29    9133\n",
      "30-44    8636\n",
      "45-59    3382\n",
      "60+      3138\n",
      "Name: count, dtype: int64\n"
     ]
    },
    {
     "data": {
      "image/png": "[encoded data removed]",
      "text/plain": [
       "<Figure size 800x500 with 1 Axes>"
      ]
     },
     "metadata": {},
     "output_type": "display_data"
    },
    {
     "name": "stdout",
     "output_type": "stream",
     "text": [
      "Línea 144\n",
      "Promedio: 35.69\n",
      "Mediana: 34.00\n",
      "Desviación estándar: 12.59\n",
      "Valores nulos en 'victima_edad': 17290\n",
      "Valores nulos en 'rango_etario_aux': 17290\n",
      "\n",
      "Distribución por rango etario:\n",
      "rango_etario_aux\n",
      "0-17      2520\n",
      "18-29    26101\n",
      "30-44    30027\n",
      "45-59    10260\n",
      "60+       3343\n",
      "Name: count, dtype: int64\n"
     ]
    },
    {
     "data": {
      "image/png": "[encoded data removed]",
      "text/plain": [
       "<Figure size 800x500 with 1 Axes>"
      ]
     },
     "metadata": {},
     "output_type": "display_data"
    }
   ],
   "source": [
    "\n",
    "def kpi_edad(df, columna, titulo):\n",
    "    promedio = df[columna].mean()\n",
    "    mediana = df[columna].median()\n",
    "    desviacion = df[columna].std()\n",
    "    print(f\"{titulo}\")\n",
    "    print(f\"Promedio: {promedio:.2f}\")\n",
    "    print(f\"Mediana: {mediana:.2f}\")\n",
    "    print(f\"Desviación estándar: {desviacion:.2f}\")\n",
    "    \n",
    "  # Crear columna de rango etario\n",
    "    bins = [0, 18, 30, 45,60, 120]  # intervalos\n",
    "    labels = ['0-17', '18-29', '30-44','45-59', '60+']\n",
    "    df['rango_etario_aux'] = pd.cut(df[columna], bins=bins, labels=labels, right=True, include_lowest=True)\n",
    "    nulos_edad = df[columna].isna().sum()\n",
    "    print(f\"Valores nulos en 'victima_edad': {nulos_edad}\")\n",
    "    nulos_rango = df['rango_etario_aux'].isna().sum()\n",
    "    print(f\"Valores nulos en 'rango_etario_aux': {nulos_rango}\")    \n",
    "    \n",
    "    # Resumen por rango etario\n",
    "    conteo_rango = df['rango_etario_aux'].value_counts().sort_index()\n",
    "    print(\"\\nDistribución por rango etario:\")\n",
    "    print(conteo_rango)\n",
    "    \n",
    "    # Graficar histograma por rango etario\n",
    "    plt.figure(figsize=(8,5))\n",
    "    conteo_rango.plot(kind='bar', color='#C2AEC2', edgecolor='black')\n",
    "    plt.title(f'Histograma por rango etario - {titulo}')\n",
    "    plt.xlabel('Rango etario')\n",
    "    plt.ylabel('Cantidad de casos')\n",
    "    plt.grid(axis='y', alpha=0.75)\n",
    "    plt.show()\n",
    "\n",
    "\n",
    "# Aplicar a cada DataFrame\n",
    "kpi_edad(intervenciones_domiciliarias, 'victima_edad', 'Intervenciones domiciliarias -  Línea 137')\n",
    "kpi_edad(llamados, 'victima_edad', 'Llamados atendidos -  Línea 137')\n",
    "kpi_edad(data144_final, 'edad_persona_en_situacion_de_violencia', 'Línea 144')"
   ]
  },
  {
   "cell_type": "markdown",
   "id": "dbe8a231",
   "metadata": {},
   "source": [
    "## Factor biológico e identitario: Sexo/Género"
   ]
  },
  {
   "cell_type": "code",
   "execution_count": 7,
   "id": "aa25864a",
   "metadata": {},
   "outputs": [
    {
     "name": "stdout",
     "output_type": "stream",
     "text": [
      "Cantidad de valores nulos en 'victima_genero': 0\n",
      "\n",
      "Distribución de categorías:\n",
      "victima_genero\n",
      "FEMENINO       2337\n",
      "MASCULINO      1081\n",
      "TRANSGÉNERO       5\n",
      "Sin dato          4\n",
      "Name: count, dtype: int64\n"
     ]
    },
    {
     "data": {
      "application/vnd.plotly.v1+json": {
       "config": {
        "plotlyServerURL": "https://plot.ly"
       },
       "data": [
        {
         "hole": 0.3,
         "hoverinfo": "label+percent",
         "labels": [
          "FEMENINO",
          "MASCULINO",
          "TRANSGÉNERO",
          "Sin dato"
         ],
         "marker": {
          "colors": [
           "#DE7AE7",
           "#1E90FF",
           "rgba(226,178,208,0.8)",
           "rgba(106,224,226,0.8)"
          ],
          "line": {
           "color": "#000000",
           "width": 1.5
          }
         },
         "pull": [
          0.1,
          0,
          0,
          0
         ],
         "textinfo": "percent",
         "texttemplate": "%{percent:.1%}",
         "type": "pie",
         "values": [
          2337,
          1081,
          5,
          4
         ]
        }
       ],
       "layout": {
        "legend": {
         "title": {
          "text": "Categorías"
         },
         "x": 1,
         "y": 0.5
        },
        "margin": {
         "b": 20,
         "l": 20,
         "r": 200,
         "t": 120
        },
        "template": {
         "data": {
          "bar": [
           {
            "error_x": {
             "color": "#2a3f5f"
            },
            "error_y": {
             "color": "#2a3f5f"
            },
            "marker": {
             "line": {
              "color": "#E5ECF6",
              "width": 0.5
             },
             "pattern": {
              "fillmode": "overlay",
              "size": 10,
              "solidity": 0.2
             }
            },
            "type": "bar"
           }
          ],
          "barpolar": [
           {
            "marker": {
             "line": {
              "color": "#E5ECF6",
              "width": 0.5
             },
             "pattern": {
              "fillmode": "overlay",
              "size": 10,
              "solidity": 0.2
             }
            },
            "type": "barpolar"
           }
          ],
          "carpet": [
           {
            "aaxis": {
             "endlinecolor": "#2a3f5f",
             "gridcolor": "white",
             "linecolor": "white",
             "minorgridcolor": "white",
             "startlinecolor": "#2a3f5f"
            },
            "baxis": {
             "endlinecolor": "#2a3f5f",
             "gridcolor": "white",
             "linecolor": "white",
             "minorgridcolor": "white",
             "startlinecolor": "#2a3f5f"
            },
            "type": "carpet"
           }
          ],
          "choropleth": [
           {
            "colorbar": {
             "outlinewidth": 0,
             "ticks": ""
            },
            "type": "choropleth"
           }
          ],
          "contour": [
           {
            "colorbar": {
             "outlinewidth": 0,
             "ticks": ""
            },
            "colorscale": [
             [
              0,
              "#0d0887"
             ],
             [
              0.1111111111111111,
              "#46039f"
             ],
             [
              0.2222222222222222,
              "#7201a8"
             ],
             [
              0.3333333333333333,
              "#9c179e"
             ],
             [
              0.4444444444444444,
              "#bd3786"
             ],
             [
              0.5555555555555556,
              "#d8576b"
             ],
             [
              0.6666666666666666,
              "#ed7953"
             ],
             [
              0.7777777777777778,
              "#fb9f3a"
             ],
             [
              0.8888888888888888,
              "#fdca26"
             ],
             [
              1,
              "#f0f921"
             ]
            ],
            "type": "contour"
           }
          ],
          "contourcarpet": [
           {
            "colorbar": {
             "outlinewidth": 0,
             "ticks": ""
            },
            "type": "contourcarpet"
           }
          ],
          "heatmap": [
           {
            "colorbar": {
             "outlinewidth": 0,
             "ticks": ""
            },
            "colorscale": [
             [
              0,
              "#0d0887"
             ],
             [
              0.1111111111111111,
              "#46039f"
             ],
             [
              0.2222222222222222,
              "#7201a8"
             ],
             [
              0.3333333333333333,
              "#9c179e"
             ],
             [
              0.4444444444444444,
              "#bd3786"
             ],
             [
              0.5555555555555556,
              "#d8576b"
             ],
             [
              0.6666666666666666,
              "#ed7953"
             ],
             [
              0.7777777777777778,
              "#fb9f3a"
             ],
             [
              0.8888888888888888,
              "#fdca26"
             ],
             [
              1,
              "#f0f921"
             ]
            ],
            "type": "heatmap"
           }
          ],
          "heatmapgl": [
           {
            "colorbar": {
             "outlinewidth": 0,
             "ticks": ""
            },
            "colorscale": [
             [
              0,
              "#0d0887"
             ],
             [
              0.1111111111111111,
              "#46039f"
             ],
             [
              0.2222222222222222,
              "#7201a8"
             ],
             [
              0.3333333333333333,
              "#9c179e"
             ],
             [
              0.4444444444444444,
              "#bd3786"
             ],
             [
              0.5555555555555556,
              "#d8576b"
             ],
             [
              0.6666666666666666,
              "#ed7953"
             ],
             [
              0.7777777777777778,
              "#fb9f3a"
             ],
             [
              0.8888888888888888,
              "#fdca26"
             ],
             [
              1,
              "#f0f921"
             ]
            ],
            "type": "heatmapgl"
           }
          ],
          "histogram": [
           {
            "marker": {
             "pattern": {
              "fillmode": "overlay",
              "size": 10,
              "solidity": 0.2
             }
            },
            "type": "histogram"
           }
          ],
          "histogram2d": [
           {
            "colorbar": {
             "outlinewidth": 0,
             "ticks": ""
            },
            "colorscale": [
             [
              0,
              "#0d0887"
             ],
             [
              0.1111111111111111,
              "#46039f"
             ],
             [
              0.2222222222222222,
              "#7201a8"
             ],
             [
              0.3333333333333333,
              "#9c179e"
             ],
             [
              0.4444444444444444,
              "#bd3786"
             ],
             [
              0.5555555555555556,
              "#d8576b"
             ],
             [
              0.6666666666666666,
              "#ed7953"
             ],
             [
              0.7777777777777778,
              "#fb9f3a"
             ],
             [
              0.8888888888888888,
              "#fdca26"
             ],
             [
              1,
              "#f0f921"
             ]
            ],
            "type": "histogram2d"
           }
          ],
          "histogram2dcontour": [
           {
            "colorbar": {
             "outlinewidth": 0,
             "ticks": ""
            },
            "colorscale": [
             [
              0,
              "#0d0887"
             ],
             [
              0.1111111111111111,
              "#46039f"
             ],
             [
              0.2222222222222222,
              "#7201a8"
             ],
             [
              0.3333333333333333,
              "#9c179e"
             ],
             [
              0.4444444444444444,
              "#bd3786"
             ],
             [
              0.5555555555555556,
              "#d8576b"
             ],
             [
              0.6666666666666666,
              "#ed7953"
             ],
             [
              0.7777777777777778,
              "#fb9f3a"
             ],
             [
              0.8888888888888888,
              "#fdca26"
             ],
             [
              1,
              "#f0f921"
             ]
            ],
            "type": "histogram2dcontour"
           }
          ],
          "mesh3d": [
           {
            "colorbar": {
             "outlinewidth": 0,
             "ticks": ""
            },
            "type": "mesh3d"
           }
          ],
          "parcoords": [
           {
            "line": {
             "colorbar": {
              "outlinewidth": 0,
              "ticks": ""
             }
            },
            "type": "parcoords"
           }
          ],
          "pie": [
           {
            "automargin": true,
            "type": "pie"
           }
          ],
          "scatter": [
           {
            "fillpattern": {
             "fillmode": "overlay",
             "size": 10,
             "solidity": 0.2
            },
            "type": "scatter"
           }
          ],
          "scatter3d": [
           {
            "line": {
             "colorbar": {
              "outlinewidth": 0,
              "ticks": ""
             }
            },
            "marker": {
             "colorbar": {
              "outlinewidth": 0,
              "ticks": ""
             }
            },
            "type": "scatter3d"
           }
          ],
          "scattercarpet": [
           {
            "marker": {
             "colorbar": {
              "outlinewidth": 0,
              "ticks": ""
             }
            },
            "type": "scattercarpet"
           }
          ],
          "scattergeo": [
           {
            "marker": {
             "colorbar": {
              "outlinewidth": 0,
              "ticks": ""
             }
            },
            "type": "scattergeo"
           }
          ],
          "scattergl": [
           {
            "marker": {
             "colorbar": {
              "outlinewidth": 0,
              "ticks": ""
             }
            },
            "type": "scattergl"
           }
          ],
          "scattermapbox": [
           {
            "marker": {
             "colorbar": {
              "outlinewidth": 0,
              "ticks": ""
             }
            },
            "type": "scattermapbox"
           }
          ],
          "scatterpolar": [
           {
            "marker": {
             "colorbar": {
              "outlinewidth": 0,
              "ticks": ""
             }
            },
            "type": "scatterpolar"
           }
          ],
          "scatterpolargl": [
           {
            "marker": {
             "colorbar": {
              "outlinewidth": 0,
              "ticks": ""
             }
            },
            "type": "scatterpolargl"
           }
          ],
          "scatterternary": [
           {
            "marker": {
             "colorbar": {
              "outlinewidth": 0,
              "ticks": ""
             }
            },
            "type": "scatterternary"
           }
          ],
          "surface": [
           {
            "colorbar": {
             "outlinewidth": 0,
             "ticks": ""
            },
            "colorscale": [
             [
              0,
              "#0d0887"
             ],
             [
              0.1111111111111111,
              "#46039f"
             ],
             [
              0.2222222222222222,
              "#7201a8"
             ],
             [
              0.3333333333333333,
              "#9c179e"
             ],
             [
              0.4444444444444444,
              "#bd3786"
             ],
             [
              0.5555555555555556,
              "#d8576b"
             ],
             [
              0.6666666666666666,
              "#ed7953"
             ],
             [
              0.7777777777777778,
              "#fb9f3a"
             ],
             [
              0.8888888888888888,
              "#fdca26"
             ],
             [
              1,
              "#f0f921"
             ]
            ],
            "type": "surface"
           }
          ],
          "table": [
           {
            "cells": {
             "fill": {
              "color": "#EBF0F8"
             },
             "line": {
              "color": "white"
             }
            },
            "header": {
             "fill": {
              "color": "#C8D4E3"
             },
             "line": {
              "color": "white"
             }
            },
            "type": "table"
           }
          ]
         },
         "layout": {
          "annotationdefaults": {
           "arrowcolor": "#2a3f5f",
           "arrowhead": 0,
           "arrowwidth": 1
          },
          "autotypenumbers": "strict",
          "coloraxis": {
           "colorbar": {
            "outlinewidth": 0,
            "ticks": ""
           }
          },
          "colorscale": {
           "diverging": [
            [
             0,
             "#8e0152"
            ],
            [
             0.1,
             "#c51b7d"
            ],
            [
             0.2,
             "#de77ae"
            ],
            [
             0.3,
             "#f1b6da"
            ],
            [
             0.4,
             "#fde0ef"
            ],
            [
             0.5,
             "#f7f7f7"
            ],
            [
             0.6,
             "#e6f5d0"
            ],
            [
             0.7,
             "#b8e186"
            ],
            [
             0.8,
             "#7fbc41"
            ],
            [
             0.9,
             "#4d9221"
            ],
            [
             1,
             "#276419"
            ]
           ],
           "sequential": [
            [
             0,
             "#0d0887"
            ],
            [
             0.1111111111111111,
             "#46039f"
            ],
            [
             0.2222222222222222,
             "#7201a8"
            ],
            [
             0.3333333333333333,
             "#9c179e"
            ],
            [
             0.4444444444444444,
             "#bd3786"
            ],
            [
             0.5555555555555556,
             "#d8576b"
            ],
            [
             0.6666666666666666,
             "#ed7953"
            ],
            [
             0.7777777777777778,
             "#fb9f3a"
            ],
            [
             0.8888888888888888,
             "#fdca26"
            ],
            [
             1,
             "#f0f921"
            ]
           ],
           "sequentialminus": [
            [
             0,
             "#0d0887"
            ],
            [
             0.1111111111111111,
             "#46039f"
            ],
            [
             0.2222222222222222,
             "#7201a8"
            ],
            [
             0.3333333333333333,
             "#9c179e"
            ],
            [
             0.4444444444444444,
             "#bd3786"
            ],
            [
             0.5555555555555556,
             "#d8576b"
            ],
            [
             0.6666666666666666,
             "#ed7953"
            ],
            [
             0.7777777777777778,
             "#fb9f3a"
            ],
            [
             0.8888888888888888,
             "#fdca26"
            ],
            [
             1,
             "#f0f921"
            ]
           ]
          },
          "colorway": [
           "#636efa",
           "#EF553B",
           "#00cc96",
           "#ab63fa",
           "#FFA15A",
           "#19d3f3",
           "#FF6692",
           "#B6E880",
           "#FF97FF",
           "#FECB52"
          ],
          "font": {
           "color": "#2a3f5f"
          },
          "geo": {
           "bgcolor": "white",
           "lakecolor": "white",
           "landcolor": "#E5ECF6",
           "showlakes": true,
           "showland": true,
           "subunitcolor": "white"
          },
          "hoverlabel": {
           "align": "left"
          },
          "hovermode": "closest",
          "mapbox": {
           "style": "light"
          },
          "paper_bgcolor": "white",
          "plot_bgcolor": "#E5ECF6",
          "polar": {
           "angularaxis": {
            "gridcolor": "white",
            "linecolor": "white",
            "ticks": ""
           },
           "bgcolor": "#E5ECF6",
           "radialaxis": {
            "gridcolor": "white",
            "linecolor": "white",
            "ticks": ""
           }
          },
          "scene": {
           "xaxis": {
            "backgroundcolor": "#E5ECF6",
            "gridcolor": "white",
            "gridwidth": 2,
            "linecolor": "white",
            "showbackground": true,
            "ticks": "",
            "zerolinecolor": "white"
           },
           "yaxis": {
            "backgroundcolor": "#E5ECF6",
            "gridcolor": "white",
            "gridwidth": 2,
            "linecolor": "white",
            "showbackground": true,
            "ticks": "",
            "zerolinecolor": "white"
           },
           "zaxis": {
            "backgroundcolor": "#E5ECF6",
            "gridcolor": "white",
            "gridwidth": 2,
            "linecolor": "white",
            "showbackground": true,
            "ticks": "",
            "zerolinecolor": "white"
           }
          },
          "shapedefaults": {
           "line": {
            "color": "#2a3f5f"
           }
          },
          "ternary": {
           "aaxis": {
            "gridcolor": "white",
            "linecolor": "white",
            "ticks": ""
           },
           "baxis": {
            "gridcolor": "white",
            "linecolor": "white",
            "ticks": ""
           },
           "bgcolor": "#E5ECF6",
           "caxis": {
            "gridcolor": "white",
            "linecolor": "white",
            "ticks": ""
           }
          },
          "title": {
           "x": 0.05
          },
          "xaxis": {
           "automargin": true,
           "gridcolor": "white",
           "linecolor": "white",
           "ticks": "",
           "title": {
            "standoff": 15
           },
           "zerolinecolor": "white",
           "zerolinewidth": 2
          },
          "yaxis": {
           "automargin": true,
           "gridcolor": "white",
           "linecolor": "white",
           "ticks": "",
           "title": {
            "standoff": 15
           },
           "zerolinecolor": "white",
           "zerolinewidth": 2
          }
         }
        },
        "title": {
         "text": "Distribución de Victima Género - Intervenciones Domiciliarias",
         "x": 0.5,
         "xanchor": "center",
         "y": 0.98
        }
       }
      }
     },
     "metadata": {},
     "output_type": "display_data"
    },
    {
     "name": "stdout",
     "output_type": "stream",
     "text": [
      "Cantidad de valores nulos en 'victima_genero': 0\n",
      "\n",
      "Distribución de categorías:\n",
      "victima_genero\n",
      "FEMENINO       39077\n",
      "Sin Dato       15197\n",
      "MASCULINO       7095\n",
      "TRANSGÉNERO       67\n",
      "Name: count, dtype: int64\n"
     ]
    },
    {
     "data": {
      "application/vnd.plotly.v1+json": {
       "config": {
        "plotlyServerURL": "https://plot.ly"
       },
       "data": [
        {
         "hole": 0.3,
         "hoverinfo": "label+percent",
         "labels": [
          "FEMENINO",
          "Sin Dato",
          "MASCULINO",
          "TRANSGÉNERO"
         ],
         "marker": {
          "colors": [
           "#DE7AE7",
           "rgba(127,120,149,0.8)",
           "#1E90FF",
           "rgba(130,217,231,0.8)"
          ],
          "line": {
           "color": "#000000",
           "width": 1.5
          }
         },
         "pull": [
          0.1,
          0,
          0,
          0
         ],
         "textinfo": "percent",
         "texttemplate": "%{percent:.1%}",
         "type": "pie",
         "values": [
          39077,
          15197,
          7095,
          67
         ]
        }
       ],
       "layout": {
        "legend": {
         "title": {
          "text": "Categorías"
         },
         "x": 1,
         "y": 0.5
        },
        "margin": {
         "b": 20,
         "l": 20,
         "r": 200,
         "t": 120
        },
        "template": {
         "data": {
          "bar": [
           {
            "error_x": {
             "color": "#2a3f5f"
            },
            "error_y": {
             "color": "#2a3f5f"
            },
            "marker": {
             "line": {
              "color": "#E5ECF6",
              "width": 0.5
             },
             "pattern": {
              "fillmode": "overlay",
              "size": 10,
              "solidity": 0.2
             }
            },
            "type": "bar"
           }
          ],
          "barpolar": [
           {
            "marker": {
             "line": {
              "color": "#E5ECF6",
              "width": 0.5
             },
             "pattern": {
              "fillmode": "overlay",
              "size": 10,
              "solidity": 0.2
             }
            },
            "type": "barpolar"
           }
          ],
          "carpet": [
           {
            "aaxis": {
             "endlinecolor": "#2a3f5f",
             "gridcolor": "white",
             "linecolor": "white",
             "minorgridcolor": "white",
             "startlinecolor": "#2a3f5f"
            },
            "baxis": {
             "endlinecolor": "#2a3f5f",
             "gridcolor": "white",
             "linecolor": "white",
             "minorgridcolor": "white",
             "startlinecolor": "#2a3f5f"
            },
            "type": "carpet"
           }
          ],
          "choropleth": [
           {
            "colorbar": {
             "outlinewidth": 0,
             "ticks": ""
            },
            "type": "choropleth"
           }
          ],
          "contour": [
           {
            "colorbar": {
             "outlinewidth": 0,
             "ticks": ""
            },
            "colorscale": [
             [
              0,
              "#0d0887"
             ],
             [
              0.1111111111111111,
              "#46039f"
             ],
             [
              0.2222222222222222,
              "#7201a8"
             ],
             [
              0.3333333333333333,
              "#9c179e"
             ],
             [
              0.4444444444444444,
              "#bd3786"
             ],
             [
              0.5555555555555556,
              "#d8576b"
             ],
             [
              0.6666666666666666,
              "#ed7953"
             ],
             [
              0.7777777777777778,
              "#fb9f3a"
             ],
             [
              0.8888888888888888,
              "#fdca26"
             ],
             [
              1,
              "#f0f921"
             ]
            ],
            "type": "contour"
           }
          ],
          "contourcarpet": [
           {
            "colorbar": {
             "outlinewidth": 0,
             "ticks": ""
            },
            "type": "contourcarpet"
           }
          ],
          "heatmap": [
           {
            "colorbar": {
             "outlinewidth": 0,
             "ticks": ""
            },
            "colorscale": [
             [
              0,
              "#0d0887"
             ],
             [
              0.1111111111111111,
              "#46039f"
             ],
             [
              0.2222222222222222,
              "#7201a8"
             ],
             [
              0.3333333333333333,
              "#9c179e"
             ],
             [
              0.4444444444444444,
              "#bd3786"
             ],
             [
              0.5555555555555556,
              "#d8576b"
             ],
             [
              0.6666666666666666,
              "#ed7953"
             ],
             [
              0.7777777777777778,
              "#fb9f3a"
             ],
             [
              0.8888888888888888,
              "#fdca26"
             ],
             [
              1,
              "#f0f921"
             ]
            ],
            "type": "heatmap"
           }
          ],
          "heatmapgl": [
           {
            "colorbar": {
             "outlinewidth": 0,
             "ticks": ""
            },
            "colorscale": [
             [
              0,
              "#0d0887"
             ],
             [
              0.1111111111111111,
              "#46039f"
             ],
             [
              0.2222222222222222,
              "#7201a8"
             ],
             [
              0.3333333333333333,
              "#9c179e"
             ],
             [
              0.4444444444444444,
              "#bd3786"
             ],
             [
              0.5555555555555556,
              "#d8576b"
             ],
             [
              0.6666666666666666,
              "#ed7953"
             ],
             [
              0.7777777777777778,
              "#fb9f3a"
             ],
             [
              0.8888888888888888,
              "#fdca26"
             ],
             [
              1,
              "#f0f921"
             ]
            ],
            "type": "heatmapgl"
           }
          ],
          "histogram": [
           {
            "marker": {
             "pattern": {
              "fillmode": "overlay",
              "size": 10,
              "solidity": 0.2
             }
            },
            "type": "histogram"
           }
          ],
          "histogram2d": [
           {
            "colorbar": {
             "outlinewidth": 0,
             "ticks": ""
            },
            "colorscale": [
             [
              0,
              "#0d0887"
             ],
             [
              0.1111111111111111,
              "#46039f"
             ],
             [
              0.2222222222222222,
              "#7201a8"
             ],
             [
              0.3333333333333333,
              "#9c179e"
             ],
             [
              0.4444444444444444,
              "#bd3786"
             ],
             [
              0.5555555555555556,
              "#d8576b"
             ],
             [
              0.6666666666666666,
              "#ed7953"
             ],
             [
              0.7777777777777778,
              "#fb9f3a"
             ],
             [
              0.8888888888888888,
              "#fdca26"
             ],
             [
              1,
              "#f0f921"
             ]
            ],
            "type": "histogram2d"
           }
          ],
          "histogram2dcontour": [
           {
            "colorbar": {
             "outlinewidth": 0,
             "ticks": ""
            },
            "colorscale": [
             [
              0,
              "#0d0887"
             ],
             [
              0.1111111111111111,
              "#46039f"
             ],
             [
              0.2222222222222222,
              "#7201a8"
             ],
             [
              0.3333333333333333,
              "#9c179e"
             ],
             [
              0.4444444444444444,
              "#bd3786"
             ],
             [
              0.5555555555555556,
              "#d8576b"
             ],
             [
              0.6666666666666666,
              "#ed7953"
             ],
             [
              0.7777777777777778,
              "#fb9f3a"
             ],
             [
              0.8888888888888888,
              "#fdca26"
             ],
             [
              1,
              "#f0f921"
             ]
            ],
            "type": "histogram2dcontour"
           }
          ],
          "mesh3d": [
           {
            "colorbar": {
             "outlinewidth": 0,
             "ticks": ""
            },
            "type": "mesh3d"
           }
          ],
          "parcoords": [
           {
            "line": {
             "colorbar": {
              "outlinewidth": 0,
              "ticks": ""
             }
            },
            "type": "parcoords"
           }
          ],
          "pie": [
           {
            "automargin": true,
            "type": "pie"
           }
          ],
          "scatter": [
           {
            "fillpattern": {
             "fillmode": "overlay",
             "size": 10,
             "solidity": 0.2
            },
            "type": "scatter"
           }
          ],
          "scatter3d": [
           {
            "line": {
             "colorbar": {
              "outlinewidth": 0,
              "ticks": ""
             }
            },
            "marker": {
             "colorbar": {
              "outlinewidth": 0,
              "ticks": ""
             }
            },
            "type": "scatter3d"
           }
          ],
          "scattercarpet": [
           {
            "marker": {
             "colorbar": {
              "outlinewidth": 0,
              "ticks": ""
             }
            },
            "type": "scattercarpet"
           }
          ],
          "scattergeo": [
           {
            "marker": {
             "colorbar": {
              "outlinewidth": 0,
              "ticks": ""
             }
            },
            "type": "scattergeo"
           }
          ],
          "scattergl": [
           {
            "marker": {
             "colorbar": {
              "outlinewidth": 0,
              "ticks": ""
             }
            },
            "type": "scattergl"
           }
          ],
          "scattermapbox": [
           {
            "marker": {
             "colorbar": {
              "outlinewidth": 0,
              "ticks": ""
             }
            },
            "type": "scattermapbox"
           }
          ],
          "scatterpolar": [
           {
            "marker": {
             "colorbar": {
              "outlinewidth": 0,
              "ticks": ""
             }
            },
            "type": "scatterpolar"
           }
          ],
          "scatterpolargl": [
           {
            "marker": {
             "colorbar": {
              "outlinewidth": 0,
              "ticks": ""
             }
            },
            "type": "scatterpolargl"
           }
          ],
          "scatterternary": [
           {
            "marker": {
             "colorbar": {
              "outlinewidth": 0,
              "ticks": ""
             }
            },
            "type": "scatterternary"
           }
          ],
          "surface": [
           {
            "colorbar": {
             "outlinewidth": 0,
             "ticks": ""
            },
            "colorscale": [
             [
              0,
              "#0d0887"
             ],
             [
              0.1111111111111111,
              "#46039f"
             ],
             [
              0.2222222222222222,
              "#7201a8"
             ],
             [
              0.3333333333333333,
              "#9c179e"
             ],
             [
              0.4444444444444444,
              "#bd3786"
             ],
             [
              0.5555555555555556,
              "#d8576b"
             ],
             [
              0.6666666666666666,
              "#ed7953"
             ],
             [
              0.7777777777777778,
              "#fb9f3a"
             ],
             [
              0.8888888888888888,
              "#fdca26"
             ],
             [
              1,
              "#f0f921"
             ]
            ],
            "type": "surface"
           }
          ],
          "table": [
           {
            "cells": {
             "fill": {
              "color": "#EBF0F8"
             },
             "line": {
              "color": "white"
             }
            },
            "header": {
             "fill": {
              "color": "#C8D4E3"
             },
             "line": {
              "color": "white"
             }
            },
            "type": "table"
           }
          ]
         },
         "layout": {
          "annotationdefaults": {
           "arrowcolor": "#2a3f5f",
           "arrowhead": 0,
           "arrowwidth": 1
          },
          "autotypenumbers": "strict",
          "coloraxis": {
           "colorbar": {
            "outlinewidth": 0,
            "ticks": ""
           }
          },
          "colorscale": {
           "diverging": [
            [
             0,
             "#8e0152"
            ],
            [
             0.1,
             "#c51b7d"
            ],
            [
             0.2,
             "#de77ae"
            ],
            [
             0.3,
             "#f1b6da"
            ],
            [
             0.4,
             "#fde0ef"
            ],
            [
             0.5,
             "#f7f7f7"
            ],
            [
             0.6,
             "#e6f5d0"
            ],
            [
             0.7,
             "#b8e186"
            ],
            [
             0.8,
             "#7fbc41"
            ],
            [
             0.9,
             "#4d9221"
            ],
            [
             1,
             "#276419"
            ]
           ],
           "sequential": [
            [
             0,
             "#0d0887"
            ],
            [
             0.1111111111111111,
             "#46039f"
            ],
            [
             0.2222222222222222,
             "#7201a8"
            ],
            [
             0.3333333333333333,
             "#9c179e"
            ],
            [
             0.4444444444444444,
             "#bd3786"
            ],
            [
             0.5555555555555556,
             "#d8576b"
            ],
            [
             0.6666666666666666,
             "#ed7953"
            ],
            [
             0.7777777777777778,
             "#fb9f3a"
            ],
            [
             0.8888888888888888,
             "#fdca26"
            ],
            [
             1,
             "#f0f921"
            ]
           ],
           "sequentialminus": [
            [
             0,
             "#0d0887"
            ],
            [
             0.1111111111111111,
             "#46039f"
            ],
            [
             0.2222222222222222,
             "#7201a8"
            ],
            [
             0.3333333333333333,
             "#9c179e"
            ],
            [
             0.4444444444444444,
             "#bd3786"
            ],
            [
             0.5555555555555556,
             "#d8576b"
            ],
            [
             0.6666666666666666,
             "#ed7953"
            ],
            [
             0.7777777777777778,
             "#fb9f3a"
            ],
            [
             0.8888888888888888,
             "#fdca26"
            ],
            [
             1,
             "#f0f921"
            ]
           ]
          },
          "colorway": [
           "#636efa",
           "#EF553B",
           "#00cc96",
           "#ab63fa",
           "#FFA15A",
           "#19d3f3",
           "#FF6692",
           "#B6E880",
           "#FF97FF",
           "#FECB52"
          ],
          "font": {
           "color": "#2a3f5f"
          },
          "geo": {
           "bgcolor": "white",
           "lakecolor": "white",
           "landcolor": "#E5ECF6",
           "showlakes": true,
           "showland": true,
           "subunitcolor": "white"
          },
          "hoverlabel": {
           "align": "left"
          },
          "hovermode": "closest",
          "mapbox": {
           "style": "light"
          },
          "paper_bgcolor": "white",
          "plot_bgcolor": "#E5ECF6",
          "polar": {
           "angularaxis": {
            "gridcolor": "white",
            "linecolor": "white",
            "ticks": ""
           },
           "bgcolor": "#E5ECF6",
           "radialaxis": {
            "gridcolor": "white",
            "linecolor": "white",
            "ticks": ""
           }
          },
          "scene": {
           "xaxis": {
            "backgroundcolor": "#E5ECF6",
            "gridcolor": "white",
            "gridwidth": 2,
            "linecolor": "white",
            "showbackground": true,
            "ticks": "",
            "zerolinecolor": "white"
           },
           "yaxis": {
            "backgroundcolor": "#E5ECF6",
            "gridcolor": "white",
            "gridwidth": 2,
            "linecolor": "white",
            "showbackground": true,
            "ticks": "",
            "zerolinecolor": "white"
           },
           "zaxis": {
            "backgroundcolor": "#E5ECF6",
            "gridcolor": "white",
            "gridwidth": 2,
            "linecolor": "white",
            "showbackground": true,
            "ticks": "",
            "zerolinecolor": "white"
           }
          },
          "shapedefaults": {
           "line": {
            "color": "#2a3f5f"
           }
          },
          "ternary": {
           "aaxis": {
            "gridcolor": "white",
            "linecolor": "white",
            "ticks": ""
           },
           "baxis": {
            "gridcolor": "white",
            "linecolor": "white",
            "ticks": ""
           },
           "bgcolor": "#E5ECF6",
           "caxis": {
            "gridcolor": "white",
            "linecolor": "white",
            "ticks": ""
           }
          },
          "title": {
           "x": 0.05
          },
          "xaxis": {
           "automargin": true,
           "gridcolor": "white",
           "linecolor": "white",
           "ticks": "",
           "title": {
            "standoff": 15
           },
           "zerolinecolor": "white",
           "zerolinewidth": 2
          },
          "yaxis": {
           "automargin": true,
           "gridcolor": "white",
           "linecolor": "white",
           "ticks": "",
           "title": {
            "standoff": 15
           },
           "zerolinecolor": "white",
           "zerolinewidth": 2
          }
         }
        },
        "title": {
         "text": "Distribución de Victima Género - Línea 137 (Llamados)",
         "x": 0.5,
         "xanchor": "center",
         "y": 0.98
        }
       }
      }
     },
     "metadata": {},
     "output_type": "display_data"
    },
    {
     "name": "stdout",
     "output_type": "stream",
     "text": [
      "Cantidad de valores nulos en 'genero_persona_en_situacion_de_violencia': 0\n",
      "\n",
      "Distribución de categorías:\n",
      "genero_persona_en_situacion_de_violencia\n",
      "FEMENINO       86872\n",
      "SIN DATO        1916\n",
      "MASCULINO        349\n",
      "TRANSGÉNERO      318\n",
      "OTROS             75\n",
      "TRAVESTI          11\n",
      "Name: count, dtype: int64\n"
     ]
    },
    {
     "data": {
      "application/vnd.plotly.v1+json": {
       "config": {
        "plotlyServerURL": "https://plot.ly"
       },
       "data": [
        {
         "hole": 0.3,
         "hoverinfo": "label+percent",
         "labels": [
          "FEMENINO",
          "SIN DATO",
          "MASCULINO",
          "TRANSGÉNERO",
          "OTROS",
          "TRAVESTI"
         ],
         "marker": {
          "colors": [
           "#DE7AE7",
           "rgba(164,194,123,0.8)",
           "#1E90FF",
           "rgba(122,113,201,0.8)",
           "rgba(198,112,223,0.8)",
           "rgba(234,174,157,0.8)"
          ],
          "line": {
           "color": "#000000",
           "width": 1.5
          }
         },
         "pull": [
          0.1,
          0,
          0,
          0,
          0,
          0
         ],
         "textinfo": "percent",
         "texttemplate": "%{percent:.1%}",
         "type": "pie",
         "values": [
          86872,
          1916,
          349,
          318,
          75,
          11
         ]
        }
       ],
       "layout": {
        "legend": {
         "title": {
          "text": "Categorías"
         },
         "x": 1,
         "y": 0.5
        },
        "margin": {
         "b": 20,
         "l": 20,
         "r": 200,
         "t": 120
        },
        "template": {
         "data": {
          "bar": [
           {
            "error_x": {
             "color": "#2a3f5f"
            },
            "error_y": {
             "color": "#2a3f5f"
            },
            "marker": {
             "line": {
              "color": "#E5ECF6",
              "width": 0.5
             },
             "pattern": {
              "fillmode": "overlay",
              "size": 10,
              "solidity": 0.2
             }
            },
            "type": "bar"
           }
          ],
          "barpolar": [
           {
            "marker": {
             "line": {
              "color": "#E5ECF6",
              "width": 0.5
             },
             "pattern": {
              "fillmode": "overlay",
              "size": 10,
              "solidity": 0.2
             }
            },
            "type": "barpolar"
           }
          ],
          "carpet": [
           {
            "aaxis": {
             "endlinecolor": "#2a3f5f",
             "gridcolor": "white",
             "linecolor": "white",
             "minorgridcolor": "white",
             "startlinecolor": "#2a3f5f"
            },
            "baxis": {
             "endlinecolor": "#2a3f5f",
             "gridcolor": "white",
             "linecolor": "white",
             "minorgridcolor": "white",
             "startlinecolor": "#2a3f5f"
            },
            "type": "carpet"
           }
          ],
          "choropleth": [
           {
            "colorbar": {
             "outlinewidth": 0,
             "ticks": ""
            },
            "type": "choropleth"
           }
          ],
          "contour": [
           {
            "colorbar": {
             "outlinewidth": 0,
             "ticks": ""
            },
            "colorscale": [
             [
              0,
              "#0d0887"
             ],
             [
              0.1111111111111111,
              "#46039f"
             ],
             [
              0.2222222222222222,
              "#7201a8"
             ],
             [
              0.3333333333333333,
              "#9c179e"
             ],
             [
              0.4444444444444444,
              "#bd3786"
             ],
             [
              0.5555555555555556,
              "#d8576b"
             ],
             [
              0.6666666666666666,
              "#ed7953"
             ],
             [
              0.7777777777777778,
              "#fb9f3a"
             ],
             [
              0.8888888888888888,
              "#fdca26"
             ],
             [
              1,
              "#f0f921"
             ]
            ],
            "type": "contour"
           }
          ],
          "contourcarpet": [
           {
            "colorbar": {
             "outlinewidth": 0,
             "ticks": ""
            },
            "type": "contourcarpet"
           }
          ],
          "heatmap": [
           {
            "colorbar": {
             "outlinewidth": 0,
             "ticks": ""
            },
            "colorscale": [
             [
              0,
              "#0d0887"
             ],
             [
              0.1111111111111111,
              "#46039f"
             ],
             [
              0.2222222222222222,
              "#7201a8"
             ],
             [
              0.3333333333333333,
              "#9c179e"
             ],
             [
              0.4444444444444444,
              "#bd3786"
             ],
             [
              0.5555555555555556,
              "#d8576b"
             ],
             [
              0.6666666666666666,
              "#ed7953"
             ],
             [
              0.7777777777777778,
              "#fb9f3a"
             ],
             [
              0.8888888888888888,
              "#fdca26"
             ],
             [
              1,
              "#f0f921"
             ]
            ],
            "type": "heatmap"
           }
          ],
          "heatmapgl": [
           {
            "colorbar": {
             "outlinewidth": 0,
             "ticks": ""
            },
            "colorscale": [
             [
              0,
              "#0d0887"
             ],
             [
              0.1111111111111111,
              "#46039f"
             ],
             [
              0.2222222222222222,
              "#7201a8"
             ],
             [
              0.3333333333333333,
              "#9c179e"
             ],
             [
              0.4444444444444444,
              "#bd3786"
             ],
             [
              0.5555555555555556,
              "#d8576b"
             ],
             [
              0.6666666666666666,
              "#ed7953"
             ],
             [
              0.7777777777777778,
              "#fb9f3a"
             ],
             [
              0.8888888888888888,
              "#fdca26"
             ],
             [
              1,
              "#f0f921"
             ]
            ],
            "type": "heatmapgl"
           }
          ],
          "histogram": [
           {
            "marker": {
             "pattern": {
              "fillmode": "overlay",
              "size": 10,
              "solidity": 0.2
             }
            },
            "type": "histogram"
           }
          ],
          "histogram2d": [
           {
            "colorbar": {
             "outlinewidth": 0,
             "ticks": ""
            },
            "colorscale": [
             [
              0,
              "#0d0887"
             ],
             [
              0.1111111111111111,
              "#46039f"
             ],
             [
              0.2222222222222222,
              "#7201a8"
             ],
             [
              0.3333333333333333,
              "#9c179e"
             ],
             [
              0.4444444444444444,
              "#bd3786"
             ],
             [
              0.5555555555555556,
              "#d8576b"
             ],
             [
              0.6666666666666666,
              "#ed7953"
             ],
             [
              0.7777777777777778,
              "#fb9f3a"
             ],
             [
              0.8888888888888888,
              "#fdca26"
             ],
             [
              1,
              "#f0f921"
             ]
            ],
            "type": "histogram2d"
           }
          ],
          "histogram2dcontour": [
           {
            "colorbar": {
             "outlinewidth": 0,
             "ticks": ""
            },
            "colorscale": [
             [
              0,
              "#0d0887"
             ],
             [
              0.1111111111111111,
              "#46039f"
             ],
             [
              0.2222222222222222,
              "#7201a8"
             ],
             [
              0.3333333333333333,
              "#9c179e"
             ],
             [
              0.4444444444444444,
              "#bd3786"
             ],
             [
              0.5555555555555556,
              "#d8576b"
             ],
             [
              0.6666666666666666,
              "#ed7953"
             ],
             [
              0.7777777777777778,
              "#fb9f3a"
             ],
             [
              0.8888888888888888,
              "#fdca26"
             ],
             [
              1,
              "#f0f921"
             ]
            ],
            "type": "histogram2dcontour"
           }
          ],
          "mesh3d": [
           {
            "colorbar": {
             "outlinewidth": 0,
             "ticks": ""
            },
            "type": "mesh3d"
           }
          ],
          "parcoords": [
           {
            "line": {
             "colorbar": {
              "outlinewidth": 0,
              "ticks": ""
             }
            },
            "type": "parcoords"
           }
          ],
          "pie": [
           {
            "automargin": true,
            "type": "pie"
           }
          ],
          "scatter": [
           {
            "fillpattern": {
             "fillmode": "overlay",
             "size": 10,
             "solidity": 0.2
            },
            "type": "scatter"
           }
          ],
          "scatter3d": [
           {
            "line": {
             "colorbar": {
              "outlinewidth": 0,
              "ticks": ""
             }
            },
            "marker": {
             "colorbar": {
              "outlinewidth": 0,
              "ticks": ""
             }
            },
            "type": "scatter3d"
           }
          ],
          "scattercarpet": [
           {
            "marker": {
             "colorbar": {
              "outlinewidth": 0,
              "ticks": ""
             }
            },
            "type": "scattercarpet"
           }
          ],
          "scattergeo": [
           {
            "marker": {
             "colorbar": {
              "outlinewidth": 0,
              "ticks": ""
             }
            },
            "type": "scattergeo"
           }
          ],
          "scattergl": [
           {
            "marker": {
             "colorbar": {
              "outlinewidth": 0,
              "ticks": ""
             }
            },
            "type": "scattergl"
           }
          ],
          "scattermapbox": [
           {
            "marker": {
             "colorbar": {
              "outlinewidth": 0,
              "ticks": ""
             }
            },
            "type": "scattermapbox"
           }
          ],
          "scatterpolar": [
           {
            "marker": {
             "colorbar": {
              "outlinewidth": 0,
              "ticks": ""
             }
            },
            "type": "scatterpolar"
           }
          ],
          "scatterpolargl": [
           {
            "marker": {
             "colorbar": {
              "outlinewidth": 0,
              "ticks": ""
             }
            },
            "type": "scatterpolargl"
           }
          ],
          "scatterternary": [
           {
            "marker": {
             "colorbar": {
              "outlinewidth": 0,
              "ticks": ""
             }
            },
            "type": "scatterternary"
           }
          ],
          "surface": [
           {
            "colorbar": {
             "outlinewidth": 0,
             "ticks": ""
            },
            "colorscale": [
             [
              0,
              "#0d0887"
             ],
             [
              0.1111111111111111,
              "#46039f"
             ],
             [
              0.2222222222222222,
              "#7201a8"
             ],
             [
              0.3333333333333333,
              "#9c179e"
             ],
             [
              0.4444444444444444,
              "#bd3786"
             ],
             [
              0.5555555555555556,
              "#d8576b"
             ],
             [
              0.6666666666666666,
              "#ed7953"
             ],
             [
              0.7777777777777778,
              "#fb9f3a"
             ],
             [
              0.8888888888888888,
              "#fdca26"
             ],
             [
              1,
              "#f0f921"
             ]
            ],
            "type": "surface"
           }
          ],
          "table": [
           {
            "cells": {
             "fill": {
              "color": "#EBF0F8"
             },
             "line": {
              "color": "white"
             }
            },
            "header": {
             "fill": {
              "color": "#C8D4E3"
             },
             "line": {
              "color": "white"
             }
            },
            "type": "table"
           }
          ]
         },
         "layout": {
          "annotationdefaults": {
           "arrowcolor": "#2a3f5f",
           "arrowhead": 0,
           "arrowwidth": 1
          },
          "autotypenumbers": "strict",
          "coloraxis": {
           "colorbar": {
            "outlinewidth": 0,
            "ticks": ""
           }
          },
          "colorscale": {
           "diverging": [
            [
             0,
             "#8e0152"
            ],
            [
             0.1,
             "#c51b7d"
            ],
            [
             0.2,
             "#de77ae"
            ],
            [
             0.3,
             "#f1b6da"
            ],
            [
             0.4,
             "#fde0ef"
            ],
            [
             0.5,
             "#f7f7f7"
            ],
            [
             0.6,
             "#e6f5d0"
            ],
            [
             0.7,
             "#b8e186"
            ],
            [
             0.8,
             "#7fbc41"
            ],
            [
             0.9,
             "#4d9221"
            ],
            [
             1,
             "#276419"
            ]
           ],
           "sequential": [
            [
             0,
             "#0d0887"
            ],
            [
             0.1111111111111111,
             "#46039f"
            ],
            [
             0.2222222222222222,
             "#7201a8"
            ],
            [
             0.3333333333333333,
             "#9c179e"
            ],
            [
             0.4444444444444444,
             "#bd3786"
            ],
            [
             0.5555555555555556,
             "#d8576b"
            ],
            [
             0.6666666666666666,
             "#ed7953"
            ],
            [
             0.7777777777777778,
             "#fb9f3a"
            ],
            [
             0.8888888888888888,
             "#fdca26"
            ],
            [
             1,
             "#f0f921"
            ]
           ],
           "sequentialminus": [
            [
             0,
             "#0d0887"
            ],
            [
             0.1111111111111111,
             "#46039f"
            ],
            [
             0.2222222222222222,
             "#7201a8"
            ],
            [
             0.3333333333333333,
             "#9c179e"
            ],
            [
             0.4444444444444444,
             "#bd3786"
            ],
            [
             0.5555555555555556,
             "#d8576b"
            ],
            [
             0.6666666666666666,
             "#ed7953"
            ],
            [
             0.7777777777777778,
             "#fb9f3a"
            ],
            [
             0.8888888888888888,
             "#fdca26"
            ],
            [
             1,
             "#f0f921"
            ]
           ]
          },
          "colorway": [
           "#636efa",
           "#EF553B",
           "#00cc96",
           "#ab63fa",
           "#FFA15A",
           "#19d3f3",
           "#FF6692",
           "#B6E880",
           "#FF97FF",
           "#FECB52"
          ],
          "font": {
           "color": "#2a3f5f"
          },
          "geo": {
           "bgcolor": "white",
           "lakecolor": "white",
           "landcolor": "#E5ECF6",
           "showlakes": true,
           "showland": true,
           "subunitcolor": "white"
          },
          "hoverlabel": {
           "align": "left"
          },
          "hovermode": "closest",
          "mapbox": {
           "style": "light"
          },
          "paper_bgcolor": "white",
          "plot_bgcolor": "#E5ECF6",
          "polar": {
           "angularaxis": {
            "gridcolor": "white",
            "linecolor": "white",
            "ticks": ""
           },
           "bgcolor": "#E5ECF6",
           "radialaxis": {
            "gridcolor": "white",
            "linecolor": "white",
            "ticks": ""
           }
          },
          "scene": {
           "xaxis": {
            "backgroundcolor": "#E5ECF6",
            "gridcolor": "white",
            "gridwidth": 2,
            "linecolor": "white",
            "showbackground": true,
            "ticks": "",
            "zerolinecolor": "white"
           },
           "yaxis": {
            "backgroundcolor": "#E5ECF6",
            "gridcolor": "white",
            "gridwidth": 2,
            "linecolor": "white",
            "showbackground": true,
            "ticks": "",
            "zerolinecolor": "white"
           },
           "zaxis": {
            "backgroundcolor": "#E5ECF6",
            "gridcolor": "white",
            "gridwidth": 2,
            "linecolor": "white",
            "showbackground": true,
            "ticks": "",
            "zerolinecolor": "white"
           }
          },
          "shapedefaults": {
           "line": {
            "color": "#2a3f5f"
           }
          },
          "ternary": {
           "aaxis": {
            "gridcolor": "white",
            "linecolor": "white",
            "ticks": ""
           },
           "baxis": {
            "gridcolor": "white",
            "linecolor": "white",
            "ticks": ""
           },
           "bgcolor": "#E5ECF6",
           "caxis": {
            "gridcolor": "white",
            "linecolor": "white",
            "ticks": ""
           }
          },
          "title": {
           "x": 0.05
          },
          "xaxis": {
           "automargin": true,
           "gridcolor": "white",
           "linecolor": "white",
           "ticks": "",
           "title": {
            "standoff": 15
           },
           "zerolinecolor": "white",
           "zerolinewidth": 2
          },
          "yaxis": {
           "automargin": true,
           "gridcolor": "white",
           "linecolor": "white",
           "ticks": "",
           "title": {
            "standoff": 15
           },
           "zerolinecolor": "white",
           "zerolinewidth": 2
          }
         }
        },
        "title": {
         "text": "Distribución de Victima Género - Línea 144",
         "x": 0.5,
         "xanchor": "center",
         "y": 0.98
        }
       }
      }
     },
     "metadata": {},
     "output_type": "display_data"
    },
    {
     "name": "stdout",
     "output_type": "stream",
     "text": [
      "Cantidad de valores nulos en 'agresor_genero': 0\n",
      "\n",
      "Distribución de categorías:\n",
      "agresor_genero\n",
      "MASCULINO      35209\n",
      "Sin dato       15676\n",
      "FEMENINO       10537\n",
      "TRANSGÉNERO       14\n",
      "Name: count, dtype: int64\n"
     ]
    },
    {
     "data": {
      "application/vnd.plotly.v1+json": {
       "config": {
        "plotlyServerURL": "https://plot.ly"
       },
       "data": [
        {
         "hole": 0.3,
         "hoverinfo": "label+percent",
         "labels": [
          "MASCULINO",
          "Sin dato",
          "FEMENINO",
          "TRANSGÉNERO"
         ],
         "marker": {
          "colors": [
           "#1E90FF",
           "rgba(186,205,194,0.8)",
           "#DE7AE7",
           "rgba(222,156,221,0.8)"
          ],
          "line": {
           "color": "#000000",
           "width": 1.5
          }
         },
         "pull": [
          0.1,
          0,
          0,
          0
         ],
         "textinfo": "percent",
         "texttemplate": "%{percent:.1%}",
         "type": "pie",
         "values": [
          35209,
          15676,
          10537,
          14
         ]
        }
       ],
       "layout": {
        "legend": {
         "title": {
          "text": "Categorías"
         },
         "x": 1,
         "y": 0.5
        },
        "margin": {
         "b": 20,
         "l": 20,
         "r": 200,
         "t": 120
        },
        "template": {
         "data": {
          "bar": [
           {
            "error_x": {
             "color": "#2a3f5f"
            },
            "error_y": {
             "color": "#2a3f5f"
            },
            "marker": {
             "line": {
              "color": "#E5ECF6",
              "width": 0.5
             },
             "pattern": {
              "fillmode": "overlay",
              "size": 10,
              "solidity": 0.2
             }
            },
            "type": "bar"
           }
          ],
          "barpolar": [
           {
            "marker": {
             "line": {
              "color": "#E5ECF6",
              "width": 0.5
             },
             "pattern": {
              "fillmode": "overlay",
              "size": 10,
              "solidity": 0.2
             }
            },
            "type": "barpolar"
           }
          ],
          "carpet": [
           {
            "aaxis": {
             "endlinecolor": "#2a3f5f",
             "gridcolor": "white",
             "linecolor": "white",
             "minorgridcolor": "white",
             "startlinecolor": "#2a3f5f"
            },
            "baxis": {
             "endlinecolor": "#2a3f5f",
             "gridcolor": "white",
             "linecolor": "white",
             "minorgridcolor": "white",
             "startlinecolor": "#2a3f5f"
            },
            "type": "carpet"
           }
          ],
          "choropleth": [
           {
            "colorbar": {
             "outlinewidth": 0,
             "ticks": ""
            },
            "type": "choropleth"
           }
          ],
          "contour": [
           {
            "colorbar": {
             "outlinewidth": 0,
             "ticks": ""
            },
            "colorscale": [
             [
              0,
              "#0d0887"
             ],
             [
              0.1111111111111111,
              "#46039f"
             ],
             [
              0.2222222222222222,
              "#7201a8"
             ],
             [
              0.3333333333333333,
              "#9c179e"
             ],
             [
              0.4444444444444444,
              "#bd3786"
             ],
             [
              0.5555555555555556,
              "#d8576b"
             ],
             [
              0.6666666666666666,
              "#ed7953"
             ],
             [
              0.7777777777777778,
              "#fb9f3a"
             ],
             [
              0.8888888888888888,
              "#fdca26"
             ],
             [
              1,
              "#f0f921"
             ]
            ],
            "type": "contour"
           }
          ],
          "contourcarpet": [
           {
            "colorbar": {
             "outlinewidth": 0,
             "ticks": ""
            },
            "type": "contourcarpet"
           }
          ],
          "heatmap": [
           {
            "colorbar": {
             "outlinewidth": 0,
             "ticks": ""
            },
            "colorscale": [
             [
              0,
              "#0d0887"
             ],
             [
              0.1111111111111111,
              "#46039f"
             ],
             [
              0.2222222222222222,
              "#7201a8"
             ],
             [
              0.3333333333333333,
              "#9c179e"
             ],
             [
              0.4444444444444444,
              "#bd3786"
             ],
             [
              0.5555555555555556,
              "#d8576b"
             ],
             [
              0.6666666666666666,
              "#ed7953"
             ],
             [
              0.7777777777777778,
              "#fb9f3a"
             ],
             [
              0.8888888888888888,
              "#fdca26"
             ],
             [
              1,
              "#f0f921"
             ]
            ],
            "type": "heatmap"
           }
          ],
          "heatmapgl": [
           {
            "colorbar": {
             "outlinewidth": 0,
             "ticks": ""
            },
            "colorscale": [
             [
              0,
              "#0d0887"
             ],
             [
              0.1111111111111111,
              "#46039f"
             ],
             [
              0.2222222222222222,
              "#7201a8"
             ],
             [
              0.3333333333333333,
              "#9c179e"
             ],
             [
              0.4444444444444444,
              "#bd3786"
             ],
             [
              0.5555555555555556,
              "#d8576b"
             ],
             [
              0.6666666666666666,
              "#ed7953"
             ],
             [
              0.7777777777777778,
              "#fb9f3a"
             ],
             [
              0.8888888888888888,
              "#fdca26"
             ],
             [
              1,
              "#f0f921"
             ]
            ],
            "type": "heatmapgl"
           }
          ],
          "histogram": [
           {
            "marker": {
             "pattern": {
              "fillmode": "overlay",
              "size": 10,
              "solidity": 0.2
             }
            },
            "type": "histogram"
           }
          ],
          "histogram2d": [
           {
            "colorbar": {
             "outlinewidth": 0,
             "ticks": ""
            },
            "colorscale": [
             [
              0,
              "#0d0887"
             ],
             [
              0.1111111111111111,
              "#46039f"
             ],
             [
              0.2222222222222222,
              "#7201a8"
             ],
             [
              0.3333333333333333,
              "#9c179e"
             ],
             [
              0.4444444444444444,
              "#bd3786"
             ],
             [
              0.5555555555555556,
              "#d8576b"
             ],
             [
              0.6666666666666666,
              "#ed7953"
             ],
             [
              0.7777777777777778,
              "#fb9f3a"
             ],
             [
              0.8888888888888888,
              "#fdca26"
             ],
             [
              1,
              "#f0f921"
             ]
            ],
            "type": "histogram2d"
           }
          ],
          "histogram2dcontour": [
           {
            "colorbar": {
             "outlinewidth": 0,
             "ticks": ""
            },
            "colorscale": [
             [
              0,
              "#0d0887"
             ],
             [
              0.1111111111111111,
              "#46039f"
             ],
             [
              0.2222222222222222,
              "#7201a8"
             ],
             [
              0.3333333333333333,
              "#9c179e"
             ],
             [
              0.4444444444444444,
              "#bd3786"
             ],
             [
              0.5555555555555556,
              "#d8576b"
             ],
             [
              0.6666666666666666,
              "#ed7953"
             ],
             [
              0.7777777777777778,
              "#fb9f3a"
             ],
             [
              0.8888888888888888,
              "#fdca26"
             ],
             [
              1,
              "#f0f921"
             ]
            ],
            "type": "histogram2dcontour"
           }
          ],
          "mesh3d": [
           {
            "colorbar": {
             "outlinewidth": 0,
             "ticks": ""
            },
            "type": "mesh3d"
           }
          ],
          "parcoords": [
           {
            "line": {
             "colorbar": {
              "outlinewidth": 0,
              "ticks": ""
             }
            },
            "type": "parcoords"
           }
          ],
          "pie": [
           {
            "automargin": true,
            "type": "pie"
           }
          ],
          "scatter": [
           {
            "fillpattern": {
             "fillmode": "overlay",
             "size": 10,
             "solidity": 0.2
            },
            "type": "scatter"
           }
          ],
          "scatter3d": [
           {
            "line": {
             "colorbar": {
              "outlinewidth": 0,
              "ticks": ""
             }
            },
            "marker": {
             "colorbar": {
              "outlinewidth": 0,
              "ticks": ""
             }
            },
            "type": "scatter3d"
           }
          ],
          "scattercarpet": [
           {
            "marker": {
             "colorbar": {
              "outlinewidth": 0,
              "ticks": ""
             }
            },
            "type": "scattercarpet"
           }
          ],
          "scattergeo": [
           {
            "marker": {
             "colorbar": {
              "outlinewidth": 0,
              "ticks": ""
             }
            },
            "type": "scattergeo"
           }
          ],
          "scattergl": [
           {
            "marker": {
             "colorbar": {
              "outlinewidth": 0,
              "ticks": ""
             }
            },
            "type": "scattergl"
           }
          ],
          "scattermapbox": [
           {
            "marker": {
             "colorbar": {
              "outlinewidth": 0,
              "ticks": ""
             }
            },
            "type": "scattermapbox"
           }
          ],
          "scatterpolar": [
           {
            "marker": {
             "colorbar": {
              "outlinewidth": 0,
              "ticks": ""
             }
            },
            "type": "scatterpolar"
           }
          ],
          "scatterpolargl": [
           {
            "marker": {
             "colorbar": {
              "outlinewidth": 0,
              "ticks": ""
             }
            },
            "type": "scatterpolargl"
           }
          ],
          "scatterternary": [
           {
            "marker": {
             "colorbar": {
              "outlinewidth": 0,
              "ticks": ""
             }
            },
            "type": "scatterternary"
           }
          ],
          "surface": [
           {
            "colorbar": {
             "outlinewidth": 0,
             "ticks": ""
            },
            "colorscale": [
             [
              0,
              "#0d0887"
             ],
             [
              0.1111111111111111,
              "#46039f"
             ],
             [
              0.2222222222222222,
              "#7201a8"
             ],
             [
              0.3333333333333333,
              "#9c179e"
             ],
             [
              0.4444444444444444,
              "#bd3786"
             ],
             [
              0.5555555555555556,
              "#d8576b"
             ],
             [
              0.6666666666666666,
              "#ed7953"
             ],
             [
              0.7777777777777778,
              "#fb9f3a"
             ],
             [
              0.8888888888888888,
              "#fdca26"
             ],
             [
              1,
              "#f0f921"
             ]
            ],
            "type": "surface"
           }
          ],
          "table": [
           {
            "cells": {
             "fill": {
              "color": "#EBF0F8"
             },
             "line": {
              "color": "white"
             }
            },
            "header": {
             "fill": {
              "color": "#C8D4E3"
             },
             "line": {
              "color": "white"
             }
            },
            "type": "table"
           }
          ]
         },
         "layout": {
          "annotationdefaults": {
           "arrowcolor": "#2a3f5f",
           "arrowhead": 0,
           "arrowwidth": 1
          },
          "autotypenumbers": "strict",
          "coloraxis": {
           "colorbar": {
            "outlinewidth": 0,
            "ticks": ""
           }
          },
          "colorscale": {
           "diverging": [
            [
             0,
             "#8e0152"
            ],
            [
             0.1,
             "#c51b7d"
            ],
            [
             0.2,
             "#de77ae"
            ],
            [
             0.3,
             "#f1b6da"
            ],
            [
             0.4,
             "#fde0ef"
            ],
            [
             0.5,
             "#f7f7f7"
            ],
            [
             0.6,
             "#e6f5d0"
            ],
            [
             0.7,
             "#b8e186"
            ],
            [
             0.8,
             "#7fbc41"
            ],
            [
             0.9,
             "#4d9221"
            ],
            [
             1,
             "#276419"
            ]
           ],
           "sequential": [
            [
             0,
             "#0d0887"
            ],
            [
             0.1111111111111111,
             "#46039f"
            ],
            [
             0.2222222222222222,
             "#7201a8"
            ],
            [
             0.3333333333333333,
             "#9c179e"
            ],
            [
             0.4444444444444444,
             "#bd3786"
            ],
            [
             0.5555555555555556,
             "#d8576b"
            ],
            [
             0.6666666666666666,
             "#ed7953"
            ],
            [
             0.7777777777777778,
             "#fb9f3a"
            ],
            [
             0.8888888888888888,
             "#fdca26"
            ],
            [
             1,
             "#f0f921"
            ]
           ],
           "sequentialminus": [
            [
             0,
             "#0d0887"
            ],
            [
             0.1111111111111111,
             "#46039f"
            ],
            [
             0.2222222222222222,
             "#7201a8"
            ],
            [
             0.3333333333333333,
             "#9c179e"
            ],
            [
             0.4444444444444444,
             "#bd3786"
            ],
            [
             0.5555555555555556,
             "#d8576b"
            ],
            [
             0.6666666666666666,
             "#ed7953"
            ],
            [
             0.7777777777777778,
             "#fb9f3a"
            ],
            [
             0.8888888888888888,
             "#fdca26"
            ],
            [
             1,
             "#f0f921"
            ]
           ]
          },
          "colorway": [
           "#636efa",
           "#EF553B",
           "#00cc96",
           "#ab63fa",
           "#FFA15A",
           "#19d3f3",
           "#FF6692",
           "#B6E880",
           "#FF97FF",
           "#FECB52"
          ],
          "font": {
           "color": "#2a3f5f"
          },
          "geo": {
           "bgcolor": "white",
           "lakecolor": "white",
           "landcolor": "#E5ECF6",
           "showlakes": true,
           "showland": true,
           "subunitcolor": "white"
          },
          "hoverlabel": {
           "align": "left"
          },
          "hovermode": "closest",
          "mapbox": {
           "style": "light"
          },
          "paper_bgcolor": "white",
          "plot_bgcolor": "#E5ECF6",
          "polar": {
           "angularaxis": {
            "gridcolor": "white",
            "linecolor": "white",
            "ticks": ""
           },
           "bgcolor": "#E5ECF6",
           "radialaxis": {
            "gridcolor": "white",
            "linecolor": "white",
            "ticks": ""
           }
          },
          "scene": {
           "xaxis": {
            "backgroundcolor": "#E5ECF6",
            "gridcolor": "white",
            "gridwidth": 2,
            "linecolor": "white",
            "showbackground": true,
            "ticks": "",
            "zerolinecolor": "white"
           },
           "yaxis": {
            "backgroundcolor": "#E5ECF6",
            "gridcolor": "white",
            "gridwidth": 2,
            "linecolor": "white",
            "showbackground": true,
            "ticks": "",
            "zerolinecolor": "white"
           },
           "zaxis": {
            "backgroundcolor": "#E5ECF6",
            "gridcolor": "white",
            "gridwidth": 2,
            "linecolor": "white",
            "showbackground": true,
            "ticks": "",
            "zerolinecolor": "white"
           }
          },
          "shapedefaults": {
           "line": {
            "color": "#2a3f5f"
           }
          },
          "ternary": {
           "aaxis": {
            "gridcolor": "white",
            "linecolor": "white",
            "ticks": ""
           },
           "baxis": {
            "gridcolor": "white",
            "linecolor": "white",
            "ticks": ""
           },
           "bgcolor": "#E5ECF6",
           "caxis": {
            "gridcolor": "white",
            "linecolor": "white",
            "ticks": ""
           }
          },
          "title": {
           "x": 0.05
          },
          "xaxis": {
           "automargin": true,
           "gridcolor": "white",
           "linecolor": "white",
           "ticks": "",
           "title": {
            "standoff": 15
           },
           "zerolinecolor": "white",
           "zerolinewidth": 2
          },
          "yaxis": {
           "automargin": true,
           "gridcolor": "white",
           "linecolor": "white",
           "ticks": "",
           "title": {
            "standoff": 15
           },
           "zerolinecolor": "white",
           "zerolinewidth": 2
          }
         }
        },
        "title": {
         "text": "Distribución de Agresor Género - Línea 137 (Llamados)",
         "x": 0.5,
         "xanchor": "center",
         "y": 0.98
        }
       }
      }
     },
     "metadata": {},
     "output_type": "display_data"
    },
    {
     "name": "stdout",
     "output_type": "stream",
     "text": [
      "Cantidad de valores nulos en 'genero_de_la_persona_agresora': 0\n",
      "\n",
      "Distribución de categorías:\n",
      "genero_de_la_persona_agresora\n",
      "MASCULINO      79015\n",
      "SIN DATO        9224\n",
      "FEMENINO        1034\n",
      "OTROS            225\n",
      "TRANSGÉNERO       41\n",
      "TRAVESTI           2\n",
      "Name: count, dtype: int64\n"
     ]
    },
    {
     "data": {
      "application/vnd.plotly.v1+json": {
       "config": {
        "plotlyServerURL": "https://plot.ly"
       },
       "data": [
        {
         "hole": 0.3,
         "hoverinfo": "label+percent",
         "labels": [
          "MASCULINO",
          "SIN DATO",
          "FEMENINO",
          "OTROS",
          "TRANSGÉNERO",
          "TRAVESTI"
         ],
         "marker": {
          "colors": [
           "#1E90FF",
           "rgba(127,230,146,0.8)",
           "#DE7AE7",
           "rgba(117,185,121,0.8)",
           "rgba(171,248,107,0.8)",
           "rgba(224,207,104,0.8)"
          ],
          "line": {
           "color": "#000000",
           "width": 1.5
          }
         },
         "pull": [
          0.1,
          0,
          0,
          0,
          0,
          0
         ],
         "textinfo": "percent",
         "texttemplate": "%{percent:.1%}",
         "type": "pie",
         "values": [
          79015,
          9224,
          1034,
          225,
          41,
          2
         ]
        }
       ],
       "layout": {
        "legend": {
         "title": {
          "text": "Categorías"
         },
         "x": 1,
         "y": 0.5
        },
        "margin": {
         "b": 20,
         "l": 20,
         "r": 200,
         "t": 120
        },
        "template": {
         "data": {
          "bar": [
           {
            "error_x": {
             "color": "#2a3f5f"
            },
            "error_y": {
             "color": "#2a3f5f"
            },
            "marker": {
             "line": {
              "color": "#E5ECF6",
              "width": 0.5
             },
             "pattern": {
              "fillmode": "overlay",
              "size": 10,
              "solidity": 0.2
             }
            },
            "type": "bar"
           }
          ],
          "barpolar": [
           {
            "marker": {
             "line": {
              "color": "#E5ECF6",
              "width": 0.5
             },
             "pattern": {
              "fillmode": "overlay",
              "size": 10,
              "solidity": 0.2
             }
            },
            "type": "barpolar"
           }
          ],
          "carpet": [
           {
            "aaxis": {
             "endlinecolor": "#2a3f5f",
             "gridcolor": "white",
             "linecolor": "white",
             "minorgridcolor": "white",
             "startlinecolor": "#2a3f5f"
            },
            "baxis": {
             "endlinecolor": "#2a3f5f",
             "gridcolor": "white",
             "linecolor": "white",
             "minorgridcolor": "white",
             "startlinecolor": "#2a3f5f"
            },
            "type": "carpet"
           }
          ],
          "choropleth": [
           {
            "colorbar": {
             "outlinewidth": 0,
             "ticks": ""
            },
            "type": "choropleth"
           }
          ],
          "contour": [
           {
            "colorbar": {
             "outlinewidth": 0,
             "ticks": ""
            },
            "colorscale": [
             [
              0,
              "#0d0887"
             ],
             [
              0.1111111111111111,
              "#46039f"
             ],
             [
              0.2222222222222222,
              "#7201a8"
             ],
             [
              0.3333333333333333,
              "#9c179e"
             ],
             [
              0.4444444444444444,
              "#bd3786"
             ],
             [
              0.5555555555555556,
              "#d8576b"
             ],
             [
              0.6666666666666666,
              "#ed7953"
             ],
             [
              0.7777777777777778,
              "#fb9f3a"
             ],
             [
              0.8888888888888888,
              "#fdca26"
             ],
             [
              1,
              "#f0f921"
             ]
            ],
            "type": "contour"
           }
          ],
          "contourcarpet": [
           {
            "colorbar": {
             "outlinewidth": 0,
             "ticks": ""
            },
            "type": "contourcarpet"
           }
          ],
          "heatmap": [
           {
            "colorbar": {
             "outlinewidth": 0,
             "ticks": ""
            },
            "colorscale": [
             [
              0,
              "#0d0887"
             ],
             [
              0.1111111111111111,
              "#46039f"
             ],
             [
              0.2222222222222222,
              "#7201a8"
             ],
             [
              0.3333333333333333,
              "#9c179e"
             ],
             [
              0.4444444444444444,
              "#bd3786"
             ],
             [
              0.5555555555555556,
              "#d8576b"
             ],
             [
              0.6666666666666666,
              "#ed7953"
             ],
             [
              0.7777777777777778,
              "#fb9f3a"
             ],
             [
              0.8888888888888888,
              "#fdca26"
             ],
             [
              1,
              "#f0f921"
             ]
            ],
            "type": "heatmap"
           }
          ],
          "heatmapgl": [
           {
            "colorbar": {
             "outlinewidth": 0,
             "ticks": ""
            },
            "colorscale": [
             [
              0,
              "#0d0887"
             ],
             [
              0.1111111111111111,
              "#46039f"
             ],
             [
              0.2222222222222222,
              "#7201a8"
             ],
             [
              0.3333333333333333,
              "#9c179e"
             ],
             [
              0.4444444444444444,
              "#bd3786"
             ],
             [
              0.5555555555555556,
              "#d8576b"
             ],
             [
              0.6666666666666666,
              "#ed7953"
             ],
             [
              0.7777777777777778,
              "#fb9f3a"
             ],
             [
              0.8888888888888888,
              "#fdca26"
             ],
             [
              1,
              "#f0f921"
             ]
            ],
            "type": "heatmapgl"
           }
          ],
          "histogram": [
           {
            "marker": {
             "pattern": {
              "fillmode": "overlay",
              "size": 10,
              "solidity": 0.2
             }
            },
            "type": "histogram"
           }
          ],
          "histogram2d": [
           {
            "colorbar": {
             "outlinewidth": 0,
             "ticks": ""
            },
            "colorscale": [
             [
              0,
              "#0d0887"
             ],
             [
              0.1111111111111111,
              "#46039f"
             ],
             [
              0.2222222222222222,
              "#7201a8"
             ],
             [
              0.3333333333333333,
              "#9c179e"
             ],
             [
              0.4444444444444444,
              "#bd3786"
             ],
             [
              0.5555555555555556,
              "#d8576b"
             ],
             [
              0.6666666666666666,
              "#ed7953"
             ],
             [
              0.7777777777777778,
              "#fb9f3a"
             ],
             [
              0.8888888888888888,
              "#fdca26"
             ],
             [
              1,
              "#f0f921"
             ]
            ],
            "type": "histogram2d"
           }
          ],
          "histogram2dcontour": [
           {
            "colorbar": {
             "outlinewidth": 0,
             "ticks": ""
            },
            "colorscale": [
             [
              0,
              "#0d0887"
             ],
             [
              0.1111111111111111,
              "#46039f"
             ],
             [
              0.2222222222222222,
              "#7201a8"
             ],
             [
              0.3333333333333333,
              "#9c179e"
             ],
             [
              0.4444444444444444,
              "#bd3786"
             ],
             [
              0.5555555555555556,
              "#d8576b"
             ],
             [
              0.6666666666666666,
              "#ed7953"
             ],
             [
              0.7777777777777778,
              "#fb9f3a"
             ],
             [
              0.8888888888888888,
              "#fdca26"
             ],
             [
              1,
              "#f0f921"
             ]
            ],
            "type": "histogram2dcontour"
           }
          ],
          "mesh3d": [
           {
            "colorbar": {
             "outlinewidth": 0,
             "ticks": ""
            },
            "type": "mesh3d"
           }
          ],
          "parcoords": [
           {
            "line": {
             "colorbar": {
              "outlinewidth": 0,
              "ticks": ""
             }
            },
            "type": "parcoords"
           }
          ],
          "pie": [
           {
            "automargin": true,
            "type": "pie"
           }
          ],
          "scatter": [
           {
            "fillpattern": {
             "fillmode": "overlay",
             "size": 10,
             "solidity": 0.2
            },
            "type": "scatter"
           }
          ],
          "scatter3d": [
           {
            "line": {
             "colorbar": {
              "outlinewidth": 0,
              "ticks": ""
             }
            },
            "marker": {
             "colorbar": {
              "outlinewidth": 0,
              "ticks": ""
             }
            },
            "type": "scatter3d"
           }
          ],
          "scattercarpet": [
           {
            "marker": {
             "colorbar": {
              "outlinewidth": 0,
              "ticks": ""
             }
            },
            "type": "scattercarpet"
           }
          ],
          "scattergeo": [
           {
            "marker": {
             "colorbar": {
              "outlinewidth": 0,
              "ticks": ""
             }
            },
            "type": "scattergeo"
           }
          ],
          "scattergl": [
           {
            "marker": {
             "colorbar": {
              "outlinewidth": 0,
              "ticks": ""
             }
            },
            "type": "scattergl"
           }
          ],
          "scattermapbox": [
           {
            "marker": {
             "colorbar": {
              "outlinewidth": 0,
              "ticks": ""
             }
            },
            "type": "scattermapbox"
           }
          ],
          "scatterpolar": [
           {
            "marker": {
             "colorbar": {
              "outlinewidth": 0,
              "ticks": ""
             }
            },
            "type": "scatterpolar"
           }
          ],
          "scatterpolargl": [
           {
            "marker": {
             "colorbar": {
              "outlinewidth": 0,
              "ticks": ""
             }
            },
            "type": "scatterpolargl"
           }
          ],
          "scatterternary": [
           {
            "marker": {
             "colorbar": {
              "outlinewidth": 0,
              "ticks": ""
             }
            },
            "type": "scatterternary"
           }
          ],
          "surface": [
           {
            "colorbar": {
             "outlinewidth": 0,
             "ticks": ""
            },
            "colorscale": [
             [
              0,
              "#0d0887"
             ],
             [
              0.1111111111111111,
              "#46039f"
             ],
             [
              0.2222222222222222,
              "#7201a8"
             ],
             [
              0.3333333333333333,
              "#9c179e"
             ],
             [
              0.4444444444444444,
              "#bd3786"
             ],
             [
              0.5555555555555556,
              "#d8576b"
             ],
             [
              0.6666666666666666,
              "#ed7953"
             ],
             [
              0.7777777777777778,
              "#fb9f3a"
             ],
             [
              0.8888888888888888,
              "#fdca26"
             ],
             [
              1,
              "#f0f921"
             ]
            ],
            "type": "surface"
           }
          ],
          "table": [
           {
            "cells": {
             "fill": {
              "color": "#EBF0F8"
             },
             "line": {
              "color": "white"
             }
            },
            "header": {
             "fill": {
              "color": "#C8D4E3"
             },
             "line": {
              "color": "white"
             }
            },
            "type": "table"
           }
          ]
         },
         "layout": {
          "annotationdefaults": {
           "arrowcolor": "#2a3f5f",
           "arrowhead": 0,
           "arrowwidth": 1
          },
          "autotypenumbers": "strict",
          "coloraxis": {
           "colorbar": {
            "outlinewidth": 0,
            "ticks": ""
           }
          },
          "colorscale": {
           "diverging": [
            [
             0,
             "#8e0152"
            ],
            [
             0.1,
             "#c51b7d"
            ],
            [
             0.2,
             "#de77ae"
            ],
            [
             0.3,
             "#f1b6da"
            ],
            [
             0.4,
             "#fde0ef"
            ],
            [
             0.5,
             "#f7f7f7"
            ],
            [
             0.6,
             "#e6f5d0"
            ],
            [
             0.7,
             "#b8e186"
            ],
            [
             0.8,
             "#7fbc41"
            ],
            [
             0.9,
             "#4d9221"
            ],
            [
             1,
             "#276419"
            ]
           ],
           "sequential": [
            [
             0,
             "#0d0887"
            ],
            [
             0.1111111111111111,
             "#46039f"
            ],
            [
             0.2222222222222222,
             "#7201a8"
            ],
            [
             0.3333333333333333,
             "#9c179e"
            ],
            [
             0.4444444444444444,
             "#bd3786"
            ],
            [
             0.5555555555555556,
             "#d8576b"
            ],
            [
             0.6666666666666666,
             "#ed7953"
            ],
            [
             0.7777777777777778,
             "#fb9f3a"
            ],
            [
             0.8888888888888888,
             "#fdca26"
            ],
            [
             1,
             "#f0f921"
            ]
           ],
           "sequentialminus": [
            [
             0,
             "#0d0887"
            ],
            [
             0.1111111111111111,
             "#46039f"
            ],
            [
             0.2222222222222222,
             "#7201a8"
            ],
            [
             0.3333333333333333,
             "#9c179e"
            ],
            [
             0.4444444444444444,
             "#bd3786"
            ],
            [
             0.5555555555555556,
             "#d8576b"
            ],
            [
             0.6666666666666666,
             "#ed7953"
            ],
            [
             0.7777777777777778,
             "#fb9f3a"
            ],
            [
             0.8888888888888888,
             "#fdca26"
            ],
            [
             1,
             "#f0f921"
            ]
           ]
          },
          "colorway": [
           "#636efa",
           "#EF553B",
           "#00cc96",
           "#ab63fa",
           "#FFA15A",
           "#19d3f3",
           "#FF6692",
           "#B6E880",
           "#FF97FF",
           "#FECB52"
          ],
          "font": {
           "color": "#2a3f5f"
          },
          "geo": {
           "bgcolor": "white",
           "lakecolor": "white",
           "landcolor": "#E5ECF6",
           "showlakes": true,
           "showland": true,
           "subunitcolor": "white"
          },
          "hoverlabel": {
           "align": "left"
          },
          "hovermode": "closest",
          "mapbox": {
           "style": "light"
          },
          "paper_bgcolor": "white",
          "plot_bgcolor": "#E5ECF6",
          "polar": {
           "angularaxis": {
            "gridcolor": "white",
            "linecolor": "white",
            "ticks": ""
           },
           "bgcolor": "#E5ECF6",
           "radialaxis": {
            "gridcolor": "white",
            "linecolor": "white",
            "ticks": ""
           }
          },
          "scene": {
           "xaxis": {
            "backgroundcolor": "#E5ECF6",
            "gridcolor": "white",
            "gridwidth": 2,
            "linecolor": "white",
            "showbackground": true,
            "ticks": "",
            "zerolinecolor": "white"
           },
           "yaxis": {
            "backgroundcolor": "#E5ECF6",
            "gridcolor": "white",
            "gridwidth": 2,
            "linecolor": "white",
            "showbackground": true,
            "ticks": "",
            "zerolinecolor": "white"
           },
           "zaxis": {
            "backgroundcolor": "#E5ECF6",
            "gridcolor": "white",
            "gridwidth": 2,
            "linecolor": "white",
            "showbackground": true,
            "ticks": "",
            "zerolinecolor": "white"
           }
          },
          "shapedefaults": {
           "line": {
            "color": "#2a3f5f"
           }
          },
          "ternary": {
           "aaxis": {
            "gridcolor": "white",
            "linecolor": "white",
            "ticks": ""
           },
           "baxis": {
            "gridcolor": "white",
            "linecolor": "white",
            "ticks": ""
           },
           "bgcolor": "#E5ECF6",
           "caxis": {
            "gridcolor": "white",
            "linecolor": "white",
            "ticks": ""
           }
          },
          "title": {
           "x": 0.05
          },
          "xaxis": {
           "automargin": true,
           "gridcolor": "white",
           "linecolor": "white",
           "ticks": "",
           "title": {
            "standoff": 15
           },
           "zerolinecolor": "white",
           "zerolinewidth": 2
          },
          "yaxis": {
           "automargin": true,
           "gridcolor": "white",
           "linecolor": "white",
           "ticks": "",
           "title": {
            "standoff": 15
           },
           "zerolinecolor": "white",
           "zerolinewidth": 2
          }
         }
        },
        "title": {
         "text": "Distribución de Género Agresor - Línea 144",
         "x": 0.5,
         "xanchor": "center",
         "y": 0.98
        }
       }
      }
     },
     "metadata": {},
     "output_type": "display_data"
    }
   ],
   "source": [
    "def kpi_genero(data, title):\n",
    "    # Contar valores\n",
    "    counts = data.value_counts(dropna=True)\n",
    "    nulos = data.isna().sum()\n",
    "    \n",
    "    print(f\"Cantidad de valores nulos en '{data.name}': {nulos}\\n\")\n",
    "    print(\"Distribución de categorías:\")\n",
    "    print(counts)\n",
    "    \n",
    "    # Asignar colores\n",
    "    colors = []\n",
    "    for cat in counts.index:\n",
    "        if 'FEMENINO' in cat:\n",
    "            colors.append(\"#DE7AE7\") \n",
    "        elif 'MASCULINO' in cat:\n",
    "            colors.append('#1E90FF')\n",
    "        else:\n",
    "            # colores aleatorios para otros\n",
    "            r = lambda: random.randint(100,255)\n",
    "            colors.append(f'rgba({r()},{r()},{r()},0.8)')\n",
    "    \n",
    "    # Crear gráfico de torta\n",
    "    fig = go.Figure(data=[go.Pie(\n",
    "        labels=counts.index,       \n",
    "        values=counts.values,\n",
    "        hole=0.3,\n",
    "        pull=[0.1 if v == counts.max() else 0 for v in counts.values],\n",
    "        textinfo='percent',           \n",
    "        texttemplate='%{percent:.1%}',  # porcentaje con 1 decimal\n",
    "        hoverinfo='label+percent',   \n",
    "        marker=dict(colors=colors, line=dict(color='#000000', width=1.5))\n",
    "    )])\n",
    "    \n",
    "    fig.update_layout(\n",
    "        title=dict(text=title, x=0.5, xanchor='center', y=0.98),  # título más arriba\n",
    "        legend_title=\"Categorías\",\n",
    "        legend=dict(x=1, y=0.5),\n",
    "        margin=dict(l=20, r=200, t=120, b=20)\n",
    "    )\n",
    "    \n",
    "    fig.show()\n",
    "\n",
    "kpi_genero(intervenciones_domiciliarias['victima_genero'], \"Distribución de Victima Género - Intervenciones Domiciliarias\")\n",
    "kpi_genero(llamados['victima_genero'], \"Distribución de Victima Género - Línea 137 (Llamados)\")\n",
    "kpi_genero(data144_final['genero_persona_en_situacion_de_violencia'], \"Distribución de Victima Género - Línea 144\")\n",
    "kpi_genero(llamados['agresor_genero'], \"Distribución de Agresor Género - Línea 137 (Llamados)\")\n",
    "kpi_genero(data144_final['genero_de_la_persona_agresora'], \"Distribución de Género Agresor - Línea 144\")\n"
   ]
  },
  {
   "cell_type": "markdown",
   "id": "5aeeef68",
   "metadata": {},
   "source": [
    "## Factor relacional: Vínculo víctima–agresor"
   ]
  },
  {
   "cell_type": "code",
   "execution_count": 8,
   "id": "28d3912c",
   "metadata": {},
   "outputs": [
    {
     "data": {
      "text/plain": [
       "array(['PAREJA/EX PAREJA', 'FAMILIAR INDIRECTO', 'FAMILIAR DIRECTO',\n",
       "       'OTRO CONVIVIENTE', 'OTRO NO CONVIVIENTE', 'SIN DATO'],\n",
       "      dtype=object)"
      ]
     },
     "execution_count": 8,
     "metadata": {},
     "output_type": "execute_result"
    }
   ],
   "source": [
    "intervenciones_domiciliarias['agresor_relacion_victima'].unique()  \n"
   ]
  },
  {
   "cell_type": "code",
   "execution_count": 9,
   "id": "929600cd",
   "metadata": {},
   "outputs": [
    {
     "data": {
      "text/plain": [
       "array(['FAMILIAR DIRECTO', 'PAREJA/EX PAREJA', 'SIN DATO',\n",
       "       'OTRO NO CONVIVIENTE', 'OTRO CONVIVIENTE', 'FAMILIAR INDIRECTO'],\n",
       "      dtype=object)"
      ]
     },
     "execution_count": 9,
     "metadata": {},
     "output_type": "execute_result"
    }
   ],
   "source": [
    "llamados['agresor_relacion_victima'].unique()  \n"
   ]
  },
  {
   "cell_type": "code",
   "execution_count": 10,
   "id": "83046984",
   "metadata": {},
   "outputs": [
    {
     "data": {
      "text/plain": [
       "array(['PAREJA/EX PAREJA', 'FAMILIAR INDIRECTO', 'OTRO NO CONVIVIENTE',\n",
       "       'FAMILIAR DIRECTO', 'SIN DATO'], dtype=object)"
      ]
     },
     "execution_count": 10,
     "metadata": {},
     "output_type": "execute_result"
    }
   ],
   "source": [
    "data144_final['vinculo_con_la_persona_agresora'].unique()  "
   ]
  },
  {
   "cell_type": "code",
   "execution_count": 11,
   "id": "8f044d79",
   "metadata": {},
   "outputs": [
    {
     "name": "stdout",
     "output_type": "stream",
     "text": [
      "Distribución de vínculos por dataset:\n",
      "                     Intervenciones 137  Llamados 137  Línea 144\n",
      "FAMILIAR DIRECTO                   1647         17535     1251.0\n",
      "FAMILIAR INDIRECTO                  275           886     3181.0\n",
      "OTRO CONVIVIENTE                     55          1133        0.0\n",
      "OTRO NO CONVIVIENTE                  47          1655     7210.0\n",
      "PAREJA/EX PAREJA                    877         24976    74492.0\n",
      "SIN DATO                            526         15251     3407.0\n"
     ]
    },
    {
     "data": {
      "image/png": "[encoded data removed]",
      "text/plain": [
       "<Figure size 1200x700 with 1 Axes>"
      ]
     },
     "metadata": {},
     "output_type": "display_data"
    }
   ],
   "source": [
    "\n",
    "# Calcular frecuencias por dataset\n",
    "freq_intervenciones = intervenciones_domiciliarias['agresor_relacion_victima'].value_counts()\n",
    "freq_llamados = llamados['agresor_relacion_victima'].value_counts()\n",
    "freq_144 = data144_final['vinculo_con_la_persona_agresora'].value_counts()\n",
    "\n",
    "# Crear DataFrame consolidado y rellenar NaN con 0\n",
    "df_vinculos = pd.DataFrame({\n",
    "    'Intervenciones 137': freq_intervenciones,\n",
    "    'Llamados 137': freq_llamados,\n",
    "    'Línea 144': freq_144\n",
    "}).fillna(0)\n",
    "\n",
    "# Imprimir los valores por consola\n",
    "print(\"Distribución de vínculos por dataset:\")\n",
    "print(df_vinculos)\n",
    "\n",
    "# Paleta de colores violeta/rosa\n",
    "colors = ['#8c2d84', '#c47fcf', '#f4a6d7']  # puedes cambiar a otros tonos\n",
    "\n",
    "# Graficar barras agrupadas\n",
    "ax = df_vinculos.plot(kind='bar', figsize=(12,7), width=0.8, color=colors)\n",
    "\n",
    "# Título y etiquetas\n",
    "plt.title('Distribución de vínculos entre víctima y agresor por dataset', fontsize=14)\n",
    "plt.ylabel('Cantidad de casos', fontsize=12)\n",
    "plt.xlabel('Tipo de vínculo', fontsize=12)\n",
    "plt.xticks(rotation=45, ha='right')\n",
    "plt.legend(title='Dataset')\n",
    "\n",
    "# Agregar valores encima de cada barra\n",
    "for i, col in enumerate(df_vinculos.columns):\n",
    "    for j, val in enumerate(df_vinculos[col]):\n",
    "        ax.text(j + i*0.25 - 0.25, val + 50, int(val), ha='center', va='bottom', fontsize=10, rotation=0)\n",
    "\n",
    "plt.tight_layout()\n",
    "plt.show()"
   ]
  },
  {
   "cell_type": "markdown",
   "id": "106c38d4",
   "metadata": {},
   "source": [
    "## Factor conductual: Tipo de violencia"
   ]
  },
  {
   "cell_type": "code",
   "execution_count": 12,
   "id": "6209ba9f",
   "metadata": {},
   "outputs": [
    {
     "data": {
      "text/plain": [
       "array(['FÍSICA, PSICOLÓGICA', 'PSICOLÓGICA',\n",
       "       'ECONÓMICA, FÍSICA, PSICOLÓGICA',\n",
       "       'ECONÓMICA, FÍSICA, PSICOLÓGICA, SEXUAL', 'SEXUAL', 'FÍSICA',\n",
       "       'ECONÓMICA, FÍSICA', 'FÍSICA, PSICOLÓGICA, SEXUAL', 'OTRA',\n",
       "       'ECONÓMICA, SEXUAL', 'ECONÓMICA', 'FÍSICA, SEXUAL',\n",
       "       'NO ES UN CASO DE VIOLENCIA FAMILIAR',\n",
       "       'EXPLOTACIÓN COMERCIAL SEXUAL', 'SIN DATO',\n",
       "       'ECONÓMICA, PSICOLÓGICA, SEXUAL'], dtype=object)"
      ]
     },
     "execution_count": 12,
     "metadata": {},
     "output_type": "execute_result"
    }
   ],
   "source": [
    "intervenciones_domiciliarias['violencia_tipo'].unique()"
   ]
  },
  {
   "cell_type": "code",
   "execution_count": 13,
   "id": "94e58d2c",
   "metadata": {},
   "outputs": [
    {
     "data": {
      "text/plain": [
       "array(['FÍSICA, PSICOLÓGICA', 'PSICOLÓGICA', 'NO APLICA',\n",
       "       'ECONÓMICA, FÍSICA, PSICOLÓGICA', 'OTRAS',\n",
       "       'ECONÓMICA, PSICOLÓGICA', 'PSICOLÓGICA, SEXUAL',\n",
       "       'ECONÓMICA, PSICOLÓGICA, SEXUAL',\n",
       "       'NO ES UN CASO DE VIOLENCIA FAMILIAR',\n",
       "       'FÍSICA, PSICOLÓGICA, SEXUAL', 'SIN DATO',\n",
       "       'ECONÓMICA, FÍSICA, PSICOLÓGICA, SEXUAL', 'TRATA'], dtype=object)"
      ]
     },
     "execution_count": 13,
     "metadata": {},
     "output_type": "execute_result"
    }
   ],
   "source": [
    "llamados['violencia_tipo'].unique()"
   ]
  },
  {
   "cell_type": "code",
   "execution_count": 14,
   "id": "010d7c8d",
   "metadata": {},
   "outputs": [
    {
     "name": "stdout",
     "output_type": "stream",
     "text": [
      "<class 'pandas.core.frame.DataFrame'>\n",
      "RangeIndex: 89541 entries, 0 to 89540\n",
      "Data columns (total 20 columns):\n",
      " #   Column                                             Non-Null Count  Dtype   \n",
      "---  ------                                             --------------  -----   \n",
      " 0   Fecha                                              89528 non-null  object  \n",
      " 1   prov_residencia_persona_en_situacion_violencia     89541 non-null  object  \n",
      " 2   genero_persona_en_situacion_de_violencia           89541 non-null  object  \n",
      " 3   edad_persona_en_situacion_de_violencia             72251 non-null  float64 \n",
      " 4   pais_nacimiento_persona_en_situacion_de_violencia  89541 non-null  object  \n",
      " 5   tipo_de_violencia_fisica                           89539 non-null  object  \n",
      " 6   tipo_de_violencia_psicologica                      89539 non-null  object  \n",
      " 7   tipo_de_violencia_sexual                           89539 non-null  object  \n",
      " 8   tipo_de_violencia_economica_y_patrimonial          89539 non-null  object  \n",
      " 9   tipo_de_violencia_simbolica                        89539 non-null  object  \n",
      " 10  tipo_de_violencia_domestica                        89539 non-null  object  \n",
      " 11  modalidad_de_violencia_institucional               89539 non-null  object  \n",
      " 12  modalidad_de_violencia_laboral                     89539 non-null  object  \n",
      " 13  modalidad_violencia_contra_libertad_reproductiva   89539 non-null  object  \n",
      " 14  modalidad_de_violencia_obstetrica                  89539 non-null  object  \n",
      " 15  modalidad_de_violencia_mediatica                   89539 non-null  object  \n",
      " 16  modalidad_de_violencia_otras                       89539 non-null  object  \n",
      " 17  vinculo_con_la_persona_agresora                    89541 non-null  object  \n",
      " 18  genero_de_la_persona_agresora                      89541 non-null  object  \n",
      " 19  rango_etario_aux                                   72251 non-null  category\n",
      "dtypes: category(1), float64(1), object(18)\n",
      "memory usage: 13.1+ MB\n"
     ]
    }
   ],
   "source": [
    "data144_final.info()"
   ]
  },
  {
   "cell_type": "code",
   "execution_count": null,
   "id": "a6b4afbb",
   "metadata": {},
   "outputs": [
    {
     "data": {
      "text/plain": [
       "array(['FÍSICA, OTRAS, PSICOLÓGICA', 'OTRAS, PSICOLÓGICA',\n",
       "       'ECONÓMICA, FÍSICA, OTRAS, PSICOLÓGICA',\n",
       "       'ECONÓMICA, OTRAS, PSICOLÓGICA, SIMBOLICA',\n",
       "       'FÍSICA, OTRAS, PSICOLÓGICA, SIMBOLICA',\n",
       "       'ECONÓMICA, FÍSICA, OTRAS, PSICOLÓGICA, SIMBOLICA',\n",
       "       'FÍSICA, OTRAS',\n",
       "       'ECONÓMICA, FÍSICA, OTRAS, PSICOLÓGICA, SEXUAL, SIMBOLICA',\n",
       "       'FÍSICA, PSICOLÓGICA, SEXUAL', 'ECONÓMICA, OTRAS, PSICOLÓGICA',\n",
       "       'PSICOLÓGICA, SEXUAL', 'OTRAS, PSICOLÓGICA, SEXUAL',\n",
       "       'FÍSICA, OTRAS, PSICOLÓGICA, SEXUAL',\n",
       "       'FÍSICA, PSICOLÓGICA, SEXUAL, modalidad_de_violencia_laboral',\n",
       "       'OTRAS, PSICOLÓGICA, SIMBOLICA', 'FÍSICA, PSICOLÓGICA, SIMBOLICA',\n",
       "       'FÍSICA, OTRAS, PSICOLÓGICA, SEXUAL, SIMBOLICA',\n",
       "       'ECONÓMICA, FÍSICA, OTRAS, PSICOLÓGICA, SIMBOLICA, modalidad_de_violencia_institucional',\n",
       "       'FÍSICA, PSICOLÓGICA, SEXUAL, SIMBOLICA', 'PSICOLÓGICA', 'FÍSICA',\n",
       "       'ECONÓMICA, PSICOLÓGICA',\n",
       "       'ECONÓMICA, FÍSICA, OTRAS, PSICOLÓGICA, SEXUAL', 'SEXUAL', 'OTRAS',\n",
       "       'FÍSICA, PSICOLÓGICA', 'PSICOLÓGICA, SIMBOLICA',\n",
       "       'ECONÓMICA, OTRAS, PSICOLÓGICA, SEXUAL, SIMBOLICA',\n",
       "       'FÍSICA, OTRAS, SIMBOLICA', 'PSICOLÓGICA, SEXUAL, SIMBOLICA',\n",
       "       'SEXUAL, SIMBOLICA',\n",
       "       'ECONÓMICA, FÍSICA, PSICOLÓGICA, SEXUAL, SIMBOLICA, modalidad_de_violencia_institucional',\n",
       "       'FÍSICA, OTRAS, SIMBOLICA, modalidad_de_violencia_institucional',\n",
       "       'OTRAS, PSICOLÓGICA, SEXUAL, SIMBOLICA', 'ECONÓMICA',\n",
       "       'ECONÓMICA, FÍSICA, OTRAS, PSICOLÓGICA, SEXUAL, SIMBOLICA, modalidad_de_violencia_institucional',\n",
       "       'ECONÓMICA, PSICOLÓGICA, SIMBOLICA', 'ECONÓMICA, FÍSICA, OTRAS',\n",
       "       'FÍSICA, OTRAS, PSICOLÓGICA, SEXUAL, SIMBOLICA, modalidad_violencia_contra_libertad_reproductiva',\n",
       "       'SEXUAL, SIMBOLICA, modalidad_de_violencia_laboral',\n",
       "       'FÍSICA, modalidad_de_violencia_institucional',\n",
       "       'FÍSICA, SIMBOLICA',\n",
       "       'FÍSICA, OTRAS, PSICOLÓGICA, modalidad_de_violencia_institucional',\n",
       "       'SEXUAL, modalidad_de_violencia_laboral',\n",
       "       'ECONÓMICA, FÍSICA, OTRAS, PSICOLÓGICA, SIMBOLICA, modalidad_violencia_contra_libertad_reproductiva',\n",
       "       'ECONÓMICA, FÍSICA, PSICOLÓGICA, SIMBOLICA',\n",
       "       'ECONÓMICA, OTRAS, PSICOLÓGICA, SEXUAL',\n",
       "       'OTRAS, SEXUAL, SIMBOLICA',\n",
       "       'ECONÓMICA, FÍSICA, OTRAS, PSICOLÓGICA, SEXUAL, modalidad_violencia_contra_libertad_reproductiva',\n",
       "       'FÍSICA, OTRAS, PSICOLÓGICA, SIMBOLICA, modalidad_de_violencia_institucional',\n",
       "       'FÍSICA, PSICOLÓGICA, SIMBOLICA, modalidad_de_violencia_institucional',\n",
       "       'PSICOLÓGICA, SIMBOLICA, modalidad_de_violencia_laboral',\n",
       "       'FÍSICA, OTRAS, PSICOLÓGICA, SEXUAL, modalidad_de_violencia_institucional',\n",
       "       'ECONÓMICA, FÍSICA, OTRAS, PSICOLÓGICA, SEXUAL, modalidad_de_violencia_institucional',\n",
       "       'modalidad_de_violencia_institucional',\n",
       "       'PSICOLÓGICA, modalidad_de_violencia_laboral',\n",
       "       'FÍSICA, PSICOLÓGICA, modalidad_de_violencia_otras',\n",
       "       'PSICOLÓGICA, modalidad_de_violencia_otras',\n",
       "       'SIMBOLICA, modalidad_de_violencia_otras',\n",
       "       'SEXUAL, modalidad_de_violencia_otras', 'OTRAS, SIMBOLICA',\n",
       "       'FÍSICA, OTRAS, PSICOLÓGICA, SEXUAL, SIMBOLICA, modalidad_de_violencia_laboral',\n",
       "       'OTRAS, SEXUAL',\n",
       "       'ECONÓMICA, SEXUAL, modalidad_de_violencia_laboral',\n",
       "       'PSICOLÓGICA, SEXUAL, SIMBOLICA, modalidad_de_violencia_laboral',\n",
       "       'ECONÓMICA, FÍSICA', 'ECONÓMICA, FÍSICA, PSICOLÓGICA', 'SIMBOLICA',\n",
       "       'ECONÓMICA, SIMBOLICA',\n",
       "       'SIMBOLICA, modalidad_de_violencia_mediatica',\n",
       "       'PSICOLÓGICA, SEXUAL, modalidad_de_violencia_laboral',\n",
       "       'ECONÓMICA, FÍSICA, OTRAS, PSICOLÓGICA, modalidad_de_violencia_institucional',\n",
       "       'OTRAS, PSICOLÓGICA, SIMBOLICA, modalidad_de_violencia_mediatica',\n",
       "       'FÍSICA, PSICOLÓGICA, SEXUAL, SIMBOLICA, modalidad_de_violencia_laboral',\n",
       "       'FÍSICA, SEXUAL, modalidad_de_violencia_institucional',\n",
       "       'FÍSICA, SEXUAL', 'PSICOLÓGICA, modalidad_de_violencia_obstetrica',\n",
       "       'PSICOLÓGICA, SIMBOLICA, modalidad_de_violencia_mediatica',\n",
       "       'FÍSICA, OTRAS, PSICOLÓGICA, SEXUAL, SIMBOLICA, modalidad_de_violencia_institucional',\n",
       "       'ECONÓMICA, PSICOLÓGICA, SEXUAL, SIMBOLICA, modalidad_de_violencia_laboral',\n",
       "       'ECONÓMICA, FÍSICA, PSICOLÓGICA, SEXUAL',\n",
       "       'OTRAS, PSICOLÓGICA, SIMBOLICA, modalidad_de_violencia_institucional',\n",
       "       'ECONÓMICA, FÍSICA, OTRAS, PSICOLÓGICA, SEXUAL, SIMBOLICA, modalidad_violencia_contra_libertad_reproductiva',\n",
       "       'PSICOLÓGICA, modalidad_de_violencia_institucional',\n",
       "       'ECONÓMICA, FÍSICA, PSICOLÓGICA, SIMBOLICA, modalidad_de_violencia_laboral',\n",
       "       'FÍSICA, PSICOLÓGICA, SIMBOLICA, modalidad_de_violencia_laboral',\n",
       "       'FÍSICA, OTRAS, PSICOLÓGICA, SIMBOLICA, modalidad_violencia_contra_libertad_reproductiva',\n",
       "       'FÍSICA, OTRAS, SEXUAL, SIMBOLICA',\n",
       "       'ECONÓMICA, FÍSICA, PSICOLÓGICA, SEXUAL, SIMBOLICA',\n",
       "       'ECONÓMICA, PSICOLÓGICA, modalidad_de_violencia_laboral',\n",
       "       'OTRAS, PSICOLÓGICA, modalidad_de_violencia_institucional',\n",
       "       'ECONÓMICA, OTRAS', 'ECONÓMICA, OTRAS, SIMBOLICA',\n",
       "       'modalidad_de_violencia_laboral',\n",
       "       'OTRAS, PSICOLÓGICA, SEXUAL, SIMBOLICA, modalidad_de_violencia_laboral',\n",
       "       'FÍSICA, OTRAS, PSICOLÓGICA, modalidad_de_violencia_laboral',\n",
       "       'ECONÓMICA, OTRAS, PSICOLÓGICA, SIMBOLICA, modalidad_de_violencia_institucional',\n",
       "       'PSICOLÓGICA, SIMBOLICA, modalidad_de_violencia_institucional',\n",
       "       'ECONÓMICA, FÍSICA, OTRAS, SIMBOLICA',\n",
       "       'FÍSICA, PSICOLÓGICA, SIMBOLICA, modalidad_de_violencia_institucional, modalidad_de_violencia_obstetrica',\n",
       "       'FÍSICA, PSICOLÓGICA, modalidad_de_violencia_laboral',\n",
       "       'FÍSICA, PSICOLÓGICA, modalidad_de_violencia_institucional',\n",
       "       'PSICOLÓGICA, SEXUAL, modalidad_de_violencia_institucional',\n",
       "       'PSICOLÓGICA, SEXUAL, modalidad_de_violencia_otras',\n",
       "       'PSICOLÓGICA, SIMBOLICA, modalidad_de_violencia_otras',\n",
       "       'ECONÓMICA, FÍSICA, PSICOLÓGICA, modalidad_de_violencia_laboral',\n",
       "       'ECONÓMICA, PSICOLÓGICA, SEXUAL, modalidad_de_violencia_laboral',\n",
       "       'ECONÓMICA, PSICOLÓGICA, SEXUAL, SIMBOLICA',\n",
       "       'FÍSICA, PSICOLÓGICA, SEXUAL, modalidad_de_violencia_institucional',\n",
       "       'ECONÓMICA, PSICOLÓGICA, SIMBOLICA, modalidad_de_violencia_institucional',\n",
       "       'FÍSICA, OTRAS, PSICOLÓGICA, SIMBOLICA, modalidad_de_violencia_institucional, modalidad_de_violencia_mediatica',\n",
       "       'FÍSICA, OTRAS, PSICOLÓGICA, SEXUAL, modalidad_violencia_contra_libertad_reproductiva',\n",
       "       'ECONÓMICA, FÍSICA, PSICOLÓGICA, SIMBOLICA, modalidad_de_violencia_institucional',\n",
       "       'FÍSICA, OTRAS, SEXUAL',\n",
       "       'FÍSICA, OTRAS, modalidad_de_violencia_institucional',\n",
       "       'ECONÓMICA, FÍSICA, SEXUAL',\n",
       "       'OTRAS, SEXUAL, SIMBOLICA, modalidad_violencia_contra_libertad_reproductiva',\n",
       "       'FÍSICA, SEXUAL, SIMBOLICA', 'ECONÓMICA, PSICOLÓGICA, SEXUAL',\n",
       "       'FÍSICA, SEXUAL, SIMBOLICA, modalidad_de_violencia_mediatica',\n",
       "       'ECONÓMICA, FÍSICA, OTRAS, PSICOLÓGICA, modalidad_violencia_contra_libertad_reproductiva',\n",
       "       'FÍSICA, PSICOLÓGICA, SEXUAL, SIMBOLICA, modalidad_de_violencia_institucional',\n",
       "       'ECONÓMICA, PSICOLÓGICA, SIMBOLICA, modalidad_violencia_contra_libertad_reproductiva',\n",
       "       'FÍSICA, PSICOLÓGICA, SEXUAL, modalidad_de_violencia_institucional, modalidad_de_violencia_obstetrica',\n",
       "       'FÍSICA, OTRAS, PSICOLÓGICA, SEXUAL, modalidad_de_violencia_laboral',\n",
       "       'ECONÓMICA, FÍSICA, OTRAS, PSICOLÓGICA, modalidad_de_violencia_institucional, modalidad_de_violencia_laboral, modalidad_de_violencia_mediatica, modalidad_de_violencia_obstetrica, modalidad_violencia_contra_libertad_reproductiva',\n",
       "       'ECONÓMICA, OTRAS, SEXUAL, SIMBOLICA',\n",
       "       'ECONÓMICA, FÍSICA, PSICOLÓGICA, SEXUAL, modalidad_violencia_contra_libertad_reproductiva',\n",
       "       'FÍSICA, PSICOLÓGICA, SEXUAL, modalidad_de_violencia_obstetrica',\n",
       "       'ECONÓMICA, FÍSICA, OTRAS, PSICOLÓGICA, SIMBOLICA, modalidad_de_violencia_laboral',\n",
       "       'ECONÓMICA, FÍSICA, PSICOLÓGICA, modalidad_de_violencia_institucional, modalidad_de_violencia_laboral',\n",
       "       'PSICOLÓGICA, SEXUAL, modalidad_de_violencia_institucional, modalidad_de_violencia_laboral',\n",
       "       'PSICOLÓGICA, SEXUAL, SIMBOLICA, modalidad_de_violencia_mediatica',\n",
       "       'SIMBOLICA, modalidad_de_violencia_laboral',\n",
       "       'ECONÓMICA, OTRAS, PSICOLÓGICA, SEXUAL, SIMBOLICA, modalidad_de_violencia_laboral',\n",
       "       'ECONÓMICA, FÍSICA, SIMBOLICA', 'ECONÓMICA, SEXUAL',\n",
       "       'ECONÓMICA, OTRAS, PSICOLÓGICA, modalidad_de_violencia_institucional',\n",
       "       'OTRAS, PSICOLÓGICA, SEXUAL, modalidad_de_violencia_institucional',\n",
       "       'PSICOLÓGICA, modalidad_de_violencia_institucional, modalidad_de_violencia_obstetrica',\n",
       "       'OTRAS, PSICOLÓGICA, modalidad_violencia_contra_libertad_reproductiva',\n",
       "       'PSICOLÓGICA, modalidad_de_violencia_mediatica',\n",
       "       'PSICOLÓGICA, SIMBOLICA, modalidad_de_violencia_institucional, modalidad_de_violencia_laboral',\n",
       "       'ECONÓMICA, PSICOLÓGICA, SIMBOLICA, modalidad_de_violencia_laboral',\n",
       "       'ECONÓMICA, PSICOLÓGICA, modalidad_de_violencia_institucional, modalidad_de_violencia_laboral',\n",
       "       'FÍSICA, OTRAS, PSICOLÓGICA, modalidad_de_violencia_mediatica',\n",
       "       'FÍSICA, PSICOLÓGICA, modalidad_de_violencia_institucional, modalidad_de_violencia_obstetrica',\n",
       "       'SEXUAL, modalidad_de_violencia_institucional',\n",
       "       'ECONÓMICA, modalidad_de_violencia_laboral',\n",
       "       'SIMBOLICA, modalidad_de_violencia_institucional',\n",
       "       'ECONÓMICA, FÍSICA, OTRAS, SEXUAL',\n",
       "       'FÍSICA, OTRAS, PSICOLÓGICA, modalidad_violencia_contra_libertad_reproductiva',\n",
       "       'FÍSICA, PSICOLÓGICA, SEXUAL, SIMBOLICA, modalidad_violencia_contra_libertad_reproductiva',\n",
       "       'ECONÓMICA, FÍSICA, OTRAS, PSICOLÓGICA, SEXUAL, modalidad_de_violencia_mediatica',\n",
       "       'FÍSICA, PSICOLÓGICA, SEXUAL, modalidad_de_violencia_otras',\n",
       "       'FÍSICA, PSICOLÓGICA, SIMBOLICA, modalidad_de_violencia_mediatica',\n",
       "       'OTRAS, PSICOLÓGICA, modalidad_de_violencia_mediatica',\n",
       "       'ECONÓMICA, PSICOLÓGICA, SIMBOLICA, modalidad_de_violencia_institucional, modalidad_de_violencia_laboral',\n",
       "       'ECONÓMICA, FÍSICA, PSICOLÓGICA, modalidad_de_violencia_institucional',\n",
       "       'modalidad_de_violencia_institucional, modalidad_de_violencia_obstetrica',\n",
       "       'ECONÓMICA, OTRAS, PSICOLÓGICA, SEXUAL, SIMBOLICA, modalidad_de_violencia_institucional',\n",
       "       'FÍSICA, modalidad_de_violencia_laboral',\n",
       "       'FÍSICA, PSICOLÓGICA, SEXUAL, modalidad_violencia_contra_libertad_reproductiva',\n",
       "       'modalidad_de_violencia_obstetrica',\n",
       "       'PSICOLÓGICA, SIMBOLICA, modalidad_violencia_contra_libertad_reproductiva',\n",
       "       'ECONÓMICA, FÍSICA, OTRAS, PSICOLÓGICA, SIMBOLICA, modalidad_de_violencia_mediatica',\n",
       "       'PSICOLÓGICA, SIMBOLICA, modalidad_de_violencia_obstetrica',\n",
       "       'FÍSICA, SEXUAL, modalidad_de_violencia_laboral',\n",
       "       'modalidad_de_violencia_mediatica',\n",
       "       'PSICOLÓGICA, SEXUAL, SIMBOLICA, modalidad_de_violencia_institucional',\n",
       "       'SIMBOLICA, modalidad_de_violencia_obstetrica',\n",
       "       'ECONÓMICA, OTRAS, modalidad_de_violencia_institucional',\n",
       "       'SEXUAL, SIMBOLICA, modalidad_violencia_contra_libertad_reproductiva',\n",
       "       'ECONÓMICA, FÍSICA, PSICOLÓGICA, SEXUAL, SIMBOLICA, modalidad_violencia_contra_libertad_reproductiva',\n",
       "       'ECONÓMICA, OTRAS, SEXUAL',\n",
       "       'ECONÓMICA, FÍSICA, PSICOLÓGICA, SIMBOLICA, modalidad_de_violencia_institucional, modalidad_de_violencia_laboral, modalidad_de_violencia_mediatica',\n",
       "       'OTRAS, SEXUAL, SIMBOLICA, modalidad_de_violencia_mediatica',\n",
       "       'ECONÓMICA, PSICOLÓGICA, modalidad_de_violencia_institucional',\n",
       "       'FÍSICA, OTRAS, SEXUAL, SIMBOLICA, modalidad_violencia_contra_libertad_reproductiva',\n",
       "       'FÍSICA, SIMBOLICA, modalidad_de_violencia_institucional',\n",
       "       'ECONÓMICA, FÍSICA, SEXUAL, modalidad_de_violencia_laboral',\n",
       "       'ECONÓMICA, SEXUAL, SIMBOLICA',\n",
       "       'ECONÓMICA, OTRAS, PSICOLÓGICA, modalidad_violencia_contra_libertad_reproductiva',\n",
       "       'ECONÓMICA, modalidad_de_violencia_obstetrica',\n",
       "       'FÍSICA, modalidad_de_violencia_otras',\n",
       "       'FÍSICA, PSICOLÓGICA, SEXUAL, SIMBOLICA, modalidad_de_violencia_otras',\n",
       "       'ECONÓMICA, PSICOLÓGICA, modalidad_de_violencia_otras',\n",
       "       'ECONÓMICA, FÍSICA, PSICOLÓGICA, SEXUAL, SIMBOLICA, modalidad_de_violencia_otras',\n",
       "       'PSICOLÓGICA, SEXUAL, SIMBOLICA, modalidad_de_violencia_otras',\n",
       "       'SEXUAL, SIMBOLICA, modalidad_de_violencia_otras',\n",
       "       'FÍSICA, SEXUAL, modalidad_de_violencia_otras',\n",
       "       'ECONÓMICA, FÍSICA, OTRAS, modalidad_de_violencia_institucional',\n",
       "       'OTRAS, PSICOLÓGICA, modalidad_de_violencia_laboral',\n",
       "       'ECONÓMICA, FÍSICA, PSICOLÓGICA, SEXUAL, modalidad_de_violencia_institucional, modalidad_de_violencia_laboral',\n",
       "       'ECONÓMICA, OTRAS, PSICOLÓGICA, SEXUAL, modalidad_violencia_contra_libertad_reproductiva',\n",
       "       'ECONÓMICA, FÍSICA, OTRAS, PSICOLÓGICA, modalidad_de_violencia_laboral',\n",
       "       'ECONÓMICA, FÍSICA, PSICOLÓGICA, SEXUAL, SIMBOLICA, modalidad_de_violencia_laboral',\n",
       "       'FÍSICA, PSICOLÓGICA, modalidad_de_violencia_institucional, modalidad_de_violencia_laboral',\n",
       "       'ECONÓMICA, OTRAS, PSICOLÓGICA, SIMBOLICA, modalidad_de_violencia_institucional, modalidad_de_violencia_laboral',\n",
       "       'ECONÓMICA, FÍSICA, OTRAS, PSICOLÓGICA, SEXUAL, modalidad_de_violencia_laboral',\n",
       "       'FÍSICA, PSICOLÓGICA, SIMBOLICA, modalidad_de_violencia_otras',\n",
       "       'FÍSICA, SIMBOLICA, modalidad_de_violencia_otras',\n",
       "       'ECONÓMICA, OTRAS, PSICOLÓGICA, SEXUAL, modalidad_de_violencia_institucional',\n",
       "       'OTRAS, PSICOLÓGICA, modalidad_de_violencia_otras',\n",
       "       'ECONÓMICA, OTRAS, PSICOLÓGICA, SEXUAL, SIMBOLICA, modalidad_violencia_contra_libertad_reproductiva',\n",
       "       'SEXUAL, SIMBOLICA, modalidad_de_violencia_institucional, modalidad_violencia_contra_libertad_reproductiva',\n",
       "       'SEXUAL, SIMBOLICA, modalidad_de_violencia_institucional, modalidad_de_violencia_obstetrica',\n",
       "       'FÍSICA, SEXUAL, SIMBOLICA, modalidad_de_violencia_laboral',\n",
       "       'PSICOLÓGICA, modalidad_de_violencia_obstetrica, modalidad_violencia_contra_libertad_reproductiva',\n",
       "       'ECONÓMICA, FÍSICA, OTRAS, PSICOLÓGICA, SEXUAL, SIMBOLICA, modalidad_de_violencia_laboral',\n",
       "       'FÍSICA, OTRAS, SIMBOLICA, modalidad_de_violencia_laboral',\n",
       "       'ECONÓMICA, PSICOLÓGICA, SEXUAL, SIMBOLICA, modalidad_de_violencia_institucional',\n",
       "       'SIMBOLICA, modalidad_de_violencia_institucional, modalidad_de_violencia_obstetrica',\n",
       "       'ECONÓMICA, OTRAS, PSICOLÓGICA, SIMBOLICA, modalidad_de_violencia_laboral',\n",
       "       'FÍSICA, PSICOLÓGICA, modalidad_de_violencia_obstetrica',\n",
       "       'PSICOLÓGICA, SIMBOLICA, modalidad_de_violencia_institucional, modalidad_de_violencia_laboral, modalidad_de_violencia_obstetrica',\n",
       "       'FÍSICA, SEXUAL, SIMBOLICA, modalidad_de_violencia_otras',\n",
       "       'FÍSICA, PSICOLÓGICA, SEXUAL, modalidad_de_violencia_institucional, modalidad_de_violencia_laboral',\n",
       "       'PSICOLÓGICA, SIMBOLICA, modalidad_de_violencia_institucional, modalidad_de_violencia_obstetrica',\n",
       "       'OTRAS, PSICOLÓGICA, SIMBOLICA, modalidad_de_violencia_otras',\n",
       "       'ECONÓMICA, FÍSICA, OTRAS, PSICOLÓGICA, modalidad_de_violencia_otras',\n",
       "       'ECONÓMICA, FÍSICA, OTRAS, SEXUAL, SIMBOLICA',\n",
       "       'ECONÓMICA, FÍSICA, PSICOLÓGICA, SIMBOLICA, modalidad_de_violencia_otras',\n",
       "       'FÍSICA, OTRAS, PSICOLÓGICA, modalidad_de_violencia_otras',\n",
       "       'ECONÓMICA, FÍSICA, PSICOLÓGICA, SEXUAL, modalidad_de_violencia_otras',\n",
       "       'OTRAS, PSICOLÓGICA, SEXUAL, modalidad_de_violencia_otras',\n",
       "       'PSICOLÓGICA, modalidad_de_violencia_laboral, modalidad_de_violencia_otras',\n",
       "       'PSICOLÓGICA, SEXUAL, SIMBOLICA, modalidad_de_violencia_institucional, modalidad_de_violencia_laboral',\n",
       "       'OTRAS, PSICOLÓGICA, SIMBOLICA, modalidad_de_violencia_laboral',\n",
       "       'ECONÓMICA, PSICOLÓGICA, SEXUAL, modalidad_de_violencia_otras',\n",
       "       'SEXUAL, modalidad_de_violencia_mediatica, modalidad_de_violencia_otras',\n",
       "       'OTRAS, SEXUAL, modalidad_de_violencia_otras',\n",
       "       'ECONÓMICA, OTRAS, PSICOLÓGICA, SIMBOLICA, modalidad_de_violencia_institucional, modalidad_violencia_contra_libertad_reproductiva',\n",
       "       'ECONÓMICA, OTRAS, PSICOLÓGICA, SIMBOLICA, modalidad_de_violencia_otras',\n",
       "       'FÍSICA, PSICOLÓGICA, SIMBOLICA, modalidad_de_violencia_obstetrica',\n",
       "       'FÍSICA, PSICOLÓGICA, SEXUAL, SIMBOLICA, modalidad_de_violencia_institucional, modalidad_de_violencia_laboral',\n",
       "       'FÍSICA, OTRAS, PSICOLÓGICA, SEXUAL, modalidad_de_violencia_otras',\n",
       "       'FÍSICA, OTRAS, PSICOLÓGICA, SIMBOLICA, modalidad_de_violencia_otras',\n",
       "       'FÍSICA, OTRAS, PSICOLÓGICA, SEXUAL, SIMBOLICA, modalidad_de_violencia_institucional, modalidad_violencia_contra_libertad_reproductiva',\n",
       "       'ECONÓMICA, SIMBOLICA, modalidad_de_violencia_laboral',\n",
       "       'modalidad_de_violencia_institucional, modalidad_de_violencia_laboral',\n",
       "       'ECONÓMICA, PSICOLÓGICA, SIMBOLICA, modalidad_de_violencia_otras',\n",
       "       'ECONÓMICA, FÍSICA, OTRAS, PSICOLÓGICA, SEXUAL, modalidad_de_violencia_institucional, modalidad_de_violencia_laboral',\n",
       "       'ECONÓMICA, OTRAS, PSICOLÓGICA, SEXUAL, modalidad_de_violencia_laboral, modalidad_de_violencia_otras',\n",
       "       'ECONÓMICA, OTRAS, PSICOLÓGICA, modalidad_de_violencia_otras',\n",
       "       'OTRAS, PSICOLÓGICA, SEXUAL, SIMBOLICA, modalidad_violencia_contra_libertad_reproductiva',\n",
       "       'PSICOLÓGICA, modalidad_de_violencia_institucional, modalidad_de_violencia_laboral',\n",
       "       'FÍSICA, PSICOLÓGICA, SEXUAL, modalidad_de_violencia_laboral, modalidad_de_violencia_otras',\n",
       "       'ECONÓMICA, FÍSICA, PSICOLÓGICA, SEXUAL, modalidad_de_violencia_laboral',\n",
       "       'ECONÓMICA, FÍSICA, OTRAS, PSICOLÓGICA, SEXUAL, modalidad_de_violencia_otras',\n",
       "       'ECONÓMICA, FÍSICA, OTRAS, PSICOLÓGICA, SIMBOLICA, modalidad_de_violencia_institucional, modalidad_violencia_contra_libertad_reproductiva',\n",
       "       'PSICOLÓGICA, SEXUAL, modalidad_de_violencia_obstetrica',\n",
       "       'ECONÓMICA, OTRAS, PSICOLÓGICA, SEXUAL, SIMBOLICA, modalidad_de_violencia_institucional, modalidad_violencia_contra_libertad_reproductiva',\n",
       "       'OTRAS, SIMBOLICA, modalidad_de_violencia_institucional',\n",
       "       'OTRAS, PSICOLÓGICA, SEXUAL, modalidad_violencia_contra_libertad_reproductiva',\n",
       "       'ECONÓMICA, FÍSICA, OTRAS, PSICOLÓGICA, SEXUAL, SIMBOLICA, modalidad_de_violencia_institucional, modalidad_violencia_contra_libertad_reproductiva',\n",
       "       'ECONÓMICA, OTRAS, PSICOLÓGICA, SIMBOLICA, modalidad_violencia_contra_libertad_reproductiva',\n",
       "       'PSICOLÓGICA, modalidad_de_violencia_institucional, modalidad_de_violencia_otras',\n",
       "       'OTRAS, modalidad_violencia_contra_libertad_reproductiva',\n",
       "       'ECONÓMICA, FÍSICA, PSICOLÓGICA, SEXUAL, modalidad_de_violencia_institucional',\n",
       "       'ECONÓMICA, OTRAS, PSICOLÓGICA, SEXUAL, modalidad_de_violencia_otras',\n",
       "       'ECONÓMICA, FÍSICA, PSICOLÓGICA, SEXUAL, modalidad_de_violencia_laboral, modalidad_de_violencia_otras',\n",
       "       'FÍSICA, PSICOLÓGICA, modalidad_violencia_contra_libertad_reproductiva',\n",
       "       'ECONÓMICA, OTRAS, SIMBOLICA, modalidad_de_violencia_otras',\n",
       "       'PSICOLÓGICA, SIMBOLICA, modalidad_de_violencia_institucional, modalidad_de_violencia_laboral, modalidad_violencia_contra_libertad_reproductiva',\n",
       "       'FÍSICA, OTRAS, PSICOLÓGICA, SEXUAL, modalidad_de_violencia_institucional, modalidad_violencia_contra_libertad_reproductiva',\n",
       "       'ECONÓMICA, PSICOLÓGICA, SEXUAL, modalidad_de_violencia_laboral, modalidad_de_violencia_otras',\n",
       "       'FÍSICA, SEXUAL, modalidad_de_violencia_obstetrica',\n",
       "       'OTRAS, PSICOLÓGICA, SEXUAL, SIMBOLICA, modalidad_de_violencia_otras',\n",
       "       'ECONÓMICA, PSICOLÓGICA, SEXUAL, SIMBOLICA, modalidad_de_violencia_institucional, modalidad_de_violencia_laboral',\n",
       "       'PSICOLÓGICA, modalidad_de_violencia_institucional, modalidad_de_violencia_obstetrica, modalidad_violencia_contra_libertad_reproductiva',\n",
       "       'PSICOLÓGICA, SEXUAL, SIMBOLICA, modalidad_de_violencia_obstetrica, modalidad_de_violencia_otras',\n",
       "       'OTRAS, PSICOLÓGICA, SEXUAL, SIMBOLICA, modalidad_de_violencia_institucional',\n",
       "       'SEXUAL, modalidad_de_violencia_laboral, modalidad_de_violencia_otras',\n",
       "       'ECONÓMICA, FÍSICA, OTRAS, PSICOLÓGICA, SIMBOLICA, modalidad_de_violencia_otras',\n",
       "       'ECONÓMICA, FÍSICA, PSICOLÓGICA, modalidad_de_violencia_laboral, modalidad_de_violencia_otras',\n",
       "       'PSICOLÓGICA, SIMBOLICA, modalidad_de_violencia_laboral, modalidad_de_violencia_otras',\n",
       "       'ECONÓMICA, FÍSICA, PSICOLÓGICA, SEXUAL, modalidad_de_violencia_institucional, modalidad_de_violencia_obstetrica',\n",
       "       'ECONÓMICA, OTRAS, PSICOLÓGICA, modalidad_de_violencia_laboral',\n",
       "       'FÍSICA, PSICOLÓGICA, modalidad_de_violencia_institucional, modalidad_de_violencia_obstetrica, modalidad_violencia_contra_libertad_reproductiva',\n",
       "       'FÍSICA, OTRAS, PSICOLÓGICA, SIMBOLICA, modalidad_de_violencia_laboral',\n",
       "       'FÍSICA, PSICOLÓGICA, SIMBOLICA, modalidad_de_violencia_institucional, modalidad_de_violencia_otras',\n",
       "       'ECONÓMICA, FÍSICA, PSICOLÓGICA, modalidad_de_violencia_otras',\n",
       "       'PSICOLÓGICA, SIMBOLICA, modalidad_de_violencia_institucional, modalidad_de_violencia_otras',\n",
       "       'OTRAS, SEXUAL, modalidad_de_violencia_laboral',\n",
       "       'ECONÓMICA, modalidad_de_violencia_institucional, modalidad_de_violencia_laboral',\n",
       "       'ECONÓMICA, modalidad_de_violencia_institucional',\n",
       "       'PSICOLÓGICA, SEXUAL, SIMBOLICA, modalidad_de_violencia_laboral, modalidad_de_violencia_otras',\n",
       "       'ECONÓMICA, modalidad_de_violencia_otras',\n",
       "       'PSICOLÓGICA, SIMBOLICA, modalidad_de_violencia_obstetrica, modalidad_violencia_contra_libertad_reproductiva',\n",
       "       'OTRAS, PSICOLÓGICA, SIMBOLICA, modalidad_violencia_contra_libertad_reproductiva',\n",
       "       'PSICOLÓGICA, SEXUAL, modalidad_de_violencia_institucional, modalidad_de_violencia_otras',\n",
       "       'ECONÓMICA, SEXUAL, SIMBOLICA, modalidad_de_violencia_laboral',\n",
       "       'ECONÓMICA, PSICOLÓGICA, SEXUAL, SIMBOLICA, modalidad_de_violencia_otras',\n",
       "       'SEXUAL, modalidad_de_violencia_institucional, modalidad_de_violencia_obstetrica',\n",
       "       'ECONÓMICA, FÍSICA, modalidad_de_violencia_otras',\n",
       "       'FÍSICA, PSICOLÓGICA, SIMBOLICA, modalidad_de_violencia_institucional, modalidad_de_violencia_laboral',\n",
       "       'FÍSICA, modalidad_de_violencia_obstetrica',\n",
       "       'PSICOLÓGICA, modalidad_violencia_contra_libertad_reproductiva',\n",
       "       'ECONÓMICA, FÍSICA, modalidad_de_violencia_laboral, modalidad_de_violencia_otras',\n",
       "       'ECONÓMICA, OTRAS, SIMBOLICA, modalidad_de_violencia_institucional',\n",
       "       'ECONÓMICA, FÍSICA, SIMBOLICA, modalidad_de_violencia_otras',\n",
       "       'ECONÓMICA, SEXUAL, SIMBOLICA, modalidad_de_violencia_institucional',\n",
       "       'OTRAS, PSICOLÓGICA, SEXUAL, SIMBOLICA, modalidad_de_violencia_mediatica',\n",
       "       'ECONÓMICA, FÍSICA, OTRAS, PSICOLÓGICA, SEXUAL, SIMBOLICA, modalidad_de_violencia_mediatica',\n",
       "       'PSICOLÓGICA, SEXUAL, modalidad_de_violencia_laboral, modalidad_de_violencia_otras',\n",
       "       'FÍSICA, PSICOLÓGICA, modalidad_de_violencia_laboral, modalidad_de_violencia_otras',\n",
       "       'ECONÓMICA, SIMBOLICA, modalidad_de_violencia_institucional',\n",
       "       'FÍSICA, OTRAS, PSICOLÓGICA, SEXUAL, modalidad_de_violencia_mediatica',\n",
       "       'FÍSICA, OTRAS, modalidad_de_violencia_otras',\n",
       "       'ECONÓMICA, SIMBOLICA, modalidad_de_violencia_institucional, modalidad_de_violencia_laboral',\n",
       "       'FÍSICA, OTRAS, PSICOLÓGICA, SIMBOLICA, modalidad_de_violencia_institucional, modalidad_violencia_contra_libertad_reproductiva',\n",
       "       'ECONÓMICA, PSICOLÓGICA, modalidad_de_violencia_laboral, modalidad_de_violencia_otras',\n",
       "       'ECONÓMICA, PSICOLÓGICA, SEXUAL, SIMBOLICA, modalidad_de_violencia_laboral, modalidad_violencia_contra_libertad_reproductiva',\n",
       "       'ECONÓMICA, SEXUAL, modalidad_de_violencia_otras',\n",
       "       'ECONÓMICA, PSICOLÓGICA, SEXUAL, SIMBOLICA, modalidad_de_violencia_laboral, modalidad_de_violencia_otras',\n",
       "       'PSICOLÓGICA, SEXUAL, modalidad_violencia_contra_libertad_reproductiva',\n",
       "       'FÍSICA, OTRAS, PSICOLÓGICA, modalidad_de_violencia_obstetrica',\n",
       "       'PSICOLÓGICA, modalidad_de_violencia_institucional, modalidad_violencia_contra_libertad_reproductiva',\n",
       "       'PSICOLÓGICA, SEXUAL, SIMBOLICA, modalidad_de_violencia_obstetrica',\n",
       "       'PSICOLÓGICA, modalidad_de_violencia_mediatica, modalidad_de_violencia_otras',\n",
       "       'FÍSICA, SEXUAL, modalidad_de_violencia_laboral, modalidad_de_violencia_otras',\n",
       "       'ECONÓMICA, FÍSICA, SIMBOLICA, modalidad_de_violencia_laboral',\n",
       "       'ECONÓMICA, FÍSICA, SEXUAL, modalidad_de_violencia_otras',\n",
       "       'ECONÓMICA, FÍSICA, PSICOLÓGICA, SEXUAL, SIMBOLICA, modalidad_de_violencia_institucional, modalidad_de_violencia_laboral',\n",
       "       'SEXUAL, SIMBOLICA, modalidad_de_violencia_laboral, modalidad_de_violencia_otras',\n",
       "       'SIMBOLICA, modalidad_violencia_contra_libertad_reproductiva',\n",
       "       'PSICOLÓGICA, SIMBOLICA, modalidad_de_violencia_institucional, modalidad_de_violencia_laboral, modalidad_de_violencia_mediatica',\n",
       "       'SEXUAL, modalidad_de_violencia_obstetrica',\n",
       "       'ECONÓMICA, FÍSICA, SEXUAL, modalidad_de_violencia_laboral, modalidad_de_violencia_otras',\n",
       "       'FÍSICA, modalidad_de_violencia_laboral, modalidad_de_violencia_otras',\n",
       "       'ECONÓMICA, PSICOLÓGICA, SIMBOLICA, modalidad_de_violencia_institucional, modalidad_de_violencia_otras',\n",
       "       'FÍSICA, OTRAS, PSICOLÓGICA, SEXUAL, SIMBOLICA, modalidad_de_violencia_otras'],\n",
       "      dtype=object)"
      ]
     },
     "execution_count": 15,
     "metadata": {},
     "output_type": "execute_result"
    }
   ],
   "source": [
    "# CREAR COLUMNA UNIFICADA EN LÍNEA 144\n",
    "\n",
    "data144_final = data144_final.rename(columns={\n",
    "    'tipo_de_violencia_fisica': 'FÍSICA',\n",
    "    'tipo_de_violencia_psicologica': 'PSICOLÓGICA',\n",
    "    'tipo_de_violencia_sexual': 'SEXUAL',\n",
    "    'tipo_de_violencia_economica_y_patrimonial': 'ECONÓMICA',\n",
    "    'tipo_de_violencia_simbolica': 'SIMBOLICA',\n",
    "    'tipo_de_violencia_domestica': 'OTRAS'\n",
    "})\n",
    "def combinar_tipos_violencia(row):\n",
    "    tipos = [col for col in data144_final.columns if str(row[col]).strip().upper() == \"SI\"]\n",
    "    return \", \".join(sorted(tipos)) if tipos else \"OTRAS\"\n",
    "\n",
    "data144_final['violencia_tipo'] = data144_final.apply(combinar_tipos_violencia, axis=1)\n",
    "data144_final['violencia_tipo'].unique()\n"
   ]
  },
  {
   "cell_type": "code",
   "execution_count": null,
   "id": "7c68b29b",
   "metadata": {},
   "outputs": [
    {
     "name": "stdout",
     "output_type": "stream",
     "text": [
      "Conteo de tipos de violencia por dataset:\n",
      "                    FÍSICA  PSICOLÓGICA  SEXUAL  ECONÓMICA  SIMBOLICA  OTRAS\n",
      "Llamados 137         28496        49751     947       1537          0  11685\n",
      "Intervenciones 137    2058         1786     199        171          0     24\n",
      "Línea 144            58955        84982   12236      35924      30580    618\n"
     ]
    }
   ],
   "source": [
    "\n",
    "# Tipos principales definidos según la Ley 26.485\n",
    "tipos_principales = [\"FÍSICA\", \"PSICOLÓGICA\", \"SEXUAL\", \"ECONÓMICA\", \"SIMBOLICA\"]\n",
    "\n",
    "def contar_tipos_violencia(df, columna, tipos_principales):\n",
    "    conteos = {tipo: 0 for tipo in tipos_principales}\n",
    "    conteos[\"OTRAS\"] = 0  # nueva categoría\n",
    "    \n",
    "    for valor in df[columna].dropna():\n",
    "        valor = str(valor).upper()\n",
    "        encontrado = False\n",
    "        \n",
    "        for tipo in tipos_principales:\n",
    "            if tipo in valor:\n",
    "                conteos[tipo] += 1\n",
    "                encontrado = True\n",
    "        \n",
    "        if not encontrado:\n",
    "            conteos[\"OTRAS\"] += 1\n",
    "            \n",
    "    return conteos\n",
    "\n",
    "# Aplicar a cada dataset\n",
    "conteos_llamados = contar_tipos_violencia(llamados, 'violencia_tipo', tipos_principales)\n",
    "conteos_intervenciones = contar_tipos_violencia(intervenciones_domiciliarias, 'violencia_tipo', tipos_principales)\n",
    "conteos_144 = contar_tipos_violencia(data144_final, 'violencia_tipo', tipos_principales)\n",
    "\n",
    "# Unificar resultados en un DataFrame\n",
    "df_conteos = pd.DataFrame({\n",
    "    \"Llamados 137\": conteos_llamados,\n",
    "    \"Intervenciones 137\": conteos_intervenciones,\n",
    "    \"Línea 144\": conteos_144\n",
    "}).T\n",
    "\n",
    "print(\"Conteo de tipos de violencia por dataset:\")\n",
    "print(df_conteos)\n"
   ]
  },
  {
   "cell_type": "code",
   "execution_count": 17,
   "id": "f1c264b0",
   "metadata": {},
   "outputs": [
    {
     "name": "stdout",
     "output_type": "stream",
     "text": [
      "                       FÍSICA  PSICOLÓGICA    SEXUAL  ECONÓMICA  SIMBOLICA  \\\n",
      "Llamados 137        30.834488    53.833752  1.024714   1.663132   0.000000   \n",
      "Intervenciones 137  48.560642    42.142520  4.695611   4.034922   0.000000   \n",
      "Línea 144           26.402293    38.058174  5.479747  16.088135  13.694888   \n",
      "\n",
      "                        OTRAS  \n",
      "Llamados 137        12.643914  \n",
      "Intervenciones 137   0.566305  \n",
      "Línea 144            0.276764  \n"
     ]
    },
    {
     "data": {
      "image/png": "[encoded data removed]",
      "text/plain": [
       "<Figure size 1000x600 with 2 Axes>"
      ]
     },
     "metadata": {},
     "output_type": "display_data"
    }
   ],
   "source": [
    "df_porcentaje = df_conteos.div(df_conteos.sum(axis=1), axis=0) * 100\n",
    "print(df_porcentaje)\n",
    "plt.figure(figsize=(10, 6))\n",
    "sns.heatmap(df_porcentaje, annot=True, fmt=\".1f\", cmap=\"RdPu\")\n",
    "plt.title(\"Distribución relativa (%) de tipos de violencia por fuente de datos\", fontsize=14, fontweight=\"bold\")\n",
    "plt.xlabel(\"Tipo de violencia\")\n",
    "plt.ylabel(\"Fuente de datos\")\n",
    "plt.show()"
   ]
  },
  {
   "cell_type": "markdown",
   "id": "3a411c01",
   "metadata": {},
   "source": [
    "## Factor contextual: Dimensión temporal y geográfica"
   ]
  },
  {
   "cell_type": "code",
   "execution_count": 18,
   "id": "e9f2d9e3",
   "metadata": {},
   "outputs": [
    {
     "data": {
      "image/png": "[encoded data removed]",
      "text/plain": [
       "<Figure size 1000x600 with 1 Axes>"
      ]
     },
     "metadata": {},
     "output_type": "display_data"
    },
    {
     "name": "stdout",
     "output_type": "stream",
     "text": [
      "        Intervenciones 137  Llamados 137  Línea 144\n",
      "año                                                \n",
      "2017.0                   0          9886          0\n",
      "2018.0                1545          8054          0\n",
      "2019.0                1084          7817          0\n",
      "2020.0                 283          9087      29706\n",
      "2021.0                 259          9365      25300\n",
      "2022.0                  90          6934      24557\n",
      "2023.0                 116          6141       9965\n",
      "2024.0                  48          4146          0\n",
      "\n",
      "Cantidad de valores nulos en las columnas de fecha:\n",
      "Intervenciones 137: 2\n",
      "Llamados 137: 6\n",
      "Línea 144: 13\n"
     ]
    }
   ],
   "source": [
    "# Convertir las columnas de fecha a tipo datetime\n",
    "intervenciones_domiciliarias['intervencion_fecha'] = pd.to_datetime(intervenciones_domiciliarias['intervencion_fecha'])\n",
    "llamados['llamado_fecha'] = pd.to_datetime(llamados['llamado_fecha'])\n",
    "data144_final['Fecha'] = pd.to_datetime(data144_final['Fecha'])\n",
    "\n",
    "# Crear columna año, mes, y mes - año combinados\n",
    "for df, fecha_col in [\n",
    "    (intervenciones_domiciliarias, 'intervencion_fecha'),\n",
    "    (llamados, 'llamado_fecha'),\n",
    "    (data144_final, 'Fecha')\n",
    "]:\n",
    "    df['año'] = df[fecha_col].dt.year\n",
    "    df['mes'] = df[fecha_col].dt.month\n",
    "    df['año_mes'] = df[fecha_col].dt.to_period('M')  # formato 'YYYY-MM'\n",
    "\n",
    "# Contar cantidad de registros por año\n",
    "conteo_anual = pd.DataFrame({\n",
    "    'Intervenciones 137': intervenciones_domiciliarias.groupby('año').size(),\n",
    "    'Llamados 137': llamados.groupby('año').size(),\n",
    "    'Línea 144': data144_final.groupby('año').size()\n",
    "}).fillna(0).astype(int)\n",
    "\n",
    "# Convertir a formato largo para graficar\n",
    "conteo_anual_long = conteo_anual.reset_index().melt(id_vars='año', var_name='Dataset', value_name='Cantidad')\n",
    "\n",
    "# Definir paleta de colores coherente con el resto de los gráficos\n",
    "colores = ['#8B008B', '#FF69B4', '#BA55D3']  # Intervenciones 137, Llamados 137, Línea 144\n",
    "\n",
    "# Graficar cantidad de casos por año según fuente de datos\n",
    "plt.figure(figsize=(10,6))\n",
    "sns.barplot(\n",
    "    data=conteo_anual_long,\n",
    "    x='año',\n",
    "    y='Cantidad',\n",
    "    hue='Dataset',\n",
    "    palette=colores\n",
    ")\n",
    "\n",
    "plt.title(\"Cantidad de casos por año según fuente de datos\", fontsize=12)\n",
    "plt.xlabel(\"Año\")\n",
    "plt.ylabel(\"Cantidad de registros\")\n",
    "plt.legend(title='Fuente de datos')\n",
    "plt.grid(axis='y', alpha=0.3)\n",
    "plt.tight_layout()\n",
    "plt.show()\n",
    "# Mostrar los conteos por consola\n",
    "print(conteo_anual)\n",
    "\n",
    "# Contar valores nulos en las columnas de fecha\n",
    "nulos_interv = intervenciones_domiciliarias['intervencion_fecha'].isna().sum()\n",
    "nulos_llam = llamados['llamado_fecha'].isna().sum()\n",
    "nulos_linea = data144_final['Fecha'].isna().sum()\n",
    "\n",
    "# Mostrar la cantidad de valores nulos\n",
    "print(\"\\nCantidad de valores nulos en las columnas de fecha:\")\n",
    "print(f\"Intervenciones 137: {nulos_interv}\")\n",
    "print(f\"Llamados 137: {nulos_llam}\")\n",
    "print(f\"Línea 144: {nulos_linea}\")\n"
   ]
  },
  {
   "cell_type": "code",
   "execution_count": 19,
   "id": "3ba1af21",
   "metadata": {},
   "outputs": [
    {
     "name": "stderr",
     "output_type": "stream",
     "text": [
      "c:\\Users\\nahir\\anaconda3\\Lib\\site-packages\\seaborn\\_oldcore.py:1119: FutureWarning:\n",
      "\n",
      "use_inf_as_na option is deprecated and will be removed in a future version. Convert inf values to NaN before operating instead.\n",
      "\n",
      "c:\\Users\\nahir\\anaconda3\\Lib\\site-packages\\seaborn\\_oldcore.py:1119: FutureWarning:\n",
      "\n",
      "use_inf_as_na option is deprecated and will be removed in a future version. Convert inf values to NaN before operating instead.\n",
      "\n"
     ]
    },
    {
     "data": {
      "image/png": "[encoded data removed]",
      "text/plain": [
       "<Figure size 1200x600 with 1 Axes>"
      ]
     },
     "metadata": {},
     "output_type": "display_data"
    },
    {
     "name": "stdout",
     "output_type": "stream",
     "text": [
      "         Intervenciones 137  Llamados 137  Línea 144\n",
      "año_mes                                             \n",
      "2020-01                  63           492       2465\n",
      "2020-02                  56           515       1993\n",
      "2020-03                  40           536       2550\n",
      "2020-04                  27           882       2996\n",
      "2020-05                  35           812       2875\n",
      "2020-06                   9           843       2435\n",
      "2020-07                   2           756       2648\n",
      "2020-08                  11           728       2645\n",
      "2020-09                  13          1031       2270\n",
      "2020-10                   5           846       2267\n",
      "2020-11                  15           802       2334\n",
      "2020-12                   7           844       2228\n",
      "2021-01                  19           921       2124\n",
      "2021-02                  30           720       2168\n",
      "2021-03                  14           795       2304\n",
      "2021-04                  10           725       2018\n",
      "2021-05                  26           736       2027\n",
      "2021-06                  18           719       1869\n",
      "2021-07                  14           826       2104\n",
      "2021-08                  38           822       2219\n",
      "2021-09                  20           836       1949\n",
      "2021-10                  34           766       2141\n",
      "2021-11                  18           735       2163\n",
      "2021-12                  18           764       2214\n"
     ]
    }
   ],
   "source": [
    "\n",
    "# Definir paleta de colores consistente\n",
    "#colores = ['#8B008B', '#FF69B4', '#BA55D3']  # Intervenciones 137, Llamados 137, Línea 144\n",
    "\n",
    "\n",
    "años_filtrar = [2020, 2021]\n",
    "intervenciones_137_f = intervenciones_domiciliarias[intervenciones_domiciliarias['año'].isin(años_filtrar)]\n",
    "llamados_137_f = llamados[llamados['año'].isin(años_filtrar)]\n",
    "data144_f = data144_final[data144_final['año'].isin(años_filtrar)]\n",
    "\n",
    "# Contar registros por mes\n",
    "conteo_mensual = pd.DataFrame({\n",
    "    'Intervenciones 137': intervenciones_137_f.groupby('año_mes').size(),\n",
    "    'Llamados 137': llamados_137_f.groupby('año_mes').size(),\n",
    "    'Línea 144': data144_f.groupby('año_mes').size()\n",
    "}).fillna(0).astype(int)\n",
    "\n",
    "# Convertir a formato largo para graficar\n",
    "conteo_mensual_long = conteo_mensual.reset_index().melt(id_vars='año_mes', var_name='Dataset', value_name='Cantidad')\n",
    "\n",
    "# Paleta de colores consistente con el gráfico anual\n",
    "colores = ['#8B008B', '#FF69B4', '#BA55D3']  # Intervenciones 137, Llamados 137, Línea 144\n",
    "\n",
    "\n",
    "# Graficar línea de tendencia mensual\n",
    "plt.figure(figsize=(12,6))\n",
    "sns.lineplot(\n",
    "    data=conteo_mensual_long, \n",
    "    x=conteo_mensual_long['año_mes'].astype(str), \n",
    "    y='Cantidad', \n",
    "    hue='Dataset', \n",
    "    palette=colores,\n",
    "    marker='o',\n",
    "    linewidth=2\n",
    ")\n",
    "plt.title(\"Cantidad de casos por mes (2020-2021) según fuente de datos\", fontsize=12)\n",
    "plt.xlabel(\"año_mes\")\n",
    "plt.ylabel(\"Cantidad de registros\")\n",
    "plt.xticks(rotation=45)\n",
    "plt.legend(title='Fuente de datos')\n",
    "plt.grid(axis='y', alpha=0.3)\n",
    "plt.tight_layout()\n",
    "plt.show()\n",
    "\n",
    "# Mostrar tabla de conteos por consola\n",
    "print(conteo_mensual)"
   ]
  },
  {
   "cell_type": "code",
   "execution_count": 20,
   "id": "0af46ed9",
   "metadata": {},
   "outputs": [
    {
     "data": {
      "text/plain": [
       "array(['SIN DATOS', 'ARGENTINA', 'PARAGUAYA', 'BOLIVIANA', 'VENEZOLANA',\n",
       "       'DOMINICANA', 'PERUANA', 'COLOMBIANA', 'URUGUAYA', 'BRASILEÑA',\n",
       "       'CHILENA', 'OTRA', 'ECUATORIANA', 'ESTADOUNIDENSE', 'CUBANA',\n",
       "       'ARMENIA', 'JAPONESA', 'SALVADOREÑA', 'ESPAÑOLA', 'MEXICANA',\n",
       "       'ALEMANA', 'ISRAELÍ', 'RUSA', 'BELGA', 'ARABE', 'VIETNAMITA',\n",
       "       'LIBANO', 'FRANCESA', 'UCRANIANA', 'GRIEGA', 'AUSTRALIANA',\n",
       "       'ITALIANA', 'NICARAGÜENSE', 'PANAMEÑA', 'TURCA', 'COSTARRICENSE',\n",
       "       'GUATEMALTECA', 'PALESTINA', 'CANADIENSE', 'LETONA', 'LITUANIA'],\n",
       "      dtype=object)"
      ]
     },
     "execution_count": 20,
     "metadata": {},
     "output_type": "execute_result"
    }
   ],
   "source": [
    "\n",
    "data144_final['pais_nacimiento_persona_en_situacion_de_violencia'].unique() "
   ]
  },
  {
   "cell_type": "code",
   "execution_count": 21,
   "id": "49c35aeb",
   "metadata": {},
   "outputs": [
    {
     "data": {
      "text/plain": [
       "array(['BOLIVIANA', 'ARGENTINA', 'PARAGUAYA', 'OTRA', 'BRASILEÑA',\n",
       "       'SIN DATOS', 'PERUANA', 'URUGUAYA', 'CHILENA'], dtype=object)"
      ]
     },
     "execution_count": 21,
     "metadata": {},
     "output_type": "execute_result"
    }
   ],
   "source": [
    "intervenciones_domiciliarias['victima_nacionalidad'].unique()"
   ]
  },
  {
   "cell_type": "code",
   "execution_count": 22,
   "id": "754c0406",
   "metadata": {},
   "outputs": [
    {
     "data": {
      "image/png": "[encoded data removed]",
      "text/plain": [
       "<Figure size 1200x800 with 1 Axes>"
      ]
     },
     "metadata": {},
     "output_type": "display_data"
    },
    {
     "name": "stdout",
     "output_type": "stream",
     "text": [
      "            Zona  Cantidad\n",
      "0       SIN DATO     38038\n",
      "1  METROPOLITANA     17324\n",
      "2       PAMPEANA      2521\n",
      "3            NOA      1544\n",
      "4           CUYO       866\n",
      "5            NEA       618\n",
      "6      PATAGONIA       525\n"
     ]
    }
   ],
   "source": [
    "# --- Llamados 137 ---\n",
    "conteo_137 = (\n",
    "    llamados['llamado_provincia']\n",
    "    .fillna('Sin dato')\n",
    "    .value_counts()\n",
    "    .reset_index()\n",
    ")\n",
    "conteo_137.columns = ['Zona', 'Cantidad']\n",
    "conteo_137 = conteo_137.sort_values('Cantidad', ascending=False)\n",
    "\n",
    "# --- Gráfico ---\n",
    "plt.figure(figsize=(12, 8))\n",
    "ax = sns.barplot(\n",
    "    data=conteo_137,\n",
    "    y='Zona',\n",
    "    x='Cantidad',\n",
    "    color='#8B008B'  # Violeta oscuro\n",
    ")\n",
    "\n",
    "# Etiquetas con cantidad\n",
    "for i, v in enumerate(conteo_137['Cantidad']):\n",
    "    ax.text(v + (max(conteo_137['Cantidad']) * 0.01), i, str(v), color='black', va='center', fontsize=8)\n",
    "\n",
    "plt.title(\"Distribución de casos por provincia – Llamados 137\", fontsize=12)\n",
    "plt.xlabel(\"Cantidad de casos registrados\")\n",
    "plt.ylabel(\"Zona\")\n",
    "plt.tight_layout()\n",
    "plt.show()\n",
    "print(conteo_137)"
   ]
  },
  {
   "cell_type": "code",
   "execution_count": 23,
   "id": "9af125cd",
   "metadata": {},
   "outputs": [
    {
     "data": {
      "image/png": "[encoded data removed]",
      "text/plain": [
       "<Figure size 1100x800 with 1 Axes>"
      ]
     },
     "metadata": {},
     "output_type": "display_data"
    },
    {
     "name": "stdout",
     "output_type": "stream",
     "text": [
      "              Provincia  Cantidad\n",
      "0          BUENOS AIRES     65960\n",
      "1              SANTA FE      3785\n",
      "2               TUCUMÁN      3224\n",
      "3               MENDOZA      3132\n",
      "4               CÓRDOBA      1950\n",
      "5             SIN DATOS      1325\n",
      "6                 JUJUY      1252\n",
      "7                 SALTA      1232\n",
      "8                 CHACO       801\n",
      "9              SAN LUIS       733\n",
      "10              CORDOBA       660\n",
      "11             SAN JUAN       654\n",
      "12           ENTRE RÍOS       631\n",
      "13              NEUQUÉN       613\n",
      "14  SANTIAGO DEL ESTERO       562\n",
      "15             MISIONES       545\n",
      "16           CORRIENTES       512\n",
      "17            RÍO NEGRO       454\n",
      "18              FORMOSA       333\n",
      "19            CATAMARCA       298\n",
      "20             LA RIOJA       291\n",
      "21               CHUBUT       280\n",
      "22           SANTA CRUZ       140\n",
      "23             LA PAMPA        92\n",
      "24     TIERRA DEL FUEGO        82\n"
     ]
    }
   ],
   "source": [
    "# --- Línea 144 ---\n",
    "conteo_144 = (\n",
    "    data144_final['prov_residencia_persona_en_situacion_violencia']\n",
    "    .fillna('Sin dato')\n",
    "    .value_counts()\n",
    "    .reset_index()\n",
    ")\n",
    "conteo_144.columns = ['Provincia', 'Cantidad']\n",
    "conteo_144 = conteo_144.sort_values('Cantidad', ascending=False)\n",
    "\n",
    "# --- Gráfico ---\n",
    "plt.figure(figsize=(11, 8))\n",
    "ax = sns.barplot(\n",
    "    data=conteo_144,\n",
    "    y='Provincia',\n",
    "    x='Cantidad',\n",
    "    color='#FF69B4'  # Rosa fuerte\n",
    ")\n",
    "\n",
    "# Etiquetas con cantidad\n",
    "for i, v in enumerate(conteo_144['Cantidad']):\n",
    "    ax.text(v + (max(conteo_144['Cantidad']) * 0.01), i, str(v), color='black', va='center', fontsize=8)\n",
    "\n",
    "plt.title(\"Distribución de casos por provincia – Línea 144\", fontsize=12)\n",
    "plt.xlabel(\"Cantidad de casos registrados\")\n",
    "plt.ylabel(\"Provincia\")\n",
    "plt.tight_layout()\n",
    "plt.show()\n",
    "print(conteo_144)"
   ]
  },
  {
   "cell_type": "code",
   "execution_count": 24,
   "id": "f5a355d2",
   "metadata": {},
   "outputs": [
    {
     "data": {
      "image/png": "[encoded data removed]",
      "text/plain": [
       "<Figure size 1000x600 with 1 Axes>"
      ]
     },
     "metadata": {},
     "output_type": "display_data"
    },
    {
     "name": "stdout",
     "output_type": "stream",
     "text": [
      "Fuente        Intervenciones 137  Línea 144\n",
      "Nacionalidad                               \n",
      "ARGENTINA                   2756      52933\n",
      "SIN DATOS                     43      30292\n",
      "PARAGUAYA                    141       2553\n",
      "BOLIVIANA                    271       1290\n",
      "PERUANA                      100        990\n"
     ]
    }
   ],
   "source": [
    "# Combinar los datasets (ya preparados)\n",
    "df_comb = pd.concat([\n",
    "    data144_final[['pais_nacimiento_persona_en_situacion_de_violencia']].rename(\n",
    "        columns={'pais_nacimiento_persona_en_situacion_de_violencia': 'Nacionalidad'}\n",
    "    ).assign(Fuente='Línea 144'),\n",
    "    \n",
    "    intervenciones_domiciliarias[['victima_nacionalidad']].rename(\n",
    "        columns={'victima_nacionalidad': 'Nacionalidad'}\n",
    "    ).assign(Fuente='Intervenciones 137')\n",
    "])\n",
    "\n",
    "# Contar por nacionalidad y fuente\n",
    "conteo = df_comb.value_counts(['Nacionalidad', 'Fuente']).reset_index(name='Cantidad')\n",
    "\n",
    "# Seleccionar las 5 nacionalidades más frecuentes en total\n",
    "top_nac = conteo.groupby('Nacionalidad')['Cantidad'].sum().nlargest(5).index\n",
    "conteo = conteo[conteo['Nacionalidad'].isin(top_nac)]\n",
    "conteo_pivot = conteo.pivot(index='Nacionalidad', columns='Fuente', values='Cantidad').fillna(0)\n",
    "\n",
    "# Ordenar de mayor a menor total\n",
    "conteo_pivot = conteo_pivot.loc[\n",
    "    conteo_pivot.sum(axis=1).sort_values(ascending=False).index\n",
    "]\n",
    "\n",
    "colores = ['#8B008B', '#FF69B4']  # violeta y rosa\n",
    "\n",
    "\n",
    "ax = conteo_pivot.plot(\n",
    "    kind='bar',\n",
    "    stacked=False,\n",
    "    figsize=(10, 6),\n",
    "    color=colores\n",
    ")\n",
    "# Etiquetas y formato\n",
    "plt.title('TOP 5 - Casos por nacionalidad de la víctima', fontsize=12)\n",
    "plt.xlabel('Nacionalidad')\n",
    "plt.ylabel('Cantidad de casos')\n",
    "plt.xticks(rotation=30, ha='right')\n",
    "plt.legend(title='Fuente de datos', loc='upper right')\n",
    "\n",
    "# Mostrar los valores sobre cada barra\n",
    "for container in ax.containers:\n",
    "    ax.bar_label(container, fmt='%d', label_type='edge', color='black', fontsize=8, padding=2)\n",
    "\n",
    "plt.tight_layout()\n",
    "plt.show()\n",
    "print (conteo_pivot)"
   ]
  }
 ],
 "metadata": {
  "kernelspec": {
   "display_name": "base",
   "language": "python",
   "name": "python3"
  },
  "language_info": {
   "codemirror_mode": {
    "name": "ipython",
    "version": 3
   },
   "file_extension": ".py",
   "mimetype": "text/x-python",
   "name": "python",
   "nbconvert_exporter": "python",
   "pygments_lexer": "ipython3",
   "version": "3.11.7"
  }
 },
 "nbformat": 4,
 "nbformat_minor": 5
}
